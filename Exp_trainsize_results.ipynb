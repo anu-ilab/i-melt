{
 "cells": [
  {
   "cell_type": "code",
   "execution_count": 1,
   "metadata": {},
   "outputs": [
    {
     "name": "stdout",
     "output_type": "stream",
     "text": [
      "CUDA AVAILABLE?  True\n",
      "cpu\n"
     ]
    }
   ],
   "source": [
    "# Library loading\n",
    "%matplotlib inline\n",
    "\n",
    "import pandas as pd # manipulate dataframes\n",
    "import matplotlib.pyplot as plt # plotting\n",
    "import matplotlib\n",
    "import numpy as np\n",
    "import torch, time\n",
    "\n",
    "from sklearn.metrics import mean_squared_error\n",
    "import h5py\n",
    "\n",
    "import neuravi\n",
    "import os\n",
    "\n",
    "\n",
    "# First we check if CUDA is available\n",
    "print(\"CUDA AVAILABLE? \",torch.cuda.is_available())\n",
    "      \n",
    "device = 'cpu'\n",
    "print(device)\n",
    "\n",
    "import neuravi"
   ]
  },
  {
   "cell_type": "markdown",
   "metadata": {},
   "source": [
    "# Size of dataset analysis"
   ]
  },
  {
   "cell_type": "code",
   "execution_count": 2,
   "metadata": {},
   "outputs": [
    {
     "name": "stderr",
     "output_type": "stream",
     "text": [
      "/home/charles/anaconda3/envs/ml/lib/python3.7/site-packages/h5py/_hl/dataset.py:313: H5pyDeprecationWarning: dataset.value has been deprecated. Use dataset[()] instead.\n",
      "  \"Use dataset[()] instead.\", H5pyDeprecationWarning)\n"
     ]
    }
   ],
   "source": [
    "# Data import\n",
    "\n",
    "prefix= [\"0p10val\",\"0p20val\",\"0p30val\",\"0p40val\",\"0p50val\",\"0p60val\",\"0p70val\",\"0p80val\"]\n",
    "suffix = [\"_0\",\"_1\",\"_2\",\"_3\",\"_4\",\"_5\",\"_6\",\"_7\",\"_8\",\"_9\"]\n",
    "\n",
    "# variable to record the results\n",
    "total_size_train = np.zeros(len(prefix))\n",
    "compo_size_train = np.zeros(len(prefix))\n",
    "# order for errors is AG, MYEGA, A-M, Raman, Density, Entropy\n",
    "error_size_train = np.zeros((len(prefix),len(suffix),6))\n",
    "error_size_valid = np.zeros((len(prefix),len(suffix),6))\n",
    "error_size_test = np.zeros((len(prefix),len(suffix),6))\n",
    "\n",
    "# Loss criterion\n",
    "criterion = torch.nn.MSELoss()\n",
    "\n",
    "for j in range(len(prefix)): # main loop: between datasets\n",
    "\n",
    "    # Load the good dataset\n",
    "    dataset_name = \"./data/DataSet_{}.hdf5\".format(prefix[j])\n",
    "    ds = neuravi.data_loader(dataset_name,\"./data/NKAS_Raman.hdf5\",\"./data/NKAS_density.hdf5\",device)\n",
    "    \n",
    "    # saving in output variables\n",
    "    total_size_train[j] = len(ds.T_visco_train)\n",
    "    compo_size_train[j] = np.unique(ds.x_visco_train,axis=0).shape[0]\n",
    "    \n",
    "    for i in range(len(suffix)): # subloop: between each different training on one dataset\n",
    "        \n",
    "        # Loading the network and freezing dropout\n",
    "        name_model = \"model_l4_n200_p20_data{}{}.pth\".format(prefix[j],suffix[i])\n",
    "        neuralmodel = neuravi.model(4,200,4,ds.nb_channels_raman,p_drop=0.10) \n",
    "        neuralmodel.load_state_dict(torch.load(\"./model/exp_trainsize/\"+name_model, map_location='cpu'))\n",
    "        neuralmodel.eval()\n",
    "        \n",
    "        # PREDICTIONS\n",
    "    \n",
    "        # train\n",
    "        y_ag_pred_train = neuralmodel.ag(ds.x_visco_train,ds.T_visco_train)\n",
    "        y_myega_pred_train = neuralmodel.myega(ds.x_visco_train,ds.T_visco_train)\n",
    "        y_am_pred_train = neuralmodel.am(ds.x_visco_train,ds.T_visco_train)\n",
    "        y_raman_pred_train = neuralmodel.raman_pred(ds.x_raman_train)\n",
    "        y_density_pred_train = neuralmodel.density(ds.x_density_train)\n",
    "        y_entro_pred_train = neuralmodel.sctg(ds.x_entro_train)\n",
    "\n",
    "        # valid\n",
    "        y_ag_pred_valid = neuralmodel.ag(ds.x_visco_valid,ds.T_visco_valid)\n",
    "        y_myega_pred_valid = neuralmodel.myega(ds.x_visco_valid,ds.T_visco_valid)\n",
    "        y_am_pred_valid = neuralmodel.am(ds.x_visco_valid,ds.T_visco_valid)\n",
    "        y_raman_pred_valid = neuralmodel.raman_pred(ds.x_raman_valid)\n",
    "        y_density_pred_valid = neuralmodel.density(ds.x_density_valid)\n",
    "        y_entro_pred_valid = neuralmodel.sctg(ds.x_entro_valid)\n",
    "\n",
    "        # test\n",
    "        y_ag_pred_test = neuralmodel.ag(ds.x_visco_test,ds.T_visco_test)\n",
    "        y_myega_pred_test = neuralmodel.myega(ds.x_visco_test,ds.T_visco_test)\n",
    "        y_am_pred_test = neuralmodel.am(ds.x_visco_test,ds.T_visco_test)\n",
    "        #y_raman_pred_test = neuralmodel.raman_pred(x_raman_test) # Raman has no test set yet\n",
    "        y_density_pred_test = neuralmodel.density(ds.x_density_test)\n",
    "        y_entro_pred_test = neuralmodel.sctg(ds.x_entro_test)\n",
    "\n",
    "        # Compute Loss\n",
    "\n",
    "        # train \n",
    "        error_size_train[j,i,0] = criterion(y_ag_pred_train, ds.y_visco_train).item()\n",
    "        error_size_train[j,i,1]  = criterion(y_myega_pred_train, ds.y_visco_train).item()\n",
    "        error_size_train[j,i,2]  = criterion(y_am_pred_train, ds.y_visco_train).item()\n",
    "        error_size_train[j,i,3]  = criterion(y_raman_pred_train,ds.y_raman_train).item()\n",
    "        error_size_train[j,i,4]  = criterion(y_density_pred_train,ds.y_density_train).item()\n",
    "        error_size_train[j,i,5]  = criterion(y_entro_pred_train,ds.y_entro_train).item()\n",
    "\n",
    "        # validation\n",
    "        error_size_valid[j,i,0] = criterion(y_ag_pred_valid, ds.y_visco_valid).item()\n",
    "        error_size_valid[j,i,1] = criterion(y_myega_pred_valid, ds.y_visco_valid).item()\n",
    "        error_size_valid[j,i,2] = criterion(y_am_pred_valid, ds.y_visco_valid).item()\n",
    "        error_size_valid[j,i,3] = criterion(y_raman_pred_valid,ds.y_raman_valid).item()\n",
    "        error_size_valid[j,i,4] = criterion(y_density_pred_valid,ds.y_density_valid).item()\n",
    "        error_size_valid[j,i,5] = criterion(y_entro_pred_valid,ds.y_entro_valid).item()\n",
    "\n",
    "        # test\n",
    "        error_size_test[j,i,0] = criterion(y_ag_pred_test, ds.y_visco_test).item()\n",
    "        error_size_test[j,i,1] = criterion(y_myega_pred_test, ds.y_visco_test).item()\n",
    "        error_size_test[j,i,2] = criterion(y_am_pred_test, ds.y_visco_test).item()\n",
    "        #\"loss_raman_test\"] = criterion(y_raman_pred_valid,y_raman_valid).item()\n",
    "        error_size_test[j,i,4] = criterion(y_density_pred_test,ds.y_density_test).item()\n",
    "        error_size_test[j,i,5] = criterion(y_entro_pred_test,ds.y_entro_test).item()"
   ]
  },
  {
   "cell_type": "markdown",
   "metadata": {},
   "source": [
    "## Figure"
   ]
  },
  {
   "cell_type": "code",
   "execution_count": 3,
   "metadata": {},
   "outputs": [
    {
     "data": {
      "text/plain": [
       "(8, 10, 6)"
      ]
     },
     "execution_count": 3,
     "metadata": {},
     "output_type": "execute_result"
    }
   ],
   "source": [
    "error_size_train.shape"
   ]
  },
  {
   "cell_type": "code",
   "execution_count": 4,
   "metadata": {},
   "outputs": [
    {
     "data": {
      "image/png": "[encoded data removed]",
      "text/plain": [
       "<Figure size 231.84x231.84 with 1 Axes>"
      ]
     },
     "metadata": {
      "needs_background": "light"
     },
     "output_type": "display_data"
    }
   ],
   "source": [
    "plt.figure(figsize=(3.22,3.22))\n",
    "\n",
    "plt.errorbar(compo_size_train,\n",
    "             np.sqrt(np.mean(error_size_train[:,:,0],axis=1)),\n",
    "             yerr=np.std(error_size_valid[:,:,0],axis=1),\n",
    "             marker = \"s\",color=\"C0\",label=\"Training\"\n",
    "            )\n",
    "plt.errorbar(compo_size_train,\n",
    "             np.sqrt(np.mean(error_size_valid[:,:,0],axis=1)),\n",
    "             yerr=np.std(error_size_valid[:,:,0],axis=1),\n",
    "             marker = \"o\",color=\"C1\",label=\"Validation\"\n",
    "            )\n",
    "plt.errorbar(compo_size_train,\n",
    "             np.sqrt(np.mean(error_size_test[:,:,0],axis=1)),\n",
    "             yerr=np.std(error_size_test[:,:,0],axis=1),\n",
    "             marker = \"d\",color=\"C2\",label=\"Testing\"\n",
    "            )\n",
    "\n",
    "plt.fill_between([0,120],[0,0.],[0.6,0.6],alpha=0.1,color=\"purple\")\n",
    "\n",
    "plt.xlim(10,120)\n",
    "\n",
    "plt.legend()\n",
    "\n",
    "plt.xlabel(\"Number of compositions in training subset\")\n",
    "plt.ylabel(\"RMSE $\\eta$ (eq. 2 predictions), log Pa$\\cdot$s\")\n",
    "\n",
    "plt.tight_layout()\n",
    "\n",
    "plt.savefig(\"./figures/Figure_dataset_size.pdf\")"
   ]
  },
  {
   "cell_type": "code",
   "execution_count": 50,
   "metadata": {},
   "outputs": [
    {
     "data": {
      "text/plain": [
       "0.04275366583028762"
      ]
     },
     "execution_count": 50,
     "metadata": {},
     "output_type": "execute_result"
    }
   ],
   "source": [
    "np.std(np.sqrt(np.mean(error_size_train[:,:,0],axis=1)))"
   ]
  },
  {
   "cell_type": "code",
   "execution_count": null,
   "metadata": {},
   "outputs": [],
   "source": []
  }
 ],
 "metadata": {
  "@webio": {
   "lastCommId": null,
   "lastKernelId": null
  },
  "kernelspec": {
   "display_name": "Python 3",
   "language": "python",
   "name": "python3"
  },
  "language_info": {
   "codemirror_mode": {
    "name": "ipython",
    "version": 3
   },
   "file_extension": ".py",
   "mimetype": "text/x-python",
   "name": "python",
   "nbconvert_exporter": "python",
   "pygments_lexer": "ipython3",
   "version": "3.7.4"
  }
 },
 "nbformat": 4,
 "nbformat_minor": 2
}
