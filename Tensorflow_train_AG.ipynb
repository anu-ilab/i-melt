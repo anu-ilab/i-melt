{
 "cells": [
  {
   "cell_type": "code",
   "execution_count": 2,
   "metadata": {},
   "outputs": [
    {
     "name": "stderr",
     "output_type": "stream",
     "text": [
      "/Users/charles/anaconda/lib/python3.6/importlib/_bootstrap.py:205: RuntimeWarning: compiletime version 3.5 of module 'tensorflow.python.framework.fast_tensor_util' does not match runtime version 3.6\n",
      "  return f(*args, **kwds)\n",
      "/Users/charles/anaconda/lib/python3.6/site-packages/h5py/__init__.py:36: FutureWarning: Conversion of the second argument of issubdtype from `float` to `np.floating` is deprecated. In future, it will be treated as `np.float64 == np.dtype(float).type`.\n",
      "  from ._conv import register_converters as _register_converters\n",
      "/Users/charles/anaconda/lib/python3.6/site-packages/sklearn/ensemble/weight_boosting.py:29: DeprecationWarning: numpy.core.umath_tests is an internal NumPy module and should not be imported. It will be removed in a future NumPy release.\n",
      "  from numpy.core.umath_tests import inner1d\n"
     ]
    }
   ],
   "source": [
    "########## Calling relevant libraries ##########\n",
    "%matplotlib inline\n",
    "import numpy as np\n",
    "from sklearn.metrics import mean_squared_error\n",
    "import scipy\n",
    "\n",
    "# Setting matplotlib options for this notebook\n",
    "import matplotlib\n",
    "from matplotlib import pyplot as plt\n",
    "\n",
    "import tensorflow as tf\n",
    "\n",
    "import sklearn\n",
    "from sklearn.externals import joblib\n",
    "\n",
    "import neuravi"
   ]
  },
  {
   "cell_type": "markdown",
   "metadata": {},
   "source": [
    "# Loading dataset\n",
    "\n",
    "Dataset has been prepared before`"
   ]
  },
  {
   "cell_type": "code",
   "execution_count": 3,
   "metadata": {
    "code_folding": []
   },
   "outputs": [],
   "source": [
    "d = neuravi.Data(\"./data/\")"
   ]
  },
  {
   "cell_type": "code",
   "execution_count": 4,
   "metadata": {},
   "outputs": [
    {
     "data": {
      "text/plain": [
       "<neuravi.Data at 0x1c3126eeb8>"
      ]
     },
     "execution_count": 4,
     "metadata": {},
     "output_type": "execute_result"
    }
   ],
   "source": [
    "d"
   ]
  },
  {
   "cell_type": "markdown",
   "metadata": {},
   "source": [
    "# model with TensorFlow and A-G\n",
    "\n",
    "The past example with scikit-learn directly relates the melt composition and temperature to it's viscosity.\n",
    "\n",
    "We saw that the problem with this approach is that it underuses our knowledge of how viscosity and temperature vary. This creates too much noise when predicting viscosity over T for one composition.\n",
    "\n",
    "A way to solve that is to use the neiural net to map the chemical dependence of the parameters that enter into the equation(s) that link viscosity to temperature. As we can use any equation, best if we can actually use the Adam and Gibbs one as it bring thermodynamic information on the melt.\n",
    "\n",
    "If neural nets work, it should return an internally consistent model that should predict well the entropy and heat capacity of the melt.\n",
    "\n",
    "Good thing is we know those values for some melts, such that we can trully quantify the success of the neural net.\n",
    "\n",
    "$a^b$\n",
    "\n",
    "The viscosity equation is:\n",
    "\n",
    "\n",
    "$$log(\\eta) = A_{e} + \\frac{B_{e}}{T \\times (S^{conf}(T_{g}) + \\int_{T_{g}}^{T} \\frac{\\Delta C_p}{T} dT)}$$ \n",
    "\n",
    "where \n",
    "\n",
    "$$ \\int_{T_{g}}^{T} \\frac{\\Delta C_p}{T} dT = ap \\times (log(T) - log(T_{g})) + b \\times(T-T_{g}) $$\n",
    "\n",
    "\n",
    "$A_{e}$ is a constant proportional to the viscosity at infinite temperature. It barely depends on melt composition.\n",
    "\n",
    "$B_{e}$ is a constant proportional to energy barriers opposed to viscous flow. It strongly depends on melt composition.\n",
    "\n",
    "S^{conf}(T_{g}) is the configurational entropy of the melt at the glass transition temperature $T_g$ (temperature at which you consider that the melt becomes a glass.\n",
    "\n",
    "$ap$ and $b$ are parameters that depend on melt composition. We have data and models for those; they nearly linearly depend on melt composition. (this can be discussed for b)\n",
    "\n",
    "## Approach with neural net\n",
    "\n",
    "The idea is to link the melt composition (14 variables) to the parameters $A_{e}$, $B_{e}$, $S^{conf}(T_{g})$, $ap$ and $b$ with a neural network.\n",
    "\n",
    "We can calculate $T_{g}$ as \n",
    "\n",
    "$$ T_{g} = \\frac{B_{e}}{((12.0-A_{e}) \\times S^{conf}(T_{g}))} $$\n",
    "\n",
    "with the empirical definition that $T_{g}$ occurs when the viscosity reaches around 12 log Pa $\\cdot$ s.\n",
    "\n",
    "This helps removing one parameter and should help to have a self-consistent model.\n",
    "\n",
    "At this stage, we could use existing models for $ap$ and $b$, but there we assume that those models, which are 30 years old, are good-enough.\n",
    "\n",
    "Another approach, which I adopt in the following, is to let the neural net determines $ap$ and $b$, such that we can compore those in the future with existing models.\n",
    "\n",
    "If the neural net is good, we should find consistent results.\n",
    "\n",
    "## Let's start\n",
    "\n",
    "First I define the arrays that store the chemical composition and temperature.\n",
    "\n",
    "viscosity (y values) are already saved in y_train/y_valid/y_test."
   ]
  },
  {
   "cell_type": "code",
   "execution_count": 3,
   "metadata": {},
   "outputs": [],
   "source": [
    "# we have the chemical composition as X train/valid/test, but also the temperature\n",
    "\n",
    "chimie_train = d.X_train[:,0:14]\n",
    "temperature_train = d.X_train[:,14].reshape(-1,1)\n",
    "\n",
    "chimie_valid = d.X_valid[:,0:14]\n",
    "temperature_valid = d.X_valid[:,14].reshape(-1,1)\n",
    "\n",
    "chimie_test = d.X_test[:,0:14]\n",
    "temperature_test = d.X_test[:,14].reshape(-1,1)\n",
    "\n",
    "# rescale chimie between 0 and 1\n",
    "\n",
    "chimie_train = chimie_train/chimie_train.sum(axis=1).reshape(-1,1)\n",
    "chimie_valid = chimie_valid/chimie_valid.sum(axis=1).reshape(-1,1)\n",
    "chimie_test = chimie_test/chimie_test.sum(axis=1).reshape(-1,1)"
   ]
  },
  {
   "cell_type": "markdown",
   "metadata": {},
   "source": [
    "We then create an object to create a network with 1 to 5 layers (ReLu activation units + dropout),\n",
    "\n",
    "Following the reading of Kaufl, we will initiate the bias of the output neural net layer to values of parameters that are not far from reality.\n",
    "\n",
    "Then results of output layer are used to calculate the parameters of the A-G equation (see above), which, in turn, gives the viscosity.\n",
    "\n",
    "We use a L2 loss to determine distance from targets.\n",
    "\n",
    "Optimizer is RMSprop, it seems the most stable from my test.\n",
    "\n",
    "The code for the object is in the file neuravi.py"
   ]
  },
  {
   "cell_type": "code",
   "execution_count": 4,
   "metadata": {},
   "outputs": [],
   "source": [
    "NIN = chimie_train.shape[1]\n",
    "NHIDDEN = 100\n",
    "NLAYER = 1\n",
    "STDEV = 0.001\n",
    "\n",
    "mod = neuravi.Model_AG(NIN, num_layers=NLAYER,hidden_size=NHIDDEN)"
   ]
  },
  {
   "cell_type": "markdown",
   "metadata": {},
   "source": [
    "We start a TF Interactive Session to initiate our model, and look at the initial predictions.\n",
    "\n",
    "The idea is to avoid starting the training with an initial model very far from reality...\n",
    "\n",
    "So we run this cell again and again until we see a relatively close correspondance.\n",
    "\n",
    "Initial predictions should be in a -5 - 20 range... If not, too much iterations are required for proper convergence...\n",
    "\n",
    "We just avoid values at 10^20...."
   ]
  },
  {
   "cell_type": "code",
   "execution_count": 5,
   "metadata": {},
   "outputs": [
    {
     "name": "stdout",
     "output_type": "stream",
     "text": [
      "OK, no interactive session running\n"
     ]
    },
    {
     "data": {
      "text/plain": [
       "[<matplotlib.lines.Line2D at 0x1c2dc056a0>]"
      ]
     },
     "execution_count": 5,
     "metadata": {},
     "output_type": "execute_result"
    },
    {
     "data": {
      "image/png": "[encoded data removed]",
      "text/plain": [
       "<matplotlib.figure.Figure at 0x1a2d5fefd0>"
      ]
     },
     "metadata": {},
     "output_type": "display_data"
    }
   ],
   "source": [
    "try:\n",
    "    sess.close()\n",
    "except:\n",
    "    print(\"OK, no interactive session running\")\n",
    "\n",
    "sess = tf.InteractiveSession()\n",
    "sess.run(mod.init_op)\n",
    "\n",
    "pred_ini= sess.run(mod.visco_pred,feed_dict={mod.input_c: chimie_train, \n",
    "                                             mod.input_T: temperature_train, \n",
    "                                             mod.input_y: d.y_train.reshape(-1,1)})\n",
    "plt.figure()\n",
    "plt.plot(d.y_train, pred_ini)"
   ]
  },
  {
   "cell_type": "markdown",
   "metadata": {},
   "source": [
    "We then train the network for 50,000 iterations. We use the full batch. Should not be a problem as our dataset is relatively small.\n",
    "\n",
    "Convergence is slow.\n",
    "\n",
    "I do not perform early stopping (lines are commented) as it does not bring anything to the training. It stops the training too early.\n",
    "\n",
    "Furthermore, good validation and testing errors are in general obtained because we use dropout, which favour generalization."
   ]
  },
  {
   "cell_type": "code",
   "execution_count": null,
   "metadata": {},
   "outputs": [
    {
     "name": "stdout",
     "output_type": "stream",
     "text": [
      "Batch train and valid loss at step 0: 1766.248291015625, 705.43798828125\n",
      "Batch train and valid loss at step 500: 1723.62353515625, 698.0974731445312\n",
      "Batch train and valid loss at step 1000: 1684.503662109375, 691.0742797851562\n",
      "Batch train and valid loss at step 1500: 1645.2996826171875, 684.1123657226562\n",
      "Batch train and valid loss at step 2000: 1609.574951171875, 679.8308715820312\n"
     ]
    }
   ],
   "source": [
    "NEPOCH = 10000\n",
    "loss_train = np.zeros(NEPOCH) # store the training progress here.\n",
    "loss_valid = np.zeros(NEPOCH) # store the training progress here.\n",
    "\n",
    "early_stop = 1000 # not used below\n",
    "count_es = 0\n",
    "\n",
    "for i in range(NEPOCH):\n",
    "    dct_train = {mod.prob: 1.0, mod.input_c: chimie_train, mod.input_T: temperature_train, mod.input_y: d.y_train.reshape(-1,1)}\n",
    "    dct_valid = {mod.input_c: chimie_valid, mod.input_T: temperature_valid, mod.input_y: d.y_valid.reshape(-1,1)}\n",
    "    \n",
    "    sess.run(mod.optimizer,feed_dict=dct_train)\n",
    "    loss_train[i] = sess.run(mod.loss, feed_dict=dct_train)\n",
    "    loss_valid[i] = sess.run(mod.loss, feed_dict=dct_valid)\n",
    "    \n",
    "    if (i % 500 == 0):\n",
    "            print(\"Batch train and valid loss at step {}: {}, {}\".format(i, loss_train[i], loss_valid[i]))\n",
    "    \n",
    "    # implement early stopping\n",
    "    if loss_valid[i]>loss_valid[i-1]:\n",
    "        count_es += 1\n",
    "        \n",
    "    #if count_es > early_stop:\n",
    "    #    break\n",
    "        "
   ]
  },
  {
   "cell_type": "code",
   "execution_count": 7,
   "metadata": {},
   "outputs": [
    {
     "data": {
      "image/png": "[encoded data removed]",
      "text/plain": [
       "<Figure size 576x576 with 1 Axes>"
      ]
     },
     "metadata": {},
     "output_type": "display_data"
    },
    {
     "data": {
      "text/plain": [
       "<Figure size 432x288 with 0 Axes>"
      ]
     },
     "metadata": {},
     "output_type": "display_data"
    }
   ],
   "source": [
    "plt.figure(figsize=(8, 8))\n",
    "plt.plot(np.arange(0, NEPOCH,1), loss_train/d.X_train.shape[0], 'r-')\n",
    "plt.plot(np.arange(0, NEPOCH,1), loss_valid/d.X_valid.shape[0], 'b-')\n",
    "plt.ylim(0,5)\n",
    "plt.show()\n",
    "plt.savefig(\"epochs_ag.pdf\")"
   ]
  },
  {
   "cell_type": "markdown",
   "metadata": {},
   "source": [
    "Here this is supposed to save the model, which then can be re-used by tensorflow server..."
   ]
  },
  {
   "cell_type": "code",
   "execution_count": 8,
   "metadata": {},
   "outputs": [
    {
     "name": "stdout",
     "output_type": "stream",
     "text": [
      "INFO:tensorflow:Assets added to graph.\n",
      "INFO:tensorflow:No assets to write.\n",
      "INFO:tensorflow:SavedModel written to: ./model/layer1units100it200000/saved_model.pb\n"
     ]
    }
   ],
   "source": [
    "name_out = \"AG_layer_\"+str(NLAYER)+\"units_\"+str(NHIDDEN)+\"it_\"+str(NEPOCH)\n",
    "\n",
    "tf.saved_model.simple_save(sess,\n",
    "            \"./model/\"+name_out,\n",
    "            inputs={\"chimie\": mod.input_c, \"T\": mod.input_T},\n",
    "            outputs={\"visco_pred\": mod.visco_pred})"
   ]
  },
  {
   "cell_type": "code",
   "execution_count": 9,
   "metadata": {},
   "outputs": [
    {
     "data": {
      "text/plain": [
       "(-3, 15)"
      ]
     },
     "execution_count": 9,
     "metadata": {},
     "output_type": "execute_result"
    },
    {
     "data": {
      "image/png": "[encoded data removed]",
      "text/plain": [
       "<Figure size 432x288 with 2 Axes>"
      ]
     },
     "metadata": {},
     "output_type": "display_data"
    }
   ],
   "source": [
    "plt.figure()\n",
    "plt.subplot(3,1,1)\n",
    "plt.plot(d.y_train, sess.run(mod.visco_pred,feed_dict=dct_train),\"k.\")\n",
    "\n",
    "plt.plot([-3,15],[-3,15],\"--\",color=\"grey\")\n",
    "\n",
    "plt.xlim(-3,15)\n",
    "plt.ylim(-3,15)\n",
    "\n",
    "plt.subplot(3,1,2)\n",
    "plt.plot(d.y_valid, sess.run(mod.visco_pred,feed_dict=dct_valid),\"k.\")\n",
    "\n",
    "plt.plot([-3,15],[-3,15],\"--\",color=\"grey\")\n",
    "\n",
    "plt.xlim(-3,15)\n",
    "plt.ylim(-3,15)"
   ]
  },
  {
   "cell_type": "code",
   "execution_count": null,
   "metadata": {},
   "outputs": [],
   "source": []
  }
 ],
 "metadata": {
  "kernelspec": {
   "display_name": "Python 3",
   "language": "python",
   "name": "python3"
  },
  "language_info": {
   "codemirror_mode": {
    "name": "ipython",
    "version": 3
   },
   "file_extension": ".py",
   "mimetype": "text/x-python",
   "name": "python",
   "nbconvert_exporter": "python",
   "pygments_lexer": "ipython3",
   "version": "3.6.6"
  }
 },
 "nbformat": 4,
 "nbformat_minor": 2
}
