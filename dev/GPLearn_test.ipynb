{
 "cells": [
  {
   "cell_type": "code",
   "execution_count": 4,
   "metadata": {},
   "outputs": [],
   "source": [
    "########## Calling relevant libraries ##########\n",
    "%matplotlib inline\n",
    "import numpy as np\n",
    "from sklearn.metrics import mean_squared_error\n",
    "import scipy\n",
    "\n",
    "# Setting matplotlib options for this notebook\n",
    "import matplotlib\n",
    "from matplotlib import pyplot as plt\n",
    "\n",
    "import sklearn\n",
    "from sklearn.externals import joblib\n",
    "\n",
    "import gplearn as gp\n",
    "from gplearn.genetic import SymbolicRegressor"
   ]
  },
  {
   "cell_type": "code",
   "execution_count": 2,
   "metadata": {},
   "outputs": [
    {
     "name": "stderr",
     "output_type": "stream",
     "text": [
      "/home/charles/anaconda3/envs/ml/lib/python3.7/site-packages/h5py/_hl/dataset.py:313: H5pyDeprecationWarning: dataset.value has been deprecated. Use dataset[()] instead.\n",
      "  \"Use dataset[()] instead.\", H5pyDeprecationWarning)\n"
     ]
    }
   ],
   "source": [
    "# load neuravi\n",
    "import neuravi\n",
    "\n",
    "### Load dataset\n",
    "ds = neuravi.data_loader(\"./data/DataSet_0p20val.hdf5\",\n",
    "                         \"./data/NKAS_Raman.hdf5\",\n",
    "                         \"./data/NKAS_density.hdf5\",\n",
    "                         \"./data/NKAS_optical.hdf5\",\"cpu\")"
   ]
  },
  {
   "cell_type": "code",
   "execution_count": 3,
   "metadata": {},
   "outputs": [],
   "source": [
    "X_ = ds.x_entro_train.detach().numpy()\n",
    "y_ = ds.y_entro_train.detach().numpy()"
   ]
  },
  {
   "cell_type": "code",
   "execution_count": 40,
   "metadata": {},
   "outputs": [],
   "source": [
    "def _mixing(x1, x2):\n",
    "    x1l = x1.copy()*0.0\n",
    "    x1l[x1>0] = x1[x1>0]*np.log(x1[x1>0])\n",
    "    x2l = x2.copy()*0.0\n",
    "    x2l[x2>0] = x2[x2>0]*np.log(x2[x2>0])\n",
    "    return -8.314*(x1l+x2l)\n",
    "\n",
    "mixing = gp.functions.make_function(function=_mixing,\n",
    "                        name='mixing',\n",
    "                        arity=2)"
   ]
  },
  {
   "cell_type": "code",
   "execution_count": 46,
   "metadata": {},
   "outputs": [
    {
     "name": "stderr",
     "output_type": "stream",
     "text": [
      "/home/charles/anaconda3/envs/ml/lib/python3.7/site-packages/sklearn/utils/validation.py:724: DataConversionWarning: A column-vector y was passed when a 1d array was expected. Please change the shape of y to (n_samples, ), for example using ravel().\n",
      "  y = column_or_1d(y, warn=True)\n"
     ]
    },
    {
     "name": "stdout",
     "output_type": "stream",
     "text": [
      "    |   Population Average    |             Best Individual              |\n",
      "---- ------------------------- ------------------------------------------ ----------\n",
      " Gen   Length          Fitness   Length          Fitness      OOB Fitness  Time Left\n",
      "   0    31.98      2.31039e+06       21          2.05395           1.9854     49.43s\n",
      "   1    13.06          82.1115       29          1.32974           1.5583     30.83s\n",
      "   2    16.66           112.26       19          1.22825          1.29339     36.36s\n",
      "   3    19.48          22.8472       23          1.07929          1.09566     32.63s\n",
      "   4    21.00           13.151       23         0.912591         0.963353     31.73s\n",
      "   5    23.19          24.3142       31         0.861262         0.765101     31.03s\n",
      "   6    22.37          32.8847       31         0.851747         0.850737     31.70s\n",
      "   7    22.86          19.5289       31         0.829311          1.05266     25.36s\n",
      "   8    22.19          78.8399       31         0.816303         0.975333     22.11s\n",
      "   9    21.76          61.3179       31         0.809192          1.03933     19.82s\n",
      "  10    19.74          56.3743       27          0.74557         0.722947     17.25s\n",
      "  11    17.16          1154.64       27          0.74937          0.68875     16.03s\n",
      "  12    16.15          20.0364       27         0.720082         0.952334     12.30s\n",
      "  13    16.78            22.11       27         0.721003         0.944052     10.69s\n",
      "  14    18.05          16.3949       27         0.718242         0.968897      9.34s\n",
      "  15    20.22          16.3615       27         0.714655          1.00118      8.42s\n",
      "  16    23.02          15.1146       27         0.702837          1.10754      6.11s\n",
      "  17    25.51          21.7996       29         0.709443          1.02709      4.42s\n",
      "  18    26.57          11.6343       27         0.698727          1.14453      2.21s\n",
      "  19    27.02          10.1859       27         0.702816          1.10773      0.00s\n"
     ]
    },
    {
     "data": {
      "text/plain": [
       "SymbolicRegressor(const_range=(-1.0, 1.0), feature_names=None,\n",
       "                  function_set=('add', 'sub', 'mul', 'div',\n",
       "                                <gplearn.functions._Function object at 0x7fb8f58924d0>),\n",
       "                  generations=20, init_depth=(2, 6),\n",
       "                  init_method='half and half', low_memory=False,\n",
       "                  max_samples=0.9, metric='mean absolute error', n_jobs=1,\n",
       "                  p_crossover=0.7, p_hoist_mutation=0.05, p_point_mutation=0.1,\n",
       "                  p_point_replace=0.05, p_subtree_mutation=0.1,\n",
       "                  parsimony_coefficient=0.01, population_size=5000,\n",
       "                  random_state=0, stopping_criteria=0.0001, tournament_size=20,\n",
       "                  verbose=1, warm_start=False)"
      ]
     },
     "execution_count": 46,
     "metadata": {},
     "output_type": "execute_result"
    }
   ],
   "source": [
    "\n",
    "est_gp = SymbolicRegressor(function_set=('add', 'sub', 'mul', 'div',mixing),\n",
    "                           population_size=5000,\n",
    "                           generations=20, stopping_criteria=0.0001,\n",
    "                           p_crossover=0.7, p_subtree_mutation=0.1,\n",
    "                           p_hoist_mutation=0.05, p_point_mutation=0.1,\n",
    "                           max_samples=0.9, verbose=1,\n",
    "                           parsimony_coefficient=0.01, random_state=0)\n",
    "est_gp.fit(X_, y_)"
   ]
  },
  {
   "cell_type": "code",
   "execution_count": 47,
   "metadata": {},
   "outputs": [
    {
     "name": "stdout",
     "output_type": "stream",
     "text": [
      "sub(sub(mixing(X2, X2), div(add(X2, X1), add(add(X0, X2), sub(X3, X0)))), mixing(add(X0, -0.907), add(add(X0, X3), add(X0, X3))))\n"
     ]
    }
   ],
   "source": [
    "print(est_gp._program)"
   ]
  },
  {
   "cell_type": "code",
   "execution_count": 43,
   "metadata": {},
   "outputs": [],
   "source": [
    "X_test = ds.x_entro_test.detach().numpy()\n",
    "y_test = ds.y_entro_test.detach().numpy()"
   ]
  },
  {
   "cell_type": "code",
   "execution_count": 44,
   "metadata": {},
   "outputs": [
    {
     "data": {
      "text/plain": [
       "[<matplotlib.lines.Line2D at 0x7fb8f4f02850>]"
      ]
     },
     "execution_count": 44,
     "metadata": {},
     "output_type": "execute_result"
    },
    {
     "data": {
      "image/png": "[encoded data removed]",
      "text/plain": [
       "<Figure size 432x288 with 1 Axes>"
      ]
     },
     "metadata": {
      "needs_background": "light"
     },
     "output_type": "display_data"
    }
   ],
   "source": [
    "plt.plot(y_, est_gp.predict(X_),\"ks\")\n",
    "plt.plot(y_test,  est_gp.predict(X_test),\"r.\")"
   ]
  },
  {
   "cell_type": "code",
   "execution_count": 45,
   "metadata": {},
   "outputs": [
    {
     "data": {
      "text/plain": [
       "<ErrorbarContainer object of 3 artists>"
      ]
     },
     "execution_count": 45,
     "metadata": {},
     "output_type": "execute_result"
    },
    {
     "data": {
      "image/png": "[encoded data removed]",
      "text/plain": [
       "<Figure size 432x288 with 2 Axes>"
      ]
     },
     "metadata": {
      "needs_background": "light"
     },
     "output_type": "display_data"
    }
   ],
   "source": [
    "na2o = np.arange(0.,0.25,0.01)\n",
    "k2o = 0.25-na2o\n",
    "sio2 = np.ones(len(na2o))*0.75\n",
    "al2o3 = np.zeros(len(na2o))\n",
    "\n",
    "X_visu_ = np.vstack([sio2,al2o3,na2o,k2o]).T\n",
    "X_visu_.shape\n",
    "\n",
    "plt.subplot(1,2,1)\n",
    "plt.plot(X_visu_[:,3]/(X_visu_[:,2]+X_visu_[:,3]),est_gp.predict(X_visu_),label=\"NN model\")\n",
    "\n",
    "plt.xlabel(\"K/(K+Na)\")\n",
    "plt.ylabel(\"S$^{conf}$(T$_g$)\")\n",
    "plt.ylim(4,14)\n",
    "\n",
    "plt.errorbar(np.array([0,0.28,0.53,0.82,1.0]),np.array([32.91,40.31,37.81,35.59,32.99])/7.0*2.0,\n",
    "    yerr = 1.0, fmt=\"ks\",\n",
    "    label=\"Richet, 1984\")\n",
    "\n",
    "plt.subplot(1,2,2)\n",
    "na2o = np.arange(0.,0.125,0.01)\n",
    "k2o = 0.125-na2o\n",
    "sio2 = np.ones(len(na2o))*0.75\n",
    "al2o3 = np.ones(len(na2o))*0.125\n",
    "\n",
    "X_visu_ = np.vstack([sio2,al2o3,na2o,k2o]).T\n",
    "X_visu_.shape\n",
    "\n",
    "plt.plot(X_visu_[:,3]/(X_visu_[:,2]+X_visu_[:,3]),est_gp.predict(X_visu_),label=\"NN model\")\n",
    "\n",
    "plt.xlabel(\"K/(K+Na)\")\n",
    "plt.ylabel(\"S$^{conf}$(T$_g$)\")\n",
    "plt.ylim(4,14)\n",
    "\n",
    "plt.errorbar(np.array([0,0.25,0.39,0.50,0.59,0.79,1.00]),\n",
    "             np.array([9.17,9.06,8.12,8.84,7.54,6.63,5.83]),\n",
    "    yerr = np.array([2.,0.23,0.20,0.23,0.18,0.15,0.11]), fmt=\"ks\",\n",
    "    label=\"Le Losq et al., 2017\")"
   ]
  },
  {
   "cell_type": "code",
   "execution_count": 13,
   "metadata": {},
   "outputs": [
    {
     "name": "stdout",
     "output_type": "stream",
     "text": [
      "    |   Population Average    |             Best Individual              |\n",
      "---- ------------------------- ------------------------------------------ ----------\n",
      " Gen   Length          Fitness   Length          Fitness      OOB Fitness  Time Left\n"
     ]
    },
    {
     "name": "stderr",
     "output_type": "stream",
     "text": [
      "/home/charles/anaconda3/envs/ml/lib/python3.7/site-packages/sklearn/utils/validation.py:724: DataConversionWarning: A column-vector y was passed when a 1d array was expected. Please change the shape of y to (n_samples, ), for example using ravel().\n",
      "  y = column_or_1d(y, warn=True)\n",
      "/home/charles/anaconda3/envs/ml/lib/python3.7/site-packages/gplearn/genetic.py:435: UserWarning: Warm-start fitting without increasing n_estimators does not fit new programs.\n",
      "  warn('Warm-start fitting without increasing n_estimators does not '\n"
     ]
    },
    {
     "data": {
      "text/plain": [
       "SymbolicRegressor(const_range=(-1.0, 1.0), feature_names=None,\n",
       "                  function_set=('add', 'sub', 'mul', 'div',\n",
       "                                <gplearn.functions._Function object at 0x7fb8f7f812d0>),\n",
       "                  generations=20, init_depth=(2, 6),\n",
       "                  init_method='half and half', low_memory=False,\n",
       "                  max_samples=0.9, metric='mean absolute error', n_jobs=1,\n",
       "                  p_crossover=0.7, p_hoist_mutation=0.05, p_point_mutation=0.1,\n",
       "                  p_point_replace=0.05, p_subtree_mutation=0.1,\n",
       "                  parsimony_coefficient=0.01, population_size=5000,\n",
       "                  random_state=0, stopping_criteria=0.001, tournament_size=20,\n",
       "                  verbose=1, warm_start=True)"
      ]
     },
     "execution_count": 13,
     "metadata": {},
     "output_type": "execute_result"
    }
   ],
   "source": [
    "est_gp.warm_start = True\n",
    "est_gp.stopping_criteria=0.001\n",
    "est_gp.fit(X_, y_)"
   ]
  },
  {
   "cell_type": "code",
   "execution_count": null,
   "metadata": {},
   "outputs": [],
   "source": []
  }
 ],
 "metadata": {
  "kernelspec": {
   "display_name": "Python 3",
   "language": "python",
   "name": "python3"
  },
  "language_info": {
   "codemirror_mode": {
    "name": "ipython",
    "version": 3
   },
   "file_extension": ".py",
   "mimetype": "text/x-python",
   "name": "python",
   "nbconvert_exporter": "python",
   "pygments_lexer": "ipython3",
   "version": "3.7.4"
  }
 },
 "nbformat": 4,
 "nbformat_minor": 2
}
