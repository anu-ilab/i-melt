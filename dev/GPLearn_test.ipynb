{
 "cells": [
  {
   "cell_type": "code",
   "execution_count": 1,
   "metadata": {},
   "outputs": [
    {
     "name": "stderr",
     "output_type": "stream",
     "text": [
      "/home/charles/anaconda3/envs/ml/lib/python3.7/site-packages/sklearn/externals/joblib/__init__.py:15: DeprecationWarning: sklearn.externals.joblib is deprecated in 0.21 and will be removed in 0.23. Please import this functionality directly from joblib, which can be installed with: pip install joblib. If this warning is raised when loading pickled models, you may need to re-serialize those models with scikit-learn 0.21+.\n",
      "  warnings.warn(msg, category=DeprecationWarning)\n"
     ]
    }
   ],
   "source": [
    "########## Calling relevant libraries ##########\n",
    "%matplotlib inline\n",
    "import numpy as np\n",
    "from sklearn.metrics import mean_squared_error\n",
    "import scipy\n",
    "\n",
    "# Setting matplotlib options for this notebook\n",
    "import matplotlib\n",
    "from matplotlib import pyplot as plt\n",
    "\n",
    "import sklearn\n",
    "from sklearn.externals import joblib\n",
    "\n"
   ]
  },
  {
   "cell_type": "code",
   "execution_count": 3,
   "metadata": {},
   "outputs": [
    {
     "name": "stderr",
     "output_type": "stream",
     "text": [
      "/home/charles/anaconda3/envs/ml/lib/python3.7/site-packages/h5py/_hl/dataset.py:313: H5pyDeprecationWarning: dataset.value has been deprecated. Use dataset[()] instead.\n",
      "  \"Use dataset[()] instead.\", H5pyDeprecationWarning)\n"
     ]
    }
   ],
   "source": [
    "# load neuravi\n",
    "import neuravi\n",
    "\n",
    "### Load dataset\n",
    "\n",
    "ds = neuravi.data_loader(\"./data/DataSet_0p20val.hdf5\",\n",
    "                         \"./data/NKAS_Raman.hdf5\",\n",
    "                         \"./data/NKAS_density.hdf5\",\n",
    "                         \"./data/NKAS_optical.hdf5\",\"cpu\")"
   ]
  },
  {
   "cell_type": "code",
   "execution_count": 7,
   "metadata": {},
   "outputs": [],
   "source": [
    "X_ = ds.x_entro_train.detach().numpy()\n",
    "y_ = ds.y_entro_train.detach().numpy()"
   ]
  },
  {
   "cell_type": "code",
   "execution_count": 25,
   "metadata": {},
   "outputs": [
    {
     "name": "stderr",
     "output_type": "stream",
     "text": [
      "/home/charles/anaconda3/envs/ml/lib/python3.7/site-packages/sklearn/utils/validation.py:724: DataConversionWarning: A column-vector y was passed when a 1d array was expected. Please change the shape of y to (n_samples, ), for example using ravel().\n",
      "  y = column_or_1d(y, warn=True)\n"
     ]
    },
    {
     "name": "stdout",
     "output_type": "stream",
     "text": [
      "    |   Population Average    |             Best Individual              |\n",
      "---- ------------------------- ------------------------------------------ ----------\n",
      " Gen   Length          Fitness   Length          Fitness      OOB Fitness  Time Left\n",
      "   0    21.18          43.4461       14          3.28547          4.00974     33.36s\n",
      "   1    19.59          11.9504       29          1.32974           1.5583     34.03s\n",
      "   2    26.38          12.2825       37          1.33284          1.61835     37.83s\n",
      "   3    24.86          13.2822       33          1.21818          1.20165     36.40s\n",
      "   4    26.00           17.562       29          1.18661          1.20106     32.46s\n",
      "   5    24.95          15.5657       27          1.13174          1.27921     28.88s\n",
      "   6    21.99          13.6361       35          1.10052         0.912463     24.91s\n",
      "   7    20.22          10.2142       35          1.06975          1.18939     24.24s\n",
      "   8    20.28          7.52967       37          1.03263          1.10821     21.10s\n",
      "   9    19.14          5.89724       51         0.933231          0.81467     19.71s\n",
      "  10    14.93          4.50357       38         0.982607         0.972633     17.08s\n",
      "  11    11.22          4.07853       39         0.921335         0.774344     15.30s\n",
      "  12    10.68          3.90927       12         0.955625          1.13674     11.89s\n",
      "  13    11.03          3.98272       12          0.93064           1.3616     10.57s\n",
      "  14    11.84          4.08984       16          0.89329          1.09834      9.69s\n",
      "  15    12.56          4.46507       18         0.857833         0.863399      7.04s\n",
      "  16    12.81          5.02159       16         0.870218          1.30599      5.26s\n",
      "  17    13.19          5.27579       18         0.820689          1.19769      3.52s\n",
      "  18    14.19          5.38747       18         0.829928          1.11454      1.78s\n",
      "  19    14.48          4.97629       18         0.824378          1.16449      0.00s\n"
     ]
    },
    {
     "data": {
      "text/plain": [
       "SymbolicRegressor(const_range=(-1.0, 1.0), feature_names=None,\n",
       "                  function_set=('add', 'sub', 'mul', 'div', 'log'),\n",
       "                  generations=20, init_depth=(2, 6),\n",
       "                  init_method='half and half', low_memory=False,\n",
       "                  max_samples=0.9, metric='mean absolute error', n_jobs=1,\n",
       "                  p_crossover=0.7, p_hoist_mutation=0.05, p_point_mutation=0.1,\n",
       "                  p_point_replace=0.05, p_subtree_mutation=0.1,\n",
       "                  parsimony_coefficient=0.01, population_size=5000,\n",
       "                  random_state=0, stopping_criteria=0.001, tournament_size=20,\n",
       "                  verbose=1, warm_start=False)"
      ]
     },
     "execution_count": 25,
     "metadata": {},
     "output_type": "execute_result"
    }
   ],
   "source": [
    "import gplearn as gp\n",
    "from gplearn.genetic import SymbolicRegressor\n",
    "est_gp = SymbolicRegressor(function_set=('add', 'sub', 'mul', 'div', 'log'),\n",
    "                           population_size=5000,\n",
    "                           generations=20, stopping_criteria=0.001,\n",
    "                           p_crossover=0.7, p_subtree_mutation=0.1,\n",
    "                           p_hoist_mutation=0.05, p_point_mutation=0.1,\n",
    "                           max_samples=0.9, verbose=1,\n",
    "                           parsimony_coefficient=0.01, random_state=0)\n",
    "est_gp.fit(X_, y_)"
   ]
  },
  {
   "cell_type": "code",
   "execution_count": 26,
   "metadata": {},
   "outputs": [],
   "source": [
    "X_test = ds.x_entro_test.detach().numpy()\n",
    "y_test = ds.y_entro_test.detach().numpy()"
   ]
  },
  {
   "cell_type": "code",
   "execution_count": 27,
   "metadata": {},
   "outputs": [
    {
     "data": {
      "text/plain": [
       "[<matplotlib.lines.Line2D at 0x7fd4e12c2cd0>]"
      ]
     },
     "execution_count": 27,
     "metadata": {},
     "output_type": "execute_result"
    },
    {
     "data": {
      "image/png": "[encoded data removed]",
      "text/plain": [
       "<Figure size 432x288 with 1 Axes>"
      ]
     },
     "metadata": {
      "needs_background": "light"
     },
     "output_type": "display_data"
    }
   ],
   "source": [
    "plt.plot(y_, est_gp.predict(X_),\"ks\")\n",
    "plt.plot(y_test,  est_gp.predict(X_test),\"r.\")"
   ]
  },
  {
   "cell_type": "code",
   "execution_count": 28,
   "metadata": {},
   "outputs": [
    {
     "data": {
      "text/plain": [
       "<ErrorbarContainer object of 3 artists>"
      ]
     },
     "execution_count": 28,
     "metadata": {},
     "output_type": "execute_result"
    },
    {
     "data": {
      "image/png": "[encoded data removed]",
      "text/plain": [
       "<Figure size 432x288 with 2 Axes>"
      ]
     },
     "metadata": {
      "needs_background": "light"
     },
     "output_type": "display_data"
    }
   ],
   "source": [
    "na2o = np.arange(0.,0.25,0.01)\n",
    "k2o = 0.25-na2o\n",
    "sio2 = np.ones(len(na2o))*0.75\n",
    "al2o3 = np.zeros(len(na2o))\n",
    "\n",
    "X_visu_ = np.vstack([sio2,al2o3,na2o,k2o]).T\n",
    "X_visu_.shape\n",
    "\n",
    "plt.subplot(1,2,1)\n",
    "plt.plot(X_visu_[:,3]/(X_visu_[:,2]+X_visu_[:,3]),est_gp.predict(X_visu_),label=\"NN model\")\n",
    "\n",
    "plt.xlabel(\"K/(K+Na)\")\n",
    "plt.ylabel(\"S$^{conf}$(T$_g$)\")\n",
    "plt.ylim(4,14)\n",
    "\n",
    "plt.errorbar(np.array([0,0.28,0.53,0.82,1.0]),np.array([32.91,40.31,37.81,35.59,32.99])/7.0*2.0,\n",
    "    yerr = 1.0, fmt=\"ks\",\n",
    "    label=\"Richet, 1984\")\n",
    "\n",
    "plt.subplot(1,2,2)\n",
    "na2o = np.arange(0.,0.125,0.01)\n",
    "k2o = 0.125-na2o\n",
    "sio2 = np.ones(len(na2o))*0.75\n",
    "al2o3 = np.ones(len(na2o))*0.125\n",
    "\n",
    "X_visu_ = np.vstack([sio2,al2o3,na2o,k2o]).T\n",
    "X_visu_.shape\n",
    "\n",
    "plt.plot(X_visu_[:,3]/(X_visu_[:,2]+X_visu_[:,3]),est_gp.predict(X_visu_),label=\"NN model\")\n",
    "\n",
    "plt.xlabel(\"K/(K+Na)\")\n",
    "plt.ylabel(\"S$^{conf}$(T$_g$)\")\n",
    "plt.ylim(4,14)\n",
    "\n",
    "plt.errorbar(np.array([0,0.25,0.39,0.50,0.59,0.79,1.00]),\n",
    "             np.array([9.17,9.06,8.12,8.84,7.54,6.63,5.83]),\n",
    "    yerr = np.array([2.,0.23,0.20,0.23,0.18,0.15,0.11]), fmt=\"ks\",\n",
    "    label=\"Le Losq et al., 2017\")"
   ]
  },
  {
   "cell_type": "code",
   "execution_count": 24,
   "metadata": {},
   "outputs": [
    {
     "name": "stdout",
     "output_type": "stream",
     "text": [
      "    |   Population Average    |             Best Individual              |\n",
      "---- ------------------------- ------------------------------------------ ----------\n",
      " Gen   Length          Fitness   Length          Fitness      OOB Fitness  Time Left\n"
     ]
    },
    {
     "name": "stderr",
     "output_type": "stream",
     "text": [
      "/home/charles/anaconda3/envs/ml/lib/python3.7/site-packages/sklearn/utils/validation.py:724: DataConversionWarning: A column-vector y was passed when a 1d array was expected. Please change the shape of y to (n_samples, ), for example using ravel().\n",
      "  y = column_or_1d(y, warn=True)\n",
      "/home/charles/anaconda3/envs/ml/lib/python3.7/site-packages/gplearn/genetic.py:435: UserWarning: Warm-start fitting without increasing n_estimators does not fit new programs.\n",
      "  warn('Warm-start fitting without increasing n_estimators does not '\n"
     ]
    },
    {
     "data": {
      "text/plain": [
       "SymbolicRegressor(const_range=(-1.0, 1.0), feature_names=None,\n",
       "                  function_set=('add', 'sub', 'mul', 'div', 'log'),\n",
       "                  generations=20, init_depth=(2, 6),\n",
       "                  init_method='half and half', low_memory=False,\n",
       "                  max_samples=0.9, metric='mean absolute error', n_jobs=1,\n",
       "                  p_crossover=0.7, p_hoist_mutation=0.05, p_point_mutation=0.1,\n",
       "                  p_point_replace=0.05, p_subtree_mutation=0.1,\n",
       "                  parsimony_coefficient=0.01, population_size=5000,\n",
       "                  random_state=0, stopping_criteria=0.001, tournament_size=20,\n",
       "                  verbose=1, warm_start=True)"
      ]
     },
     "execution_count": 24,
     "metadata": {},
     "output_type": "execute_result"
    }
   ],
   "source": [
    "est_gp.warm_start = True\n",
    "est_gp.stopping_criteria=0.001\n",
    "est_gp.fit(X_, y_)"
   ]
  },
  {
   "cell_type": "code",
   "execution_count": null,
   "metadata": {},
   "outputs": [],
   "source": []
  }
 ],
 "metadata": {
  "kernelspec": {
   "display_name": "Python 3",
   "language": "python",
   "name": "python3"
  },
  "language_info": {
   "codemirror_mode": {
    "name": "ipython",
    "version": 3
   },
   "file_extension": ".py",
   "mimetype": "text/x-python",
   "name": "python",
   "nbconvert_exporter": "python",
   "pygments_lexer": "ipython3",
   "version": "3.7.4"
  }
 },
 "nbformat": 4,
 "nbformat_minor": 2
}
