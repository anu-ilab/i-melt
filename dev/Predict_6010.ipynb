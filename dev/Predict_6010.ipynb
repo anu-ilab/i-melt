{
 "cells": [
  {
   "cell_type": "code",
   "execution_count": 1,
   "metadata": {},
   "outputs": [
    {
     "name": "stdout",
     "output_type": "stream",
     "text": [
      "cpu\n"
     ]
    }
   ],
   "source": [
    "%matplotlib inline\n",
    "\n",
    "import pandas as pd # manipulate dataframes\n",
    "import matplotlib.pyplot as plt # plotting\n",
    "import matplotlib, torch, time, h5py\n",
    "import numpy as np\n",
    "\n",
    "from sklearn.metrics import mean_squared_error\n",
    "\n",
    "import neuravi\n",
    "\n",
    "import viscopy as vp\n",
    "\n",
    "device = torch.device('cpu') #get_default_device()\n",
    "print(device)\n",
    "\n",
    "import mpltern\n",
    "from matplotlib.ticker import MultipleLocator, AutoMinorLocator"
   ]
  },
  {
   "cell_type": "code",
   "execution_count": 7,
   "metadata": {},
   "outputs": [],
   "source": [
    "class models:\n",
    "    \"\"\"custom global model predictions\n",
    "\n",
    "    \"\"\"\n",
    "    def __init__(self, path, name_models, device):\n",
    "        \n",
    "        self.device = device\n",
    "        self.n_models = len(name_models)\n",
    "        self.models = [None for _ in range(self.n_models)]\n",
    "        \n",
    "        for i in range(self.n_models):\n",
    "            name = name_models[i]\n",
    "            \n",
    "            # Extract arch\n",
    "            nb_layers = int(name[name.find(\"l\")+1:name.find(\"_n\")])\n",
    "            nb_neurons = int(name[name.find(\"n\")+1:name.rfind(\"_p\")])\n",
    "            p_drop = float(name[name.find(\"p\")+1:name.rfind(\".\")])\n",
    "            \n",
    "            self.models[i] = neuravi.model(4,nb_neurons,nb_layers,ds.nb_channels_raman,p_drop=p_drop) \n",
    "            self.models[i].load_state_dict(torch.load(path+name,map_location='cpu'))\n",
    "            #self.models[i].eval()\n",
    "            \n",
    "    def predict(self,method,X, T=[1000.0], lbd= [500.0]):\n",
    "        \n",
    "        X = torch.Tensor(X).to(self.device)\n",
    "        T = torch.Tensor(T).to(self.device)\n",
    "        lbd = torch.Tensor(lbd).to(self.device)\n",
    "        \n",
    "        if method == \"raman_pred\":    \n",
    "            out = np.zeros((len(X),850,self.n_models)) # problem is defined with a X raman shift of 850 values\n",
    "            for i in range(self.n_models):\n",
    "                out[:,:,i] = getattr(self.models[i],method)(X).cpu().detach().numpy()\n",
    "            return out\n",
    "        else:\n",
    "            out = np.zeros((len(X),self.n_models))\n",
    "            \n",
    "        if method in frozenset(('ag', 'myega', 'am', 'cg', 'tvf')):\n",
    "            for i in range(self.n_models):\n",
    "                out[:,i] = getattr(self.models[i],method)(X,T).cpu().detach().numpy().reshape(-1)\n",
    "        elif method == \"sellmeier\":\n",
    "            for i in range(self.n_models):\n",
    "                out[:,i] = getattr(self.models[i],method)(X,lbd).cpu().detach().numpy().reshape(-1)           \n",
    "        else:\n",
    "            for i in range(self.n_models):\n",
    "                out[:,i] = getattr(self.models[i],method)(X).cpu().detach().numpy().reshape(-1)\n",
    "        \n",
    "        return out\n",
    "                    "
   ]
  },
  {
   "cell_type": "code",
   "execution_count": 8,
   "metadata": {},
   "outputs": [],
   "source": [
    "path_data = \"./data/DataSet_0p20val.hdf5\"\n",
    "path_raman = \"./data/NKAS_Raman.hdf5\"\n",
    "path_density = \"./data/NKAS_density.hdf5\"\n",
    "path_optical = \"./data/NKAS_optical.hdf5\"\n",
    "path_liquidus = \"./data/NKAS_liquidus.hdf5\"\n",
    "\n",
    "ds = neuravi.data_loader(path_data,path_raman,path_density,path_optical,path_liquidus,device)\n",
    "\n",
    "\n",
    "path = \"./model/best/\"\n",
    "name_list = pd.read_csv(\"./model/best/best_list.csv\").loc[:,\"name\"]\n",
    "neuralmodel = models(path, name_list, device)"
   ]
  },
  {
   "cell_type": "code",
   "execution_count": 9,
   "metadata": {},
   "outputs": [
    {
     "data": {
      "text/plain": [
       "[<matplotlib.lines.Line2D at 0x7f03257f2210>]"
      ]
     },
     "execution_count": 9,
     "metadata": {},
     "output_type": "execute_result"
    },
    {
     "data": {
      "image/png": "[encoded data removed]",
      "text/plain": [
       "<Figure size 432x288 with 1 Axes>"
      ]
     },
     "metadata": {
      "needs_background": "light"
     },
     "output_type": "display_data"
    }
   ],
   "source": [
    "\n",
    "T_6010 = np.arange(800,2000,1.0).reshape(-1,1)\n",
    "\n",
    "X_6010 = np.array([[0.60,0.10,0.00,0.30]]) * np.ones((len(T_6010),4))\n",
    "\n",
    "n_6010 = neuralmodel.predict(\"ag\",X_6010,T_6010).mean(axis=1)\n",
    "\n",
    "plt.plot(T_6010,n_6010)\n",
    "\n"
   ]
  },
  {
   "cell_type": "code",
   "execution_count": 10,
   "metadata": {
    "scrolled": true
   },
   "outputs": [
    {
     "data": {
      "text/plain": [
       "array([837.8217041 , 820.1842041 , 834.87568359, ..., 823.55125122,\n",
       "       826.55764771, 832.90563354])"
      ]
     },
     "execution_count": 10,
     "metadata": {},
     "output_type": "execute_result"
    }
   ],
   "source": [
    "neuralmodel.predict(\"tg\",X_6010).mean(axis=1)"
   ]
  },
  {
   "cell_type": "code",
   "execution_count": 12,
   "metadata": {},
   "outputs": [],
   "source": [
    "tt = neuralmodel.predict(\"tg\",X_6010,T_6010).mean(axis=1)"
   ]
  },
  {
   "cell_type": "code",
   "execution_count": 16,
   "metadata": {},
   "outputs": [
    {
     "data": {
      "text/plain": [
       "833.418212677002"
      ]
     },
     "execution_count": 16,
     "metadata": {},
     "output_type": "execute_result"
    }
   ],
   "source": [
    "np.mean(tt)"
   ]
  },
  {
   "cell_type": "code",
   "execution_count": 18,
   "metadata": {},
   "outputs": [
    {
     "data": {
      "text/plain": [
       "560"
      ]
     },
     "execution_count": 18,
     "metadata": {},
     "output_type": "execute_result"
    }
   ],
   "source": [
    "833-273"
   ]
  },
  {
   "cell_type": "code",
   "execution_count": 17,
   "metadata": {},
   "outputs": [
    {
     "data": {
      "text/plain": [
       "(array([  5.,  13.,  92., 198., 281., 281., 197.,  87.,  30.,  16.]),\n",
       " array([812.79800415, 816.85533325, 820.91266235, 824.96999146,\n",
       "        829.02732056, 833.08464966, 837.14197876, 841.19930786,\n",
       "        845.25663696, 849.31396606, 853.37129517]),\n",
       " <BarContainer object of 10 artists>)"
      ]
     },
     "execution_count": 17,
     "metadata": {},
     "output_type": "execute_result"
    },
    {
     "data": {
      "image/png": "[encoded data removed]",
      "text/plain": [
       "<Figure size 432x288 with 1 Axes>"
      ]
     },
     "metadata": {
      "needs_background": "light"
     },
     "output_type": "display_data"
    }
   ],
   "source": [
    "plt.hist(tt)"
   ]
  },
  {
   "cell_type": "code",
   "execution_count": 26,
   "metadata": {},
   "outputs": [],
   "source": [
    "dfout = pd.DataFrame()\n",
    "\n",
    "dfout[\"T, K\"] = T_6010.ravel()\n",
    "dfout[\"viscosity, log Pa s\"] = n_6010.ravel()\n",
    "dfout.to_csv(\"../GoogleDrive/MCF/Stagiaires/Decossin/KA6010.csv\")"
   ]
  },
  {
   "cell_type": "code",
   "execution_count": null,
   "metadata": {},
   "outputs": [],
   "source": []
  }
 ],
 "metadata": {
  "kernelspec": {
   "display_name": "Python 3",
   "language": "python",
   "name": "python3"
  },
  "language_info": {
   "codemirror_mode": {
    "name": "ipython",
    "version": 3
   },
   "file_extension": ".py",
   "mimetype": "text/x-python",
   "name": "python",
   "nbconvert_exporter": "python",
   "pygments_lexer": "ipython3",
   "version": "3.7.9"
  }
 },
 "nbformat": 4,
 "nbformat_minor": 2
}
