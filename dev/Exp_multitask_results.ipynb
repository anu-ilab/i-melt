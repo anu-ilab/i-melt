{
 "cells": [
  {
   "cell_type": "code",
   "execution_count": 3,
   "metadata": {},
   "outputs": [
    {
     "name": "stdout",
     "output_type": "stream",
     "text": [
      "CUDA AVAILABLE?  True\n",
      "cuda\n"
     ]
    }
   ],
   "source": [
    "# Library loading\n",
    "%matplotlib inline\n",
    "\n",
    "import pandas as pd # manipulate dataframes\n",
    "import matplotlib.pyplot as plt # plotting\n",
    "import matplotlib\n",
    "import numpy as np\n",
    "import torch, time\n",
    "\n",
    "from sklearn.metrics import mean_squared_error\n",
    "import h5py\n",
    "\n",
    "import neuravi\n",
    "import os\n",
    "\n",
    "\n",
    "# First we check if CUDA is available\n",
    "print(\"CUDA AVAILABLE? \",torch.cuda.is_available())\n",
    "\n",
    "def get_default_device():\n",
    "    \"\"\"Pick GPU if available, else CPU\"\"\"\n",
    "    if torch.cuda.is_available():\n",
    "        return torch.device('cuda')\n",
    "    else:\n",
    "        return torch.device('cpu')\n",
    "      \n",
    "device = get_default_device()\n",
    "print(device)"
   ]
  },
  {
   "cell_type": "markdown",
   "metadata": {},
   "source": [
    "# Data Import"
   ]
  },
  {
   "cell_type": "code",
   "execution_count": 4,
   "metadata": {},
   "outputs": [
    {
     "name": "stderr",
     "output_type": "stream",
     "text": [
      "/home/charles/anaconda3/envs/ml/lib/python3.7/site-packages/h5py/_hl/dataset.py:313: H5pyDeprecationWarning: dataset.value has been deprecated. Use dataset[()] instead.\n",
      "  \"Use dataset[()] instead.\", H5pyDeprecationWarning)\n"
     ]
    }
   ],
   "source": [
    "### Load dataset\n",
    "ds = neuravi.data_loader(\"./data/DataSet_0p80val.hdf5\",\n",
    "                         \"./data/NKAS_Raman.hdf5\",\n",
    "                         \"./data/NKAS_density.hdf5\",\n",
    "                         \"./data/NKAS_optical.hdf5\",device)"
   ]
  },
  {
   "cell_type": "markdown",
   "metadata": {},
   "source": [
    "# Multitask learning effect"
   ]
  },
  {
   "cell_type": "code",
   "execution_count": 9,
   "metadata": {},
   "outputs": [],
   "source": [
    "# List of networks\n",
    "list_models = os.listdir(\"./model/exp_multitask/\")\n",
    "\n",
    "result_multitask = pd.DataFrame()\n",
    "result_multitask[\"mean\"] = np.ones(4)\n",
    "result_multitask[\"std\"] = np.ones(4)\n",
    "result_multitask[\"name\"] = [\"loss_ag_myega_am_cg\",\n",
    "                            \"loss_ag_myega_am_cg_ram\",\n",
    "                            \"loss_ag_myega_am_cg_ram_d\",\n",
    "                            \"loss_ag_myega_am_cg_ram_d_S_ri\"]\n",
    "\n",
    "# Loss criterion\n",
    "criterion = torch.nn.MSELoss()\n",
    "\n",
    "# Loop for changing the losses\n",
    "for j in range(len(result_multitask.loc[:,\"name\"])):\n",
    "    \n",
    "    loss_ag_test = np.ones(10) # the array to store values for the 10 networks\n",
    "    for i in range(10): # start to loop over the 10 networks generated to get some statistics\n",
    "        \n",
    "        name = result_multitask.loc[j,\"name\"]+\"_\"+str(i)+\".pth\"\n",
    "        \n",
    "        # Declare model\n",
    "        neuralmodel = neuravi.model(4,200,3,ds.nb_channels_raman,p_drop=0.05) \n",
    "        neuralmodel.load_state_dict(torch.load(\"./model/exp_multitask/\"+name, map_location='cpu'))\n",
    "        neuralmodel.eval()\n",
    "        \n",
    "        # PREDICTIONS\n",
    "        y_ag_pred_test = neuralmodel.ag(ds.x_visco_test.cpu(),ds.T_visco_test.cpu()) # test\n",
    "        \n",
    "        # Compute Loss \n",
    "        loss_ag_test[i] = criterion(y_ag_pred_test, ds.y_visco_test.cpu()).item() # test\n",
    "    \n",
    "    # record result in the Pandas result dataframe\n",
    "    result_multitask.loc[j,\"mean\"] = loss_ag_test.mean()\n",
    "    result_multitask.loc[j,\"std\"] = loss_ag_test.std()\n",
    "    \n",
    "result_multitask.to_csv(\"result_multitask_exp.csv\")"
   ]
  },
  {
   "cell_type": "code",
   "execution_count": 10,
   "metadata": {},
   "outputs": [
    {
     "ename": "TypeError",
     "evalue": "expected x and y to have same length",
     "output_type": "error",
     "traceback": [
      "\u001b[0;31m---------------------------------------------------------------------------\u001b[0m",
      "\u001b[0;31mTypeError\u001b[0m                                 Traceback (most recent call last)",
      "\u001b[0;32m<ipython-input-10-76c795f0c93b>\u001b[0m in \u001b[0;36m<module>\u001b[0;34m\u001b[0m\n\u001b[1;32m      4\u001b[0m \u001b[0;34m\u001b[0m\u001b[0m\n\u001b[1;32m      5\u001b[0m plt.plot(np.arange(0,4,0.1), # X\n\u001b[0;32m----> 6\u001b[0;31m          \u001b[0mnp\u001b[0m\u001b[0;34m.\u001b[0m\u001b[0mpolyval\u001b[0m\u001b[0;34m(\u001b[0m\u001b[0mnp\u001b[0m\u001b[0;34m.\u001b[0m\u001b[0mpolyfit\u001b[0m\u001b[0;34m(\u001b[0m\u001b[0mnp\u001b[0m\u001b[0;34m.\u001b[0m\u001b[0marange\u001b[0m\u001b[0;34m(\u001b[0m\u001b[0;36m0\u001b[0m\u001b[0;34m,\u001b[0m\u001b[0;36m5\u001b[0m\u001b[0;34m,\u001b[0m\u001b[0;36m1\u001b[0m\u001b[0;34m)\u001b[0m\u001b[0;34m,\u001b[0m\u001b[0mresult_multitask\u001b[0m\u001b[0;34m[\u001b[0m\u001b[0;34m\"mean\"\u001b[0m\u001b[0;34m]\u001b[0m\u001b[0;34m,\u001b[0m\u001b[0;36m1\u001b[0m\u001b[0;34m)\u001b[0m\u001b[0;34m,\u001b[0m\u001b[0mnp\u001b[0m\u001b[0;34m.\u001b[0m\u001b[0marange\u001b[0m\u001b[0;34m(\u001b[0m\u001b[0;36m0\u001b[0m\u001b[0;34m,\u001b[0m\u001b[0;36m4\u001b[0m\u001b[0;34m,\u001b[0m\u001b[0;36m0.1\u001b[0m\u001b[0;34m)\u001b[0m\u001b[0;34m)\u001b[0m\u001b[0;34m,\u001b[0m \u001b[0;31m# Y\u001b[0m\u001b[0;34m\u001b[0m\u001b[0;34m\u001b[0m\u001b[0m\n\u001b[0m\u001b[1;32m      7\u001b[0m          \u001b[0;34m\"--\"\u001b[0m\u001b[0;34m,\u001b[0m\u001b[0mcolor\u001b[0m\u001b[0;34m=\u001b[0m\u001b[0;34m\"grey\"\u001b[0m\u001b[0;34m,\u001b[0m\u001b[0mlinewidth\u001b[0m\u001b[0;34m=\u001b[0m\u001b[0;36m2\u001b[0m\u001b[0;34m\u001b[0m\u001b[0;34m\u001b[0m\u001b[0m\n\u001b[1;32m      8\u001b[0m         )\n",
      "\u001b[0;32m~/anaconda3/envs/ml/lib/python3.7/site-packages/numpy/lib/polynomial.py\u001b[0m in \u001b[0;36mpolyfit\u001b[0;34m(x, y, deg, rcond, full, w, cov)\u001b[0m\n\u001b[1;32m    600\u001b[0m         \u001b[0;32mraise\u001b[0m \u001b[0mTypeError\u001b[0m\u001b[0;34m(\u001b[0m\u001b[0;34m\"expected 1D or 2D array for y\"\u001b[0m\u001b[0;34m)\u001b[0m\u001b[0;34m\u001b[0m\u001b[0;34m\u001b[0m\u001b[0m\n\u001b[1;32m    601\u001b[0m     \u001b[0;32mif\u001b[0m \u001b[0mx\u001b[0m\u001b[0;34m.\u001b[0m\u001b[0mshape\u001b[0m\u001b[0;34m[\u001b[0m\u001b[0;36m0\u001b[0m\u001b[0;34m]\u001b[0m \u001b[0;34m!=\u001b[0m \u001b[0my\u001b[0m\u001b[0;34m.\u001b[0m\u001b[0mshape\u001b[0m\u001b[0;34m[\u001b[0m\u001b[0;36m0\u001b[0m\u001b[0;34m]\u001b[0m\u001b[0;34m:\u001b[0m\u001b[0;34m\u001b[0m\u001b[0;34m\u001b[0m\u001b[0m\n\u001b[0;32m--> 602\u001b[0;31m         \u001b[0;32mraise\u001b[0m \u001b[0mTypeError\u001b[0m\u001b[0;34m(\u001b[0m\u001b[0;34m\"expected x and y to have same length\"\u001b[0m\u001b[0;34m)\u001b[0m\u001b[0;34m\u001b[0m\u001b[0;34m\u001b[0m\u001b[0m\n\u001b[0m\u001b[1;32m    603\u001b[0m \u001b[0;34m\u001b[0m\u001b[0m\n\u001b[1;32m    604\u001b[0m     \u001b[0;31m# set rcond\u001b[0m\u001b[0;34m\u001b[0m\u001b[0;34m\u001b[0m\u001b[0;34m\u001b[0m\u001b[0m\n",
      "\u001b[0;31mTypeError\u001b[0m: expected x and y to have same length"
     ]
    },
    {
     "data": {
      "image/png": "[encoded data removed]",
      "text/plain": [
       "<Figure size 432x288 with 1 Axes>"
      ]
     },
     "metadata": {
      "needs_background": "light"
     },
     "output_type": "display_data"
    }
   ],
   "source": [
    "x_names = [\"$\\eta$\",\"$\\eta$+Raman\",\"$\\eta$+Raman+$d$\",\"$\\eta$+Raman+$d$+$n(\\lambda)$\"]\n",
    "\n",
    "plt.errorbar(x_names,result_multitask[\"mean\"],yerr=result_multitask[\"std\"],fmt=\"d\",color=\"C2\")\n",
    "\n",
    "plt.plot(np.arange(0,4,0.1), # X\n",
    "         np.polyval(np.polyfit(np.arange(0,5,1),result_multitask[\"mean\"],1),np.arange(0,4,0.1)), # Y\n",
    "         \"--\",color=\"grey\",linewidth=2\n",
    "        )\n",
    "\n",
    "plt.ylim(0,0.6)\n",
    "\n",
    "plt.xticks(rotation=50)\n",
    "\n",
    "plt.ylabel(\"mean MSE AG, test subset\")"
   ]
  },
  {
   "cell_type": "code",
   "execution_count": 11,
   "metadata": {},
   "outputs": [
    {
     "data": {
      "text/html": [
       "<div>\n",
       "<style scoped>\n",
       "    .dataframe tbody tr th:only-of-type {\n",
       "        vertical-align: middle;\n",
       "    }\n",
       "\n",
       "    .dataframe tbody tr th {\n",
       "        vertical-align: top;\n",
       "    }\n",
       "\n",
       "    .dataframe thead th {\n",
       "        text-align: right;\n",
       "    }\n",
       "</style>\n",
       "<table border=\"1\" class=\"dataframe\">\n",
       "  <thead>\n",
       "    <tr style=\"text-align: right;\">\n",
       "      <th></th>\n",
       "      <th>mean</th>\n",
       "      <th>std</th>\n",
       "      <th>name</th>\n",
       "    </tr>\n",
       "  </thead>\n",
       "  <tbody>\n",
       "    <tr>\n",
       "      <td>0</td>\n",
       "      <td>0.167902</td>\n",
       "      <td>0.016156</td>\n",
       "      <td>loss_ag_myega_am_cg</td>\n",
       "    </tr>\n",
       "    <tr>\n",
       "      <td>1</td>\n",
       "      <td>0.195226</td>\n",
       "      <td>0.019635</td>\n",
       "      <td>loss_ag_myega_am_cg_ram</td>\n",
       "    </tr>\n",
       "    <tr>\n",
       "      <td>2</td>\n",
       "      <td>0.191767</td>\n",
       "      <td>0.020584</td>\n",
       "      <td>loss_ag_myega_am_cg_ram_d</td>\n",
       "    </tr>\n",
       "    <tr>\n",
       "      <td>3</td>\n",
       "      <td>0.204762</td>\n",
       "      <td>0.019952</td>\n",
       "      <td>loss_ag_myega_am_cg_ram_d_S_ri</td>\n",
       "    </tr>\n",
       "  </tbody>\n",
       "</table>\n",
       "</div>"
      ],
      "text/plain": [
       "       mean       std                            name\n",
       "0  0.167902  0.016156             loss_ag_myega_am_cg\n",
       "1  0.195226  0.019635         loss_ag_myega_am_cg_ram\n",
       "2  0.191767  0.020584       loss_ag_myega_am_cg_ram_d\n",
       "3  0.204762  0.019952  loss_ag_myega_am_cg_ram_d_S_ri"
      ]
     },
     "execution_count": 11,
     "metadata": {},
     "output_type": "execute_result"
    }
   ],
   "source": [
    "result_multitask"
   ]
  },
  {
   "cell_type": "code",
   "execution_count": null,
   "metadata": {},
   "outputs": [],
   "source": []
  }
 ],
 "metadata": {
  "@webio": {
   "lastCommId": null,
   "lastKernelId": null
  },
  "kernelspec": {
   "display_name": "Python 3",
   "language": "python",
   "name": "python3"
  },
  "language_info": {
   "codemirror_mode": {
    "name": "ipython",
    "version": 3
   },
   "file_extension": ".py",
   "mimetype": "text/x-python",
   "name": "python",
   "nbconvert_exporter": "python",
   "pygments_lexer": "ipython3",
   "version": "3.7.4"
  }
 },
 "nbformat": 4,
 "nbformat_minor": 2
}
