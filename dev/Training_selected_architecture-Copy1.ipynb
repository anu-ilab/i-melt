{
 "cells": [
  {
   "cell_type": "markdown",
   "metadata": {},
   "source": [
    "# Library loading"
   ]
  },
  {
   "cell_type": "code",
   "execution_count": 2,
   "metadata": {
    "colab": {
     "base_uri": "https://localhost:8080/",
     "height": 52
    },
    "colab_type": "code",
    "executionInfo": {
     "elapsed": 8238,
     "status": "ok",
     "timestamp": 1565502147863,
     "user": {
      "displayName": "Charles LL",
      "photoUrl": "",
      "userId": "05619559028255365437"
     },
     "user_tz": -600
    },
    "id": "e0SePNd0dLJc",
    "outputId": "03c95576-8b80-4218-bfab-11d7eed6740e"
   },
   "outputs": [
    {
     "name": "stdout",
     "output_type": "stream",
     "text": [
      "CUDA AVAILABLE?  True\n",
      "cuda\n"
     ]
    }
   ],
   "source": [
    "%matplotlib inline\n",
    "\n",
    "import pandas as pd # manipulate dataframes\n",
    "import matplotlib\n",
    "import matplotlib.pyplot as plt # plotting\n",
    "import numpy as np\n",
    "np.random.seed = 167 # fix random seed for reproducibility\n",
    "import time, h5py, neuravi, torch\n",
    "\n",
    "from sklearn.metrics import mean_squared_error\n",
    "\n",
    "from tqdm import tqdm \n",
    "\n",
    "# First we check if CUDA is available\n",
    "print(\"CUDA AVAILABLE? \",torch.cuda.is_available())\n",
    "\n",
    "def get_default_device():\n",
    "    \"\"\"Pick GPU if available, else CPU\"\"\"\n",
    "    if torch.cuda.is_available():\n",
    "        return torch.device('cuda')\n",
    "    else:\n",
    "        return torch.device('cpu')\n",
    "      \n",
    "device = get_default_device()\n",
    "print(device)"
   ]
  },
  {
   "cell_type": "code",
   "execution_count": 3,
   "metadata": {},
   "outputs": [],
   "source": [
    "path = \"./model/best/\"\n",
    "#name_list = pd.read_csv(\"./model/best/best_list.csv\",header=None,names=[\"name\"]).loc[:,\"name\"]\n",
    "name_list = pd.read_csv(\"./model/best/best_list.csv\").loc[:,\"name\"]\n"
   ]
  },
  {
   "cell_type": "code",
   "execution_count": 4,
   "metadata": {},
   "outputs": [
    {
     "data": {
      "text/plain": [
       "10"
      ]
     },
     "execution_count": 4,
     "metadata": {},
     "output_type": "execute_result"
    }
   ],
   "source": [
    "len(name_list)"
   ]
  },
  {
   "cell_type": "code",
   "execution_count": 12,
   "metadata": {},
   "outputs": [
    {
     "name": "stdout",
     "output_type": "stream",
     "text": [
      "Full training.\n",
      "\n",
      "Epoch 0 => train loss: 0.263424813747406; valid loss: 2.0168285369873047\n",
      "Running time in seconds: 0.20882081985473633\n",
      "Full training.\n",
      "\n",
      "Epoch 0 => train loss: 0.3521386384963989; valid loss: 1.9422094821929932\n",
      "Running time in seconds: 0.10745739936828613\n",
      "Full training.\n",
      "\n",
      "Epoch 0 => train loss: 0.30120185017585754; valid loss: 2.0404200553894043\n",
      "Running time in seconds: 0.1287524700164795\n",
      "Full training.\n",
      "\n",
      "Epoch 0 => train loss: 0.7615068554878235; valid loss: 2.3535847663879395\n",
      "Running time in seconds: 0.13331246376037598\n",
      "Full training.\n",
      "\n",
      "Epoch 0 => train loss: 0.9871142506599426; valid loss: 2.636173725128174\n",
      "Running time in seconds: 0.11290788650512695\n",
      "Full training.\n",
      "\n",
      "Epoch 0 => train loss: 0.979489266872406; valid loss: 2.4788930416107178\n",
      "Running time in seconds: 0.12797164916992188\n",
      "Full training.\n",
      "\n",
      "Epoch 0 => train loss: 1.0132893323898315; valid loss: 2.475832223892212\n",
      "Running time in seconds: 0.1284961700439453\n",
      "Full training.\n",
      "\n",
      "Epoch 0 => train loss: 0.7708467245101929; valid loss: 2.5960922241210938\n",
      "Running time in seconds: 0.16590261459350586\n",
      "Full training.\n",
      "\n",
      "Epoch 0 => train loss: 0.9850345253944397; valid loss: 2.6377828121185303\n",
      "Running time in seconds: 0.1454601287841797\n",
      "Full training.\n",
      "\n",
      "Epoch 0 => train loss: 0.35780131816864014; valid loss: 2.1543233394622803\n",
      "Running time in seconds: 0.13873076438903809\n"
     ]
    }
   ],
   "source": [
    "# custom data loader, automatically sent to device\n",
    "ds = neuravi.data_loader(\"./data/DataSet_0p20val.hdf5\",\n",
    "                         \"./data/NKAS_Raman.hdf5\",\n",
    "                         \"./data/NKAS_density.hdf5\",\n",
    "                         \"./data/NKAS_optical.hdf5\",\n",
    "                         device)\n",
    "\n",
    "for i in range(len(name_list)):\n",
    "    name = name_list[i]\n",
    "\n",
    "    # Extract arch\n",
    "    nb_layers = int(name[name.find(\"l\")+1:name.find(\"_n\")])\n",
    "    nb_neurons = int(name[name.find(\"n\")+1:name.rfind(\"_p\")])\n",
    "    p_drop = float(name[name.find(\"p\")+1:name.rfind(\".\")])\n",
    "\n",
    "    neuralmodel = neuravi.model(4,nb_neurons,nb_layers,ds.nb_channels_raman,p_drop=p_drop) \n",
    "    neuralmodel.load_state_dict(torch.load(path+name,map_location='cpu'))\n",
    "    \n",
    "    # criterion for match\n",
    "    criterion = torch.nn.MSELoss()\n",
    "    criterion.to(device) # sending criterion on device\n",
    "    optimizer = torch.optim.Adam(neuralmodel.parameters(), lr = 0.001) # optimizer\n",
    "    \n",
    "    neuralmodel.to(device)\n",
    "    \n",
    "    #\n",
    "    # TRAINING\n",
    "    #\n",
    "    neuralmodel, record_train_loss, record_valid_loss = neuravi.training(neuralmodel,ds,\n",
    "                                                                         criterion,optimizer,path+\"dummy.pth\",\n",
    "                                                                         train_patience=1,min_delta=0.1,\n",
    "                                                                         verbose=True)"
   ]
  },
  {
   "cell_type": "code",
   "execution_count": null,
   "metadata": {},
   "outputs": [],
   "source": [
    "self.models[i] = neuravi.model(4,nb_neurons,nb_layers,ds.nb_channels_raman,p_drop=p_drop) \n",
    "    self.models[i]\n",
    "    self.models[i].eval()"
   ]
  },
  {
   "cell_type": "markdown",
   "metadata": {},
   "source": [
    "# Training 1 model \n",
    "\n",
    "Architecture: 4 layers, 300 neurons per layer, dropout 0.5\n",
    "\n",
    "With such high dropout, we may want to increase the patience quite significantly. This notebook was created to tune this."
   ]
  },
  {
   "cell_type": "code",
   "execution_count": 4,
   "metadata": {},
   "outputs": [
    {
     "name": "stdout",
     "output_type": "stream",
     "text": [
      "Full training.\n",
      "\n",
      "Epoch 0 => train loss: 10.99420166015625; valid loss: 12.915542602539062\n",
      "Epoch 200 => train loss: 4.428297519683838; valid loss: 5.820215702056885\n",
      "Epoch 400 => train loss: 3.6449332237243652; valid loss: 5.619622707366943\n",
      "Epoch 600 => train loss: 3.2816498279571533; valid loss: 5.43583869934082\n",
      "Epoch 800 => train loss: 2.9917635917663574; valid loss: 5.008788585662842\n",
      "Epoch 1000 => train loss: 2.71262264251709; valid loss: 4.772281169891357\n",
      "Epoch 1200 => train loss: 2.4331979751586914; valid loss: 4.620238304138184\n",
      "Epoch 1400 => train loss: 2.1989634037017822; valid loss: 4.7866291999816895\n",
      "Running time in seconds: 70.68150186538696\n"
     ]
    }
   ],
   "source": [
    "#\n",
    "# Parameters\n",
    "#\n",
    "nb_neurons = 300\n",
    "nb_layers = 4\n",
    "p_drop = 0.4\n",
    "\n",
    "# custom data loader, automatically sent to device\n",
    "ds = neuravi.data_loader(\"./data/DataSet_0p20val.hdf5\",\n",
    "                         \"./data/NKAS_Raman.hdf5\",\n",
    "                         \"./data/NKAS_density.hdf5\",\n",
    "                         \"./data/NKAS_optical.hdf5\",\n",
    "                         device)\n",
    "\n",
    "\n",
    "name = \"./model/best/l\"+str(nb_layers)+\"_n\"+str(nb_neurons)+\"_p\"+str(p_drop)+\"_test\"+\".pth\"\n",
    "\n",
    "# declaring model\n",
    "neuralmodel = neuravi.model(4,nb_neurons,nb_layers,ds.nb_channels_raman,p_drop=p_drop) \n",
    "\n",
    "# criterion for match\n",
    "criterion = torch.nn.MSELoss()\n",
    "criterion.to(device) # sending criterion on device\n",
    "optimizer = torch.optim.Adam(neuralmodel.parameters(), lr = 0.001) # optimizer\n",
    "\n",
    "# we initialize the output bias and send the neural net on device\n",
    "neuralmodel.output_bias_init()\n",
    "neuralmodel.to(device)\n",
    "\n",
    "#\n",
    "# PRETRAINING\n",
    "#\n",
    "neuralmodel, record_pretrain_loss, record_prevalid_loss = neuravi.training(neuralmodel,ds,criterion,optimizer,name, mode=\"pretrain\",verbose=False)\n",
    "\n",
    "#\n",
    "# TRAINING\n",
    "#\n",
    "neuralmodel, record_train_loss, record_valid_loss = neuravi.training(neuralmodel,ds,\n",
    "                                                                     criterion,optimizer,name,\n",
    "                                                                     train_patience=500,min_delta=0.1,\n",
    "                                                                     verbose=True)\n"
   ]
  },
  {
   "cell_type": "markdown",
   "metadata": {},
   "source": [
    "# Observing how losses decline"
   ]
  },
  {
   "cell_type": "code",
   "execution_count": 5,
   "metadata": {},
   "outputs": [
    {
     "data": {
      "image/png": "[encoded data removed]",
      "text/plain": [
       "<Figure size 432x288 with 1 Axes>"
      ]
     },
     "metadata": {
      "needs_background": "light"
     },
     "output_type": "display_data"
    }
   ],
   "source": [
    "plt.plot(record_train_loss,label=\"valid\")\n",
    "plt.plot(record_valid_loss,label=\"train\")\n",
    "plt.yscale(\"log\")"
   ]
  },
  {
   "cell_type": "markdown",
   "metadata": {},
   "source": [
    "# Training 50 models with selected architecture\n",
    "\n",
    "From the experiments, high dropout with 4 layers and 300 neurons may be a good architecture.\n",
    "We train 50 networks with this architecture."
   ]
  },
  {
   "cell_type": "code",
   "execution_count": 6,
   "metadata": {
    "colab": {
     "base_uri": "https://localhost:8080/",
     "height": 278
    },
    "colab_type": "code",
    "executionInfo": {
     "elapsed": 854,
     "status": "ok",
     "timestamp": 1565502159084,
     "user": {
      "displayName": "Charles LL",
      "photoUrl": "",
      "userId": "05619559028255365437"
     },
     "user_tz": -600
    },
    "id": "1DVtxR4ysJ47",
    "outputId": "96e533fb-fec1-4866-b544-fccdbb43f2ec"
   },
   "outputs": [
    {
     "name": "stderr",
     "output_type": "stream",
     "text": [
      "\r",
      "  0%|          | 0/10 [00:00<?, ?it/s]"
     ]
    },
    {
     "name": "stdout",
     "output_type": "stream",
     "text": [
      "Full training.\n",
      "\n",
      "Epoch 0 => train loss: 280.8157043457031; valid loss: 20.71263313293457\n",
      "Epoch 200 => train loss: 11.828886985778809; valid loss: 16.18202018737793\n",
      "Epoch 400 => train loss: 10.948797225952148; valid loss: 13.833198547363281\n",
      "Epoch 600 => train loss: 9.644498825073242; valid loss: 12.510293006896973\n",
      "Epoch 800 => train loss: 9.367962837219238; valid loss: 11.726655960083008\n",
      "Epoch 1000 => train loss: 7.965926170349121; valid loss: 11.819397926330566\n",
      "Epoch 1200 => train loss: 7.9930739402771; valid loss: 11.77450942993164\n",
      "Epoch 1400 => train loss: 7.59660530090332; valid loss: 11.422704696655273\n",
      "Epoch 1600 => train loss: 6.765867233276367; valid loss: 10.372930526733398\n",
      "Epoch 1800 => train loss: 6.624847888946533; valid loss: 9.647234916687012\n",
      "Epoch 2000 => train loss: 6.007593154907227; valid loss: 9.219747543334961\n",
      "Epoch 2200 => train loss: 5.934643268585205; valid loss: 8.595474243164062\n",
      "Epoch 2400 => train loss: 5.581204891204834; valid loss: 8.121053695678711\n",
      "Epoch 2600 => train loss: 5.4485392570495605; valid loss: 8.193881034851074\n",
      "Epoch 2800 => train loss: 5.392355442047119; valid loss: 8.044530868530273\n",
      "Epoch 3000 => train loss: 5.290680885314941; valid loss: 7.593228340148926\n",
      "Epoch 3200 => train loss: 5.2530837059021; valid loss: 7.090740203857422\n",
      "Epoch 3400 => train loss: 4.647270679473877; valid loss: 7.227044105529785\n",
      "Epoch 3600 => train loss: 4.686070442199707; valid loss: 7.010128974914551\n",
      "Epoch 3800 => train loss: 4.515380859375; valid loss: 6.9200310707092285\n",
      "Epoch 4000 => train loss: 4.519375801086426; valid loss: 6.893721103668213\n",
      "Epoch 4200 => train loss: 4.19791316986084; valid loss: 7.224322319030762\n",
      "Epoch 4400 => train loss: 4.314189434051514; valid loss: 6.486515522003174\n",
      "Epoch 4600 => train loss: 4.232335567474365; valid loss: 6.2855610847473145\n",
      "Epoch 4800 => train loss: 4.016036033630371; valid loss: 6.228727340698242\n",
      "Epoch 5000 => train loss: 3.8819127082824707; valid loss: 5.775251865386963\n",
      "Epoch 5200 => train loss: 3.9771721363067627; valid loss: 5.980538845062256\n",
      "Epoch 5400 => train loss: 3.8264949321746826; valid loss: 6.3972344398498535\n",
      "Epoch 5600 => train loss: 3.490048408508301; valid loss: 6.027552604675293\n"
     ]
    },
    {
     "name": "stderr",
     "output_type": "stream",
     "text": [
      "\r",
      " 10%|█         | 1/10 [05:45<51:53, 346.00s/it]"
     ]
    },
    {
     "name": "stdout",
     "output_type": "stream",
     "text": [
      "Running time in seconds: 321.5641369819641\n",
      "Full training.\n",
      "\n",
      "Epoch 0 => train loss: 20.808866500854492; valid loss: 20.938955307006836\n",
      "Epoch 200 => train loss: 11.612351417541504; valid loss: 14.774163246154785\n",
      "Epoch 400 => train loss: 10.016566276550293; valid loss: 12.722190856933594\n",
      "Epoch 600 => train loss: 8.179576873779297; valid loss: 10.737878799438477\n",
      "Epoch 800 => train loss: 7.079944133758545; valid loss: 10.28429126739502\n",
      "Epoch 1000 => train loss: 6.915361404418945; valid loss: 8.734396934509277\n",
      "Epoch 1200 => train loss: 6.195070266723633; valid loss: 9.066959381103516\n",
      "Epoch 1400 => train loss: 5.653791904449463; valid loss: 9.308621406555176\n",
      "Epoch 1600 => train loss: 5.621465682983398; valid loss: 7.543982982635498\n",
      "Epoch 1800 => train loss: 4.9543914794921875; valid loss: 7.113917350769043\n",
      "Epoch 2000 => train loss: 4.836630821228027; valid loss: 7.33010196685791\n",
      "Epoch 2200 => train loss: 4.957650184631348; valid loss: 6.433929920196533\n",
      "Epoch 2400 => train loss: 4.3075690269470215; valid loss: 6.40012788772583\n",
      "Epoch 2600 => train loss: 4.08281946182251; valid loss: 6.3392510414123535\n",
      "Epoch 2800 => train loss: 3.9888598918914795; valid loss: 6.301570892333984\n",
      "Epoch 3000 => train loss: 3.8557920455932617; valid loss: 5.888212203979492\n",
      "Epoch 3200 => train loss: 3.640780448913574; valid loss: 5.632248401641846\n",
      "Epoch 3400 => train loss: 3.4801745414733887; valid loss: 5.229568004608154\n"
     ]
    },
    {
     "name": "stderr",
     "output_type": "stream",
     "text": [
      "\r",
      " 20%|██        | 2/10 [09:10<40:27, 303.48s/it]"
     ]
    },
    {
     "name": "stdout",
     "output_type": "stream",
     "text": [
      "Running time in seconds: 189.60421180725098\n",
      "Full training.\n",
      "\n",
      "Epoch 0 => train loss: 28.63829803466797; valid loss: 22.04741668701172\n",
      "Epoch 200 => train loss: 11.739607810974121; valid loss: 15.460212707519531\n",
      "Epoch 400 => train loss: 9.701844215393066; valid loss: 12.892765998840332\n",
      "Epoch 600 => train loss: 8.804312705993652; valid loss: 10.239629745483398\n",
      "Epoch 800 => train loss: 7.938627243041992; valid loss: 10.427026748657227\n",
      "Epoch 1000 => train loss: 6.8293328285217285; valid loss: 9.506004333496094\n",
      "Epoch 1200 => train loss: 6.736631393432617; valid loss: 8.415918350219727\n",
      "Epoch 1400 => train loss: 6.202407360076904; valid loss: 8.565092086791992\n",
      "Epoch 1600 => train loss: 5.6694769859313965; valid loss: 7.399832725524902\n",
      "Epoch 1800 => train loss: 5.137433052062988; valid loss: 7.879782676696777\n",
      "Epoch 2000 => train loss: 5.3037214279174805; valid loss: 7.20863151550293\n",
      "Epoch 2200 => train loss: 4.85630989074707; valid loss: 6.9136481285095215\n",
      "Epoch 2400 => train loss: 4.670041084289551; valid loss: 7.065659046173096\n",
      "Epoch 2600 => train loss: 4.900058269500732; valid loss: 6.23594331741333\n"
     ]
    },
    {
     "name": "stderr",
     "output_type": "stream",
     "text": [
      "\r",
      " 30%|███       | 3/10 [11:46<30:15, 259.35s/it]"
     ]
    },
    {
     "name": "stdout",
     "output_type": "stream",
     "text": [
      "Running time in seconds: 135.094167470932\n",
      "Full training.\n",
      "\n",
      "Epoch 0 => train loss: 21.08022689819336; valid loss: 24.300355911254883\n",
      "Epoch 200 => train loss: 12.689918518066406; valid loss: 14.830099105834961\n",
      "Epoch 400 => train loss: 11.682637214660645; valid loss: 14.422789573669434\n",
      "Epoch 600 => train loss: 9.806729316711426; valid loss: 12.230467796325684\n",
      "Epoch 800 => train loss: 9.686601638793945; valid loss: 12.138177871704102\n",
      "Epoch 1000 => train loss: 8.715412139892578; valid loss: 10.983859062194824\n",
      "Epoch 1200 => train loss: 8.365198135375977; valid loss: 10.842108726501465\n",
      "Epoch 1400 => train loss: 7.800526142120361; valid loss: 9.983955383300781\n",
      "Epoch 1600 => train loss: 9.470587730407715; valid loss: 11.016921043395996\n"
     ]
    },
    {
     "name": "stderr",
     "output_type": "stream",
     "text": [
      "\r",
      " 40%|████      | 4/10 [14:07<22:22, 223.79s/it]"
     ]
    },
    {
     "name": "stdout",
     "output_type": "stream",
     "text": [
      "Running time in seconds: 116.84181451797485\n",
      "Full training.\n",
      "\n",
      "Epoch 0 => train loss: 20.052515029907227; valid loss: 20.157283782958984\n",
      "Epoch 200 => train loss: 10.872705459594727; valid loss: 14.990193367004395\n",
      "Epoch 400 => train loss: 8.989479064941406; valid loss: 11.561939239501953\n",
      "Epoch 600 => train loss: 7.640673637390137; valid loss: 11.109347343444824\n",
      "Epoch 800 => train loss: 7.157914638519287; valid loss: 10.875531196594238\n",
      "Epoch 1000 => train loss: 6.240203380584717; valid loss: 9.668327331542969\n",
      "Epoch 1200 => train loss: 6.36760139465332; valid loss: 9.158945083618164\n",
      "Epoch 1400 => train loss: 5.9699578285217285; valid loss: 8.979129791259766\n",
      "Epoch 1600 => train loss: 5.586763381958008; valid loss: 8.547657012939453\n",
      "Epoch 1800 => train loss: 5.349096298217773; valid loss: 8.451473236083984\n",
      "Epoch 2000 => train loss: 5.331518173217773; valid loss: 7.732250690460205\n",
      "Epoch 2200 => train loss: 5.005018711090088; valid loss: 7.4186577796936035\n",
      "Epoch 2400 => train loss: 4.697323322296143; valid loss: 6.863518238067627\n",
      "Epoch 2600 => train loss: 4.731325149536133; valid loss: 6.9871063232421875\n"
     ]
    },
    {
     "name": "stderr",
     "output_type": "stream",
     "text": [
      "\r",
      " 50%|█████     | 5/10 [17:25<18:00, 216.10s/it]"
     ]
    },
    {
     "name": "stdout",
     "output_type": "stream",
     "text": [
      "Running time in seconds: 174.0045988559723\n",
      "Full training.\n",
      "\n",
      "Epoch 0 => train loss: 31.199018478393555; valid loss: 22.50446128845215\n",
      "Epoch 200 => train loss: 14647.4033203125; valid loss: 8847.86328125\n",
      "Epoch 400 => train loss: 33463.1328125; valid loss: 5162.978515625\n"
     ]
    },
    {
     "name": "stderr",
     "output_type": "stream",
     "text": [
      "\r",
      " 60%|██████    | 6/10 [18:16<11:06, 166.61s/it]"
     ]
    },
    {
     "name": "stdout",
     "output_type": "stream",
     "text": [
      "Running time in seconds: 31.35784101486206\n",
      "Full training.\n",
      "\n",
      "Epoch 0 => train loss: 21.992631912231445; valid loss: 20.93930435180664\n",
      "Epoch 200 => train loss: 14.29671859741211; valid loss: 17.692808151245117\n",
      "Epoch 400 => train loss: 13.535090446472168; valid loss: 15.601816177368164\n",
      "Epoch 600 => train loss: 12.825249671936035; valid loss: 14.092595100402832\n",
      "Epoch 800 => train loss: 12.919707298278809; valid loss: 13.85775375366211\n",
      "Epoch 1000 => train loss: 11.009458541870117; valid loss: 13.984245300292969\n",
      "Epoch 1200 => train loss: 10.843550682067871; valid loss: 14.000170707702637\n",
      "Epoch 1400 => train loss: 9.718111991882324; valid loss: 12.70923900604248\n",
      "Epoch 1600 => train loss: 9.799649238586426; valid loss: 11.839919090270996\n",
      "Epoch 1800 => train loss: 8.986692428588867; valid loss: 11.005765914916992\n",
      "Epoch 2000 => train loss: 9.265525817871094; valid loss: 12.978730201721191\n",
      "Epoch 2200 => train loss: 8.66655445098877; valid loss: 12.55771255493164\n",
      "Epoch 2400 => train loss: 8.542244911193848; valid loss: 11.120278358459473\n",
      "Epoch 2600 => train loss: 8.151392936706543; valid loss: 10.143083572387695\n",
      "Epoch 2800 => train loss: 7.532558917999268; valid loss: 10.271589279174805\n",
      "Epoch 3000 => train loss: 7.65329122543335; valid loss: 10.596044540405273\n",
      "Epoch 3200 => train loss: 8.058520317077637; valid loss: 9.379338264465332\n",
      "Epoch 3400 => train loss: 7.361498832702637; valid loss: 10.344949722290039\n",
      "Epoch 3600 => train loss: nan; valid loss: nan\n"
     ]
    },
    {
     "name": "stderr",
     "output_type": "stream",
     "text": [
      "\r",
      " 70%|███████   | 7/10 [21:51<09:02, 180.98s/it]"
     ]
    },
    {
     "name": "stdout",
     "output_type": "stream",
     "text": [
      "Running time in seconds: 192.21892666816711\n",
      "Full training.\n",
      "\n",
      "Epoch 0 => train loss: 96.65737915039062; valid loss: 68.08807373046875\n",
      "Epoch 200 => train loss: 29.17683982849121; valid loss: 36.29627990722656\n",
      "Epoch 400 => train loss: 21.80646514892578; valid loss: 25.074438095092773\n",
      "Epoch 600 => train loss: 16.78768539428711; valid loss: 20.208951950073242\n",
      "Epoch 800 => train loss: 13.704585075378418; valid loss: 16.346912384033203\n",
      "Epoch 1000 => train loss: 12.07626724243164; valid loss: 13.434793472290039\n",
      "Epoch 1200 => train loss: 9.954131126403809; valid loss: 11.958457946777344\n",
      "Epoch 1400 => train loss: 9.524372100830078; valid loss: 12.877337455749512\n",
      "Epoch 1600 => train loss: 8.5761137008667; valid loss: 10.503467559814453\n",
      "Epoch 1800 => train loss: 8.458292007446289; valid loss: 10.988225936889648\n",
      "Epoch 2000 => train loss: 7.380174160003662; valid loss: 10.521034240722656\n",
      "Epoch 2200 => train loss: 7.332451820373535; valid loss: 10.215391159057617\n",
      "Epoch 2400 => train loss: 6.858497142791748; valid loss: 10.705972671508789\n",
      "Epoch 2600 => train loss: 6.392881393432617; valid loss: 8.322792053222656\n",
      "Epoch 2800 => train loss: 6.043358325958252; valid loss: 8.768149375915527\n",
      "Epoch 3000 => train loss: 5.690030574798584; valid loss: 8.006019592285156\n"
     ]
    },
    {
     "ename": "KeyboardInterrupt",
     "evalue": "",
     "output_type": "error",
     "traceback": [
      "\u001b[0;31m---------------------------------------------------------------------------\u001b[0m",
      "\u001b[0;31mKeyboardInterrupt\u001b[0m                         Traceback (most recent call last)",
      "\u001b[0;32m<ipython-input-6-4c2a5dcfb465>\u001b[0m in \u001b[0;36m<module>\u001b[0;34m\u001b[0m\n\u001b[1;32m     38\u001b[0m     \u001b[0;31m# TRAINING\u001b[0m\u001b[0;34m\u001b[0m\u001b[0;34m\u001b[0m\u001b[0;34m\u001b[0m\u001b[0m\n\u001b[1;32m     39\u001b[0m     \u001b[0;31m#\u001b[0m\u001b[0;34m\u001b[0m\u001b[0;34m\u001b[0m\u001b[0;34m\u001b[0m\u001b[0m\n\u001b[0;32m---> 40\u001b[0;31m     \u001b[0mneuralmodel\u001b[0m\u001b[0;34m,\u001b[0m \u001b[0mrecord_train_loss\u001b[0m\u001b[0;34m,\u001b[0m \u001b[0mrecord_valid_loss\u001b[0m \u001b[0;34m=\u001b[0m \u001b[0mneuravi\u001b[0m\u001b[0;34m.\u001b[0m\u001b[0mtraining\u001b[0m\u001b[0;34m(\u001b[0m\u001b[0mneuralmodel\u001b[0m\u001b[0;34m,\u001b[0m\u001b[0mds\u001b[0m\u001b[0;34m,\u001b[0m\u001b[0mcriterion\u001b[0m\u001b[0;34m,\u001b[0m\u001b[0moptimizer\u001b[0m\u001b[0;34m,\u001b[0m\u001b[0mname\u001b[0m\u001b[0;34m,\u001b[0m\u001b[0mtrain_patience\u001b[0m\u001b[0;34m=\u001b[0m\u001b[0;36m500\u001b[0m\u001b[0;34m,\u001b[0m\u001b[0mmin_delta\u001b[0m\u001b[0;34m=\u001b[0m\u001b[0;36m0.1\u001b[0m\u001b[0;34m,\u001b[0m\u001b[0mverbose\u001b[0m\u001b[0;34m=\u001b[0m\u001b[0;32mTrue\u001b[0m\u001b[0;34m)\u001b[0m\u001b[0;34m\u001b[0m\u001b[0;34m\u001b[0m\u001b[0m\n\u001b[0m",
      "\u001b[0;32m~/neuravi/neuravi.py\u001b[0m in \u001b[0;36mtraining\u001b[0;34m(neuralmodel, ds, criterion, optimizer, save_name, train_patience, min_delta, verbose, mode)\u001b[0m\n\u001b[1;32m    481\u001b[0m         \u001b[0my_myega_pred_valid\u001b[0m \u001b[0;34m=\u001b[0m \u001b[0mneuralmodel\u001b[0m\u001b[0;34m.\u001b[0m\u001b[0mmyega\u001b[0m\u001b[0;34m(\u001b[0m\u001b[0mds\u001b[0m\u001b[0;34m.\u001b[0m\u001b[0mx_visco_valid\u001b[0m\u001b[0;34m,\u001b[0m\u001b[0mds\u001b[0m\u001b[0;34m.\u001b[0m\u001b[0mT_visco_valid\u001b[0m\u001b[0;34m)\u001b[0m\u001b[0;34m\u001b[0m\u001b[0;34m\u001b[0m\u001b[0m\n\u001b[1;32m    482\u001b[0m         \u001b[0my_am_pred_valid\u001b[0m \u001b[0;34m=\u001b[0m \u001b[0mneuralmodel\u001b[0m\u001b[0;34m.\u001b[0m\u001b[0mam\u001b[0m\u001b[0;34m(\u001b[0m\u001b[0mds\u001b[0m\u001b[0;34m.\u001b[0m\u001b[0mx_visco_valid\u001b[0m\u001b[0;34m,\u001b[0m\u001b[0mds\u001b[0m\u001b[0;34m.\u001b[0m\u001b[0mT_visco_valid\u001b[0m\u001b[0;34m)\u001b[0m\u001b[0;34m\u001b[0m\u001b[0;34m\u001b[0m\u001b[0m\n\u001b[0;32m--> 483\u001b[0;31m         \u001b[0my_cg_pred_valid\u001b[0m \u001b[0;34m=\u001b[0m \u001b[0mneuralmodel\u001b[0m\u001b[0;34m.\u001b[0m\u001b[0mcg\u001b[0m\u001b[0;34m(\u001b[0m\u001b[0mds\u001b[0m\u001b[0;34m.\u001b[0m\u001b[0mx_visco_valid\u001b[0m\u001b[0;34m,\u001b[0m\u001b[0mds\u001b[0m\u001b[0;34m.\u001b[0m\u001b[0mT_visco_valid\u001b[0m\u001b[0;34m)\u001b[0m\u001b[0;34m\u001b[0m\u001b[0;34m\u001b[0m\u001b[0m\n\u001b[0m\u001b[1;32m    484\u001b[0m         \u001b[0my_raman_pred_valid\u001b[0m \u001b[0;34m=\u001b[0m \u001b[0mneuralmodel\u001b[0m\u001b[0;34m.\u001b[0m\u001b[0mraman_pred\u001b[0m\u001b[0;34m(\u001b[0m\u001b[0mds\u001b[0m\u001b[0;34m.\u001b[0m\u001b[0mx_raman_valid\u001b[0m\u001b[0;34m)\u001b[0m\u001b[0;34m\u001b[0m\u001b[0;34m\u001b[0m\u001b[0m\n\u001b[1;32m    485\u001b[0m         \u001b[0my_density_pred_valid\u001b[0m \u001b[0;34m=\u001b[0m \u001b[0mneuralmodel\u001b[0m\u001b[0;34m.\u001b[0m\u001b[0mdensity\u001b[0m\u001b[0;34m(\u001b[0m\u001b[0mds\u001b[0m\u001b[0;34m.\u001b[0m\u001b[0mx_density_valid\u001b[0m\u001b[0;34m)\u001b[0m\u001b[0;34m\u001b[0m\u001b[0;34m\u001b[0m\u001b[0m\n",
      "\u001b[0;32m~/neuravi/neuravi.py\u001b[0m in \u001b[0;36mcg\u001b[0;34m(self, x, T)\u001b[0m\n\u001b[1;32m    396\u001b[0m         \"\"\"free volume theory viscosity equation, given entries X and temperature T\n\u001b[1;32m    397\u001b[0m         \"\"\"\n\u001b[0;32m--> 398\u001b[0;31m         \u001b[0;32mreturn\u001b[0m \u001b[0mself\u001b[0m\u001b[0;34m.\u001b[0m\u001b[0ma_cg\u001b[0m\u001b[0;34m(\u001b[0m\u001b[0mx\u001b[0m\u001b[0;34m)\u001b[0m \u001b[0;34m+\u001b[0m \u001b[0;36m2.0\u001b[0m\u001b[0;34m*\u001b[0m\u001b[0mself\u001b[0m\u001b[0;34m.\u001b[0m\u001b[0mb_cg\u001b[0m\u001b[0;34m(\u001b[0m\u001b[0mx\u001b[0m\u001b[0;34m)\u001b[0m\u001b[0;34m/\u001b[0m\u001b[0;34m(\u001b[0m\u001b[0mT\u001b[0m \u001b[0;34m-\u001b[0m \u001b[0mself\u001b[0m\u001b[0;34m.\u001b[0m\u001b[0mto_cg\u001b[0m\u001b[0;34m(\u001b[0m\u001b[0mx\u001b[0m\u001b[0;34m)\u001b[0m \u001b[0;34m+\u001b[0m \u001b[0mtorch\u001b[0m\u001b[0;34m.\u001b[0m\u001b[0msqrt\u001b[0m\u001b[0;34m(\u001b[0m \u001b[0;34m(\u001b[0m\u001b[0mT\u001b[0m\u001b[0;34m-\u001b[0m\u001b[0mself\u001b[0m\u001b[0;34m.\u001b[0m\u001b[0mto_cg\u001b[0m\u001b[0;34m(\u001b[0m\u001b[0mx\u001b[0m\u001b[0;34m)\u001b[0m\u001b[0;34m)\u001b[0m\u001b[0;34m**\u001b[0m\u001b[0;36m2\u001b[0m \u001b[0;34m+\u001b[0m \u001b[0mself\u001b[0m\u001b[0;34m.\u001b[0m\u001b[0mc_cg\u001b[0m\u001b[0;34m(\u001b[0m\u001b[0mx\u001b[0m\u001b[0;34m)\u001b[0m\u001b[0;34m*\u001b[0m\u001b[0mT\u001b[0m\u001b[0;34m)\u001b[0m\u001b[0;34m)\u001b[0m\u001b[0;34m\u001b[0m\u001b[0;34m\u001b[0m\u001b[0m\n\u001b[0m\u001b[1;32m    399\u001b[0m \u001b[0;34m\u001b[0m\u001b[0m\n\u001b[1;32m    400\u001b[0m     \u001b[0;32mdef\u001b[0m \u001b[0msellmeier\u001b[0m\u001b[0;34m(\u001b[0m\u001b[0mself\u001b[0m\u001b[0;34m,\u001b[0m \u001b[0mx\u001b[0m\u001b[0;34m,\u001b[0m \u001b[0mlbd\u001b[0m\u001b[0;34m)\u001b[0m\u001b[0;34m:\u001b[0m\u001b[0;34m\u001b[0m\u001b[0;34m\u001b[0m\u001b[0m\n",
      "\u001b[0;32m~/neuravi/neuravi.py\u001b[0m in \u001b[0;36mb_cg\u001b[0;34m(self, x)\u001b[0m\n\u001b[1;32m    372\u001b[0m     \u001b[0;32mdef\u001b[0m \u001b[0mb_cg\u001b[0m\u001b[0;34m(\u001b[0m\u001b[0mself\u001b[0m\u001b[0;34m,\u001b[0m \u001b[0mx\u001b[0m\u001b[0;34m)\u001b[0m\u001b[0;34m:\u001b[0m\u001b[0;34m\u001b[0m\u001b[0;34m\u001b[0m\u001b[0m\n\u001b[1;32m    373\u001b[0m         \u001b[0;34m\"\"\"B in free volume (CG) equation\"\"\"\u001b[0m\u001b[0;34m\u001b[0m\u001b[0;34m\u001b[0m\u001b[0m\n\u001b[0;32m--> 374\u001b[0;31m         \u001b[0;32mreturn\u001b[0m \u001b[0;36m0.5\u001b[0m\u001b[0;34m*\u001b[0m\u001b[0;34m(\u001b[0m\u001b[0;36m12.0\u001b[0m \u001b[0;34m-\u001b[0m \u001b[0mself\u001b[0m\u001b[0;34m.\u001b[0m\u001b[0ma_cg\u001b[0m\u001b[0;34m(\u001b[0m\u001b[0mx\u001b[0m\u001b[0;34m)\u001b[0m\u001b[0;34m)\u001b[0m \u001b[0;34m*\u001b[0m \u001b[0;34m(\u001b[0m\u001b[0mself\u001b[0m\u001b[0;34m.\u001b[0m\u001b[0mtg\u001b[0m\u001b[0;34m(\u001b[0m\u001b[0mx\u001b[0m\u001b[0;34m)\u001b[0m \u001b[0;34m-\u001b[0m \u001b[0mself\u001b[0m\u001b[0;34m.\u001b[0m\u001b[0mto_cg\u001b[0m\u001b[0;34m(\u001b[0m\u001b[0mx\u001b[0m\u001b[0;34m)\u001b[0m \u001b[0;34m+\u001b[0m \u001b[0mtorch\u001b[0m\u001b[0;34m.\u001b[0m\u001b[0msqrt\u001b[0m\u001b[0;34m(\u001b[0m \u001b[0;34m(\u001b[0m\u001b[0mself\u001b[0m\u001b[0;34m.\u001b[0m\u001b[0mtg\u001b[0m\u001b[0;34m(\u001b[0m\u001b[0mx\u001b[0m\u001b[0;34m)\u001b[0m \u001b[0;34m-\u001b[0m \u001b[0mself\u001b[0m\u001b[0;34m.\u001b[0m\u001b[0mto_cg\u001b[0m\u001b[0;34m(\u001b[0m\u001b[0mx\u001b[0m\u001b[0;34m)\u001b[0m\u001b[0;34m)\u001b[0m\u001b[0;34m**\u001b[0m\u001b[0;36m2\u001b[0m \u001b[0;34m+\u001b[0m \u001b[0mself\u001b[0m\u001b[0;34m.\u001b[0m\u001b[0mc_cg\u001b[0m\u001b[0;34m(\u001b[0m\u001b[0mx\u001b[0m\u001b[0;34m)\u001b[0m\u001b[0;34m*\u001b[0m\u001b[0mself\u001b[0m\u001b[0;34m.\u001b[0m\u001b[0mtg\u001b[0m\u001b[0;34m(\u001b[0m\u001b[0mx\u001b[0m\u001b[0;34m)\u001b[0m\u001b[0;34m)\u001b[0m\u001b[0;34m)\u001b[0m\u001b[0;34m\u001b[0m\u001b[0;34m\u001b[0m\u001b[0m\n\u001b[0m\u001b[1;32m    375\u001b[0m \u001b[0;34m\u001b[0m\u001b[0m\n\u001b[1;32m    376\u001b[0m     \u001b[0;32mdef\u001b[0m \u001b[0mbe\u001b[0m\u001b[0;34m(\u001b[0m\u001b[0mself\u001b[0m\u001b[0;34m,\u001b[0m\u001b[0mx\u001b[0m\u001b[0;34m)\u001b[0m\u001b[0;34m:\u001b[0m\u001b[0;34m\u001b[0m\u001b[0;34m\u001b[0m\u001b[0m\n",
      "\u001b[0;32m~/neuravi/neuravi.py\u001b[0m in \u001b[0;36mc_cg\u001b[0;34m(self, x)\u001b[0m\n\u001b[1;32m    326\u001b[0m     \u001b[0;32mdef\u001b[0m \u001b[0mc_cg\u001b[0m\u001b[0;34m(\u001b[0m\u001b[0mself\u001b[0m\u001b[0;34m,\u001b[0m\u001b[0mx\u001b[0m\u001b[0;34m)\u001b[0m\u001b[0;34m:\u001b[0m\u001b[0;34m\u001b[0m\u001b[0;34m\u001b[0m\u001b[0m\n\u001b[1;32m    327\u001b[0m         \u001b[0;34m\"\"\"C parameter for Free Volume (CG)\"\"\"\u001b[0m\u001b[0;34m\u001b[0m\u001b[0;34m\u001b[0m\u001b[0m\n\u001b[0;32m--> 328\u001b[0;31m         \u001b[0mout\u001b[0m \u001b[0;34m=\u001b[0m \u001b[0mtorch\u001b[0m\u001b[0;34m.\u001b[0m\u001b[0mexp\u001b[0m\u001b[0;34m(\u001b[0m\u001b[0mself\u001b[0m\u001b[0;34m.\u001b[0m\u001b[0mout_thermo\u001b[0m\u001b[0;34m(\u001b[0m\u001b[0mself\u001b[0m\u001b[0;34m.\u001b[0m\u001b[0mforward\u001b[0m\u001b[0;34m(\u001b[0m\u001b[0mx\u001b[0m\u001b[0;34m)\u001b[0m\u001b[0;34m)\u001b[0m\u001b[0;34m[\u001b[0m\u001b[0;34m:\u001b[0m\u001b[0;34m,\u001b[0m\u001b[0;36m6\u001b[0m\u001b[0;34m]\u001b[0m\u001b[0;34m)\u001b[0m\u001b[0;34m\u001b[0m\u001b[0;34m\u001b[0m\u001b[0m\n\u001b[0m\u001b[1;32m    329\u001b[0m         \u001b[0;32mreturn\u001b[0m \u001b[0mtorch\u001b[0m\u001b[0;34m.\u001b[0m\u001b[0mreshape\u001b[0m\u001b[0;34m(\u001b[0m\u001b[0mout\u001b[0m\u001b[0;34m,\u001b[0m \u001b[0;34m(\u001b[0m\u001b[0mout\u001b[0m\u001b[0;34m.\u001b[0m\u001b[0mshape\u001b[0m\u001b[0;34m[\u001b[0m\u001b[0;36m0\u001b[0m\u001b[0;34m]\u001b[0m\u001b[0;34m,\u001b[0m \u001b[0;36m1\u001b[0m\u001b[0;34m)\u001b[0m\u001b[0;34m)\u001b[0m\u001b[0;34m\u001b[0m\u001b[0;34m\u001b[0m\u001b[0m\n\u001b[1;32m    330\u001b[0m \u001b[0;34m\u001b[0m\u001b[0m\n",
      "\u001b[0;32m~/neuravi/neuravi.py\u001b[0m in \u001b[0;36mforward\u001b[0;34m(self, x)\u001b[0m\n\u001b[1;32m    257\u001b[0m         \u001b[0;34m\"\"\"foward pass in core neural network\"\"\"\u001b[0m\u001b[0;34m\u001b[0m\u001b[0;34m\u001b[0m\u001b[0m\n\u001b[1;32m    258\u001b[0m         \u001b[0;32mfor\u001b[0m \u001b[0mlayer\u001b[0m \u001b[0;32min\u001b[0m \u001b[0mself\u001b[0m\u001b[0;34m.\u001b[0m\u001b[0mlinears\u001b[0m\u001b[0;34m:\u001b[0m \u001b[0;31m# Feedforward\u001b[0m\u001b[0;34m\u001b[0m\u001b[0;34m\u001b[0m\u001b[0m\n\u001b[0;32m--> 259\u001b[0;31m             \u001b[0mx\u001b[0m \u001b[0;34m=\u001b[0m \u001b[0mself\u001b[0m\u001b[0;34m.\u001b[0m\u001b[0mdropout\u001b[0m\u001b[0;34m(\u001b[0m\u001b[0mself\u001b[0m\u001b[0;34m.\u001b[0m\u001b[0mrelu\u001b[0m\u001b[0;34m(\u001b[0m\u001b[0mlayer\u001b[0m\u001b[0;34m(\u001b[0m\u001b[0mx\u001b[0m\u001b[0;34m)\u001b[0m\u001b[0;34m)\u001b[0m\u001b[0;34m)\u001b[0m\u001b[0;34m\u001b[0m\u001b[0;34m\u001b[0m\u001b[0m\n\u001b[0m\u001b[1;32m    260\u001b[0m         \u001b[0;32mreturn\u001b[0m \u001b[0mx\u001b[0m\u001b[0;34m\u001b[0m\u001b[0;34m\u001b[0m\u001b[0m\n\u001b[1;32m    261\u001b[0m \u001b[0;34m\u001b[0m\u001b[0m\n",
      "\u001b[0;32m~/anaconda3/envs/ml/lib/python3.7/site-packages/torch/nn/modules/module.py\u001b[0m in \u001b[0;36m__call__\u001b[0;34m(self, *input, **kwargs)\u001b[0m\n\u001b[1;32m    545\u001b[0m             \u001b[0mresult\u001b[0m \u001b[0;34m=\u001b[0m \u001b[0mself\u001b[0m\u001b[0;34m.\u001b[0m\u001b[0m_slow_forward\u001b[0m\u001b[0;34m(\u001b[0m\u001b[0;34m*\u001b[0m\u001b[0minput\u001b[0m\u001b[0;34m,\u001b[0m \u001b[0;34m**\u001b[0m\u001b[0mkwargs\u001b[0m\u001b[0;34m)\u001b[0m\u001b[0;34m\u001b[0m\u001b[0;34m\u001b[0m\u001b[0m\n\u001b[1;32m    546\u001b[0m         \u001b[0;32melse\u001b[0m\u001b[0;34m:\u001b[0m\u001b[0;34m\u001b[0m\u001b[0;34m\u001b[0m\u001b[0m\n\u001b[0;32m--> 547\u001b[0;31m             \u001b[0mresult\u001b[0m \u001b[0;34m=\u001b[0m \u001b[0mself\u001b[0m\u001b[0;34m.\u001b[0m\u001b[0mforward\u001b[0m\u001b[0;34m(\u001b[0m\u001b[0;34m*\u001b[0m\u001b[0minput\u001b[0m\u001b[0;34m,\u001b[0m \u001b[0;34m**\u001b[0m\u001b[0mkwargs\u001b[0m\u001b[0;34m)\u001b[0m\u001b[0;34m\u001b[0m\u001b[0;34m\u001b[0m\u001b[0m\n\u001b[0m\u001b[1;32m    548\u001b[0m         \u001b[0;32mfor\u001b[0m \u001b[0mhook\u001b[0m \u001b[0;32min\u001b[0m \u001b[0mself\u001b[0m\u001b[0;34m.\u001b[0m\u001b[0m_forward_hooks\u001b[0m\u001b[0;34m.\u001b[0m\u001b[0mvalues\u001b[0m\u001b[0;34m(\u001b[0m\u001b[0;34m)\u001b[0m\u001b[0;34m:\u001b[0m\u001b[0;34m\u001b[0m\u001b[0;34m\u001b[0m\u001b[0m\n\u001b[1;32m    549\u001b[0m             \u001b[0mhook_result\u001b[0m \u001b[0;34m=\u001b[0m \u001b[0mhook\u001b[0m\u001b[0;34m(\u001b[0m\u001b[0mself\u001b[0m\u001b[0;34m,\u001b[0m \u001b[0minput\u001b[0m\u001b[0;34m,\u001b[0m \u001b[0mresult\u001b[0m\u001b[0;34m)\u001b[0m\u001b[0;34m\u001b[0m\u001b[0;34m\u001b[0m\u001b[0m\n",
      "\u001b[0;32m~/anaconda3/envs/ml/lib/python3.7/site-packages/torch/nn/modules/linear.py\u001b[0m in \u001b[0;36mforward\u001b[0;34m(self, input)\u001b[0m\n\u001b[1;32m     85\u001b[0m \u001b[0;34m\u001b[0m\u001b[0m\n\u001b[1;32m     86\u001b[0m     \u001b[0;32mdef\u001b[0m \u001b[0mforward\u001b[0m\u001b[0;34m(\u001b[0m\u001b[0mself\u001b[0m\u001b[0;34m,\u001b[0m \u001b[0minput\u001b[0m\u001b[0;34m)\u001b[0m\u001b[0;34m:\u001b[0m\u001b[0;34m\u001b[0m\u001b[0;34m\u001b[0m\u001b[0m\n\u001b[0;32m---> 87\u001b[0;31m         \u001b[0;32mreturn\u001b[0m \u001b[0mF\u001b[0m\u001b[0;34m.\u001b[0m\u001b[0mlinear\u001b[0m\u001b[0;34m(\u001b[0m\u001b[0minput\u001b[0m\u001b[0;34m,\u001b[0m \u001b[0mself\u001b[0m\u001b[0;34m.\u001b[0m\u001b[0mweight\u001b[0m\u001b[0;34m,\u001b[0m \u001b[0mself\u001b[0m\u001b[0;34m.\u001b[0m\u001b[0mbias\u001b[0m\u001b[0;34m)\u001b[0m\u001b[0;34m\u001b[0m\u001b[0;34m\u001b[0m\u001b[0m\n\u001b[0m\u001b[1;32m     88\u001b[0m \u001b[0;34m\u001b[0m\u001b[0m\n\u001b[1;32m     89\u001b[0m     \u001b[0;32mdef\u001b[0m \u001b[0mextra_repr\u001b[0m\u001b[0;34m(\u001b[0m\u001b[0mself\u001b[0m\u001b[0;34m)\u001b[0m\u001b[0;34m:\u001b[0m\u001b[0;34m\u001b[0m\u001b[0;34m\u001b[0m\u001b[0m\n",
      "\u001b[0;32m~/anaconda3/envs/ml/lib/python3.7/site-packages/torch/nn/functional.py\u001b[0m in \u001b[0;36mlinear\u001b[0;34m(input, weight, bias)\u001b[0m\n\u001b[1;32m   1367\u001b[0m     \u001b[0;32mif\u001b[0m \u001b[0minput\u001b[0m\u001b[0;34m.\u001b[0m\u001b[0mdim\u001b[0m\u001b[0;34m(\u001b[0m\u001b[0;34m)\u001b[0m \u001b[0;34m==\u001b[0m \u001b[0;36m2\u001b[0m \u001b[0;32mand\u001b[0m \u001b[0mbias\u001b[0m \u001b[0;32mis\u001b[0m \u001b[0;32mnot\u001b[0m \u001b[0;32mNone\u001b[0m\u001b[0;34m:\u001b[0m\u001b[0;34m\u001b[0m\u001b[0;34m\u001b[0m\u001b[0m\n\u001b[1;32m   1368\u001b[0m         \u001b[0;31m# fused op is marginally faster\u001b[0m\u001b[0;34m\u001b[0m\u001b[0;34m\u001b[0m\u001b[0;34m\u001b[0m\u001b[0m\n\u001b[0;32m-> 1369\u001b[0;31m         \u001b[0mret\u001b[0m \u001b[0;34m=\u001b[0m \u001b[0mtorch\u001b[0m\u001b[0;34m.\u001b[0m\u001b[0maddmm\u001b[0m\u001b[0;34m(\u001b[0m\u001b[0mbias\u001b[0m\u001b[0;34m,\u001b[0m \u001b[0minput\u001b[0m\u001b[0;34m,\u001b[0m \u001b[0mweight\u001b[0m\u001b[0;34m.\u001b[0m\u001b[0mt\u001b[0m\u001b[0;34m(\u001b[0m\u001b[0;34m)\u001b[0m\u001b[0;34m)\u001b[0m\u001b[0;34m\u001b[0m\u001b[0;34m\u001b[0m\u001b[0m\n\u001b[0m\u001b[1;32m   1370\u001b[0m     \u001b[0;32melse\u001b[0m\u001b[0;34m:\u001b[0m\u001b[0;34m\u001b[0m\u001b[0;34m\u001b[0m\u001b[0m\n\u001b[1;32m   1371\u001b[0m         \u001b[0moutput\u001b[0m \u001b[0;34m=\u001b[0m \u001b[0minput\u001b[0m\u001b[0;34m.\u001b[0m\u001b[0mmatmul\u001b[0m\u001b[0;34m(\u001b[0m\u001b[0mweight\u001b[0m\u001b[0;34m.\u001b[0m\u001b[0mt\u001b[0m\u001b[0;34m(\u001b[0m\u001b[0;34m)\u001b[0m\u001b[0;34m)\u001b[0m\u001b[0;34m\u001b[0m\u001b[0;34m\u001b[0m\u001b[0m\n",
      "\u001b[0;31mKeyboardInterrupt\u001b[0m: "
     ]
    }
   ],
   "source": [
    "#\n",
    "# Parameters\n",
    "#\n",
    "nb_exp = 10\n",
    "nb_neurons = 300\n",
    "nb_layers = 4\n",
    "p_drop = 0.4\n",
    "\n",
    "# custom data loader, automatically sent to device\n",
    "ds = neuravi.data_loader(\"./data/DataSet_0p20val.hdf5\",\n",
    "                         \"./data/NKAS_Raman.hdf5\",\n",
    "                         \"./data/NKAS_density.hdf5\",\n",
    "                         \"./data/NKAS_optical.hdf5\",\n",
    "                         device)\n",
    "\n",
    "for i in tqdm(range(nb_exp)):\n",
    "    # name for saving\n",
    "    name = \"./model/best/l\"+str(nb_layers)+\"_n\"+str(nb_neurons)+\"_p\"+str(p_drop)+\"_no\"+str(i+1)+\".pth\"\n",
    "    \n",
    "    # declaring model\n",
    "    neuralmodel = neuravi.model(4,nb_neurons,nb_layers,ds.nb_channels_raman,p_drop=p_drop) \n",
    "\n",
    "    # criterion for match\n",
    "    criterion = torch.nn.MSELoss()\n",
    "    criterion.to(device) # sending criterion on device\n",
    "    optimizer = torch.optim.Adam(neuralmodel.parameters(), lr = 0.0001) # optimizer\n",
    "\n",
    "    # we initialize the output bias and send the neural net on device\n",
    "    neuralmodel.output_bias_init()\n",
    "    neuralmodel.to(device)\n",
    "    \n",
    "    #\n",
    "    # PRETRAINING\n",
    "    #\n",
    "    neuralmodel, record_pretrain_loss, record_prevalid_loss = neuravi.training(neuralmodel,ds,criterion,optimizer,name, mode=\"pretrain\",verbose=False)\n",
    "                \n",
    "    #\n",
    "    # TRAINING\n",
    "    #\n",
    "    neuralmodel, record_train_loss, record_valid_loss = neuravi.training(neuralmodel,ds,criterion,optimizer,name,train_patience=500,min_delta=0.1,verbose=True)\n"
   ]
  },
  {
   "cell_type": "code",
   "execution_count": 6,
   "metadata": {
    "colab": {},
    "colab_type": "code",
    "id": "AtDJXlnC3jWP"
   },
   "outputs": [
    {
     "data": {
      "text/plain": [
       "[<matplotlib.lines.Line2D at 0x7fe7ed5459d0>]"
      ]
     },
     "execution_count": 6,
     "metadata": {},
     "output_type": "execute_result"
    },
    {
     "data": {
      "image/png": "[encoded data removed]",
      "text/plain": [
       "<Figure size 432x288 with 1 Axes>"
      ]
     },
     "metadata": {
      "needs_background": "light"
     },
     "output_type": "display_data"
    }
   ],
   "source": []
  },
  {
   "cell_type": "code",
   "execution_count": null,
   "metadata": {},
   "outputs": [],
   "source": []
  }
 ],
 "metadata": {
  "accelerator": "GPU",
  "colab": {
   "collapsed_sections": [],
   "name": "Pytorch_model_dev2.ipynb",
   "provenance": [],
   "toc_visible": true,
   "version": "0.3.2"
  },
  "kernelspec": {
   "display_name": "Python 3",
   "language": "python",
   "name": "python3"
  },
  "language_info": {
   "codemirror_mode": {
    "name": "ipython",
    "version": 3
   },
   "file_extension": ".py",
   "mimetype": "text/x-python",
   "name": "python",
   "nbconvert_exporter": "python",
   "pygments_lexer": "ipython3",
   "version": "3.7.4"
  }
 },
 "nbformat": 4,
 "nbformat_minor": 1
}
