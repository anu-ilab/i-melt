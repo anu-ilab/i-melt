{
 "cells": [
  {
   "cell_type": "code",
   "execution_count": 1,
   "metadata": {},
   "outputs": [],
   "source": [
    "# (c) Charles Le Losq 2021\n",
    "# see embedded licence file\n",
    "\n",
    "import numpy as np\n",
    "import scipy\n",
    "from scipy.optimize import curve_fit\n",
    "import matplotlib\n",
    "import matplotlib.pyplot as plt\n",
    "import pandas as pd\n",
    "import uncertainties\n",
    "from uncertainties import ufloat\n",
    "from uncertainties.umath import *"
   ]
  },
  {
   "cell_type": "markdown",
   "metadata": {},
   "source": [
    "# VFT fit of alumina viscosity data"
   ]
  },
  {
   "cell_type": "code",
   "execution_count": 2,
   "metadata": {},
   "outputs": [
    {
     "name": "stdout",
     "output_type": "stream",
     "text": [
      "A_TVF = -2.8 +/- 0.1, B_TVF = 1842 +/- 176, C_TVF = 1035 +/- 19\n",
      "Ae_MYEGA = -2.3 +/- 0.1, m_MYEGA = 71 +/- 3, Tg_MYEGA = 1148 +/- 23\n"
     ]
    },
    {
     "data": {
      "image/png": "[encoded data removed]",
      "text/plain": [
       "<Figure size 432x288 with 1 Axes>"
      ]
     },
     "metadata": {
      "needs_background": "light"
     },
     "output_type": "display_data"
    }
   ],
   "source": [
    "# grab the good viscosity data\n",
    "al2o3_data = pd.read_excel(\"./data/Database_IPGP.xlsx\", sheet_name=\"AL2O3_VISCOSITY\")\n",
    "\n",
    "# assignement of simple variables to handle\n",
    "x = al2o3_data.loc[:,'T'].values\n",
    "y = al2o3_data.loc[:,'viscosity'].values\n",
    "# for simplicity we take a 2% error on HT measurements (Urbain et al. 1982), and 10% for the last single point at 1173 K\n",
    "sigma = 0.02*y \n",
    "sigma[-1] = 0.1*y[-1] #1173 K point is the last...\n",
    "\n",
    "# define the TVF equation and fit it to data\n",
    "def tvf(x,A,B,C):\n",
    "    return A + B/(x-C)\n",
    "\n",
    "def MYEGA(x,Ae,m,Tg):\n",
    "    return Ae + (12.0 - Ae)*(Tg/x)*np.exp((m/(12.0-Ae)-1.0)*(Tg/x-1.0))\n",
    "\n",
    "popt, pcov = curve_fit(tvf, x, y, p0 = (-2., 1800, 1000), sigma = sigma)\n",
    "perr = np.sqrt(np.diag(pcov))\n",
    "\n",
    "popt_MYEGA, pcov_MYEGA = curve_fit(MYEGA, x, y, p0 = (-2.8, 40, 1165), sigma = sigma)\n",
    "perr_MYEGA = np.sqrt(np.diag(pcov_MYEGA))\n",
    "\n",
    "# make a plot\n",
    "plt.plot(x,y,'s',label='data')\n",
    "T_int = np.arange(1100, 2900, 1.0)\n",
    "plt.plot(T_int, tvf(T_int, *popt),label='TVF')\n",
    "plt.plot(T_int, MYEGA(T_int, *popt_MYEGA),label='MYEGA')\n",
    "plt.xlabel('Temperature, K')\n",
    "plt.ylabel('Viscosity, log Pa s')\n",
    "plt.legend(loc='best')\n",
    "\n",
    "print('A_TVF = {:.1f} +/- {:.1f}, B_TVF = {:.0f} +/- {:.0f}, C_TVF = {:.0f} +/- {:.0f}'.format(popt[0], perr[0],\n",
    "                                                                       popt[1], perr[1],\n",
    "                                                                       popt[2], perr[2]\n",
    "                                                                        ))\n",
    "\n",
    "print('Ae_MYEGA = {:.1f} +/- {:.1f}, m_MYEGA = {:.0f} +/- {:.0f}, Tg_MYEGA = {:.0f} +/- {:.0f}'.format(popt_MYEGA[0], perr_MYEGA[0],\n",
    "                                                                       popt_MYEGA[1], perr_MYEGA[1],\n",
    "                                                                       popt_MYEGA[2], perr_MYEGA[2]\n",
    "                                                                        ))"
   ]
  },
  {
   "cell_type": "markdown",
   "metadata": {},
   "source": [
    "# Tg determination"
   ]
  },
  {
   "cell_type": "code",
   "execution_count": 3,
   "metadata": {},
   "outputs": [
    {
     "name": "stdout",
     "output_type": "stream",
     "text": [
      "Calculated Tg (with error propagation) is: 1160+/-23 K\n"
     ]
    }
   ],
   "source": [
    "A_TVF = ufloat(popt[0], perr[0])\n",
    "B_TVF = ufloat(popt[1], perr[1])\n",
    "C_TVF = ufloat(popt[2], perr[2])\n",
    "\n",
    "print(\"Calculated Tg (with error propagation) is: {} K\".format((B_TVF/(12.0-A_TVF))+C_TVF))"
   ]
  },
  {
   "cell_type": "code",
   "execution_count": 4,
   "metadata": {},
   "outputs": [
    {
     "data": {
      "text/plain": [
       "11.990598391891416"
      ]
     },
     "execution_count": 4,
     "metadata": {},
     "output_type": "execute_result"
    }
   ],
   "source": [
    "tvf(1160\n",
    "    ,*popt)"
   ]
  },
  {
   "cell_type": "code",
   "execution_count": null,
   "metadata": {},
   "outputs": [],
   "source": []
  }
 ],
 "metadata": {
  "kernelspec": {
   "display_name": "Python 3",
   "language": "python",
   "name": "python3"
  },
  "language_info": {
   "codemirror_mode": {
    "name": "ipython",
    "version": 3
   },
   "file_extension": ".py",
   "mimetype": "text/x-python",
   "name": "python",
   "nbconvert_exporter": "python",
   "pygments_lexer": "ipython3",
   "version": "3.7.7"
  }
 },
 "nbformat": 4,
 "nbformat_minor": 4
}
