{
 "cells": [
  {
   "cell_type": "code",
   "execution_count": 1,
   "metadata": {},
   "outputs": [],
   "source": [
    "########## Calling relevant libraries ##########\n",
    "%matplotlib inline\n",
    "import numpy as np\n",
    "from sklearn.metrics import mean_squared_error\n",
    "import scipy\n",
    "\n",
    "import tensorflow as tf\n",
    "\n",
    "import pandas as pd\n",
    "import rampy as rp\n",
    "\n",
    "import sklearn\n",
    "import sklearn.model_selection as model_selection\n",
    "from sklearn.neural_network import MLPRegressor\n",
    "from sklearn.preprocessing import StandardScaler\n",
    "from sklearn.ensemble import BaggingRegressor\n",
    "\n",
    "from sklearn.externals import joblib\n",
    "import sqlite3"
   ]
  },
  {
   "cell_type": "code",
   "execution_count": 2,
   "metadata": {},
   "outputs": [],
   "source": [
    "#\n",
    "con = sqlite3.connect('./data/viscosity.sqlite')\n",
    "\n",
    "dataset = pd.read_sql_query(\"SELECT * from viscosity\", con)\n",
    "con.close() # closing the sql connection\n",
    "\n"
   ]
  },
  {
   "cell_type": "code",
   "execution_count": 3,
   "metadata": {},
   "outputs": [],
   "source": [
    "tv_sub, test_sub, idxtv_sub, idxtest_sub = rp.chemical_splitting(dataset,'Name',0.15)\n",
    "valid_sub, train_sub, idxvalid_sub, idxtrain_sub = rp.chemical_splitting(tv_sub,'Name',0.85)\n",
    "\n",
    "y_train = train_sub[\"viscosity\"].values.reshape(-1,1)\n",
    "y_valid = valid_sub[\"viscosity\"].values.reshape(-1,1)\n",
    "y_test = test_sub[\"viscosity\"].values.reshape(-1,1)\n",
    "\n",
    "X_train = train_sub.loc[:,\"sio2\":\"T\"].values\n",
    "X_valid = valid_sub.loc[:,\"sio2\":\"T\"].values\n",
    "X_test = test_sub.loc[:,\"sio2\":\"T\"].values"
   ]
  },
  {
   "cell_type": "code",
   "execution_count": 4,
   "metadata": {},
   "outputs": [],
   "source": [
    "# parameters for neural net\n",
    "prm_nn = dict(hidden_layer_sizes=(10,5,),solver = 'lbfgs',activation='relu',early_stopping=True)\n",
    "param_b = dict(n_estimators=10, max_samples=1.0, max_features=1.0, bootstrap=True, bootstrap_features=False, oob_score=False, warm_start=False, n_jobs=1, verbose=0)\n",
    "\n",
    "model = rp.mlregressor(X_train,y_train,algorithm=\"BaggingNeuralNet\",\n",
    "                                                                 X_test=X_test, y_test=y_test, scaler = \"StandardScaler\",param_neurons=prm_nn,param_bagging=param_b,rand_state=100)\n",
    "\n",
    "model.fit()\n",
    "# we grab the scaling from rp.mlregressor"
   ]
  },
  {
   "cell_type": "code",
   "execution_count": 5,
   "metadata": {},
   "outputs": [],
   "source": [
    "X_train_sc = model.X_scaler.transform(X_train)\n",
    "y_train_sc = model.Y_scaler.transform(y_train.reshape(-1,1))\n",
    "\n",
    "X_valid_sc = model.X_scaler.transform(X_valid)\n",
    "y_valid_sc = model.Y_scaler.transform(y_valid.reshape(-1,1))\n",
    "\n",
    "X_test_sc = model.X_scaler.transform(X_test)\n",
    "y_test_sc = model.Y_scaler.transform(y_test.reshape(-1,1))"
   ]
  },
  {
   "cell_type": "code",
   "execution_count": 6,
   "metadata": {},
   "outputs": [
    {
     "name": "stdout",
     "output_type": "stream",
     "text": [
      "training and testing RMSE with neural nets\n",
      "0.40678684672309756\n",
      "0.5218150877142917\n"
     ]
    }
   ],
   "source": [
    "MSE_NN_train = np.sqrt(mean_squared_error(y_train, model.prediction_train))\n",
    "MSE_NN_test = np.sqrt(mean_squared_error(y_test, model.prediction_test))\n",
    "\n",
    "print(\"training and testing RMSE with neural nets\")\n",
    "print(MSE_NN_train)\n",
    "print(MSE_NN_test)\n"
   ]
  },
  {
   "cell_type": "code",
   "execution_count": 7,
   "metadata": {},
   "outputs": [
    {
     "name": "stdout",
     "output_type": "stream",
     "text": [
      "X training set shape, unscaled and scaled\n",
      "(4296, 15)\n",
      "(4296, 15)\n",
      "X valid set shape, unscaled and scaled\n",
      "(835, 15)\n",
      "(835, 15)\n",
      "X test set shape, unscaled and scaled\n",
      "(792, 15)\n",
      "(792, 15)\n"
     ]
    }
   ],
   "source": [
    "print(\"X training set shape, unscaled and scaled\")\n",
    "print(X_train.shape)\n",
    "print(X_train_sc.shape)\n",
    "\n",
    "print(\"X valid set shape, unscaled and scaled\")\n",
    "print(X_valid.shape)\n",
    "print(X_valid_sc.shape)\n",
    "\n",
    "print(\"X test set shape, unscaled and scaled\")\n",
    "print(X_test.shape)\n",
    "print(X_test_sc.shape)"
   ]
  },
  {
   "cell_type": "code",
   "execution_count": 8,
   "metadata": {},
   "outputs": [
    {
     "data": {
      "text/plain": [
       "['./data/y_scaler.pkl']"
      ]
     },
     "execution_count": 8,
     "metadata": {},
     "output_type": "execute_result"
    }
   ],
   "source": [
    "joblib.dump(X_train, \"./data/X_train.pkl\")\n",
    "joblib.dump(X_valid, \"./data/X_valid.pkl\")\n",
    "joblib.dump(X_test, \"./data/X_test.pkl\")\n",
    "\n",
    "joblib.dump(X_train_sc, \"./data/X_train_sc.pkl\")\n",
    "joblib.dump(X_valid_sc, \"./data/X_valid_sc.pkl\")\n",
    "joblib.dump(X_test_sc, \"./data/X_test_sc.pkl\")\n",
    "\n",
    "joblib.dump(y_train, \"./data/y_train.pkl\")\n",
    "joblib.dump(y_valid, \"./data/y_valid.pkl\")\n",
    "joblib.dump(y_test, \"./data/y_test.pkl\")\n",
    "\n",
    "joblib.dump(y_train_sc, \"./data/y_train_sc.pkl\")\n",
    "joblib.dump(y_valid_sc, \"./data/y_valid_sc.pkl\")\n",
    "joblib.dump(y_test_sc, \"./data/y_test_sc.pkl\")\n",
    "\n",
    "joblib.dump(model.X_scaler,\"./data/X_scaler.pkl\")\n",
    "joblib.dump(model.Y_scaler,\"./data/y_scaler.pkl\")"
   ]
  },
  {
   "cell_type": "code",
   "execution_count": null,
   "metadata": {},
   "outputs": [],
   "source": []
  }
 ],
 "metadata": {
  "kernelspec": {
   "display_name": "Python 3",
   "language": "python",
   "name": "python3"
  },
  "language_info": {
   "codemirror_mode": {
    "name": "ipython",
    "version": 3
   },
   "file_extension": ".py",
   "mimetype": "text/x-python",
   "name": "python",
   "nbconvert_exporter": "python",
   "pygments_lexer": "ipython3",
   "version": "3.6.7"
  }
 },
 "nbformat": 4,
 "nbformat_minor": 2
}
