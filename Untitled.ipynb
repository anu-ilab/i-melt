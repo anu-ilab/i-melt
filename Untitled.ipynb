{
 "cells": [
  {
   "cell_type": "code",
   "execution_count": 10,
   "metadata": {},
   "outputs": [],
   "source": [
    "N=1\n",
    "alpha_1 = ['A','B','C','D',' ']\n",
    "\n",
    "convert = []\n",
    "\n",
    "for i in alpha_1:\n",
    "    convert.append(chr(ord(i)+N))"
   ]
  },
  {
   "cell_type": "code",
   "execution_count": 11,
   "metadata": {},
   "outputs": [
    {
     "data": {
      "text/plain": [
       "['B', 'C', 'D', 'E', '!']"
      ]
     },
     "execution_count": 11,
     "metadata": {},
     "output_type": "execute_result"
    }
   ],
   "source": [
    "convert"
   ]
  },
  {
   "cell_type": "code",
   "execution_count": 12,
   "metadata": {},
   "outputs": [
    {
     "data": {
      "text/plain": [
       "['A', 'B', 'C', 'D', ' ']"
      ]
     },
     "execution_count": 12,
     "metadata": {},
     "output_type": "execute_result"
    }
   ],
   "source": [
    "alpha_1\n"
   ]
  },
  {
   "cell_type": "code",
   "execution_count": 13,
   "metadata": {},
   "outputs": [
    {
     "data": {
      "text/plain": [
       "['B', 'C', 'D', 'E', '!']"
      ]
     },
     "execution_count": 13,
     "metadata": {},
     "output_type": "execute_result"
    }
   ],
   "source": [
    "convert"
   ]
  },
  {
   "cell_type": "code",
   "execution_count": 15,
   "metadata": {},
   "outputs": [
    {
     "data": {
      "text/plain": [
       "['C', ' ', 'B', 'A']"
      ]
     },
     "execution_count": 15,
     "metadata": {},
     "output_type": "execute_result"
    }
   ],
   "source": [
    "sentence = 'C BA'\n",
    "\n",
    "list(sentence)"
   ]
  },
  {
   "cell_type": "code",
   "execution_count": 30,
   "metadata": {},
   "outputs": [],
   "source": [
    "convertion = []\n",
    "\n",
    "def alphabet(N):\n",
    "    alpha = ['A','B','C','D',' ']\n",
    "    \n",
    "    converted_alpha = []\n",
    "\n",
    "    for i in alpha:\n",
    "        converted_alpha.append(chr(ord(i)+N))\n",
    "        \n",
    "    return alpha, converted_alpha\n",
    "\n",
    "def encoding(sentence,N):\n",
    "\n",
    "    alpha, converted_alpha = alphabet(N)\n",
    "    convertion = []\n",
    "    \n",
    "    for i in sentence:\n",
    "        for position,letter in enumerate(alpha):\n",
    "            if i == letter:\n",
    "                convertion.append(converted_alpha[position])\n",
    "                \n",
    "    return convertion\n",
    "\n",
    "def decoding(sentence,N):\n",
    "\n",
    "    alpha, converted_alpha = alphabet(N)\n",
    "    convertion = []\n",
    "    \n",
    "    for i in sentence:\n",
    "        for position,letter in enumerate(converted_alpha):\n",
    "            if i == letter:\n",
    "                convertion.append(alpha[position])\n",
    "    return convertion \n",
    "    \n",
    "def cipher(sentence,N,way):\n",
    "    \n",
    "    if way == \"encoding\":\n",
    "        convertion = encoding(sentence,N)\n",
    "    elif way == \"decoding\":\n",
    "        convertion = decoding(sentence,N)\n",
    "    else: \n",
    "        print(\"Choose\")\n",
    "        \n",
    "    return convertion"
   ]
  },
  {
   "cell_type": "code",
   "execution_count": 31,
   "metadata": {},
   "outputs": [
    {
     "data": {
      "text/plain": [
       "['A', 'B']"
      ]
     },
     "execution_count": 31,
     "metadata": {},
     "output_type": "execute_result"
    }
   ],
   "source": [
    "cipher(\"BC\",1,\"decoding\")"
   ]
  },
  {
   "cell_type": "code",
   "execution_count": 24,
   "metadata": {},
   "outputs": [
    {
     "data": {
      "text/plain": [
       "['D', '!', 'C', 'B']"
      ]
     },
     "execution_count": 24,
     "metadata": {},
     "output_type": "execute_result"
    }
   ],
   "source": [
    "convertion"
   ]
  },
  {
   "cell_type": "code",
   "execution_count": 6,
   "metadata": {},
   "outputs": [
    {
     "data": {
      "text/plain": [
       "65"
      ]
     },
     "execution_count": 6,
     "metadata": {},
     "output_type": "execute_result"
    }
   ],
   "source": [
    "ord('A')"
   ]
  },
  {
   "cell_type": "code",
   "execution_count": null,
   "metadata": {},
   "outputs": [],
   "source": []
  },
  {
   "cell_type": "code",
   "execution_count": 28,
   "metadata": {},
   "outputs": [
    {
     "ename": "Pkg.Types.PkgError",
     "evalue": "The following package names could not be resolved:\n * Benchmarks (not found in project, manifest or registry)\nPlease specify by known `name=uuid`.",
     "output_type": "error",
     "traceback": [
      "The following package names could not be resolved:\n * Benchmarks (not found in project, manifest or registry)\nPlease specify by known `name=uuid`.",
      "",
      "Stacktrace:",
      " [1] pkgerror(::String) at /buildworker/worker/package_linux64/build/usr/share/julia/stdlib/v1.1/Pkg/src/Types.jl:120",
      " [2] #ensure_resolved#72(::Bool, ::Function, ::Pkg.Types.EnvCache, ::Array{Pkg.Types.PackageSpec,1}) at /buildworker/worker/package_linux64/build/usr/share/julia/stdlib/v1.1/Pkg/src/Types.jl:1010",
      " [3] #ensure_resolved at ./none:0 [inlined]",
      " [4] #add_or_develop#15(::Symbol, ::Bool, ::Base.Iterators.Pairs{Union{},Union{},Tuple{},NamedTuple{(),Tuple{}}}, ::Function, ::Pkg.Types.Context, ::Array{Pkg.Types.PackageSpec,1}) at /buildworker/worker/package_linux64/build/usr/share/julia/stdlib/v1.1/Pkg/src/API.jl:49",
      " [5] #add_or_develop at ./none:0 [inlined]",
      " [6] #add_or_develop#14 at /buildworker/worker/package_linux64/build/usr/share/julia/stdlib/v1.1/Pkg/src/API.jl:31 [inlined]",
      " [7] #add_or_develop at ./none:0 [inlined]",
      " [8] #add_or_develop#13 at /buildworker/worker/package_linux64/build/usr/share/julia/stdlib/v1.1/Pkg/src/API.jl:29 [inlined]",
      " [9] #add_or_develop at ./none:0 [inlined]",
      " [10] #add_or_develop#12(::Base.Iterators.Pairs{Symbol,Symbol,Tuple{Symbol},NamedTuple{(:mode,),Tuple{Symbol}}}, ::Function, ::String) at /buildworker/worker/package_linux64/build/usr/share/julia/stdlib/v1.1/Pkg/src/API.jl:28",
      " [11] #add_or_develop at ./none:0 [inlined]",
      " [12] #add#20 at /buildworker/worker/package_linux64/build/usr/share/julia/stdlib/v1.1/Pkg/src/API.jl:59 [inlined]",
      " [13] add(::String) at /buildworker/worker/package_linux64/build/usr/share/julia/stdlib/v1.1/Pkg/src/API.jl:59",
      " [14] top-level scope at In[28]:1"
     ]
    }
   ],
   "source": [
    "import Pkg; Pkg.add(\"Benchmarks\")\n",
    "using Benchmarks\n"
   ]
  },
  {
   "cell_type": "code",
   "execution_count": 57,
   "metadata": {},
   "outputs": [
    {
     "data": {
      "text/plain": [
       "loglike_array (generic function with 1 method)"
      ]
     },
     "execution_count": 57,
     "metadata": {},
     "output_type": "execute_result"
    }
   ],
   "source": [
    "function loglike_array(x::Array{Float64,1},mean::Float64,std::Float64)\n",
    "    y::Array{Float64,1} = -0.5.*((x.-mean).^2.0./std.^2)\n",
    "    return y\n",
    "end"
   ]
  },
  {
   "cell_type": "code",
   "execution_count": 58,
   "metadata": {},
   "outputs": [
    {
     "data": {
      "text/plain": [
       "loglike (generic function with 3 methods)"
      ]
     },
     "execution_count": 58,
     "metadata": {},
     "output_type": "execute_result"
    }
   ],
   "source": [
    "function loglike(x::Array{Float64,1},mean::Float64,std::Float64)\n",
    "    y = zeros(Float64,size(x,1))\n",
    "    for i in 1:1:size(x,1)\n",
    "        y[i] = -0.5*((x[i].-mean).^2.0./std.^2)\n",
    "    end\n",
    "    return y\n",
    "end"
   ]
  },
  {
   "cell_type": "code",
   "execution_count": 59,
   "metadata": {},
   "outputs": [],
   "source": [
    "x = collect(0:1.0:100);"
   ]
  },
  {
   "cell_type": "code",
   "execution_count": 61,
   "metadata": {},
   "outputs": [
    {
     "name": "stdout",
     "output_type": "stream",
     "text": [
      "  0.000012 seconds (6 allocations: 1.063 KiB)\n"
     ]
    },
    {
     "data": {
      "text/plain": [
       "101-element Array{Float64,1}:\n",
       " -12.5  \n",
       " -12.005\n",
       " -11.52 \n",
       " -11.045\n",
       " -10.58 \n",
       " -10.125\n",
       "  -9.68 \n",
       "  -9.245\n",
       "  -8.82 \n",
       "  -8.405\n",
       "  -8.0  \n",
       "  -7.605\n",
       "  -7.22 \n",
       "   ⋮    \n",
       "  -7.605\n",
       "  -8.0  \n",
       "  -8.405\n",
       "  -8.82 \n",
       "  -9.245\n",
       "  -9.68 \n",
       " -10.125\n",
       " -10.58 \n",
       " -11.045\n",
       " -11.52 \n",
       " -12.005\n",
       " -12.5  "
      ]
     },
     "execution_count": 61,
     "metadata": {},
     "output_type": "execute_result"
    }
   ],
   "source": [
    "@time begin\n",
    "y = loglike_array(x,50.0,10.0)\n",
    "end"
   ]
  },
  {
   "cell_type": "code",
   "execution_count": 63,
   "metadata": {},
   "outputs": [
    {
     "name": "stdout",
     "output_type": "stream",
     "text": [
      "  0.000006 seconds (5 allocations: 1.031 KiB)\n"
     ]
    },
    {
     "data": {
      "text/plain": [
       "101-element Array{Float64,1}:\n",
       " -12.5  \n",
       " -12.005\n",
       " -11.52 \n",
       " -11.045\n",
       " -10.58 \n",
       " -10.125\n",
       "  -9.68 \n",
       "  -9.245\n",
       "  -8.82 \n",
       "  -8.405\n",
       "  -8.0  \n",
       "  -7.605\n",
       "  -7.22 \n",
       "   ⋮    \n",
       "  -7.605\n",
       "  -8.0  \n",
       "  -8.405\n",
       "  -8.82 \n",
       "  -9.245\n",
       "  -9.68 \n",
       " -10.125\n",
       " -10.58 \n",
       " -11.045\n",
       " -11.52 \n",
       " -12.005\n",
       " -12.5  "
      ]
     },
     "execution_count": 63,
     "metadata": {},
     "output_type": "execute_result"
    }
   ],
   "source": [
    "@time begin\n",
    "y = loglike(x,50.0,10.0)\n",
    "end"
   ]
  },
  {
   "cell_type": "code",
   "execution_count": 32,
   "metadata": {},
   "outputs": [],
   "source": [
    "function sum_arg(x)\n",
    "   s = 0.0\n",
    "   for i in x\n",
    "       s += i\n",
    "   end\n",
    "   return s\n",
    "end;"
   ]
  },
  {
   "cell_type": "code",
   "execution_count": 34,
   "metadata": {},
   "outputs": [
    {
     "name": "stdout",
     "output_type": "stream",
     "text": [
      "  0.000002 seconds (5 allocations: 176 bytes)\n"
     ]
    },
    {
     "data": {
      "text/plain": [
       "5050.0"
      ]
     },
     "execution_count": 34,
     "metadata": {},
     "output_type": "execute_result"
    }
   ],
   "source": [
    "@time sum_arg(x)"
   ]
  },
  {
   "cell_type": "code",
   "execution_count": null,
   "metadata": {},
   "outputs": [],
   "source": []
  }
 ],
 "metadata": {
  "kernelspec": {
   "display_name": "Python 3",
   "language": "python",
   "name": "python3"
  },
  "language_info": {
   "codemirror_mode": {
    "name": "ipython",
    "version": 3
   },
   "file_extension": ".py",
   "mimetype": "text/x-python",
   "name": "python",
   "nbconvert_exporter": "python",
   "pygments_lexer": "ipython3",
   "version": "3.6.7"
  }
 },
 "nbformat": 4,
 "nbformat_minor": 2
}
