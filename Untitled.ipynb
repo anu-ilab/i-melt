{
 "cells": [
  {
   "cell_type": "code",
   "execution_count": 28,
   "metadata": {},
   "outputs": [
    {
     "ename": "Pkg.Types.PkgError",
     "evalue": "The following package names could not be resolved:\n * Benchmarks (not found in project, manifest or registry)\nPlease specify by known `name=uuid`.",
     "output_type": "error",
     "traceback": [
      "The following package names could not be resolved:\n * Benchmarks (not found in project, manifest or registry)\nPlease specify by known `name=uuid`.",
      "",
      "Stacktrace:",
      " [1] pkgerror(::String) at /buildworker/worker/package_linux64/build/usr/share/julia/stdlib/v1.1/Pkg/src/Types.jl:120",
      " [2] #ensure_resolved#72(::Bool, ::Function, ::Pkg.Types.EnvCache, ::Array{Pkg.Types.PackageSpec,1}) at /buildworker/worker/package_linux64/build/usr/share/julia/stdlib/v1.1/Pkg/src/Types.jl:1010",
      " [3] #ensure_resolved at ./none:0 [inlined]",
      " [4] #add_or_develop#15(::Symbol, ::Bool, ::Base.Iterators.Pairs{Union{},Union{},Tuple{},NamedTuple{(),Tuple{}}}, ::Function, ::Pkg.Types.Context, ::Array{Pkg.Types.PackageSpec,1}) at /buildworker/worker/package_linux64/build/usr/share/julia/stdlib/v1.1/Pkg/src/API.jl:49",
      " [5] #add_or_develop at ./none:0 [inlined]",
      " [6] #add_or_develop#14 at /buildworker/worker/package_linux64/build/usr/share/julia/stdlib/v1.1/Pkg/src/API.jl:31 [inlined]",
      " [7] #add_or_develop at ./none:0 [inlined]",
      " [8] #add_or_develop#13 at /buildworker/worker/package_linux64/build/usr/share/julia/stdlib/v1.1/Pkg/src/API.jl:29 [inlined]",
      " [9] #add_or_develop at ./none:0 [inlined]",
      " [10] #add_or_develop#12(::Base.Iterators.Pairs{Symbol,Symbol,Tuple{Symbol},NamedTuple{(:mode,),Tuple{Symbol}}}, ::Function, ::String) at /buildworker/worker/package_linux64/build/usr/share/julia/stdlib/v1.1/Pkg/src/API.jl:28",
      " [11] #add_or_develop at ./none:0 [inlined]",
      " [12] #add#20 at /buildworker/worker/package_linux64/build/usr/share/julia/stdlib/v1.1/Pkg/src/API.jl:59 [inlined]",
      " [13] add(::String) at /buildworker/worker/package_linux64/build/usr/share/julia/stdlib/v1.1/Pkg/src/API.jl:59",
      " [14] top-level scope at In[28]:1"
     ]
    }
   ],
   "source": [
    "import Pkg; Pkg.add(\"Benchmarks\")\n",
    "using Benchmarks\n"
   ]
  },
  {
   "cell_type": "code",
   "execution_count": 57,
   "metadata": {},
   "outputs": [
    {
     "data": {
      "text/plain": [
       "loglike_array (generic function with 1 method)"
      ]
     },
     "execution_count": 57,
     "metadata": {},
     "output_type": "execute_result"
    }
   ],
   "source": [
    "function loglike_array(x::Array{Float64,1},mean::Float64,std::Float64)\n",
    "    y::Array{Float64,1} = -0.5.*((x.-mean).^2.0./std.^2)\n",
    "    return y\n",
    "end"
   ]
  },
  {
   "cell_type": "code",
   "execution_count": 58,
   "metadata": {},
   "outputs": [
    {
     "data": {
      "text/plain": [
       "loglike (generic function with 3 methods)"
      ]
     },
     "execution_count": 58,
     "metadata": {},
     "output_type": "execute_result"
    }
   ],
   "source": [
    "function loglike(x::Array{Float64,1},mean::Float64,std::Float64)\n",
    "    y = zeros(Float64,size(x,1))\n",
    "    for i in 1:1:size(x,1)\n",
    "        y[i] = -0.5*((x[i].-mean).^2.0./std.^2)\n",
    "    end\n",
    "    return y\n",
    "end"
   ]
  },
  {
   "cell_type": "code",
   "execution_count": 59,
   "metadata": {},
   "outputs": [],
   "source": [
    "x = collect(0:1.0:100);"
   ]
  },
  {
   "cell_type": "code",
   "execution_count": 61,
   "metadata": {},
   "outputs": [
    {
     "name": "stdout",
     "output_type": "stream",
     "text": [
      "  0.000012 seconds (6 allocations: 1.063 KiB)\n"
     ]
    },
    {
     "data": {
      "text/plain": [
       "101-element Array{Float64,1}:\n",
       " -12.5  \n",
       " -12.005\n",
       " -11.52 \n",
       " -11.045\n",
       " -10.58 \n",
       " -10.125\n",
       "  -9.68 \n",
       "  -9.245\n",
       "  -8.82 \n",
       "  -8.405\n",
       "  -8.0  \n",
       "  -7.605\n",
       "  -7.22 \n",
       "   ⋮    \n",
       "  -7.605\n",
       "  -8.0  \n",
       "  -8.405\n",
       "  -8.82 \n",
       "  -9.245\n",
       "  -9.68 \n",
       " -10.125\n",
       " -10.58 \n",
       " -11.045\n",
       " -11.52 \n",
       " -12.005\n",
       " -12.5  "
      ]
     },
     "execution_count": 61,
     "metadata": {},
     "output_type": "execute_result"
    }
   ],
   "source": [
    "@time begin\n",
    "y = loglike_array(x,50.0,10.0)\n",
    "end"
   ]
  },
  {
   "cell_type": "code",
   "execution_count": 63,
   "metadata": {},
   "outputs": [
    {
     "name": "stdout",
     "output_type": "stream",
     "text": [
      "  0.000006 seconds (5 allocations: 1.031 KiB)\n"
     ]
    },
    {
     "data": {
      "text/plain": [
       "101-element Array{Float64,1}:\n",
       " -12.5  \n",
       " -12.005\n",
       " -11.52 \n",
       " -11.045\n",
       " -10.58 \n",
       " -10.125\n",
       "  -9.68 \n",
       "  -9.245\n",
       "  -8.82 \n",
       "  -8.405\n",
       "  -8.0  \n",
       "  -7.605\n",
       "  -7.22 \n",
       "   ⋮    \n",
       "  -7.605\n",
       "  -8.0  \n",
       "  -8.405\n",
       "  -8.82 \n",
       "  -9.245\n",
       "  -9.68 \n",
       " -10.125\n",
       " -10.58 \n",
       " -11.045\n",
       " -11.52 \n",
       " -12.005\n",
       " -12.5  "
      ]
     },
     "execution_count": 63,
     "metadata": {},
     "output_type": "execute_result"
    }
   ],
   "source": [
    "@time begin\n",
    "y = loglike(x,50.0,10.0)\n",
    "end"
   ]
  },
  {
   "cell_type": "code",
   "execution_count": 32,
   "metadata": {},
   "outputs": [],
   "source": [
    "function sum_arg(x)\n",
    "   s = 0.0\n",
    "   for i in x\n",
    "       s += i\n",
    "   end\n",
    "   return s\n",
    "end;"
   ]
  },
  {
   "cell_type": "code",
   "execution_count": 34,
   "metadata": {},
   "outputs": [
    {
     "name": "stdout",
     "output_type": "stream",
     "text": [
      "  0.000002 seconds (5 allocations: 176 bytes)\n"
     ]
    },
    {
     "data": {
      "text/plain": [
       "5050.0"
      ]
     },
     "execution_count": 34,
     "metadata": {},
     "output_type": "execute_result"
    }
   ],
   "source": [
    "@time sum_arg(x)"
   ]
  },
  {
   "cell_type": "code",
   "execution_count": null,
   "metadata": {},
   "outputs": [],
   "source": []
  }
 ],
 "metadata": {
  "kernelspec": {
   "display_name": "Julia 1.1.0",
   "language": "julia",
   "name": "julia-1.1"
  },
  "language_info": {
   "file_extension": ".jl",
   "mimetype": "application/julia",
   "name": "julia",
   "version": "1.1.0"
  }
 },
 "nbformat": 4,
 "nbformat_minor": 2
}
