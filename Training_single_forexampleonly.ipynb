{
 "cells": [
  {
   "cell_type": "markdown",
   "metadata": {},
   "source": [
    "# Library loading"
   ]
  },
  {
   "cell_type": "code",
   "execution_count": 1,
   "metadata": {
    "colab": {
     "base_uri": "https://localhost:8080/",
     "height": 52
    },
    "colab_type": "code",
    "executionInfo": {
     "elapsed": 8238,
     "status": "ok",
     "timestamp": 1565502147863,
     "user": {
      "displayName": "Charles LL",
      "photoUrl": "",
      "userId": "05619559028255365437"
     },
     "user_tz": -600
    },
    "id": "e0SePNd0dLJc",
    "outputId": "03c95576-8b80-4218-bfab-11d7eed6740e"
   },
   "outputs": [
    {
     "name": "stdout",
     "output_type": "stream",
     "text": [
      "CUDA AVAILABLE?  True\n",
      "cuda\n"
     ]
    }
   ],
   "source": [
    "%matplotlib inline\n",
    "\n",
    "import pandas as pd # manipulate dataframes\n",
    "import matplotlib\n",
    "import matplotlib.pyplot as plt # plotting\n",
    "import numpy as np\n",
    "np.random.seed = 167 # fix random seed for reproducibility\n",
    "import time, h5py, neuravi, torch\n",
    "\n",
    "from sklearn.metrics import mean_squared_error\n",
    "\n",
    "from tqdm import tqdm \n",
    "\n",
    "# First we check if CUDA is available\n",
    "print(\"CUDA AVAILABLE? \",torch.cuda.is_available())\n",
    "\n",
    "def get_default_device():\n",
    "    \"\"\"Pick GPU if available, else CPU\"\"\"\n",
    "    if torch.cuda.is_available():\n",
    "        return torch.device('cuda')\n",
    "    else:\n",
    "        return torch.device('cpu')\n",
    "      \n",
    "device = get_default_device()\n",
    "print(device)"
   ]
  },
  {
   "cell_type": "markdown",
   "metadata": {},
   "source": [
    "# Loading data"
   ]
  },
  {
   "cell_type": "code",
   "execution_count": 2,
   "metadata": {},
   "outputs": [],
   "source": [
    "# custom data loader, automatically sent to device\n",
    "ds = neuravi.data_loader(\"./data/DataSet_0p20val.hdf5\",\n",
    "                         \"./data/NKAS_Raman.hdf5\",\n",
    "                         \"./data/NKAS_density.hdf5\",\n",
    "                         \"./data/NKAS_optical.hdf5\",\n",
    "                         \"./data/NKAS_liquidus.hdf5\",\n",
    "                         device)"
   ]
  },
  {
   "cell_type": "markdown",
   "metadata": {},
   "source": [
    "# Training 1 model \n",
    "\n",
    "Architecture: 4 layers, 300 neurons per layer, dropout 0.1\n",
    "\n",
    "With such high dropout, we may want to increase the patience quite significantly."
   ]
  },
  {
   "cell_type": "code",
   "execution_count": 45,
   "metadata": {},
   "outputs": [
    {
     "data": {
      "text/plain": [
       "model(\n",
       "  (relu): ReLU()\n",
       "  (dropout): Dropout(p=0.1, inplace=False)\n",
       "  (linears): ModuleList(\n",
       "    (0): Linear(in_features=4, out_features=200, bias=True)\n",
       "    (1): Linear(in_features=200, out_features=200, bias=True)\n",
       "    (2): Linear(in_features=200, out_features=200, bias=True)\n",
       "    (3): Linear(in_features=200, out_features=200, bias=True)\n",
       "    (4): Linear(in_features=200, out_features=200, bias=True)\n",
       "    (5): Linear(in_features=200, out_features=200, bias=True)\n",
       "    (6): Linear(in_features=200, out_features=200, bias=True)\n",
       "  )\n",
       "  (out_thermo): Linear(in_features=200, out_features=18, bias=True)\n",
       "  (out_raman): Linear(in_features=200, out_features=850, bias=True)\n",
       ")"
      ]
     },
     "execution_count": 45,
     "metadata": {},
     "output_type": "execute_result"
    }
   ],
   "source": [
    "nb_layers = 7\n",
    "nb_neurons = 200\n",
    "p_drop = 0.1\n",
    "\n",
    "name = \"./model/best/l\"+str(nb_layers)+\"_n\"+str(nb_neurons)+\"_p\"+str(p_drop)+\"_test\"+\".pth\"\n",
    "\n",
    "# declaring model\n",
    "neuralmodel = neuravi.model(4,nb_neurons,nb_layers,ds.nb_channels_raman,p_drop=p_drop) \n",
    "\n",
    "# criterion for match\n",
    "criterion = torch.nn.MSELoss()\n",
    "criterion.to(device) # sending criterion on device\n",
    "optimizer = torch.optim.Adam(neuralmodel.parameters(), lr = 0.001) # optimizer\n",
    "\n",
    "# we initialize the output bias and send the neural net on device\n",
    "neuralmodel.output_bias_init()\n",
    "neuralmodel = neuralmodel.float()\n",
    "neuralmodel.to(device)\n"
   ]
  },
  {
   "cell_type": "code",
   "execution_count": 46,
   "metadata": {},
   "outputs": [
    {
     "name": "stdout",
     "output_type": "stream",
     "text": [
      "Full training.\n",
      "\n",
      "Epoch 0 => train loss: 11.743310928344727; valid loss: 15.087806701660156\n",
      "Epoch 200 => train loss: 3.4802262783050537; valid loss: 8.282824516296387\n",
      "Epoch 400 => train loss: 2.8273916244506836; valid loss: 7.809104919433594\n",
      "Epoch 600 => train loss: 2.3291432857513428; valid loss: 7.59657096862793\n",
      "Running time in seconds: 69.2743878364563\n",
      "Scaled valid loss values are 1.49, 0.12, 0.53, 2.04, 0.16, 3.12, 0.58 for Tg, Raman, density, entropy, ri, Tl and viscosity (AG)\n"
     ]
    }
   ],
   "source": [
    "#\n",
    "# PRETRAINING\n",
    "#\n",
    "neuralmodel, record_pretrain_loss, record_prevalid_loss = neuravi.training(neuralmodel,ds,criterion,optimizer,name, mode=\"pretrain\",verbose=False)\n",
    "\n",
    "#\n",
    "# TRAINING\n",
    "#\n",
    "neuralmodel, record_train_loss, record_valid_loss = neuravi.training(neuralmodel,ds,\n",
    "                                                                     criterion,optimizer,name,\n",
    "                                                                     train_patience=200,min_delta=0.05,\n",
    "                                                                     verbose=True)"
   ]
  },
  {
   "cell_type": "markdown",
   "metadata": {},
   "source": [
    "# Observing how losses decline"
   ]
  },
  {
   "cell_type": "code",
   "execution_count": 47,
   "metadata": {},
   "outputs": [
    {
     "data": {
      "image/png": "[encoded data removed]",
      "text/plain": [
       "<Figure size 432x288 with 1 Axes>"
      ]
     },
     "metadata": {
      "needs_background": "light"
     },
     "output_type": "display_data"
    }
   ],
   "source": [
    "plt.plot(record_train_loss,label=\"train\")\n",
    "plt.plot(record_valid_loss,label=\"valid\")\n",
    "plt.legend()\n",
    "plt.yscale(\"log\")"
   ]
  },
  {
   "cell_type": "code",
   "execution_count": 48,
   "metadata": {},
   "outputs": [],
   "source": [
    "y_pred_visco = neuralmodel.ag(ds.x_visco_test,ds.T_visco_test)\n"
   ]
  },
  {
   "cell_type": "code",
   "execution_count": 49,
   "metadata": {},
   "outputs": [
    {
     "data": {
      "text/plain": [
       "[<matplotlib.lines.Line2D at 0x7f68001b13d0>]"
      ]
     },
     "execution_count": 49,
     "metadata": {},
     "output_type": "execute_result"
    },
    {
     "data": {
      "image/png": "[encoded data removed]",
      "text/plain": [
       "<Figure size 432x288 with 1 Axes>"
      ]
     },
     "metadata": {
      "needs_background": "light"
     },
     "output_type": "display_data"
    }
   ],
   "source": [
    "plt.plot(y_pred_visco.cpu().detach().numpy(),ds.y_visco_test.cpu().detach().numpy())"
   ]
  },
  {
   "cell_type": "code",
   "execution_count": 50,
   "metadata": {},
   "outputs": [
    {
     "data": {
      "text/plain": [
       "0.6185426675496887"
      ]
     },
     "execution_count": 50,
     "metadata": {},
     "output_type": "execute_result"
    }
   ],
   "source": [
    "np.sum(np.sqrt((y_pred_visco.cpu().detach().numpy()-ds.y_visco_test.cpu().detach().numpy())**2))/len(y_pred_visco)"
   ]
  },
  {
   "cell_type": "code",
   "execution_count": 51,
   "metadata": {},
   "outputs": [
    {
     "data": {
      "text/plain": [
       "[<matplotlib.lines.Line2D at 0x7f68000f0050>]"
      ]
     },
     "execution_count": 51,
     "metadata": {},
     "output_type": "execute_result"
    },
    {
     "data": {
      "image/png": "[encoded data removed]",
      "text/plain": [
       "<Figure size 432x288 with 1 Axes>"
      ]
     },
     "metadata": {
      "needs_background": "light"
     },
     "output_type": "display_data"
    }
   ],
   "source": [
    "plt.plot(neuralmodel.tl(ds.x_tl_test).cpu().detach().numpy(),ds.y_tl_test.cpu().detach().numpy(),\"s\")"
   ]
  },
  {
   "cell_type": "code",
   "execution_count": 52,
   "metadata": {},
   "outputs": [
    {
     "data": {
      "text/plain": [
       "tensor(0.9159, device='cuda:0', grad_fn=<MseLossBackward>)"
      ]
     },
     "execution_count": 52,
     "metadata": {},
     "output_type": "execute_result"
    }
   ],
   "source": [
    "criterion(y_pred_visco,ds.y_visco_test)"
   ]
  },
  {
   "cell_type": "code",
   "execution_count": 53,
   "metadata": {},
   "outputs": [
    {
     "data": {
      "text/plain": [
       "tensor(9402.5625, device='cuda:0', grad_fn=<MseLossBackward>)"
      ]
     },
     "execution_count": 53,
     "metadata": {},
     "output_type": "execute_result"
    }
   ],
   "source": [
    "criterion(neuralmodel.tl(ds.x_tl_test),ds.y_tl_test)"
   ]
  },
  {
   "cell_type": "code",
   "execution_count": 54,
   "metadata": {},
   "outputs": [
    {
     "name": "stdout",
     "output_type": "stream",
     "text": [
      "Loss values are 1.00, 1.00, 1.00, 1.00, 1.00\n"
     ]
    }
   ],
   "source": [
    "print(\"Loss values are {:.2f}, {:.2f}, {:.2f}, {:.2f}, {:.2f}\".format(1.,1.,1.,1.,1.))"
   ]
  },
  {
   "cell_type": "code",
   "execution_count": 55,
   "metadata": {},
   "outputs": [
    {
     "data": {
      "text/plain": [
       "96.37427042525407"
      ]
     },
     "execution_count": 55,
     "metadata": {},
     "output_type": "execute_result"
    }
   ],
   "source": [
    "np.sqrt(9288)"
   ]
  },
  {
   "cell_type": "code",
   "execution_count": null,
   "metadata": {},
   "outputs": [],
   "source": []
  }
 ],
 "metadata": {
  "accelerator": "GPU",
  "colab": {
   "collapsed_sections": [],
   "name": "Pytorch_model_dev2.ipynb",
   "provenance": [],
   "toc_visible": true,
   "version": "0.3.2"
  },
  "kernelspec": {
   "display_name": "Python 3",
   "language": "python",
   "name": "python3"
  },
  "language_info": {
   "codemirror_mode": {
    "name": "ipython",
    "version": 3
   },
   "file_extension": ".py",
   "mimetype": "text/x-python",
   "name": "python",
   "nbconvert_exporter": "python",
   "pygments_lexer": "ipython3",
   "version": "3.7.6"
  }
 },
 "nbformat": 4,
 "nbformat_minor": 1
}
