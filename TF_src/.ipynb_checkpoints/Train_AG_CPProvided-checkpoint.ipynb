{
 "cells": [
  {
   "cell_type": "code",
   "execution_count": 1,
   "metadata": {
    "code_folding": [],
    "colab": {},
    "colab_type": "code",
    "id": "lwwLG-CkOpiQ"
   },
   "outputs": [],
   "source": [
    "########## Calling relevant libraries ##########\n",
    "%matplotlib inline\n",
    "import numpy as np\n",
    "from sklearn.metrics import mean_squared_error\n",
    "import sklearn.model_selection as model_selection\n",
    "import scipy\n",
    "\n",
    "# Setting matplotlib options for this notebook\n",
    "import matplotlib\n",
    "from matplotlib import pyplot as plt\n",
    "\n",
    "import tensorflow as tf\n",
    "\n",
    "import sklearn, h5py\n",
    "from sklearn.externals import joblib\n",
    "\n",
    "import pandas as pd"
   ]
  },
  {
   "cell_type": "markdown",
   "metadata": {
    "colab_type": "text",
    "id": "4AJax9SgOpid"
   },
   "source": [
    "# model with TensorFlow and A-G\n",
    "\n",
    "The past example with scikit-learn directly relates the melt composition and temperature to it's viscosity.\n",
    "\n",
    "We saw that the problem with this approach is that it underuses our knowledge of how viscosity and temperature vary. This creates too much noise when predicting viscosity over T for one composition.\n",
    "\n",
    "A way to solve that is to use the neiural net to map the chemical dependence of the parameters that enter into the equation(s) that link viscosity to temperature. As we can use any equation, best if we can actually use the Adam and Gibbs one as it bring thermodynamic information on the melt.\n",
    "\n",
    "If neural nets work, it should return an internally consistent model that should predict well the entropy and heat capacity of the melt.\n",
    "\n",
    "Good thing is we know those values for some melts, such that we can trully quantify the success of the neural net.\n",
    "\n",
    "$a^b$\n",
    "\n",
    "The viscosity equation is:\n",
    "\n",
    "\n",
    "$$log(\\eta) = A_{e} + \\frac{B_{e}}{T \\times (S^{conf}(T_{g}) + \\int_{T_{g}}^{T} \\frac{\\Delta C_p}{T} dT)}$$ \n",
    "\n",
    "where \n",
    "\n",
    "$$ \\int_{T_{g}}^{T} \\frac{\\Delta C_p}{T} dT = ap \\times (log(T) - log(T_{g})) + b \\times(T-T_{g}) $$\n",
    "\n",
    "\n",
    "$A_{e}$ is a constant proportional to the viscosity at infinite temperature. It barely depends on melt composition.\n",
    "\n",
    "$B_{e}$ is a constant proportional to energy barriers opposed to viscous flow. It strongly depends on melt composition.\n",
    "\n",
    "S^{conf}(T_{g}) is the configurational entropy of the melt at the glass transition temperature $T_g$ (temperature at which you consider that the melt becomes a glass.\n",
    "\n",
    "$ap$ and $b$ are parameters that depend on melt composition. We have data and models for those; they nearly linearly depend on melt composition. (this can be discussed for b)\n",
    "\n",
    "## Approach with neural net\n",
    "\n",
    "The idea is to link the melt composition (14 variables) to the parameters $A_{e}$, $B_{e}$, $S^{conf}(T_{g})$, $ap$ and $b$ with a neural network.\n",
    "\n",
    "We can calculate $T_{g}$ as \n",
    "\n",
    "$$ T_{g} = \\frac{B_{e}}{((12.0-A_{e}) \\times S^{conf}(T_{g}))} $$\n",
    "\n",
    "with the empirical definition that $T_{g}$ occurs when the viscosity reaches around 12 log Pa $\\cdot$ s.\n",
    "\n",
    "This helps removing one parameter and should help to have a self-consistent model.\n",
    "\n",
    "At this stage, we could use existing models for $ap$ and $b$, but there we assume that those models, which are 30 years old, are good-enough.\n",
    "\n",
    "Another approach, which I adopt in the following, is to let the neural net determines $ap$ and $b$, such that we can compore those in the future with existing models.\n",
    "\n",
    "If the neural net is good, we should find consistent results.\n",
    "\n",
    "## Let's start\n",
    "\n",
    "First I define the arrays that store the chemical composition and temperature.\n",
    "\n",
    "viscosity (y values) are already saved in y_train/y_valid/y_test."
   ]
  },
  {
   "cell_type": "markdown",
   "metadata": {
    "colab_type": "text",
    "id": "STh2-VW0Opif"
   },
   "source": [
    "# Loading dataset\n",
    "\n",
    "Dataset has been prepared before`"
   ]
  },
  {
   "cell_type": "code",
   "execution_count": 2,
   "metadata": {
    "code_folding": [],
    "colab": {
     "base_uri": "https://localhost:8080/",
     "height": 156
    },
    "colab_type": "code",
    "executionInfo": {
     "elapsed": 777,
     "status": "ok",
     "timestamp": 1554682256536,
     "user": {
      "displayName": "Charles Ll",
      "photoUrl": "",
      "userId": "05619559028255365437"
     },
     "user_tz": -600
    },
    "id": "tAK6wHQ2Opit",
    "outputId": "b36a3ded-0cb5-4077-e615-4db46726f1e0"
   },
   "outputs": [
    {
     "name": "stdout",
     "output_type": "stream",
     "text": [
      "loaded\n",
      "\n",
      "Features in X_ arrays are\n",
      "[b'sio2' b'al2o3' b'na2o' b'k2o' b'nbot' b'ifsm' b'ifst' b'ap' b'b' b'T'\n",
      " b'Sc' b'tg' b'ScT']\n",
      "\n",
      "Shape of X train and valid is\n",
      "(1145, 13)\n"
     ]
    }
   ],
   "source": [
    "### Load dataset\n",
    "f = h5py.File(\"../data/DataSet.hdf5\", 'r')\n",
    "# List all groups\n",
    "X_columns = f['X_columns'].value\n",
    "\n",
    "X_tv = f[\"X_tv\"].value\n",
    "X_tv_sc = f[\"X_tv_sc\"].value\n",
    "y_tv = f[\"y_tv\"].value\n",
    "\n",
    "X_train = f[\"X_train\"].value\n",
    "X_train_sc = f[\"X_train_sc\"].value\n",
    "y_train = f[\"y_train\"].value\n",
    "\n",
    "X_valid = f[\"X_valid\"].value\n",
    "X_valid_sc = f[\"X_valid_sc\"].value\n",
    "y_valid = f[\"y_valid\"].value\n",
    "\n",
    "X_test = f[\"X_test\"].value\n",
    "X_test_sc = f[\"X_test_sc\"].value\n",
    "y_test = f[\"y_test\"].value\n",
    "\n",
    "X_entropy_train = f[\"X_entropy_train\"].value\n",
    "X_entropy_train_sc = f[\"X_entropy_train_sc\"].value\n",
    "\n",
    "X_entropy_valid = f[\"X_entropy_valid\"].value\n",
    "X_entropy_valid_sc = f[\"X_entropy_valid_sc\"].value\n",
    "\n",
    "X_entropy_sc_tv = np.concatenate((X_entropy_train_sc,X_entropy_valid_sc),axis=0)\n",
    "\n",
    "X_scaler_mean = f[\"X_scaler_mean\"].value\n",
    "X_scaler_var = f[\"X_scaler_var\"].value\n",
    "\n",
    "f.close()\n",
    "\n",
    "print(\"loaded\")\n",
    "print(\"\\nFeatures in X_ arrays are\")\n",
    "print(X_columns)\n",
    "print(\"\\nShape of X train and valid is\")\n",
    "print(X_tv.shape)\n",
    "\n",
    "# we have the chemical composition as X train/valid/test, but also the temperature\n",
    "\n",
    "chimie_train = X_train_sc[:,0:4] # 14 for all dataset, 4 for KNAS\n",
    "cp_train = X_train_sc[:,(7,8)]\n",
    "temperature_train = X_train_sc[:,9].reshape(-1,1)\n",
    "\n",
    "chimie_valid = X_valid_sc[:,0:4]\n",
    "cp_valid = X_valid_sc[:,(7,8)]\n",
    "temperature_valid = X_valid_sc[:,9].reshape(-1,1)\n",
    "\n",
    "chimie_test = X_test_sc[:,0:4]\n",
    "cp_test = X_test_sc[:,(7,8)]\n",
    "temperature_test = X_test_sc[:,9].reshape(-1,1)\n",
    "\n",
    "chimie_entro = X_entropy_sc_tv[:,0:4] # 14 for all dataset, 4 for KNAS\n",
    "cp_entro = X_entropy_sc_tv[:,(7,8)]\n",
    "temperature_entro = X_entropy_sc_tv[:,9].reshape(-1,1)\n",
    "sc_entro = X_entropy_sc_tv[:,10].reshape(-1,1)\n",
    "tg_entro = X_entropy_sc_tv[:,11].reshape(-1,1)\n",
    "\n",
    "\n",
    "# fake dataset pre-training\n",
    "X_fake = pd.read_csv(\"../data/fake_X.csv\")\n",
    "X_fake_train,X_fake_test = model_selection.train_test_split(X_fake,test_size=0.3)\n",
    "entro_fake_train = X_fake_train.loc[:,[\"entropy\"]].values\n",
    "entro_fake_test = X_fake_test.loc[:,[\"entropy\"]].values\n",
    "chimie_fake_train = X_fake_train.loc[:,[\"sio2\",\"al2o3\",\"na2o\",\"k2o\"]].values\n",
    "chimie_fake_test = X_fake_test.loc[:,[\"sio2\",\"al2o3\",\"na2o\",\"k2o\"]].values\n",
    "cp_fake_train = X_fake_train.loc[:,[\"ap\",\"b\"]].values\n",
    "cp_fake_test = X_fake_test.loc[:,[\"ap\",\"b\"]].values\n",
    "\n",
    "X_fake_train_sc =  (chimie_fake_train[:,0:4]-X_scaler_mean[0:4])/X_scaler_var[0:4]\n",
    "X_fake_test_sc =  (chimie_fake_test[:,0:4]-X_scaler_mean[0:4])/X_scaler_var[0:4]"
   ]
  },
  {
   "cell_type": "markdown",
   "metadata": {
    "colab_type": "text",
    "id": "rg4Y0Yg7Opi1"
   },
   "source": [
    "We then create an object to create a network with 1 to 5 layers (ReLu activation units + dropout),\n",
    "\n",
    "Following the reading of Kaufl, we will initiate the bias of the output neural net layer to values of parameters that are not far from reality.\n",
    "\n",
    "Then results of output layer are used to calculate the parameters of the A-G equation (see above), which, in turn, gives the viscosity.\n",
    "\n",
    "We use a L2 loss to determine distance from targets.\n",
    "\n",
    "Optimizer is RMSprop, it seems the most stable from my test.\n",
    "\n",
    "The code for the object is in the file neuravi.py"
   ]
  },
  {
   "cell_type": "code",
   "execution_count": 3,
   "metadata": {
    "code_folding": [
     0,
     98
    ],
    "colab": {},
    "colab_type": "code",
    "id": "6gbtbuPkOpi2"
   },
   "outputs": [],
   "source": [
    "class Model_AG_withCp(object):\n",
    "    \"\"\"\n",
    "    derived from  https://github.com/adventuresinML/adventures-in-ml-code/blob/master/weight_init_tensorflow.py\n",
    "    \"\"\"\n",
    "    def __init__(self, input_size, \n",
    "                num_layers=3,\n",
    "                hidden_size=100,\n",
    "                stdev = 0.01,\n",
    "                init_bias = np.array([np.log(40000.),np.log(5.1)]),\n",
    "                learning_rate = 1e-4):\n",
    "        \n",
    "        self._input_size = input_size\n",
    "        self._num_layers = num_layers # num layers does not include the input layer\n",
    "        self._hidden_size = hidden_size # all layers have the same number of hidden units\n",
    "        self._out_size = 2 # fixed regarding the problem shape: 3 parameters to determine\n",
    "        self._init_bias = init_bias\n",
    "        self._stdev = stdev\n",
    "        self._learning_rate = learning_rate\n",
    "        self._model_def()\n",
    "        \n",
    "    def _model_def(self):\n",
    "        # create placeholder variables\n",
    "        self.input_c = tf.placeholder(dtype=tf.float32, shape=[None,self._input_size], name=\"chimie\")\n",
    "        self.input_cp_a = tf.placeholder(dtype=tf.float32, shape=[None,1], name=\"cp_a\")\n",
    "        self.input_cp_b = tf.placeholder(dtype=tf.float32, shape=[None,1], name=\"cp_b\")\n",
    "        self.input_T = tf.placeholder(dtype=tf.float32, shape=[None,1], name=\"T\")\n",
    "        self.input_y = tf.placeholder(dtype=tf.float32, shape=[None,1], name=\"viscosity\")\n",
    "        self.input_sc = tf.placeholder(dtype=tf.float32, shape=[None,1], name=\"sc_meas\")\n",
    "        self.input_tg = tf.placeholder(dtype=tf.float32, shape=[None,1], name=\"tg_meas\")\n",
    "        \n",
    "        self.prob = tf.placeholder_with_default(0.0, shape=())\n",
    "\n",
    "        if self._num_layers >= 1:\n",
    "            \n",
    "            self.Wh1 = tf.Variable(tf.random_normal([self._input_size,self._hidden_size], stddev=self._stdev, dtype=tf.float32))\n",
    "            self.bh1 = tf.Variable(tf.random_normal([1,self._hidden_size], stddev=self._stdev, dtype=tf.float32))\n",
    "            \n",
    "            self.hidden_layer_1 = tf.nn.dropout(tf.nn.tanh(tf.matmul(self.input_c, self.Wh1) + self.bh1),\n",
    "                                                rate=self.prob,\n",
    "                                                name=\"layer1\")\n",
    "            \n",
    "        if self._num_layers >= 2:\n",
    "            \n",
    "            self.Wh2 = tf.Variable(tf.random_normal([self._hidden_size,self._hidden_size], stddev=self._stdev, dtype=tf.float32))\n",
    "            self.bh2 = tf.Variable(tf.random_normal([1,self._hidden_size], stddev=self._stdev, dtype=tf.float32))\n",
    "\n",
    "            self.hidden_layer_2 = tf.nn.dropout(tf.nn.tanh(tf.matmul(self.hidden_layer_1, self.Wh2) + self.bh2),\n",
    "                                                rate=self.prob,\n",
    "                                                name=\"layer2\")\n",
    "        \n",
    "        if self._num_layers >= 3:\n",
    "        \n",
    "            self.Wh3 = tf.Variable(tf.random_normal([self._hidden_size,self._hidden_size], stddev=self._stdev, dtype=tf.float32))\n",
    "            self.bh3 = tf.Variable(tf.random_normal([1,self._hidden_size], stddev=self._stdev, dtype=tf.float32))\n",
    "            \n",
    "            self.hidden_layer_3 = tf.nn.dropout(tf.nn.tanh(tf.matmul(self.hidden_layer_2, self.Wh3) + self.bh3),\n",
    "                                                rate=self.prob,\n",
    "                                                name=\"layer3\")    \n",
    "        if self._num_layers >= 4:\n",
    "        \n",
    "            self.Wh4 = tf.Variable(tf.random_normal([self._hidden_size,self._hidden_size], stddev=self._stdev, dtype=tf.float32))\n",
    "            self.bh4 = tf.Variable(tf.random_normal([1,self._hidden_size], stddev=self._stdev, dtype=tf.float32))\n",
    "            \n",
    "            self.hidden_layer_4 = tf.nn.dropout(tf.nn.tanh(tf.matmul(self.hidden_layer_3, self.Wh4) + self.bh4),\n",
    "                                                rate=self.prob,\n",
    "                                                name=\"layer4\")\n",
    "            \n",
    "        if self._num_layers == 5:\n",
    "        \n",
    "            self.Wh5 = tf.Variable(tf.random_normal([self._hidden_size,self._hidden_size], stddev=self._stdev, dtype=tf.float32))\n",
    "            self.bh5 = tf.Variable(tf.random_normal([1,self._hidden_size], stddev=self._stdev, dtype=tf.float32))\n",
    "            \n",
    "            self.hidden_layer_5 = tf.nn.dropout(tf.nn.tanh(tf.matmul(self.hidden_layer_4, self.Wh5) + self.bh5),\n",
    "                                                rate=self.prob,\n",
    "                                                name=\"layer5\")\n",
    "\n",
    "        self.Wo = tf.Variable(tf.random_normal([self._hidden_size,self._out_size], mean=0.,stddev=self._stdev, dtype=tf.float32))\n",
    "        self.bo = tf.Variable(tf.random_normal([1,self._out_size], mean=self._init_bias, stddev=self._init_bias*self._stdev, dtype=tf.float32))\n",
    "\n",
    "        if self._num_layers == 1:\n",
    "            self.output = tf.add(tf.matmul(self.hidden_layer_1,self.Wo),self.bo,name=\"out_neurons\")\n",
    "        elif self._num_layers == 2:\n",
    "            self.output = tf.add(tf.matmul(self.hidden_layer_2,self.Wo),self.bo,name=\"out_neurons\")\n",
    "        elif self._num_layers == 3:\n",
    "            self.output = tf.add(tf.matmul(self.hidden_layer_3,self.Wo),self.bo,name=\"out_neurons\")\n",
    "        elif self._num_layers == 4:\n",
    "            self.output = tf.add(tf.matmul(self.hidden_layer_4,self.Wo),self.bo,name=\"out_neurons\")\n",
    "        elif self._num_layers == 5:\n",
    "            self.output = tf.add(tf.matmul(self.hidden_layer_5,self.Wo),self.bo,name=\"out_neurons\")\n",
    "        else:\n",
    "            print(\"Error: choose between 1 to 5 layers\")\n",
    "        \n",
    "        #\n",
    "        # Adam and Gibbs with network outputs\n",
    "        #\n",
    "        self.be_ = tf.placeholder(dtype=tf.float32, shape=[None,1], name=\"Be_ph\")\n",
    "        self.sctg_ = tf.placeholder(dtype=tf.float32, shape=[None,1], name=\"ScTg_ph\")\n",
    "        \n",
    "        self.ae = tf.Variable([-2.11],name=\"Ae\")\n",
    "        \n",
    "        self.be_, self.sctg_ = tf.split(self.output,2,axis=1)\n",
    "\n",
    "        # cannot be negative\n",
    "        self.be = tf.exp(self.be_,name=\"Be\")\n",
    "        self.sctg = tf.exp(self.sctg_,name=\"entropy_Tg\")\n",
    "        \n",
    "        # thermodynamic equations\n",
    "        self.tg = tf.divide(self.be,np.multiply((12.0-self.ae),self.sctg),name=\"Tg\")\n",
    "        \n",
    "        self.dCp = tf.add(tf.multiply(self.input_cp_a,(tf.log(self.input_T)-tf.log(self.tg))),\n",
    "                          tf.multiply(self.input_cp_b,(self.input_T-self.tg)),name=\"dCp\")\n",
    "\n",
    "        self.entropy = tf.add(self.sctg,self.dCp,name=\"entropy_T\")\n",
    "\n",
    "        self.denom_n =tf.multiply(self.input_T,self.entropy,name=\"denominator_AG\")\n",
    "        \n",
    "        self.visco_pred = tf.add(self.ae,np.divide(self.be,self.denom_n),name=\"visco_pred\")\n",
    "        \n",
    "        # loss functions\n",
    "        self.loss_n = tf.nn.l2_loss(self.visco_pred-self.input_y,name=\"loss_n\")\n",
    "        self.loss_sc = tf.nn.l2_loss(self.sctg-self.input_sc,name=\"loss_sc\")\n",
    "        self.loss_tg = tf.nn.l2_loss(self.tg-self.input_tg,name=\"loss_tg\")\n",
    "        self.loss_sctg = tf.add(self.loss_sc*100,self.loss_tg,name=\"loss_sctg\")\n",
    "                                                                            \n",
    "        # add to the summary\n",
    "        tf.summary.scalar('loss_n', self.loss_n)\n",
    "        tf.summary.scalar('loss_sctg', self.loss_sctg)\n",
    "        self.optimizer_n = tf.train.RMSPropOptimizer(self._learning_rate).minimize(self.loss_n)\n",
    "        self.optimizer_sc = tf.train.RMSPropOptimizer(0.001).minimize(self.loss_sc)\n",
    "        self.optimizer_sctg = tf.train.RMSPropOptimizer(0.001).minimize(self.loss_sctg)\n",
    "        \n",
    "        self.merged = tf.summary.merge_all()\n",
    "        self.init_op = tf.global_variables_initializer()  "
   ]
  },
  {
   "cell_type": "markdown",
   "metadata": {
    "colab_type": "text",
    "id": "JN9f6u8mOpi9"
   },
   "source": [
    "We start a TF Interactive Session to initiate our model, and look at the initial predictions.\n",
    "\n",
    "The idea is to avoid starting the training with an initial model very far from reality...\n",
    "\n",
    "So we run this cell again and again until we see a relatively close correspondance.\n",
    "\n",
    "Initial predictions should be in a -5 - 20 range... If not, too much iterations are required for proper convergence...\n",
    "\n",
    "We just avoid values at 10^20...."
   ]
  },
  {
   "cell_type": "code",
   "execution_count": 23,
   "metadata": {
    "colab": {
     "base_uri": "https://localhost:8080/",
     "height": 282
    },
    "colab_type": "code",
    "executionInfo": {
     "elapsed": 2040,
     "status": "ok",
     "timestamp": 1554682733951,
     "user": {
      "displayName": "Charles Ll",
      "photoUrl": "",
      "userId": "05619559028255365437"
     },
     "user_tz": -600
    },
    "id": "_To3rPGcOpi-",
    "outputId": "d1adcda0-149d-41c3-e564-0d7c2a1323de"
   },
   "outputs": [
    {
     "data": {
      "text/plain": [
       "[<matplotlib.lines.Line2D at 0x7f159aeb5e10>]"
      ]
     },
     "execution_count": 23,
     "metadata": {},
     "output_type": "execute_result"
    },
    {
     "data": {
      "image/png": "[encoded data removed]",
      "text/plain": [
       "<Figure size 432x288 with 1 Axes>"
      ]
     },
     "metadata": {},
     "output_type": "display_data"
    }
   ],
   "source": [
    "try:\n",
    "    tf.keras.backend.clear_session()\n",
    "    sess.close()\n",
    "except:\n",
    "    print(\"OK, no interactive session running\")\n",
    "\n",
    "NIN = chimie_train.shape[1]\n",
    "NHIDDEN = 50\n",
    "NLAYER = 3\n",
    "STDEV = 0.001\n",
    "\n",
    "mod = Model_AG_withCp(NIN, num_layers=NLAYER, hidden_size=NHIDDEN)\n",
    "\n",
    "sess = tf.InteractiveSession()\n",
    "sess.run(mod.init_op)\n",
    "\n",
    "pred_ini= sess.run(mod.visco_pred,feed_dict={mod.input_c: chimie_train,\n",
    "                                             mod.input_cp_a: cp_train[:,0].reshape(-1,1),\n",
    "                                             mod.input_cp_b: cp_train[:,1].reshape(-1,1),\n",
    "                                             mod.input_T: temperature_train, \n",
    "                                             mod.input_y: y_train.reshape(-1,1)})\n",
    "plt.figure()\n",
    "plt.plot(y_train, pred_ini)"
   ]
  },
  {
   "cell_type": "code",
   "execution_count": 5,
   "metadata": {},
   "outputs": [],
   "source": [
    "# Pre training"
   ]
  },
  {
   "cell_type": "code",
   "execution_count": 6,
   "metadata": {},
   "outputs": [
    {
     "name": "stdout",
     "output_type": "stream",
     "text": [
      "Batch train loss at step 0: 95025.09375\n",
      "Batch train loss at step 500: 3840.87451171875\n",
      "Batch train loss at step 1000: 3017.30322265625\n",
      "Batch train loss at step 1500: 2673.16015625\n"
     ]
    }
   ],
   "source": [
    "NEPOCH = 2000\n",
    "loss_pretrain = np.ones(NEPOCH)  # store the training progress here.\n",
    "\n",
    "for i in range(NEPOCH):\n",
    "    dct_train = {\n",
    "        mod.prob: 0.2,\n",
    "        mod.input_c: chimie_fake_train,\n",
    "        mod.input_cp_a: cp_fake_train[:, 0].reshape(-1, 1),\n",
    "        mod.input_cp_b: cp_fake_train[:, 1].reshape(-1, 1),\n",
    "        mod.input_sc: entro_fake_train.reshape(-1, 1)\n",
    "    }\n",
    "\n",
    "    sess.run(mod.optimizer_sc, feed_dict=dct_train)\n",
    "    loss_pretrain[i] = sess.run(mod.loss_sc, feed_dict=dct_train)\n",
    "    \n",
    "    if (i % 500 == 0):\n",
    "        print(\"Batch train loss at step {}: {}\".format(\n",
    "            i, loss_pretrain[i]))\n"
   ]
  },
  {
   "cell_type": "code",
   "execution_count": 12,
   "metadata": {},
   "outputs": [
    {
     "ename": "ValueError",
     "evalue": "x and y must have same first dimension, but have shapes (4200, 1) and (607, 1)",
     "output_type": "error",
     "traceback": [
      "\u001b[0;31m--------------------------------------------------------------\u001b[0m",
      "\u001b[0;31mValueError\u001b[0m                   Traceback (most recent call last)",
      "\u001b[0;32m<ipython-input-12-c4f3a8acbe9c>\u001b[0m in \u001b[0;36m<module>\u001b[0;34m()\u001b[0m\n\u001b[1;32m     10\u001b[0m \u001b[0;34m\u001b[0m\u001b[0m\n\u001b[1;32m     11\u001b[0m \u001b[0mplt\u001b[0m\u001b[0;34m.\u001b[0m\u001b[0msubplot\u001b[0m\u001b[0;34m(\u001b[0m\u001b[0;36m1\u001b[0m\u001b[0;34m,\u001b[0m \u001b[0;36m3\u001b[0m\u001b[0;34m,\u001b[0m \u001b[0;36m1\u001b[0m\u001b[0;34m)\u001b[0m\u001b[0;34m\u001b[0m\u001b[0;34m\u001b[0m\u001b[0m\n\u001b[0;32m---> 12\u001b[0;31m \u001b[0mplt\u001b[0m\u001b[0;34m.\u001b[0m\u001b[0mplot\u001b[0m\u001b[0;34m(\u001b[0m\u001b[0mentro_fake_train\u001b[0m\u001b[0;34m,\u001b[0m \u001b[0msess\u001b[0m\u001b[0;34m.\u001b[0m\u001b[0mrun\u001b[0m\u001b[0;34m(\u001b[0m\u001b[0mmod\u001b[0m\u001b[0;34m.\u001b[0m\u001b[0msctg\u001b[0m\u001b[0;34m,\u001b[0m \u001b[0mfeed_dict\u001b[0m\u001b[0;34m=\u001b[0m\u001b[0mdct_train\u001b[0m\u001b[0;34m)\u001b[0m\u001b[0;34m,\u001b[0m \u001b[0;34m\"k.\"\u001b[0m\u001b[0;34m)\u001b[0m\u001b[0;34m\u001b[0m\u001b[0;34m\u001b[0m\u001b[0m\n\u001b[0m\u001b[1;32m     13\u001b[0m \u001b[0mplt\u001b[0m\u001b[0;34m.\u001b[0m\u001b[0mplot\u001b[0m\u001b[0;34m(\u001b[0m\u001b[0;34m[\u001b[0m\u001b[0;36m5\u001b[0m\u001b[0;34m,\u001b[0m \u001b[0;36m15\u001b[0m\u001b[0;34m]\u001b[0m\u001b[0;34m,\u001b[0m \u001b[0;34m[\u001b[0m\u001b[0;36m5\u001b[0m\u001b[0;34m,\u001b[0m \u001b[0;36m15\u001b[0m\u001b[0;34m]\u001b[0m\u001b[0;34m,\u001b[0m \u001b[0;34m\"k--\"\u001b[0m\u001b[0;34m)\u001b[0m\u001b[0;34m\u001b[0m\u001b[0;34m\u001b[0m\u001b[0m\n\u001b[1;32m     14\u001b[0m \u001b[0;34m\u001b[0m\u001b[0m\n",
      "\u001b[0;32m~/miniconda3/envs/py36/lib/python3.6/site-packages/matplotlib/pyplot.py\u001b[0m in \u001b[0;36mplot\u001b[0;34m(scalex, scaley, data, *args, **kwargs)\u001b[0m\n\u001b[1;32m   2811\u001b[0m     return gca().plot(\n\u001b[1;32m   2812\u001b[0m         *args, scalex=scalex, scaley=scaley, **({\"data\": data} if data\n\u001b[0;32m-> 2813\u001b[0;31m         is not None else {}), **kwargs)\n\u001b[0m\u001b[1;32m   2814\u001b[0m \u001b[0;34m\u001b[0m\u001b[0m\n\u001b[1;32m   2815\u001b[0m \u001b[0;34m\u001b[0m\u001b[0m\n",
      "\u001b[0;32m~/miniconda3/envs/py36/lib/python3.6/site-packages/matplotlib/__init__.py\u001b[0m in \u001b[0;36minner\u001b[0;34m(ax, data, *args, **kwargs)\u001b[0m\n\u001b[1;32m   1808\u001b[0m                         \u001b[0;34m\"the Matplotlib list!)\"\u001b[0m \u001b[0;34m%\u001b[0m \u001b[0;34m(\u001b[0m\u001b[0mlabel_namer\u001b[0m\u001b[0;34m,\u001b[0m \u001b[0mfunc\u001b[0m\u001b[0;34m.\u001b[0m\u001b[0m__name__\u001b[0m\u001b[0;34m)\u001b[0m\u001b[0;34m,\u001b[0m\u001b[0;34m\u001b[0m\u001b[0;34m\u001b[0m\u001b[0m\n\u001b[1;32m   1809\u001b[0m                         RuntimeWarning, stacklevel=2)\n\u001b[0;32m-> 1810\u001b[0;31m             \u001b[0;32mreturn\u001b[0m \u001b[0mfunc\u001b[0m\u001b[0;34m(\u001b[0m\u001b[0max\u001b[0m\u001b[0;34m,\u001b[0m \u001b[0;34m*\u001b[0m\u001b[0margs\u001b[0m\u001b[0;34m,\u001b[0m \u001b[0;34m**\u001b[0m\u001b[0mkwargs\u001b[0m\u001b[0;34m)\u001b[0m\u001b[0;34m\u001b[0m\u001b[0;34m\u001b[0m\u001b[0m\n\u001b[0m\u001b[1;32m   1811\u001b[0m \u001b[0;34m\u001b[0m\u001b[0m\n\u001b[1;32m   1812\u001b[0m         inner.__doc__ = _add_data_doc(inner.__doc__,\n",
      "\u001b[0;32m~/miniconda3/envs/py36/lib/python3.6/site-packages/matplotlib/axes/_axes.py\u001b[0m in \u001b[0;36mplot\u001b[0;34m(self, scalex, scaley, *args, **kwargs)\u001b[0m\n\u001b[1;32m   1609\u001b[0m         \u001b[0mkwargs\u001b[0m \u001b[0;34m=\u001b[0m \u001b[0mcbook\u001b[0m\u001b[0;34m.\u001b[0m\u001b[0mnormalize_kwargs\u001b[0m\u001b[0;34m(\u001b[0m\u001b[0mkwargs\u001b[0m\u001b[0;34m,\u001b[0m \u001b[0mmlines\u001b[0m\u001b[0;34m.\u001b[0m\u001b[0mLine2D\u001b[0m\u001b[0;34m.\u001b[0m\u001b[0m_alias_map\u001b[0m\u001b[0;34m)\u001b[0m\u001b[0;34m\u001b[0m\u001b[0;34m\u001b[0m\u001b[0m\n\u001b[1;32m   1610\u001b[0m \u001b[0;34m\u001b[0m\u001b[0m\n\u001b[0;32m-> 1611\u001b[0;31m         \u001b[0;32mfor\u001b[0m \u001b[0mline\u001b[0m \u001b[0;32min\u001b[0m \u001b[0mself\u001b[0m\u001b[0;34m.\u001b[0m\u001b[0m_get_lines\u001b[0m\u001b[0;34m(\u001b[0m\u001b[0;34m*\u001b[0m\u001b[0margs\u001b[0m\u001b[0;34m,\u001b[0m \u001b[0;34m**\u001b[0m\u001b[0mkwargs\u001b[0m\u001b[0;34m)\u001b[0m\u001b[0;34m:\u001b[0m\u001b[0;34m\u001b[0m\u001b[0;34m\u001b[0m\u001b[0m\n\u001b[0m\u001b[1;32m   1612\u001b[0m             \u001b[0mself\u001b[0m\u001b[0;34m.\u001b[0m\u001b[0madd_line\u001b[0m\u001b[0;34m(\u001b[0m\u001b[0mline\u001b[0m\u001b[0;34m)\u001b[0m\u001b[0;34m\u001b[0m\u001b[0;34m\u001b[0m\u001b[0m\n\u001b[1;32m   1613\u001b[0m             \u001b[0mlines\u001b[0m\u001b[0;34m.\u001b[0m\u001b[0mappend\u001b[0m\u001b[0;34m(\u001b[0m\u001b[0mline\u001b[0m\u001b[0;34m)\u001b[0m\u001b[0;34m\u001b[0m\u001b[0;34m\u001b[0m\u001b[0m\n",
      "\u001b[0;32m~/miniconda3/envs/py36/lib/python3.6/site-packages/matplotlib/axes/_base.py\u001b[0m in \u001b[0;36m_grab_next_args\u001b[0;34m(self, *args, **kwargs)\u001b[0m\n\u001b[1;32m    391\u001b[0m                 \u001b[0mthis\u001b[0m \u001b[0;34m+=\u001b[0m \u001b[0margs\u001b[0m\u001b[0;34m[\u001b[0m\u001b[0;36m0\u001b[0m\u001b[0;34m]\u001b[0m\u001b[0;34m,\u001b[0m\u001b[0;34m\u001b[0m\u001b[0;34m\u001b[0m\u001b[0m\n\u001b[1;32m    392\u001b[0m                 \u001b[0margs\u001b[0m \u001b[0;34m=\u001b[0m \u001b[0margs\u001b[0m\u001b[0;34m[\u001b[0m\u001b[0;36m1\u001b[0m\u001b[0;34m:\u001b[0m\u001b[0;34m]\u001b[0m\u001b[0;34m\u001b[0m\u001b[0;34m\u001b[0m\u001b[0m\n\u001b[0;32m--> 393\u001b[0;31m             \u001b[0;32myield\u001b[0m \u001b[0;32mfrom\u001b[0m \u001b[0mself\u001b[0m\u001b[0;34m.\u001b[0m\u001b[0m_plot_args\u001b[0m\u001b[0;34m(\u001b[0m\u001b[0mthis\u001b[0m\u001b[0;34m,\u001b[0m \u001b[0mkwargs\u001b[0m\u001b[0;34m)\u001b[0m\u001b[0;34m\u001b[0m\u001b[0;34m\u001b[0m\u001b[0m\n\u001b[0m\u001b[1;32m    394\u001b[0m \u001b[0;34m\u001b[0m\u001b[0m\n\u001b[1;32m    395\u001b[0m \u001b[0;34m\u001b[0m\u001b[0m\n",
      "\u001b[0;32m~/miniconda3/envs/py36/lib/python3.6/site-packages/matplotlib/axes/_base.py\u001b[0m in \u001b[0;36m_plot_args\u001b[0;34m(self, tup, kwargs)\u001b[0m\n\u001b[1;32m    368\u001b[0m             \u001b[0mx\u001b[0m\u001b[0;34m,\u001b[0m \u001b[0my\u001b[0m \u001b[0;34m=\u001b[0m \u001b[0mindex_of\u001b[0m\u001b[0;34m(\u001b[0m\u001b[0mtup\u001b[0m\u001b[0;34m[\u001b[0m\u001b[0;34m-\u001b[0m\u001b[0;36m1\u001b[0m\u001b[0;34m]\u001b[0m\u001b[0;34m)\u001b[0m\u001b[0;34m\u001b[0m\u001b[0;34m\u001b[0m\u001b[0m\n\u001b[1;32m    369\u001b[0m \u001b[0;34m\u001b[0m\u001b[0m\n\u001b[0;32m--> 370\u001b[0;31m         \u001b[0mx\u001b[0m\u001b[0;34m,\u001b[0m \u001b[0my\u001b[0m \u001b[0;34m=\u001b[0m \u001b[0mself\u001b[0m\u001b[0;34m.\u001b[0m\u001b[0m_xy_from_xy\u001b[0m\u001b[0;34m(\u001b[0m\u001b[0mx\u001b[0m\u001b[0;34m,\u001b[0m \u001b[0my\u001b[0m\u001b[0;34m)\u001b[0m\u001b[0;34m\u001b[0m\u001b[0;34m\u001b[0m\u001b[0m\n\u001b[0m\u001b[1;32m    371\u001b[0m \u001b[0;34m\u001b[0m\u001b[0m\n\u001b[1;32m    372\u001b[0m         \u001b[0;32mif\u001b[0m \u001b[0mself\u001b[0m\u001b[0;34m.\u001b[0m\u001b[0mcommand\u001b[0m \u001b[0;34m==\u001b[0m \u001b[0;34m'plot'\u001b[0m\u001b[0;34m:\u001b[0m\u001b[0;34m\u001b[0m\u001b[0;34m\u001b[0m\u001b[0m\n",
      "\u001b[0;32m~/miniconda3/envs/py36/lib/python3.6/site-packages/matplotlib/axes/_base.py\u001b[0m in \u001b[0;36m_xy_from_xy\u001b[0;34m(self, x, y)\u001b[0m\n\u001b[1;32m    229\u001b[0m         \u001b[0;32mif\u001b[0m \u001b[0mx\u001b[0m\u001b[0;34m.\u001b[0m\u001b[0mshape\u001b[0m\u001b[0;34m[\u001b[0m\u001b[0;36m0\u001b[0m\u001b[0;34m]\u001b[0m \u001b[0;34m!=\u001b[0m \u001b[0my\u001b[0m\u001b[0;34m.\u001b[0m\u001b[0mshape\u001b[0m\u001b[0;34m[\u001b[0m\u001b[0;36m0\u001b[0m\u001b[0;34m]\u001b[0m\u001b[0;34m:\u001b[0m\u001b[0;34m\u001b[0m\u001b[0;34m\u001b[0m\u001b[0m\n\u001b[1;32m    230\u001b[0m             raise ValueError(\"x and y must have same first dimension, but \"\n\u001b[0;32m--> 231\u001b[0;31m                              \"have shapes {} and {}\".format(x.shape, y.shape))\n\u001b[0m\u001b[1;32m    232\u001b[0m         \u001b[0;32mif\u001b[0m \u001b[0mx\u001b[0m\u001b[0;34m.\u001b[0m\u001b[0mndim\u001b[0m \u001b[0;34m>\u001b[0m \u001b[0;36m2\u001b[0m \u001b[0;32mor\u001b[0m \u001b[0my\u001b[0m\u001b[0;34m.\u001b[0m\u001b[0mndim\u001b[0m \u001b[0;34m>\u001b[0m \u001b[0;36m2\u001b[0m\u001b[0;34m:\u001b[0m\u001b[0;34m\u001b[0m\u001b[0;34m\u001b[0m\u001b[0m\n\u001b[1;32m    233\u001b[0m             raise ValueError(\"x and y can be no greater than 2-D, but have \"\n",
      "\u001b[0;31mValueError\u001b[0m: x and y must have same first dimension, but have shapes (4200, 1) and (607, 1)"
     ]
    },
    {
     "data": {
      "image/png": "[encoded data removed]",
      "text/plain": [
       "<Figure size 432x288 with 1 Axes>"
      ]
     },
     "metadata": {},
     "output_type": "display_data"
    }
   ],
   "source": [
    "dct_test_pretrain = {\n",
    "        mod.prob: 0.,\n",
    "        mod.input_c: chimie_fake_test,\n",
    "        mod.input_cp_a: cp_fake_test[:, 0].reshape(-1, 1),\n",
    "        mod.input_cp_b: cp_fake_test[:, 1].reshape(-1, 1),\n",
    "        mod.input_sc: entro_fake_test.reshape(-1, 1)\n",
    "    }\n",
    "\n",
    "iterations = np.arange(1, NEPOCH + 1, 1)\n",
    "\n",
    "plt.subplot(1, 3, 1)\n",
    "plt.plot(entro_fake_train, sess.run(mod.sctg, feed_dict=dct_train), \"k.\")\n",
    "plt.plot([5, 15], [5, 15], \"k--\")\n",
    "\n",
    "plt.subplot(1, 3, 2)\n",
    "plt.plot(entro_fake_test, sess.run(mod.sctg, feed_dict=dct_test_pretrain), \"k.\")\n",
    "plt.plot([5, 15], [5, 15], \"k--\")\n",
    "\n",
    "ax2 = plt.subplot(1, 3, 3)\n",
    "ax2.plot(iterations, loss_pretrain / X_train_sc.shape[0], 'r-')"
   ]
  },
  {
   "cell_type": "markdown",
   "metadata": {
    "colab_type": "text",
    "id": "G3jKpOdbOpjI"
   },
   "source": [
    "We then train the network for 50,000 iterations. We use the full batch. Should not be a problem as our dataset is relatively small.\n",
    "\n",
    "Convergence is slow.\n",
    "\n",
    "I do not perform early stopping (lines are commented) as it does not bring anything to the training. It stops the training too early.\n",
    "\n",
    "Furthermore, good validation and testing errors are in general obtained because we use dropout, which favour generalization."
   ]
  },
  {
   "cell_type": "code",
   "execution_count": 24,
   "metadata": {
    "colab": {
     "base_uri": "https://localhost:8080/",
     "height": 1070
    },
    "colab_type": "code",
    "executionInfo": {
     "elapsed": 14713,
     "status": "error",
     "timestamp": 1554683182631,
     "user": {
      "displayName": "Charles Ll",
      "photoUrl": "",
      "userId": "05619559028255365437"
     },
     "user_tz": -600
    },
    "id": "FD2AnQ61OpjK",
    "outputId": "6fd5a7a1-242b-49a7-f136-1964e94df3c7"
   },
   "outputs": [
    {
     "name": "stdout",
     "output_type": "stream",
     "text": [
      "Batch train loss at step 0: 50330892.0\n",
      "Batch train loss at step 500: 4227504.5\n",
      "Batch train loss at step 1000: 2093409.75\n",
      "Batch train loss at step 1500: 2115494.0\n",
      "Batch train loss at step 2000: 2021820.125\n",
      "Batch train loss at step 2500: 2144418.75\n",
      "Batch train loss at step 3000: 1886374.875\n",
      "Batch train loss at step 3500: 1850251.25\n"
     ]
    }
   ],
   "source": [
    "NEPOCH = 4000\n",
    "loss_train = np.ones(NEPOCH)  # store the training progress here.\n",
    "\n",
    "for i in range(NEPOCH):\n",
    "    dct_train = {\n",
    "        mod.prob: 0.5,\n",
    "        mod.input_c: chimie_entro,\n",
    "        mod.input_cp_a: cp_entro[:, 0].reshape(-1, 1),\n",
    "        mod.input_cp_b: cp_entro[:, 1].reshape(-1, 1),\n",
    "        mod.input_T: temperature_entro,\n",
    "        mod.input_sc: sc_entro.reshape(-1, 1),\n",
    "        mod.input_tg: tg_entro.reshape(-1, 1)\n",
    "    }\n",
    "\n",
    "    sess.run(mod.optimizer_sctg, feed_dict=dct_train)\n",
    "    loss_train[i] = sess.run(mod.loss_sctg, feed_dict=dct_train)\n",
    "    \n",
    "    if (i % 500 == 0):\n",
    "        print(\"Batch train loss at step {}: {}\".format(\n",
    "            i, loss_train[i]))\n"
   ]
  },
  {
   "cell_type": "code",
   "execution_count": 25,
   "metadata": {
    "colab": {
     "base_uri": "https://localhost:8080/",
     "height": 287
    },
    "colab_type": "code",
    "executionInfo": {
     "elapsed": 1115,
     "status": "ok",
     "timestamp": 1554683186854,
     "user": {
      "displayName": "Charles Ll",
      "photoUrl": "",
      "userId": "05619559028255365437"
     },
     "user_tz": -600
    },
    "id": "WFdc5Cx5OpjY",
    "outputId": "6f0668d8-3e05-46a4-d42d-59ca0e8fc811"
   },
   "outputs": [
    {
     "data": {
      "text/plain": [
       "[<matplotlib.lines.Line2D at 0x7f159a5c4c18>]"
      ]
     },
     "execution_count": 25,
     "metadata": {},
     "output_type": "execute_result"
    },
    {
     "data": {
      "image/png": "[encoded data removed]",
      "text/plain": [
       "<Figure size 432x288 with 3 Axes>"
      ]
     },
     "metadata": {},
     "output_type": "display_data"
    }
   ],
   "source": [
    "dct_train = {\n",
    "        mod.prob: 0.0,\n",
    "        mod.input_c: chimie_entro,\n",
    "        mod.input_cp_a: cp_entro[:, 0].reshape(-1, 1),\n",
    "        mod.input_cp_b: cp_entro[:, 1].reshape(-1, 1),\n",
    "        mod.input_T: temperature_entro,\n",
    "        mod.input_sc: sc_entro.reshape(-1, 1),\n",
    "        mod.input_tg: tg_entro.reshape(-1, 1)\n",
    "    }\n",
    "\n",
    "iterations = np.arange(1, NEPOCH + 1, 1)\n",
    "\n",
    "plt.subplot(1, 3, 1)\n",
    "plt.plot(sc_entro, sess.run(mod.sctg, feed_dict=dct_train), \"k.\")\n",
    "plt.plot([5, 15], [5, 15], \"k--\")\n",
    "\n",
    "plt.subplot(1, 3, 2)\n",
    "plt.plot(tg_entro, sess.run(mod.tg, feed_dict=dct_train), \"k.\")\n",
    "#plt.plot([5, 15], [5, 15], \"k--\")\n",
    "\n",
    "ax2 = plt.subplot(1, 3, 3)\n",
    "ax2.plot(iterations, loss_train / X_train_sc.shape[0], 'r-')\n"
   ]
  },
  {
   "cell_type": "code",
   "execution_count": 26,
   "metadata": {
    "colab": {
     "base_uri": "https://localhost:8080/",
     "height": 34
    },
    "colab_type": "code",
    "executionInfo": {
     "elapsed": 795,
     "status": "ok",
     "timestamp": 1554683202508,
     "user": {
      "displayName": "Charles Ll",
      "photoUrl": "",
      "userId": "05619559028255365437"
     },
     "user_tz": -600
    },
    "id": "zo6f7oNlOpjh",
    "outputId": "0d13fe63-f7f0-4410-c216-02e4adc4cdfa"
   },
   "outputs": [
    {
     "name": "stdout",
     "output_type": "stream",
     "text": [
      "Batch train and valid loss at step 0: 682.536865234375, 51.48933792114258\n"
     ]
    }
   ],
   "source": [
    "NEPOCH = 10000\n",
    "loss_train = np.zeros(NEPOCH) # store the training progress here.\n",
    "loss_valid = np.zeros(NEPOCH) # store the training progress here.\n",
    "\n",
    "min_loss_valid = 10**30\n",
    "early_stop = 0\n",
    "patience = 5\n",
    "optimal_epochs = NEPOCH\n",
    "\n",
    "count_es_record = np.zeros(NEPOCH)\n",
    "\n",
    "for i in range(NEPOCH):\n",
    "    dct_train = {mod.prob: 0.0, mod.input_c: chimie_train, \n",
    "                 mod.input_cp_a: cp_train[:,0].reshape(-1,1),\n",
    "                 mod.input_cp_b: cp_train[:,1].reshape(-1,1),\n",
    "                 mod.input_T: temperature_train, mod.input_y: y_train.reshape(-1,1)}\n",
    "    \n",
    "    dct_valid = {mod.prob: 0.0, mod.input_c: chimie_valid, \n",
    "                 mod.input_cp_a: cp_valid[:,0].reshape(-1,1),\n",
    "                 mod.input_cp_b: cp_valid[:,1].reshape(-1,1),\n",
    "                 mod.input_T: temperature_valid, mod.input_y: y_valid.reshape(-1,1)}\n",
    "    \n",
    "    sess.run(mod.optimizer_n,feed_dict=dct_train)\n",
    "    loss_train[i] = sess.run(mod.loss_n, feed_dict=dct_train)\n",
    "    loss_valid[i] = sess.run(mod.loss_n, feed_dict=dct_valid)\n",
    "    \n",
    "    if (i % 500 == 0):\n",
    "            print(\"Batch train and valid loss at step {}: {}, {}\".format(i, loss_train[i], loss_valid[i]))\n",
    "    \n",
    "    # implement early stopping\n",
    "    if loss_valid[i] < min_loss_valid:  # this is increasing if the new iteration valid RMSE is higher than the old\n",
    "        early_stop = 0\n",
    "        optimal_epochs = i\n",
    "        min_loss_valid = loss_valid[i]\n",
    "    else:\n",
    "        early_stop += 1\n",
    "        \n",
    "    if early_stop > patience:\n",
    "       break\n",
    "    \n",
    "    "
   ]
  },
  {
   "cell_type": "code",
   "execution_count": 27,
   "metadata": {
    "colab": {
     "base_uri": "https://localhost:8080/",
     "height": 332
    },
    "colab_type": "code",
    "executionInfo": {
     "elapsed": 1424,
     "status": "ok",
     "timestamp": 1554683207042,
     "user": {
      "displayName": "Charles Ll",
      "photoUrl": "",
      "userId": "05619559028255365437"
     },
     "user_tz": -600
    },
    "id": "86ZUoCJOOpjn",
    "outputId": "5baeb186-ba33-4777-a984-f974c15d624b"
   },
   "outputs": [
    {
     "name": "stdout",
     "output_type": "stream",
     "text": [
      "OPTIMAL EARLY STOP:\n",
      "[0. 0. 0. ... 0. 0. 0.]\n"
     ]
    },
    {
     "data": {
      "image/png": "[encoded data removed]",
      "text/plain": [
       "<Figure size 432x288 with 3 Axes>"
      ]
     },
     "metadata": {},
     "output_type": "display_data"
    }
   ],
   "source": [
    "iterations = np.arange(1, NEPOCH + 1, 1)\n",
    "\n",
    "plt.subplot(1,2,1)\n",
    "plt.plot(y_train,sess.run(mod.visco_pred, feed_dict=dct_train))\n",
    "plt.plot([0,15],[0,15],\"k--\")\n",
    "\n",
    "ax2 = plt.subplot(1, 2, 2)\n",
    "ax2.plot(iterations, loss_train / X_train_sc.shape[0], 'r-')\n",
    "ax2.plot(iterations, loss_valid / X_valid_sc.shape[0], 'b-')\n",
    "plt.xlim(0, 200)\n",
    "#plt.ylim(0, 2.)\n",
    "\n",
    "ax2b = ax2.twinx()\n",
    "ax2b.plot(iterations, count_es_record)\n",
    "plt.tight_layout()\n",
    "\n",
    "print(\"OPTIMAL EARLY STOP:\")\n",
    "print(count_es_record[loss_valid == np.min(loss_valid[\n",
    "    iterations < 1100])])\n",
    "\n",
    "plt.savefig(\"epochs_ag.pdf\")"
   ]
  },
  {
   "cell_type": "markdown",
   "metadata": {
    "colab_type": "text",
    "id": "pgzS850KOpju"
   },
   "source": [
    "Here this is supposed to save the model, which then can be re-used by tensorflow server..."
   ]
  },
  {
   "cell_type": "code",
   "execution_count": 20,
   "metadata": {
    "colab": {
     "base_uri": "https://localhost:8080/",
     "height": 69
    },
    "colab_type": "code",
    "executionInfo": {
     "elapsed": 730,
     "status": "ok",
     "timestamp": 1554682404033,
     "user": {
      "displayName": "Charles Ll",
      "photoUrl": "",
      "userId": "05619559028255365437"
     },
     "user_tz": -600
    },
    "id": "k7RYyzNdOpjw",
    "outputId": "d76adf76-be40-45aa-a0c2-57e6fd2bbaf8"
   },
   "outputs": [
    {
     "name": "stdout",
     "output_type": "stream",
     "text": [
      "WARNING:tensorflow:From <ipython-input-20-ad5cdd247d99>:6: simple_save (from tensorflow.python.saved_model.simple_save) is deprecated and will be removed in a future version.\n",
      "Instructions for updating:\n",
      "This function will only be available through the v1 compatibility library as tf.compat.v1.saved_model.simple_save.\n",
      "WARNING:tensorflow:From /home/charles/miniconda3/envs/py36/lib/python3.6/site-packages/tensorflow/python/saved_model/signature_def_utils_impl.py:205: build_tensor_info (from tensorflow.python.saved_model.utils_impl) is deprecated and will be removed in a future version.\n",
      "Instructions for updating:\n",
      "This function will only be available through the v1 compatibility library as tf.compat.v1.saved_model.utils.build_tensor_info or tf.compat.v1.saved_model.build_tensor_info.\n",
      "INFO:tensorflow:Assets added to graph.\n",
      "INFO:tensorflow:No assets to write.\n",
      "INFO:tensorflow:SavedModel written to: ./model/Pretrain7_ReluD0p5_RMSP_3units_20it_10000/saved_model.pb\n"
     ]
    }
   ],
   "source": [
    "name_out = \"Pretrain7_ReluD0p5_RMSP_\"+str(NLAYER)+\"units_\"+str(NHIDDEN)+\"it_\"+str(NEPOCH)\n",
    "\n",
    "tf.saved_model.simple_save(sess,\n",
    "            \"./model/\"+name_out,\n",
    "            inputs={\"chimie\": mod.input_c, \"T\": mod.input_T},\n",
    "            outputs={\"visco_pred\": mod.visco_pred})"
   ]
  },
  {
   "cell_type": "code",
   "execution_count": 21,
   "metadata": {
    "colab": {},
    "colab_type": "code",
    "id": "b-BVSHuqOpj3"
   },
   "outputs": [],
   "source": [
    "dct_train = {mod.prob: 0.0, mod.input_c: chimie_train, \n",
    "                 mod.input_cp_a: cp_train[:,0].reshape(-1,1),\n",
    "                 mod.input_cp_b: cp_train[:,1].reshape(-1,1),\n",
    "                 mod.input_T: temperature_train, mod.input_y: y_train.reshape(-1,1)}\n",
    "    \n",
    "dct_valid = {mod.prob: 0.0, mod.input_c: chimie_valid, \n",
    "             mod.input_cp_a: cp_valid[:,0].reshape(-1,1),\n",
    "             mod.input_cp_b: cp_valid[:,1].reshape(-1,1),\n",
    "             mod.input_T: temperature_valid, mod.input_y: y_valid.reshape(-1,1)}\n",
    "\n",
    "train_pred_out = sess.run(mod.visco_pred,feed_dict=dct_train)\n",
    "valid_pred_out = sess.run(mod.visco_pred,feed_dict=dct_valid)\n",
    "test_pred_out = sess.run(mod.visco_pred,feed_dict={mod.input_c: chimie_test, \n",
    "                 mod.input_cp_a: cp_test[:,0].reshape(-1,1),\n",
    "                 mod.input_cp_b: cp_test[:,1].reshape(-1,1),\n",
    "                 mod.input_T: temperature_test, mod.input_y: y_test.reshape(-1,1)})\n",
    "\n"
   ]
  },
  {
   "cell_type": "code",
   "execution_count": 22,
   "metadata": {
    "colab": {
     "base_uri": "https://localhost:8080/",
     "height": 585
    },
    "colab_type": "code",
    "executionInfo": {
     "elapsed": 1938,
     "status": "ok",
     "timestamp": 1554683213015,
     "user": {
      "displayName": "Charles Ll",
      "photoUrl": "",
      "userId": "05619559028255365437"
     },
     "user_tz": -600
    },
    "id": "y1Ix_mRVOpj-",
    "outputId": "13d48896-5c75-45c1-cd30-71d89dc77305"
   },
   "outputs": [
    {
     "data": {
      "image/png": "[encoded data removed]",
      "text/plain": [
       "<Figure size 288x576 with 3 Axes>"
      ]
     },
     "metadata": {},
     "output_type": "display_data"
    }
   ],
   "source": [
    "plt.figure(figsize=(4,8))\n",
    "plt.subplot(3,1,1)\n",
    "plt.title(\"A) Train\")\n",
    "plt.plot(y_train, train_pred_out,\"k.\")\n",
    "\n",
    "plt.plot([-3,15],[-3,15],\"--\",color=\"grey\")\n",
    "\n",
    "plt.xlim(-3,15)\n",
    "plt.ylim(-3,15)\n",
    "\n",
    "plt.annotate(\"RMSE %.2f\" % np.sqrt(mean_squared_error(y_train, train_pred_out)),xy=(0.05,0.9),xycoords=\"axes fraction\")\n",
    "\n",
    "plt.subplot(3,1,2)\n",
    "plt.title(\"B) Valid\")\n",
    "plt.plot(y_valid, valid_pred_out,\"k.\")\n",
    "\n",
    "plt.plot([-3,15],[-3,15],\"--\",color=\"grey\")\n",
    "\n",
    "plt.xlim(-3,15)\n",
    "plt.ylim(-3,15)\n",
    "\n",
    "plt.annotate(\"RMSE %.2f\" % np.sqrt(mean_squared_error(y_valid, valid_pred_out)),xy=(0.05,0.9),xycoords=\"axes fraction\")\n",
    "\n",
    "plt.ylabel(\"Predicted $\\eta$, log Pa$\\cdot$s\")\n",
    "\n",
    "plt.subplot(3,1,3)\n",
    "plt.title(\"C) Test\")\n",
    "plt.plot(y_test, test_pred_out,\"r.\")\n",
    "\n",
    "plt.plot([-3,15],[-3,15],\"--\",color=\"grey\")\n",
    "\n",
    "plt.xlim(-3,15)\n",
    "plt.ylim(-3,15)\n",
    "\n",
    "plt.annotate(\"RMSE %.2f\" % np.sqrt(mean_squared_error(y_test, test_pred_out)),xy=(0.05,0.9),xycoords=\"axes fraction\")\n",
    "\n",
    "plt.xlabel(\"Measured $\\eta$, log Pa$\\cdot$s\")\n",
    "\n",
    "plt.tight_layout()"
   ]
  },
  {
   "cell_type": "code",
   "execution_count": 140,
   "metadata": {
    "colab": {
     "base_uri": "https://localhost:8080/",
     "height": 283
    },
    "colab_type": "code",
    "executionInfo": {
     "elapsed": 1142,
     "status": "ok",
     "timestamp": 1554683224881,
     "user": {
      "displayName": "Charles Ll",
      "photoUrl": "",
      "userId": "05619559028255365437"
     },
     "user_tz": -600
    },
    "id": "cv55-ZU1QNaM",
    "outputId": "4e2c10dc-e3f2-4b3b-8f69-67f949a2f83d"
   },
   "outputs": [
    {
     "data": {
      "text/plain": [
       "[<matplotlib.lines.Line2D at 0x7f84ddb0c0b8>]"
      ]
     },
     "execution_count": 140,
     "metadata": {},
     "output_type": "execute_result"
    },
    {
     "data": {
      "image/png": "[encoded data removed]",
      "text/plain": [
       "<Figure size 432x288 with 2 Axes>"
      ]
     },
     "metadata": {},
     "output_type": "display_data"
    }
   ],
   "source": [
    "dct_train = {\n",
    "        mod.prob: 0.0,\n",
    "        mod.input_c: chimie_entro,\n",
    "        mod.input_cp_a: cp_entro[:, 0].reshape(-1, 1),\n",
    "        mod.input_cp_b: cp_entro[:, 1].reshape(-1, 1),\n",
    "        mod.input_T: temperature_entro,\n",
    "        mod.input_sc: sc_entro.reshape(-1, 1),\n",
    "        mod.input_tg: tg_entro.reshape(-1, 1)\n",
    "    }\n",
    "\n",
    "\n",
    "plt.subplot(1, 3, 1)\n",
    "plt.plot(sc_entro, sess.run(mod.sctg, feed_dict=dct_train), \"k.\")\n",
    "plt.plot([5, 15], [5, 15], \"k--\")\n",
    "\n",
    "plt.subplot(1, 3, 2)\n",
    "plt.plot(tg_entro, sess.run(mod.tg, feed_dict=dct_train), \"k.\")\n",
    "#plt.plot([5, 15], [5, 15], \"k--\")"
   ]
  },
  {
   "cell_type": "code",
   "execution_count": 0,
   "metadata": {
    "colab": {},
    "colab_type": "code",
    "id": "U1ynbU2mXTkt"
   },
   "outputs": [],
   "source": []
  }
 ],
 "metadata": {
  "accelerator": "GPU",
  "colab": {
   "collapsed_sections": [],
   "name": "Train_AG_CPProvided.ipynb",
   "provenance": [],
   "toc_visible": true,
   "version": "0.3.2"
  },
  "kernelspec": {
   "display_name": "Python 3",
   "language": "python",
   "name": "python3"
  },
  "language_info": {
   "codemirror_mode": {
    "name": "ipython",
    "version": 3
   },
   "file_extension": ".py",
   "mimetype": "text/x-python",
   "name": "python",
   "nbconvert_exporter": "python",
   "pygments_lexer": "ipython3",
   "version": "3.6.7"
  }
 },
 "nbformat": 4,
 "nbformat_minor": 1
}
