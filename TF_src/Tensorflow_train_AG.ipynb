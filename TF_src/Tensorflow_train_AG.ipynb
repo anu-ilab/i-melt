{
 "cells": [
  {
   "cell_type": "code",
   "execution_count": 1,
   "metadata": {},
   "outputs": [],
   "source": [
    "########## Calling relevant libraries ##########\n",
    "%matplotlib inline\n",
    "import numpy as np\n",
    "from sklearn.metrics import mean_squared_error\n",
    "import scipy\n",
    "\n",
    "# Setting matplotlib options for this notebook\n",
    "import matplotlib\n",
    "from matplotlib import pyplot as plt\n",
    "\n",
    "import tensorflow as tf\n",
    "\n",
    "import sklearn\n",
    "from sklearn.externals import joblib\n",
    "\n",
    "import neuravi"
   ]
  },
  {
   "cell_type": "markdown",
   "metadata": {},
   "source": [
    "# Loading dataset\n",
    "\n",
    "Dataset has been prepared before`"
   ]
  },
  {
   "cell_type": "code",
   "execution_count": 2,
   "metadata": {
    "code_folding": []
   },
   "outputs": [],
   "source": [
    "d = neuravi.Data(\"./data/\")"
   ]
  },
  {
   "cell_type": "code",
   "execution_count": 3,
   "metadata": {},
   "outputs": [
    {
     "data": {
      "text/plain": [
       "<neuravi.Data at 0x7f2606616208>"
      ]
     },
     "execution_count": 3,
     "metadata": {},
     "output_type": "execute_result"
    }
   ],
   "source": [
    "d"
   ]
  },
  {
   "cell_type": "markdown",
   "metadata": {},
   "source": [
    "# model with TensorFlow and A-G\n",
    "\n",
    "The past example with scikit-learn directly relates the melt composition and temperature to it's viscosity.\n",
    "\n",
    "We saw that the problem with this approach is that it underuses our knowledge of how viscosity and temperature vary. This creates too much noise when predicting viscosity over T for one composition.\n",
    "\n",
    "A way to solve that is to use the neiural net to map the chemical dependence of the parameters that enter into the equation(s) that link viscosity to temperature. As we can use any equation, best if we can actually use the Adam and Gibbs one as it bring thermodynamic information on the melt.\n",
    "\n",
    "If neural nets work, it should return an internally consistent model that should predict well the entropy and heat capacity of the melt.\n",
    "\n",
    "Good thing is we know those values for some melts, such that we can trully quantify the success of the neural net.\n",
    "\n",
    "$a^b$\n",
    "\n",
    "The viscosity equation is:\n",
    "\n",
    "\n",
    "$$log(\\eta) = A_{e} + \\frac{B_{e}}{T \\times (S^{conf}(T_{g}) + \\int_{T_{g}}^{T} \\frac{\\Delta C_p}{T} dT)}$$ \n",
    "\n",
    "where \n",
    "\n",
    "$$ \\int_{T_{g}}^{T} \\frac{\\Delta C_p}{T} dT = ap \\times (log(T) - log(T_{g})) + b \\times(T-T_{g}) $$\n",
    "\n",
    "\n",
    "$A_{e}$ is a constant proportional to the viscosity at infinite temperature. It barely depends on melt composition.\n",
    "\n",
    "$B_{e}$ is a constant proportional to energy barriers opposed to viscous flow. It strongly depends on melt composition.\n",
    "\n",
    "S^{conf}(T_{g}) is the configurational entropy of the melt at the glass transition temperature $T_g$ (temperature at which you consider that the melt becomes a glass.\n",
    "\n",
    "$ap$ and $b$ are parameters that depend on melt composition. We have data and models for those; they nearly linearly depend on melt composition. (this can be discussed for b)\n",
    "\n",
    "## Approach with neural net\n",
    "\n",
    "The idea is to link the melt composition (14 variables) to the parameters $A_{e}$, $B_{e}$, $S^{conf}(T_{g})$, $ap$ and $b$ with a neural network.\n",
    "\n",
    "We can calculate $T_{g}$ as \n",
    "\n",
    "$$ T_{g} = \\frac{B_{e}}{((12.0-A_{e}) \\times S^{conf}(T_{g}))} $$\n",
    "\n",
    "with the empirical definition that $T_{g}$ occurs when the viscosity reaches around 12 log Pa $\\cdot$ s.\n",
    "\n",
    "This helps removing one parameter and should help to have a self-consistent model.\n",
    "\n",
    "At this stage, we could use existing models for $ap$ and $b$, but there we assume that those models, which are 30 years old, are good-enough.\n",
    "\n",
    "Another approach, which I adopt in the following, is to let the neural net determines $ap$ and $b$, such that we can compore those in the future with existing models.\n",
    "\n",
    "If the neural net is good, we should find consistent results.\n",
    "\n",
    "## Let's start\n",
    "\n",
    "First I define the arrays that store the chemical composition and temperature.\n",
    "\n",
    "viscosity (y values) are already saved in y_train/y_valid/y_test."
   ]
  },
  {
   "cell_type": "code",
   "execution_count": 4,
   "metadata": {},
   "outputs": [
    {
     "data": {
      "text/plain": [
       "array([[ 1.0000000e+00,  0.0000000e+00,  0.0000000e+00, ...,\n",
       "         6.5440000e+00,  0.0000000e+00,  2.7550000e+03],\n",
       "       [ 1.0000000e+00,  0.0000000e+00,  0.0000000e+00, ...,\n",
       "         6.5440000e+00,  0.0000000e+00,  2.6550000e+03],\n",
       "       [ 1.0000000e+00,  0.0000000e+00,  0.0000000e+00, ...,\n",
       "         6.5440000e+00,  0.0000000e+00,  2.5410000e+03],\n",
       "       ...,\n",
       "       [ 7.2000000e-01,  7.0000000e-02,  0.0000000e+00, ...,\n",
       "        -2.4827016e+00,  9.9148000e-03,  8.9100000e+02],\n",
       "       [ 7.2000000e-01,  7.0000000e-02,  0.0000000e+00, ...,\n",
       "        -2.4827016e+00,  9.9148000e-03,  8.7200000e+02],\n",
       "       [ 7.2000000e-01,  7.0000000e-02,  0.0000000e+00, ...,\n",
       "        -2.4827016e+00,  9.9148000e-03,  8.5200000e+02]])"
      ]
     },
     "execution_count": 4,
     "metadata": {},
     "output_type": "execute_result"
    }
   ],
   "source": [
    "d.X_train"
   ]
  },
  {
   "cell_type": "code",
   "execution_count": 5,
   "metadata": {},
   "outputs": [],
   "source": [
    "# we have the chemical composition as X train/valid/test, but also the temperature\n",
    "\n",
    "chimie_train = d.X_train[:,0:4] # 14 for all dataset, 4 for KNAS\n",
    "cp_train = d.X_train[:,(4,5)]\n",
    "temperature_train = d.X_train[:,6].reshape(-1,1)\n",
    "\n",
    "chimie_valid = d.X_valid[:,0:4]\n",
    "cp_valid = d.X_valid[:,(4,5)]\n",
    "temperature_valid = d.X_valid[:,6].reshape(-1,1)\n",
    "\n",
    "chimie_test = d.X_test[:,0:4]\n",
    "cp_test = d.X_test[:,(4,5)]\n",
    "temperature_test = d.X_test[:,6].reshape(-1,1)\n",
    "\n",
    "# rescale chimie between 0 and 1\n",
    "\n",
    "chimie_train = chimie_train/chimie_train.sum(axis=1).reshape(-1,1)\n",
    "chimie_valid = chimie_valid/chimie_valid.sum(axis=1).reshape(-1,1)\n",
    "chimie_test = chimie_test/chimie_test.sum(axis=1).reshape(-1,1)"
   ]
  },
  {
   "cell_type": "markdown",
   "metadata": {},
   "source": [
    "We then create an object to create a network with 1 to 5 layers (ReLu activation units + dropout),\n",
    "\n",
    "Following the reading of Kaufl, we will initiate the bias of the output neural net layer to values of parameters that are not far from reality.\n",
    "\n",
    "Then results of output layer are used to calculate the parameters of the A-G equation (see above), which, in turn, gives the viscosity.\n",
    "\n",
    "We use a L2 loss to determine distance from targets.\n",
    "\n",
    "Optimizer is RMSprop, it seems the most stable from my test.\n",
    "\n",
    "The code for the object is in the file neuravi.py"
   ]
  },
  {
   "cell_type": "code",
   "execution_count": 6,
   "metadata": {},
   "outputs": [],
   "source": [
    "class Model_AG(object):\n",
    "    \"\"\"\n",
    "    derived from  https://github.com/adventuresinML/adventures-in-ml-code/blob/master/weight_init_tensorflow.py\n",
    "    \"\"\"\n",
    "    def __init__(self, input_size, \n",
    "                num_layers=3,\n",
    "                hidden_size=100,\n",
    "                stdev = 0.01,\n",
    "                learning_rate = 1e-4):\n",
    "        \n",
    "        self._input_size = input_size\n",
    "        self._num_layers = num_layers # num layers does not include the input layer\n",
    "        self._hidden_size = hidden_size # all layers have the same number of hidden units\n",
    "        self._out_size = 4 # fixed regarding the problem shape\n",
    "        self._init_bias = np.array([np.log(40000.),np.log(5.1),np.log(10.),np.log(0.0001)])\n",
    "        self._stdev = stdev\n",
    "        self._learning_rate = learning_rate\n",
    "        self._model_def()\n",
    "        \n",
    "    def _model_def(self):\n",
    "        # create placeholder variables\n",
    "        self.input_c = tf.placeholder(dtype=tf.float32, shape=[None,self._input_size], name=\"chimie\")\n",
    "        self.input_T = tf.placeholder(dtype=tf.float32, shape=[None,1], name=\"T\")\n",
    "        self.input_y = tf.placeholder(dtype=tf.float32, shape=[None,1], name=\"viscosity\")\n",
    "        self.prob = tf.placeholder_with_default(1.0, shape=())\n",
    "\n",
    "        if self._num_layers >= 1:\n",
    "            \n",
    "            self.Wh1 = tf.Variable(tf.random_normal([self._input_size,self._hidden_size], stddev=self._stdev, dtype=tf.float32))\n",
    "            self.bh1 = tf.Variable(tf.random_normal([1,self._hidden_size], stddev=self._stdev, dtype=tf.float32))\n",
    "            \n",
    "            self.hidden_layer_1 = tf.nn.dropout(tf.nn.relu(tf.matmul(self.input_c, self.Wh1) + self.bh1),\n",
    "                                                keep_prob=self.prob,\n",
    "                                                name=\"layer1\")\n",
    "            \n",
    "        if self._num_layers >= 2:\n",
    "            \n",
    "            self.Wh2 = tf.Variable(tf.random_normal([self._hidden_size,self._hidden_size], stddev=self._stdev, dtype=tf.float32))\n",
    "            self.bh2 = tf.Variable(tf.random_normal([1,self._hidden_size], stddev=self._stdev, dtype=tf.float32))\n",
    "\n",
    "            self.hidden_layer_2 = tf.nn.dropout(tf.nn.relu(tf.matmul(self.hidden_layer_1, self.Wh2) + self.bh2),\n",
    "                                                keep_prob=self.prob,\n",
    "                                                name=\"layer2\")\n",
    "        \n",
    "        if self._num_layers >= 3:\n",
    "        \n",
    "            self.Wh3 = tf.Variable(tf.random_normal([self._hidden_size,self._hidden_size], stddev=self._stdev, dtype=tf.float32))\n",
    "            self.bh3 = tf.Variable(tf.random_normal([1,self._hidden_size], stddev=self._stdev, dtype=tf.float32))\n",
    "            \n",
    "            self.hidden_layer_3 = tf.nn.dropout(tf.nn.relu(tf.matmul(self.hidden_layer_2, self.Wh3) + self.bh3),\n",
    "                                                keep_prob=self.prob,\n",
    "                                                name=\"layer3\")\n",
    "            \n",
    "        if self._num_layers >= 4:\n",
    "        \n",
    "            self.Wh4 = tf.Variable(tf.random_normal([self._hidden_size,self._hidden_size], stddev=self._stdev, dtype=tf.float32))\n",
    "            self.bh4 = tf.Variable(tf.random_normal([1,self._hidden_size], stddev=self._stdev, dtype=tf.float32))\n",
    "            \n",
    "            self.hidden_layer_4 = tf.nn.dropout(tf.nn.relu(tf.matmul(self.hidden_layer_3, self.Wh4) + self.bh4),\n",
    "                                                keep_prob=self.prob,\n",
    "                                                name=\"layer4\")\n",
    "            \n",
    "        if self._num_layers == 5:\n",
    "        \n",
    "            self.Wh5 = tf.Variable(tf.random_normal([self._hidden_size,self._hidden_size], stddev=self._stdev, dtype=tf.float32))\n",
    "            self.bh5 = tf.Variable(tf.random_normal([1,self._hidden_size], stddev=self._stdev, dtype=tf.float32))\n",
    "            \n",
    "            self.hidden_layer_5 = tf.nn.dropout(tf.nn.relu(tf.matmul(self.hidden_layer_4, self.Wh5) + self.bh5),\n",
    "                                                keep_prob=self.prob,\n",
    "                                                name=\"layer5\")\n",
    "\n",
    "        self.Wo = tf.Variable(tf.random_normal([self._hidden_size,self._out_size], mean=0.,stddev=self._stdev, dtype=tf.float32))\n",
    "        self.bo = tf.Variable(tf.random_normal([1,self._out_size], mean=self._init_bias, stddev=self._init_bias*self._stdev, dtype=tf.float32))\n",
    "\n",
    "        if self._num_layers == 1:\n",
    "            self.output = tf.add(tf.matmul(self.hidden_layer_1,self.Wo),self.bo,name=\"out_neurons\")\n",
    "        elif self._num_layers == 2:\n",
    "            self.output = tf.add(tf.matmul(self.hidden_layer_2,self.Wo),self.bo,name=\"out_neurons\")\n",
    "        elif self._num_layers == 3:\n",
    "            self.output = tf.add(tf.matmul(self.hidden_layer_3,self.Wo),self.bo,name=\"out_neurons\")\n",
    "        elif self._num_layers == 4:\n",
    "            self.output = tf.add(tf.matmul(self.hidden_layer_4,self.Wo),self.bo,name=\"out_neurons\")\n",
    "        elif self._num_layers == 5:\n",
    "            self.output = tf.add(tf.matmul(self.hidden_layer_5,self.Wo),self.bo,name=\"out_neurons\")\n",
    "        else:\n",
    "            print(\"Error: choose between 1 to 5 layers\")\n",
    "        \n",
    "        #\n",
    "        # Adam and Gibbs with network outputs\n",
    "        #\n",
    "        #self.ae = tf.placeholder(dtype=tf.float32, shape=[None,1], name=\"Ae_ph\")\n",
    "        self.be = tf.placeholder(dtype=tf.float32, shape=[None,1], name=\"Be_ph\")\n",
    "        self.sctg = tf.placeholder(dtype=tf.float32, shape=[None,1], name=\"ScTg_ph\")\n",
    "        self.ap = tf.placeholder(dtype=tf.float32, shape=[None,1], name=\"ap_ph\")\n",
    "        self.b = tf.placeholder(dtype=tf.float32, shape=[None,1], name=\"b_ph\")\n",
    "        \n",
    "        self.be, self.sctg, self.ap, self.b = tf.split(self.output,4,axis=1)\n",
    "\n",
    "        self.ae = tf.Variable(tf.zeros([1]),name=\"Ae\")\n",
    "        \n",
    "        # cannot be negative\n",
    "        self.be = tf.exp(self.be,name=\"Be\")\n",
    "        self.sctg = tf.exp(self.sctg,name=\"entropy_Tg\")\n",
    "        self.ap = tf.exp(self.ap, name=\"ap\")\n",
    "        self.b = tf.exp(self.b, name=\"b\")\n",
    "        \n",
    "        self.tg = tf.divide(self.be,np.multiply((12.0-self.ae),self.sctg),name=\"Tg\")\n",
    "        \n",
    "        self.dCp = tf.add(tf.multiply(self.ap,(tf.log(self.input_T)-tf.log(self.tg))),\n",
    "                          tf.multiply(self.b,(self.input_T-self.tg)),name=\"dCp\")\n",
    "\n",
    "        self.entropy = tf.add(self.sctg,self.dCp,name=\"entropy_T\")\n",
    "\n",
    "        self.denom_n =tf.multiply(self.input_T,self.entropy,name=\"denominator_AG\")\n",
    "        \n",
    "        self.visco_pred = tf.add(self.ae,np.divide(self.be,self.denom_n),name=\"visco_pred\")\n",
    "        \n",
    "        self.loss = tf.nn.l2_loss(self.visco_pred-self.input_y,name=\"loss_fct\")\n",
    "                                                                            \n",
    "        # add the loss to the summary\n",
    "        tf.summary.scalar('loss', self.loss)\n",
    "        self.optimizer = tf.train.RMSPropOptimizer(self._learning_rate).minimize(self.loss)\n",
    "        self.merged = tf.summary.merge_all()\n",
    "        self.init_op = tf.global_variables_initializer()"
   ]
  },
  {
   "cell_type": "code",
   "execution_count": 7,
   "metadata": {},
   "outputs": [],
   "source": [
    "NIN = chimie_train.shape[1]\n",
    "NHIDDEN = 100\n",
    "NLAYER = 1\n",
    "STDEV = 0.001\n",
    "\n",
    "mod = Model_AG(NIN, num_layers=NLAYER,hidden_size=NHIDDEN)"
   ]
  },
  {
   "cell_type": "markdown",
   "metadata": {},
   "source": [
    "We start a TF Interactive Session to initiate our model, and look at the initial predictions.\n",
    "\n",
    "The idea is to avoid starting the training with an initial model very far from reality...\n",
    "\n",
    "So we run this cell again and again until we see a relatively close correspondance.\n",
    "\n",
    "Initial predictions should be in a -5 - 20 range... If not, too much iterations are required for proper convergence...\n",
    "\n",
    "We just avoid values at 10^20...."
   ]
  },
  {
   "cell_type": "code",
   "execution_count": 8,
   "metadata": {},
   "outputs": [
    {
     "name": "stdout",
     "output_type": "stream",
     "text": [
      "OK, no interactive session running\n"
     ]
    },
    {
     "data": {
      "text/plain": [
       "[<matplotlib.lines.Line2D at 0x7f260405ac18>]"
      ]
     },
     "execution_count": 8,
     "metadata": {},
     "output_type": "execute_result"
    },
    {
     "data": {
      "image/png": "[encoded data removed]",
      "text/plain": [
       "<Figure size 432x288 with 1 Axes>"
      ]
     },
     "metadata": {},
     "output_type": "display_data"
    }
   ],
   "source": [
    "try:\n",
    "    sess.close()\n",
    "except:\n",
    "    print(\"OK, no interactive session running\")\n",
    "\n",
    "sess = tf.InteractiveSession()\n",
    "sess.run(mod.init_op)\n",
    "\n",
    "pred_ini= sess.run(mod.visco_pred,feed_dict={mod.input_c: chimie_train, \n",
    "                                             mod.input_T: temperature_train, \n",
    "                                             mod.input_y: d.y_train.reshape(-1,1)})\n",
    "plt.figure()\n",
    "plt.plot(d.y_train, pred_ini)"
   ]
  },
  {
   "cell_type": "markdown",
   "metadata": {},
   "source": [
    "We then train the network for 50,000 iterations. We use the full batch. Should not be a problem as our dataset is relatively small.\n",
    "\n",
    "Convergence is slow.\n",
    "\n",
    "I do not perform early stopping (lines are commented) as it does not bring anything to the training. It stops the training too early.\n",
    "\n",
    "Furthermore, good validation and testing errors are in general obtained because we use dropout, which favour generalization."
   ]
  },
  {
   "cell_type": "code",
   "execution_count": 9,
   "metadata": {},
   "outputs": [
    {
     "name": "stdout",
     "output_type": "stream",
     "text": [
      "Batch train and valid loss at step 0: 6060.2509765625, 672.030517578125\n",
      "Batch train and valid loss at step 500: 3974.79052734375, 258.9619140625\n",
      "Batch train and valid loss at step 1000: 2489.03369140625, 253.2799835205078\n",
      "Batch train and valid loss at step 1500: 1663.8785400390625, 216.7955322265625\n",
      "Batch train and valid loss at step 2000: 897.9400634765625, 112.12773895263672\n",
      "Batch train and valid loss at step 2500: 766.64404296875, 117.65076446533203\n",
      "Batch train and valid loss at step 3000: 711.3162841796875, 112.19066619873047\n",
      "Batch train and valid loss at step 3500: 651.8505249023438, 109.31610870361328\n",
      "Batch train and valid loss at step 4000: 577.222900390625, 104.91302490234375\n",
      "Batch train and valid loss at step 4500: 486.7978210449219, 96.68827056884766\n",
      "Batch train and valid loss at step 5000: 391.79095458984375, 91.98029327392578\n",
      "Batch train and valid loss at step 5500: 313.4339904785156, 81.29695129394531\n",
      "Batch train and valid loss at step 6000: 261.680419921875, 73.67906188964844\n",
      "Batch train and valid loss at step 6500: 223.36300659179688, 68.08338165283203\n",
      "Batch train and valid loss at step 7000: 192.9857177734375, 58.133758544921875\n",
      "Batch train and valid loss at step 7500: 167.01235961914062, 53.448421478271484\n",
      "Batch train and valid loss at step 8000: 146.81304931640625, 51.213130950927734\n",
      "Batch train and valid loss at step 8500: 130.7831268310547, 48.229888916015625\n",
      "Batch train and valid loss at step 9000: 115.6476821899414, 43.92188262939453\n",
      "Batch train and valid loss at step 9500: 102.03971099853516, 43.57038497924805\n"
     ]
    }
   ],
   "source": [
    "NEPOCH = 10000\n",
    "loss_train = np.zeros(NEPOCH) # store the training progress here.\n",
    "loss_valid = np.zeros(NEPOCH) # store the training progress here.\n",
    "\n",
    "early_stop = 1000 # not used below\n",
    "count_es = 0\n",
    "\n",
    "for i in range(NEPOCH):\n",
    "    dct_train = {mod.prob: 1.0, mod.input_c: chimie_train, mod.input_T: temperature_train, mod.input_y: d.y_train.reshape(-1,1)}\n",
    "    dct_valid = {mod.input_c: chimie_valid, mod.input_T: temperature_valid, mod.input_y: d.y_valid.reshape(-1,1)}\n",
    "    \n",
    "    sess.run(mod.optimizer,feed_dict=dct_train)\n",
    "    loss_train[i] = sess.run(mod.loss, feed_dict=dct_train)\n",
    "    loss_valid[i] = sess.run(mod.loss, feed_dict=dct_valid)\n",
    "    \n",
    "    if (i % 500 == 0):\n",
    "            print(\"Batch train and valid loss at step {}: {}, {}\".format(i, loss_train[i], loss_valid[i]))\n",
    "    \n",
    "    # implement early stopping\n",
    "    if loss_valid[i]>loss_valid[i-1]:\n",
    "        count_es += 1\n",
    "        \n",
    "    #if count_es > early_stop:\n",
    "    #    break\n",
    "        "
   ]
  },
  {
   "cell_type": "code",
   "execution_count": 10,
   "metadata": {},
   "outputs": [
    {
     "data": {
      "image/png": "[encoded data removed]",
      "text/plain": [
       "<Figure size 576x576 with 1 Axes>"
      ]
     },
     "metadata": {},
     "output_type": "display_data"
    },
    {
     "data": {
      "text/plain": [
       "<Figure size 432x288 with 0 Axes>"
      ]
     },
     "metadata": {},
     "output_type": "display_data"
    }
   ],
   "source": [
    "plt.figure(figsize=(8, 8))\n",
    "plt.plot(np.arange(0, NEPOCH,1), loss_train/d.X_train.shape[0], 'r-')\n",
    "plt.plot(np.arange(0, NEPOCH,1), loss_valid/d.X_valid.shape[0], 'b-')\n",
    "plt.ylim(0,5)\n",
    "plt.show()\n",
    "plt.savefig(\"epochs_ag.pdf\")"
   ]
  },
  {
   "cell_type": "markdown",
   "metadata": {},
   "source": [
    "Here this is supposed to save the model, which then can be re-used by tensorflow server..."
   ]
  },
  {
   "cell_type": "code",
   "execution_count": 11,
   "metadata": {},
   "outputs": [
    {
     "name": "stdout",
     "output_type": "stream",
     "text": [
      "INFO:tensorflow:Assets added to graph.\n",
      "INFO:tensorflow:No assets to write.\n",
      "INFO:tensorflow:SavedModel written to: ./model/KNAS_AG_noCp_layer_1units_100it_10000/saved_model.pb\n"
     ]
    }
   ],
   "source": [
    "name_out = \"KNAS_AG_noCp_layer_\"+str(NLAYER)+\"units_\"+str(NHIDDEN)+\"it_\"+str(NEPOCH)\n",
    "\n",
    "tf.saved_model.simple_save(sess,\n",
    "            \"./model/\"+name_out,\n",
    "            inputs={\"chimie\": mod.input_c, \"T\": mod.input_T},\n",
    "            outputs={\"visco_pred\": mod.visco_pred})"
   ]
  },
  {
   "cell_type": "code",
   "execution_count": 12,
   "metadata": {},
   "outputs": [
    {
     "data": {
      "image/png": "[encoded data removed]",
      "text/plain": [
       "<Figure size 288x576 with 3 Axes>"
      ]
     },
     "metadata": {},
     "output_type": "display_data"
    }
   ],
   "source": [
    "train_pred_out = sess.run(mod.visco_pred,feed_dict=dct_train)\n",
    "valid_pred_out = sess.run(mod.visco_pred,feed_dict=dct_valid)\n",
    "test_pred_out = sess.run(mod.visco_pred,feed_dict={mod.input_c: chimie_test, \n",
    "                 mod.input_T: temperature_test, mod.input_y: d.y_test.reshape(-1,1)})\n",
    "\n",
    "plt.figure(figsize=(4,8))\n",
    "plt.subplot(3,1,1)\n",
    "plt.title(\"A) Train\")\n",
    "plt.plot(d.y_train, train_pred_out,\"k.\")\n",
    "\n",
    "plt.plot([-3,15],[-3,15],\"--\",color=\"grey\")\n",
    "\n",
    "plt.xlim(-3,15)\n",
    "plt.ylim(-3,15)\n",
    "\n",
    "plt.annotate(\"RMSE %.2f\" % np.sqrt(mean_squared_error(d.y_train, train_pred_out)),xy=(0.05,0.9),xycoords=\"axes fraction\")\n",
    "\n",
    "plt.subplot(3,1,2)\n",
    "plt.title(\"B) Valid\")\n",
    "plt.plot(d.y_valid, valid_pred_out,\"k.\")\n",
    "\n",
    "plt.plot([-3,15],[-3,15],\"--\",color=\"grey\")\n",
    "\n",
    "plt.xlim(-3,15)\n",
    "plt.ylim(-3,15)\n",
    "\n",
    "plt.annotate(\"RMSE %.2f\" % np.sqrt(mean_squared_error(d.y_valid, valid_pred_out)),xy=(0.05,0.9),xycoords=\"axes fraction\")\n",
    "\n",
    "plt.ylabel(\"Predicted $\\eta$, log Pa$\\cdot$s\")\n",
    "\n",
    "plt.subplot(3,1,3)\n",
    "plt.title(\"C) Test\")\n",
    "plt.plot(d.y_test, test_pred_out,\"r.\")\n",
    "\n",
    "plt.plot([-3,15],[-3,15],\"--\",color=\"grey\")\n",
    "\n",
    "plt.xlim(-3,15)\n",
    "plt.ylim(-3,15)\n",
    "\n",
    "plt.annotate(\"RMSE %.2f\" % np.sqrt(mean_squared_error(d.y_test, test_pred_out)),xy=(0.05,0.9),xycoords=\"axes fraction\")\n",
    "\n",
    "plt.xlabel(\"Measured $\\eta$, log Pa$\\cdot$s\")\n",
    "\n",
    "plt.tight_layout()"
   ]
  },
  {
   "cell_type": "code",
   "execution_count": null,
   "metadata": {},
   "outputs": [],
   "source": []
  }
 ],
 "metadata": {
  "kernelspec": {
   "display_name": "Python 3",
   "language": "python",
   "name": "python3"
  },
  "language_info": {
   "codemirror_mode": {
    "name": "ipython",
    "version": 3
   },
   "file_extension": ".py",
   "mimetype": "text/x-python",
   "name": "python",
   "nbconvert_exporter": "python",
   "pygments_lexer": "ipython3",
   "version": "3.6.7"
  }
 },
 "nbformat": 4,
 "nbformat_minor": 2
}
