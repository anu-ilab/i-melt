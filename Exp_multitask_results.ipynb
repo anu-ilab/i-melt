{
 "cells": [
  {
   "cell_type": "code",
   "execution_count": 1,
   "metadata": {},
   "outputs": [
    {
     "name": "stdout",
     "output_type": "stream",
     "text": [
      "CUDA AVAILABLE?  False\n",
      "cpu\n"
     ]
    }
   ],
   "source": [
    "# Library loading\n",
    "%matplotlib inline\n",
    "\n",
    "import pandas as pd # manipulate dataframes\n",
    "import matplotlib.pyplot as plt # plotting\n",
    "import matplotlib\n",
    "import numpy as np\n",
    "import torch, time\n",
    "\n",
    "from sklearn.metrics import mean_squared_error\n",
    "import h5py\n",
    "\n",
    "import neuravi\n",
    "import os\n",
    "\n",
    "\n",
    "# First we check if CUDA is available\n",
    "print(\"CUDA AVAILABLE? \",torch.cuda.is_available())\n",
    "\n",
    "def get_default_device():\n",
    "    \"\"\"Pick GPU if available, else CPU\"\"\"\n",
    "    if torch.cuda.is_available():\n",
    "        return torch.device('cuda')\n",
    "    else:\n",
    "        return torch.device('cpu')\n",
    "      \n",
    "device = get_default_device()\n",
    "print(device)"
   ]
  },
  {
   "cell_type": "markdown",
   "metadata": {},
   "source": [
    "# Data Import"
   ]
  },
  {
   "cell_type": "code",
   "execution_count": 2,
   "metadata": {},
   "outputs": [],
   "source": [
    "path_data = \"./data/DataSet_0p20val.hdf5\"\n",
    "path_raman = \"./data/NKAS_DataSet.hdf5\"\n",
    "path_density = \"./data/NKAS_density.hdf5\"\n",
    "\n",
    "f = h5py.File(path_data, 'r')\n",
    "# Entropy dataset\n",
    "X_entropy_train = f[\"X_entropy_train\"].value\n",
    "y_entropy_train = f[\"y_entropy_train\"].value\n",
    "\n",
    "X_entropy_valid = f[\"X_entropy_valid\"].value\n",
    "y_entropy_valid = f[\"y_entropy_valid\"].value\n",
    "\n",
    "X_entropy_test = f[\"X_entropy_test\"].value\n",
    "y_entropy_test = f[\"y_entropy_test\"].value\n",
    "\n",
    "# Viscosity dataset\n",
    "X_train = f[\"X_train\"].value\n",
    "y_train = f[\"y_train\"].value\n",
    "\n",
    "X_valid = f[\"X_valid\"].value\n",
    "y_valid = f[\"y_valid\"].value\n",
    "\n",
    "X_test = f[\"X_test\"].value\n",
    "y_test = f[\"y_test\"].value\n",
    "\n",
    "# Tg dataset\n",
    "X_tg_train = f[\"X_tg_train\"].value\n",
    "X_tg_valid= f[\"X_tg_valid\"].value\n",
    "X_tg_test = f[\"X_tg_test\"].value\n",
    "\n",
    "y_tg_train = f[\"y_tg_train\"].value\n",
    "y_tg_valid = f[\"y_tg_valid\"].value\n",
    "y_tg_test = f[\"y_tg_test\"].value\n",
    "\n",
    "f.close()\n",
    "\n",
    "# Raman dataset\n",
    "f = h5py.File(path_raman, 'r')\n",
    "X_raman_train = f[\"X_raman_train\"].value\n",
    "y_raman_train = f[\"y_raman_train\"].value\n",
    "X_raman_valid = f[\"X_raman_test\"].value\n",
    "y_raman_valid = f[\"y_raman_test\"].value\n",
    "f.close()\n",
    "\n",
    "# Density dataset\n",
    "f = h5py.File(path_density, 'r')\n",
    "X_density_train = f[\"X_density_train\"].value\n",
    "X_density_valid = f[\"X_density_valid\"].value\n",
    "X_density_test = f[\"X_density_test\"].value\n",
    "\n",
    "y_density_train = f[\"y_density_train\"].value\n",
    "y_density_valid = f[\"y_density_valid\"].value\n",
    "y_density_test = f[\"y_density_test\"].value\n",
    "f.close()\n",
    "\n",
    "# grabbing number of Raman channels\n",
    "nb_channels_raman = y_raman_valid.shape[1]\n",
    "\n",
    "# preparing data\n",
    "\n",
    "# viscosity\n",
    "x_visco_train = torch.FloatTensor(X_train[:,0:4]).to(device)\n",
    "T_visco_train = torch.FloatTensor(X_train[:,4].reshape(-1,1)).to(device)\n",
    "y_visco_train = torch.FloatTensor(y_train[:,0].reshape(-1,1)).to(device)\n",
    "\n",
    "x_visco_valid = torch.FloatTensor(X_valid[:,0:4]).to(device)\n",
    "T_visco_valid = torch.FloatTensor(X_valid[:,4].reshape(-1,1)).to(device)\n",
    "y_visco_valid = torch.FloatTensor(y_valid[:,0].reshape(-1,1)).to(device)\n",
    "\n",
    "x_visco_test = torch.FloatTensor(X_test[:,0:4]).to(device)\n",
    "T_visco_test = torch.FloatTensor(X_test[:,4].reshape(-1,1)).to(device)\n",
    "y_visco_test = torch.FloatTensor(y_test[:,0].reshape(-1,1)).to(device)\n",
    "\n",
    "# entropy\n",
    "x_entro_train = torch.FloatTensor(X_entropy_train[:,0:4]).to(device)\n",
    "y_entro_train = torch.FloatTensor(y_entropy_train[:,0].reshape(-1,1)).to(device)\n",
    "\n",
    "x_entro_valid = torch.FloatTensor(X_entropy_valid[:,0:4]).to(device)\n",
    "y_entro_valid = torch.FloatTensor(y_entropy_valid[:,0].reshape(-1,1)).to(device)\n",
    "\n",
    "x_entro_test = torch.FloatTensor(X_entropy_test[:,0:4]).to(device)\n",
    "y_entro_test = torch.FloatTensor(y_entropy_test[:,0].reshape(-1,1)).to(device)\n",
    "\n",
    "# tg\n",
    "x_tg_train = torch.FloatTensor(X_tg_train[:,0:4]).to(device)\n",
    "y_tg_train = torch.FloatTensor(y_tg_train.reshape(-1,1)).to(device)\n",
    "\n",
    "x_tg_valid = torch.FloatTensor(X_tg_valid[:,0:4]).to(device)\n",
    "y_tg_valid = torch.FloatTensor(y_tg_valid.reshape(-1,1)).to(device)\n",
    "\n",
    "x_tg_test = torch.FloatTensor(X_tg_test[:,0:4]).to(device)\n",
    "y_tg_test = torch.FloatTensor(y_tg_test.reshape(-1,1)).to(device)\n",
    "\n",
    "# Density\n",
    "x_density_train = torch.FloatTensor(X_density_train[:,0:4]).to(device)\n",
    "y_density_train = torch.FloatTensor(y_density_train.reshape(-1,1)).to(device)\n",
    "\n",
    "x_density_valid = torch.FloatTensor(X_density_valid[:,0:4]).to(device)\n",
    "y_density_valid = torch.FloatTensor(y_density_valid.reshape(-1,1)).to(device)\n",
    "\n",
    "x_density_test = torch.FloatTensor(X_density_test[:,0:4]).to(device)\n",
    "y_density_test = torch.FloatTensor(y_density_test.reshape(-1,1)).to(device)\n",
    "\n",
    "# Raman\n",
    "x_raman_train = torch.FloatTensor(X_raman_train[:,0:4]).to(device)\n",
    "y_raman_train = torch.FloatTensor(y_raman_train).to(device)\n",
    "\n",
    "x_raman_valid = torch.FloatTensor(X_raman_valid[:,0:4]).to(device)\n",
    "y_raman_valid = torch.FloatTensor(y_raman_valid).to(device)\n"
   ]
  },
  {
   "cell_type": "markdown",
   "metadata": {},
   "source": [
    "# Multitask learning effect"
   ]
  },
  {
   "cell_type": "code",
   "execution_count": 19,
   "metadata": {},
   "outputs": [],
   "source": [
    "# List of networks\n",
    "list_models = os.listdir(\"./model/exp_multitask/\")\n",
    "\n",
    "result_multitask = pd.DataFrame()\n",
    "result_multitask[\"mean\"] = np.ones(5)\n",
    "result_multitask[\"std\"] = np.ones(5)\n",
    "result_multitask[\"name\"] = [\"loss_ag\",\"loss_ag_myega\",\"loss_ag_myega_am\",\"loss_ag_myega_am_ram\",\"loss_ag_myega_am_ram_d\"]\n",
    "\n",
    "# Loss criterion\n",
    "criterion = torch.nn.MSELoss()\n",
    "\n",
    "# Loop for changing the losses\n",
    "for j in range(len(result_multitask.loc[:,\"name\"])):\n",
    "    \n",
    "    loss_ag_test = np.ones(10) # the array to store values for the 10 networks\n",
    "    for i in range(10): # start to loop over the 10 networks generated to get some statistics\n",
    "        \n",
    "        name = result_multitask.loc[j,\"name\"]+\"_\"+str(i)\n",
    "        \n",
    "        # Declare model\n",
    "        neuralmodel = neuravi.model(4,300,3,nb_channels_raman,p_drop=0.3) \n",
    "        neuralmodel.load_state_dict(torch.load(\"./model/exp_multitask/\"+name, map_location='cpu'))\n",
    "        neuralmodel.eval()\n",
    "        \n",
    "        # PREDICTIONS\n",
    "        y_ag_pred_test = neuralmodel.ag(x_visco_test,T_visco_test) # test\n",
    "        \n",
    "        # Compute Loss \n",
    "        loss_ag_test[i] = criterion(y_ag_pred_test, y_visco_test).item() # test\n",
    "    \n",
    "    # record result in the Pandas result dataframe\n",
    "    result_multitask.loc[j,\"mean\"] = loss_ag_test.mean()\n",
    "    result_multitask.loc[j,\"std\"] = loss_ag_test.std()"
   ]
  },
  {
   "cell_type": "code",
   "execution_count": 36,
   "metadata": {},
   "outputs": [
    {
     "data": {
      "text/plain": [
       "Text(0, 0.5, 'mean MSE AG, test subset')"
      ]
     },
     "execution_count": 36,
     "metadata": {},
     "output_type": "execute_result"
    },
    {
     "data": {
      "image/png": "[encoded data removed]",
      "text/plain": [
       "<Figure size 432x288 with 1 Axes>"
      ]
     },
     "metadata": {},
     "output_type": "display_data"
    }
   ],
   "source": [
    "x_names = [\"AG\",\"AG+MYEGA\",\"AG+MYEGA+AM\",\"AG+MYEGA+AM+R\",\"AG+MYEGA+AM+R+d\"]\n",
    "\n",
    "plt.errorbar(x_names,result_multitask[\"mean\"],yerr=result_multitask[\"std\"],fmt=\"d\",color=\"C2\")\n",
    "\n",
    "plt.plot(np.arange(0,4,0.1), # X\n",
    "         np.polyval(np.polyfit(np.arange(0,5,1),result_multitask[\"mean\"],1),np.arange(0,4,0.1)), # Y\n",
    "         \"--\",color=\"grey\",linewidth=2\n",
    "        )\n",
    "\n",
    "plt.ylim(0,0.6)\n",
    "\n",
    "plt.xticks(rotation=50)\n",
    "\n",
    "plt.ylabel(\"mean MSE AG, test subset\")"
   ]
  },
  {
   "cell_type": "code",
   "execution_count": null,
   "metadata": {},
   "outputs": [],
   "source": []
  }
 ],
 "metadata": {
  "@webio": {
   "lastCommId": null,
   "lastKernelId": null
  },
  "kernelspec": {
   "display_name": "Python 3",
   "language": "python",
   "name": "python3"
  },
  "language_info": {
   "codemirror_mode": {
    "name": "ipython",
    "version": 3
   },
   "file_extension": ".py",
   "mimetype": "text/x-python",
   "name": "python",
   "nbconvert_exporter": "python",
   "pygments_lexer": "ipython3",
   "version": "3.6.7"
  }
 },
 "nbformat": 4,
 "nbformat_minor": 2
}
