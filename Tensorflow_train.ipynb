{
 "cells": [
  {
   "cell_type": "code",
   "execution_count": 1,
   "metadata": {},
   "outputs": [
    {
     "name": "stderr",
     "output_type": "stream",
     "text": [
      "/home/charles/miniconda3/envs/py36/lib/python3.6/site-packages/sklearn/ensemble/weight_boosting.py:29: DeprecationWarning: numpy.core.umath_tests is an internal NumPy module and should not be imported. It will be removed in a future NumPy release.\n",
      "  from numpy.core.umath_tests import inner1d\n"
     ]
    }
   ],
   "source": [
    "########## Calling relevant libraries ##########\n",
    "%matplotlib inline\n",
    "import numpy as np\n",
    "import scipy.optimize as op\n",
    "from sklearn.metrics import mean_squared_error\n",
    "import scipy\n",
    "\n",
    "# Setting matplotlib options for this notebook\n",
    "import matplotlib\n",
    "from matplotlib import pyplot as plt\n",
    "from mpl_toolkits.mplot3d import Axes3D\n",
    "from matplotlib.ticker import MaxNLocator\n",
    "from matplotlib.animation import FuncAnimation\n",
    "from mpl_toolkits.axes_grid1.inset_locator import zoomed_inset_axes\n",
    "from mpl_toolkits.axes_grid1.inset_locator import mark_inset\n",
    "\n",
    "from IPython.display import set_matplotlib_formats\n",
    "\n",
    "import tensorflow as tf\n",
    "\n",
    "import pandas as pd\n",
    "import rampy as rp\n",
    "\n",
    "import sklearn\n",
    "import sklearn.model_selection as model_selection\n",
    "from sklearn.neural_network import MLPRegressor\n",
    "from sklearn.preprocessing import StandardScaler\n",
    "from sklearn.ensemble import BaggingRegressor\n",
    "\n",
    "from sklearn.externals import joblib"
   ]
  },
  {
   "cell_type": "code",
   "execution_count": 2,
   "metadata": {
    "code_folding": []
   },
   "outputs": [],
   "source": [
    "X_train= joblib.load(\"./data/X_train.pkl\")\n",
    "X_valid =joblib.load(\"./data/X_valid.pkl\")\n",
    "X_test =joblib.load(\"./data/X_test.pkl\")\n",
    "\n",
    "X_train_sc =joblib.load(\"./data/X_train_sc.pkl\")\n",
    "X_valid_sc = joblib.load(\"./data/X_valid_sc.pkl\")\n",
    "X_test_sc = joblib.load(\"./data/X_test_sc.pkl\")\n",
    "\n",
    "y_train = joblib.load(\"./data/y_train.pkl\")\n",
    "y_valid = joblib.load(\"./data/y_valid.pkl\")\n",
    "y_test = joblib.load(\"./data/y_test.pkl\")\n",
    "\n",
    "y_train_sc = joblib.load(\"./data/y_train_sc.pkl\")\n",
    "y_valid_sc = joblib.load(\"./data/y_valid_sc.pkl\")\n",
    "y_test_sc = joblib.load(\"./data/y_test_sc.pkl\")\n",
    "\n",
    "X_scaler = joblib.load(\"./data/X_scaler.pkl\")\n",
    "y_scaler = joblib.load(\"./data/y_scaler.pkl\")"
   ]
  },
  {
   "cell_type": "markdown",
   "metadata": {},
   "source": [
    "# Checking that it works. \n",
    "\n",
    "Should return the same results as the saving notebook as seed is fixed."
   ]
  },
  {
   "cell_type": "code",
   "execution_count": 3,
   "metadata": {},
   "outputs": [],
   "source": [
    "# parameters for neural net\n",
    "prm_nn = dict(layers=(10,5,),solver = 'lbfgs',funct='relu',early_stopping=True)\n",
    "param_b = dict(n_estimators=10, max_samples=1.0, max_features=1.0, bootstrap=True, bootstrap_features=False, oob_score=False, warm_start=False, n_jobs=1, verbose=0)\n",
    "\n",
    "nn_train, nn_test, model_nn, X_scaler, y_scaler = rp.mlregressor(X_train,y_train,\"BaggingNeuralNet\",\n",
    "                                                                 X_test=X_test, y_test=y_test, scaler = \"StandardScaler\",param_neurons=prm_nn,param_bagging=param_b,rand_state=100)\n",
    "\n"
   ]
  },
  {
   "cell_type": "code",
   "execution_count": 4,
   "metadata": {},
   "outputs": [
    {
     "name": "stdout",
     "output_type": "stream",
     "text": [
      "training and testing RMSE with neural nets\n",
      "0.3998124946991662\n",
      "0.4518287509569338\n"
     ]
    }
   ],
   "source": [
    "MSE_NN_train = np.sqrt(mean_squared_error(y_train, nn_train))\n",
    "MSE_NN_test = np.sqrt(mean_squared_error(y_test, nn_test))\n",
    "\n",
    "print(\"training and testing RMSE with neural nets\")\n",
    "print(MSE_NN_train)\n",
    "print(MSE_NN_test)\n"
   ]
  },
  {
   "cell_type": "code",
   "execution_count": 5,
   "metadata": {},
   "outputs": [
    {
     "data": {
      "text/plain": [
       "(-3, 15)"
      ]
     },
     "execution_count": 5,
     "metadata": {},
     "output_type": "execute_result"
    },
    {
     "data": {
      "image/png": "[encoded data removed]",
      "text/plain": [
       "<Figure size 432x288 with 2 Axes>"
      ]
     },
     "metadata": {},
     "output_type": "display_data"
    }
   ],
   "source": [
    "plt.figure()\n",
    "plt.subplot(2,1,1)\n",
    "plt.plot(y_train, nn_train,\"k.\")\n",
    "\n",
    "plt.plot([-3,15],[-3,15],\"--\",color=\"grey\")\n",
    "\n",
    "plt.xlim(-3,15)\n",
    "plt.ylim(-3,15)\n",
    "\n",
    "plt.subplot(2,1,2)\n",
    "plt.plot(y_test, nn_test,\"r.\")\n",
    "\n",
    "plt.plot([-3,15],[-3,15],\"--\",color=\"grey\")\n",
    "\n",
    "plt.xlim(-3,15)\n",
    "plt.ylim(-3,15)"
   ]
  },
  {
   "cell_type": "markdown",
   "metadata": {},
   "source": [
    "# model with TensorFlow and A-G\n",
    "\n",
    "The past example with scikit-learn directly relates the melt composition and temperature to it's viscosity.\n",
    "\n",
    "The problem with this approach is that it underuses our knowledge of how viscosity and temperature vary.\n",
    "\n",
    "This creates too much noise when predicting viscosity over T for one composition.\n",
    "\n",
    "Illustration with the silica glass:"
   ]
  },
  {
   "cell_type": "code",
   "execution_count": 6,
   "metadata": {},
   "outputs": [
    {
     "data": {
      "text/plain": [
       "[<matplotlib.lines.Line2D at 0x7fb83fb5f710>]"
      ]
     },
     "execution_count": 6,
     "metadata": {},
     "output_type": "execute_result"
    },
    {
     "data": {
      "image/png": "[encoded data removed]",
      "text/plain": [
       "<Figure size 432x288 with 1 Axes>"
      ]
     },
     "metadata": {},
     "output_type": "display_data"
    }
   ],
   "source": [
    "ex_input = X_train[X_train[:,0]==100.,:]\n",
    "ex_y = y_train[X_train[:,0]==100.]\n",
    "ex_pred = y_scaler.inverse_transform(model_nn.predict(X_scaler.transform(ex_input)))\n",
    "\n",
    "plt.plot(ex_input[:,14],ex_y,\"ks\")\n",
    "plt.plot(ex_input[:,14],ex_pred,\"r.\")\n",
    "\n"
   ]
  },
  {
   "cell_type": "markdown",
   "metadata": {},
   "source": [
    "The predictions in red take a sort of sigmoidal shape which does not fit with the expected curvature observed in the data.\n",
    "\n",
    "The solution to this problem is to fit not the viscosity directly, but the parameters of a viscosity equation with a neural net.\n",
    "\n",
    "As we can use any equation, best if we can actually use the Adam and Gibbs one as it bring thermodynamic information on the melt.\n",
    "\n",
    "If neural nets work, it should return an internally consistent model that should predict well the entropy and heat capacity of the melt.\n",
    "\n",
    "Good thing is we know those values for some melts, such that we can trully quantify the success of the neural net.\n",
    "\n",
    "$a^b$\n",
    "\n",
    "The viscosity equation is:\n",
    "\n",
    "\n",
    "$$log(\\eta) = A_{e} + \\frac{B_{e}}{T \\times (S^{conf}(T_{g}) + \\int_{T_{g}}^{T} \\frac{\\Delta C_p}{T} dT)}$$ \n",
    "\n",
    "where \n",
    "\n",
    "$$ \\int_{T_{g}}^{T} \\frac{\\Delta C_p}{T} dT = ap \\times (log(T) - log(T_{g})) + b \\times(T-T_{g}) $$\n",
    "\n",
    "\n",
    "$A_{e}$ is a constant proportional to the viscosity at infinite temperature. It barely depends on melt composition.\n",
    "\n",
    "$B_{e}$ is a constant proportional to energy barriers opposed to viscous flow. It strongly depends on melt composition.\n",
    "\n",
    "S^{conf}(T_{g}) is the configurational entropy of the melt at the glass transition temperature $T_g$ (temperature at which you consider that the melt becomes a glass.\n",
    "\n",
    "$ap$ and $b$ are parameters that depend on melt composition. We have data and models for those; they nearly linearly depend on melt composition. (this can be discussed for b)\n",
    "\n",
    "## Approach with neural net\n",
    "\n",
    "The idea is to link the melt composition (14 variables) to the parameters $A_{e}$, $B_{e}$, $S^{conf}(T_{g})$, $ap$ and $b$ with a neural network.\n",
    "\n",
    "We can calculate $T_{g}$ as \n",
    "\n",
    "$$ T_{g} = \\frac{B_{e}}{((12.0-A_{e}) \\times S^{conf}(T_{g}))} $$\n",
    "\n",
    "with the empirical definition that $T_{g}$ occurs when the viscosity reaches around 12 log Pa $\\cdot$ s.\n",
    "\n",
    "This helps removing one parameter and should help to have a self-consistent model.\n",
    "\n",
    "At this stage, we could use existing models for $ap$ and $b$, but there we assume that those models, which are 30 years old, are good-enough.\n",
    "\n",
    "Another approach, which I adopt in the following, is to let the neural net determines $ap$ and $b$, such that we can compore those in the future with existing models.\n",
    "\n",
    "If the neural net is good, we should find consistent results.\n",
    "\n",
    "## Let's start\n",
    "\n",
    "First I define the arrays that store the chemical composition and temperature.\n",
    "\n",
    "viscosity (y values) are already saved in y_train/y_valid/y_test."
   ]
  },
  {
   "cell_type": "code",
   "execution_count": 7,
   "metadata": {},
   "outputs": [],
   "source": [
    "# we have the chemical composition as X train/valid/test, but also the temperature\n",
    "\n",
    "chimie_train = X_train[:,0:14]\n",
    "temperature_train = X_train[:,14].reshape(-1,1)\n",
    "\n",
    "chimie_valid = X_valid[:,0:14]\n",
    "temperature_valid = X_valid[:,14].reshape(-1,1)\n",
    "\n",
    "chimie_test = X_test[:,0:14]\n",
    "temperature_test = X_test[:,14].reshape(-1,1)\n",
    "\n",
    "# rescale chimie between 0 and 1\n",
    "\n",
    "chimie_train = chimie_train/chimie_train.sum(axis=1).reshape(-1,1)\n",
    "chimie_valid = chimie_valid/chimie_valid.sum(axis=1).reshape(-1,1)\n",
    "chimie_test = chimie_test/chimie_test.sum(axis=1).reshape(-1,1)"
   ]
  },
  {
   "cell_type": "markdown",
   "metadata": {},
   "source": [
    "Following the reading of Kaufl, we will initiate the bias of the output neural net layer to values of parameters that are not far from reality."
   ]
  },
  {
   "cell_type": "code",
   "execution_count": 8,
   "metadata": {},
   "outputs": [],
   "source": [
    "init_bias = np.array([-4.5,np.log(80000.),np.log(10.1),np.log(10.),np.log(0.0001)]) # this code is actually in the object..."
   ]
  },
  {
   "cell_type": "markdown",
   "metadata": {},
   "source": [
    "We then create an object to create a network with 1 to 5 layers (ReLu activation units + dropout),\n",
    "\n",
    "feed results of output layer in the A-G equation (see above), and then initiate an optimizer (RMSprop seems the most stable from my test).\n",
    "\n",
    "We use a L2 loss."
   ]
  },
  {
   "cell_type": "code",
   "execution_count": 41,
   "metadata": {},
   "outputs": [],
   "source": [
    "class Model(object):\n",
    "    \"\"\"\n",
    "    derived from  https://github.com/adventuresinML/adventures-in-ml-code/blob/master/weight_init_tensorflow.py\n",
    "    \"\"\"\n",
    "    def __init__(self, input_size, num_layers=3,\n",
    "                 hidden_size=100,\n",
    "                dropout = 0.1):\n",
    "        self._input_size = input_size\n",
    "        # num layers does not include the input layer\n",
    "        self._num_layers = num_layers\n",
    "        self._hidden_size = hidden_size\n",
    "        self._out_size = 5 \n",
    "        self._init_bias = np.array([-4.5,np.log(50000.),np.log(5.1),np.log(10.),np.log(0.0001)])\n",
    "        self._dropout = dropout\n",
    "        self._model_def()\n",
    "    \n",
    "    def _visco_out(self,T):\n",
    "            return self.ae + self.be / (T * (self.sctg + (self.ap * (tf.log(T)-tf.log(self.tg)) + self.b * (T-self.tg))))\n",
    "        \n",
    "    def _calculate_variance(self, x):\n",
    "        mean = tf.reduce_mean(x)\n",
    "        sqr = tf.square(x - mean)\n",
    "        return tf.reduce_mean(sqr)\n",
    "    \n",
    "    def _model_def(self):\n",
    "        # create placeholder variables\n",
    "        self.input_c = tf.placeholder(dtype=tf.float32, shape=[None,self._input_size], name=\"chimie\")\n",
    "        self.input_T = tf.placeholder(dtype=tf.float32, shape=[None,1], name=\"T\")\n",
    "        self.input_y = tf.placeholder(dtype=tf.float32, shape=[None,1], name=\"viscosity\")\n",
    "\n",
    "        if self._num_layers >= 1:\n",
    "            \n",
    "            self.Wh1 = tf.Variable(tf.random_normal([self._input_size,self._hidden_size], stddev=1e-3, dtype=tf.float32))\n",
    "            self.bh1 = tf.Variable(tf.random_normal([1,self._hidden_size], stddev=1e-3, dtype=tf.float32))\n",
    "            \n",
    "            self.hidden_layer_1 = tf.nn.dropout(tf.nn.relu(tf.matmul(self.input_c, self.Wh1) + self.bh1),\n",
    "                                                keep_prob=1-self._dropout)\n",
    "        \n",
    "        if self._num_layers >= 2:\n",
    "            \n",
    "            self.Wh2 = tf.Variable(tf.random_normal([self._hidden_size,self._hidden_size], stddev=1e-3, dtype=tf.float32))\n",
    "            self.bh2 = tf.Variable(tf.random_normal([1,self._hidden_size], stddev=1e-3, dtype=tf.float32))\n",
    "\n",
    "            self.hidden_layer_2 = tf.nn.dropout(tf.nn.relu(tf.matmul(self.hidden_layer_1, self.Wh2) + self.bh2),\n",
    "                                                keep_prob=1-self._dropout)\n",
    "        \n",
    "        if self._num_layers >= 3:\n",
    "        \n",
    "            self.Wh3 = tf.Variable(tf.random_normal([self._hidden_size,self._hidden_size], stddev=1e-9, dtype=tf.float32))\n",
    "            self.bh3 = tf.Variable(tf.random_normal([1,self._hidden_size], stddev=1e-9, dtype=tf.float32))\n",
    "            \n",
    "            self.hidden_layer_3 = tf.nn.dropout(tf.nn.relu(tf.matmul(self.hidden_layer_2, self.Wh3) + self.bh3),\n",
    "                                                keep_prob=1-self._dropout)\n",
    "            \n",
    "        if self._num_layers >= 4:\n",
    "        \n",
    "            self.Wh4 = tf.Variable(tf.random_normal([self._hidden_size,self._hidden_size], stddev=1e-9, dtype=tf.float32))\n",
    "            self.bh4 = tf.Variable(tf.random_normal([1,self._hidden_size], stddev=1e-9, dtype=tf.float32))\n",
    "            \n",
    "            self.hidden_layer_4 = tf.nn.dropout(tf.nn.relu(tf.matmul(self.hidden_layer_3, self.Wh4) + self.bh4),\n",
    "                                                keep_prob=1-self._dropout)\n",
    "            \n",
    "        if self._num_layers == 5:\n",
    "        \n",
    "            self.Wh5 = tf.Variable(tf.random_normal([self._hidden_size,self._hidden_size], stddev=1e-9, dtype=tf.float32))\n",
    "            self.bh5 = tf.Variable(tf.random_normal([1,self._hidden_size], stddev=1e-9, dtype=tf.float32))\n",
    "            \n",
    "            self.hidden_layer_5 = tf.nn.dropout(tf.nn.relu(tf.matmul(self.hidden_layer_4, self.Wh5) + self.bh5),\n",
    "                                                keep_prob=1-self._dropout)\n",
    "\n",
    "        self.Wo = tf.Variable(tf.random_normal([self._hidden_size,self._out_size], mean=0.,stddev=1e-3, dtype=tf.float32))\n",
    "        self.bo = tf.Variable(tf.random_normal([1,self._out_size], mean=self._init_bias, stddev=self._init_bias*0.001, dtype=tf.float32))\n",
    "\n",
    "        if self._num_layers == 1:\n",
    "            self. output = tf.matmul(self.hidden_layer_1,self.Wo) + self.bo\n",
    "        elif self._num_layers == 2:\n",
    "            self. output = tf.matmul(self.hidden_layer_2,self.Wo) + self.bo\n",
    "        elif self._num_layers == 3:\n",
    "            self. output = tf.matmul(self.hidden_layer_3,self.Wo) + self.bo\n",
    "        elif self._num_layers == 4:\n",
    "            self. output = tf.matmul(self.hidden_layer_4,self.Wo) + self.bo\n",
    "        elif self._num_layers == 5:\n",
    "            self. output = tf.matmul(self.hidden_layer_5,self.Wo) + self.bo\n",
    "        else:\n",
    "            Print(\"Error: choose between 1 to 5 layers\")\n",
    "        \n",
    "        #\n",
    "        # Adam and Gibbs with network outputs\n",
    "        #\n",
    "        self.ae = tf.placeholder(dtype=tf.float32, shape=[None,1], name=\"Ae\")\n",
    "        self.be = tf.placeholder(dtype=tf.float32, shape=[None,1], name=\"Be\")\n",
    "        self.sctg = tf.placeholder(dtype=tf.float32, shape=[None,1], name=\"ScTg\")\n",
    "        self.ap = tf.placeholder(dtype=tf.float32, shape=[None,1], name=\"ap\")\n",
    "        self.b = tf.placeholder(dtype=tf.float32, shape=[None,1], name=\"b\")\n",
    "        self.visco_pred = tf.placeholder(dtype=tf.float32, shape=[None,1], name=\"visco_pred\")\n",
    "        \n",
    "        self.ae, self.be, self.sctg, self.ap, self.b = tf.split(self.output,5,axis=1)\n",
    "\n",
    "        # cannot be negative\n",
    "        self.be = tf.exp(self.be)\n",
    "        self.sctg = tf.exp(self.sctg)\n",
    "        self.ap = tf.exp(self.ap)\n",
    "        self.b = tf.exp(self.b)\n",
    "        \n",
    "        self.tg = self.be/((12.0-self.ae)*self.sctg)\n",
    "        \n",
    "        self.visco_pred = self.ae + self.be / (self.input_T * (self.sctg + (self.ap * (tf.log(self.input_T)-tf.log(self.tg)) + self.b * (self.input_T-self.tg))))\n",
    "        \n",
    "        self.loss = tf.nn.l2_loss(self.visco_pred-self.input_y)\n",
    "                                                                            \n",
    "        # add the loss to the summary\n",
    "        tf.summary.scalar('loss', self.loss)\n",
    "        self.optimizer = tf.train.RMSPropOptimizer(1e-4).minimize(self.loss)\n",
    "        self.merged = tf.summary.merge_all()\n",
    "        self.init_op = tf.global_variables_initializer()\n",
    "        "
   ]
  },
  {
   "cell_type": "markdown",
   "metadata": {},
   "source": [
    "Now we create our model object"
   ]
  },
  {
   "cell_type": "code",
   "execution_count": 42,
   "metadata": {},
   "outputs": [],
   "source": [
    "NIN = chimie_train.shape[1]\n",
    "NHIDDEN = 50\n",
    "NLAYER = 2\n",
    "STDEV = 0.01\n",
    "DROP = 0.1\n",
    "\n",
    "mod = Model(NIN, num_layers=NLAYER,hidden_size=NHIDDEN,dropout=DROP)"
   ]
  },
  {
   "cell_type": "markdown",
   "metadata": {},
   "source": [
    "We start a TF Interactive Session to initiate our model, and look at the initial predictions.\n",
    "\n",
    "The idea is to avoid starting the training with an initial model very far from reality...\n",
    "\n",
    "So we run this cell again and again until we see a relatively close correspondance.\n",
    "\n",
    "Initial predictions should be in a -5 - 20 range... If not, too much iterations are required for proper convergence...\n",
    "\n",
    "We just avoid values at 10^20...."
   ]
  },
  {
   "cell_type": "code",
   "execution_count": 43,
   "metadata": {},
   "outputs": [
    {
     "name": "stderr",
     "output_type": "stream",
     "text": [
      "/home/charles/miniconda3/envs/py36/lib/python3.6/site-packages/tensorflow/python/client/session.py:1645: UserWarning: An interactive session is already active. This can cause out-of-memory errors in some cases. You must explicitly call `InteractiveSession.close()` to release resources held by the other session(s).\n",
      "  warnings.warn('An interactive session is already active. This can '\n"
     ]
    },
    {
     "data": {
      "text/plain": [
       "[<matplotlib.lines.Line2D at 0x7fb82dea4b38>]"
      ]
     },
     "execution_count": 43,
     "metadata": {},
     "output_type": "execute_result"
    },
    {
     "data": {
      "image/png": "[encoded data removed]",
      "text/plain": [
       "<Figure size 432x288 with 1 Axes>"
      ]
     },
     "metadata": {},
     "output_type": "display_data"
    }
   ],
   "source": [
    "try:\n",
    "    sess.close()\n",
    "except:\n",
    "    print(\"OK, no interactive session running\")\n",
    "\n",
    "sess = tf.InteractiveSession()\n",
    "sess.run(tf.initialize_all_variables())\n",
    "\n",
    "pred_ini= sess.run(mod.visco_pred,feed_dict={mod.input_c: chimie_train, \n",
    "                                             mod.input_T: temperature_train, \n",
    "                                             mod.input_y: y_train.reshape(-1,1)})\n",
    "plt.figure()\n",
    "plt.plot(y_train, pred_ini)"
   ]
  },
  {
   "cell_type": "markdown",
   "metadata": {},
   "source": [
    "We then train the network for 50,000 iterations. We use the full batch. Should not be a problem as our dataset is relatively small.\n",
    "\n",
    "Convergence is slow.\n",
    "\n",
    "I do not perform early stopping (lines are commented) as it does not bring anything to the training. It stops the training too early.\n",
    "\n",
    "Furthermore, good validation and testing errors are in general obtained because we use dropout, which favour generalization."
   ]
  },
  {
   "cell_type": "code",
   "execution_count": 44,
   "metadata": {},
   "outputs": [
    {
     "name": "stdout",
     "output_type": "stream",
     "text": [
      "Batch train and valid loss at step 0: 121608.796875, 25141.75390625\n"
     ]
    }
   ],
   "source": [
    "NEPOCH = 100\n",
    "loss_train = np.zeros(NEPOCH) # store the training progress here.\n",
    "loss_valid = np.zeros(NEPOCH) # store the training progress here.\n",
    "\n",
    "early_stop = 1000 # not used below\n",
    "count_es = 0\n",
    "\n",
    "for i in range(NEPOCH):\n",
    "    dct_train = {mod.input_c: chimie_train, mod.input_T: temperature_train, mod.input_y: y_train.reshape(-1,1)}\n",
    "    dct_valid = {mod.input_c: chimie_valid, mod.input_T: temperature_valid, mod.input_y: y_valid.reshape(-1,1)}\n",
    "    \n",
    "    sess.run(mod.optimizer,feed_dict=dct_train)\n",
    "    loss_train[i] = sess.run(mod.loss, feed_dict=dct_train)\n",
    "    loss_valid[i] = sess.run(mod.loss, feed_dict=dct_valid)\n",
    "    \n",
    "    if (i % 500 == 0):\n",
    "            print(\"Batch train and valid loss at step {}: {}, {}\".format(i, loss_train[i], loss_valid[i]))\n",
    "    \n",
    "    # implement early stopping\n",
    "    if loss_valid[i]>loss_valid[i-1]:\n",
    "        count_es += 1\n",
    "        \n",
    "    #if count_es > early_stop:\n",
    "    #    break\n",
    "        "
   ]
  },
  {
   "cell_type": "code",
   "execution_count": 45,
   "metadata": {},
   "outputs": [
    {
     "data": {
      "image/png": "[encoded data removed]",
      "text/plain": [
       "<Figure size 576x576 with 1 Axes>"
      ]
     },
     "metadata": {},
     "output_type": "display_data"
    }
   ],
   "source": [
    "plt.figure(figsize=(8, 8))\n",
    "plt.plot(np.arange(0, NEPOCH,1), loss_train/X_train.shape[0], 'r-')\n",
    "plt.plot(np.arange(0, NEPOCH,1), loss_valid/X_valid.shape[0], 'b-')\n",
    "plt.ylim(0,100)\n",
    "plt.show()"
   ]
  },
  {
   "cell_type": "markdown",
   "metadata": {},
   "source": [
    "Here this is supposed to save the model, which then can be re-used by tensorflow server..."
   ]
  },
  {
   "cell_type": "code",
   "execution_count": 48,
   "metadata": {},
   "outputs": [
    {
     "name": "stdout",
     "output_type": "stream",
     "text": [
      "INFO:tensorflow:Assets added to graph.\n",
      "INFO:tensorflow:No assets to write.\n",
      "INFO:tensorflow:SavedModel written to: ./model_test12/saved_model.pb\n"
     ]
    }
   ],
   "source": [
    "tf.saved_model.simple_save(sess,\n",
    "            \"./model_test12/\",\n",
    "            inputs={\"chimie\": mod.input_c, \"T\": mod.input_T},\n",
    "            outputs={\"visco_pred\": mod.visco_pred})\n",
    "#saver = tf.train.Saver()\n",
    "#saver.save(sess,'./model/tensorflowModel.ckpt')\n",
    "#tf.train.write_graph(sess.graph.as_graph_def(), './model/', 'tensorflowModel.pbtxt', as_text=True)\n"
   ]
  },
  {
   "cell_type": "markdown",
   "metadata": {},
   "source": [
    "We can make predictions by running the session calling mod.visco_pred.\n",
    "\n",
    "However, I noticed that when you do that, TensorFlow still perturbates the Weigths and Bias fo the network so results slightly vary from one time to another..."
   ]
  },
  {
   "cell_type": "code",
   "execution_count": 88,
   "metadata": {},
   "outputs": [
    {
     "data": {
      "text/plain": [
       "(-3, 15)"
      ]
     },
     "execution_count": 88,
     "metadata": {},
     "output_type": "execute_result"
    },
    {
     "data": {
      "image/png": "[encoded data removed]",
      "text/plain": [
       "<Figure size 432x288 with 3 Axes>"
      ]
     },
     "metadata": {},
     "output_type": "display_data"
    }
   ],
   "source": [
    "train_pred_out= sess.run(mod.visco_pred,feed_dict=dct_train)\n",
    "plt.figure()\n",
    "plt.subplot(3,1,1)\n",
    "plt.plot(y_train, train_pred_out,\"k.\")\n",
    "\n",
    "plt.plot([-3,15],[-3,15],\"--\",color=\"grey\")\n",
    "\n",
    "plt.xlim(-3,15)\n",
    "plt.ylim(-3,15)\n",
    "\n",
    "valid_pred_out= sess.run(mod.visco_pred,feed_dict=dct_valid)\n",
    "plt.subplot(3,1,2)\n",
    "plt.plot(y_valid, valid_pred_out,\"k.\")\n",
    "\n",
    "plt.plot([-3,15],[-3,15],\"--\",color=\"grey\")\n",
    "\n",
    "plt.xlim(-3,15)\n",
    "plt.ylim(-3,15)\n",
    "\n",
    "test_pred_out= sess.run(mod.visco_pred,feed_dict={mod.input_c: chimie_test, \n",
    "                                              mod.input_T: temperature_test, mod.input_y: y_test.reshape(-1,1)})\n",
    "plt.subplot(3,1,3)\n",
    "plt.plot(y_test, test_pred_out,\"r.\")\n",
    "\n",
    "plt.plot([-3,15],[-3,15],\"--\",color=\"grey\")\n",
    "\n",
    "plt.xlim(-3,15)\n",
    "plt.ylim(-3,15)"
   ]
  },
  {
   "cell_type": "markdown",
   "metadata": {},
   "source": [
    "Errors are pretty good but this needs a lot of iterations. This current example is not optimal and could be further improved... Plus should be even better when finishing optimizing the network structure (less layers? more units? random selection?)"
   ]
  },
  {
   "cell_type": "code",
   "execution_count": 89,
   "metadata": {},
   "outputs": [
    {
     "name": "stdout",
     "output_type": "stream",
     "text": [
      "training, validation and testing RMSE with neural nets\n",
      "1.091042220107328\n",
      "1.3989605473765667\n",
      "1.1262513495867665\n"
     ]
    }
   ],
   "source": [
    "MSE_NN_train = np.sqrt(mean_squared_error(y_train, train_pred_out))\n",
    "MSE_NN_valid = np.sqrt(mean_squared_error(y_valid, valid_pred_out))\n",
    "MSE_NN_test = np.sqrt(mean_squared_error(y_test, test_pred_out))\n",
    "\n",
    "print(\"training, validation and testing RMSE with neural nets\")\n",
    "print(MSE_NN_train)\n",
    "print(MSE_NN_valid)\n",
    "print(MSE_NN_test)"
   ]
  },
  {
   "cell_type": "markdown",
   "metadata": {},
   "source": [
    "Now we can compare with given compositions"
   ]
  },
  {
   "cell_type": "code",
   "execution_count": 90,
   "metadata": {},
   "outputs": [],
   "source": [
    "#\n",
    "dataset_post = pd.read_csv(\"./data/data_for_post_analyses.csv\")"
   ]
  },
  {
   "cell_type": "code",
   "execution_count": 91,
   "metadata": {},
   "outputs": [
    {
     "data": {
      "text/plain": [
       "array([[1.  , 0.  , 0.  , ..., 0.  , 0.  , 0.  ],\n",
       "       [1.  , 0.  , 0.  , ..., 0.  , 0.  , 0.  ],\n",
       "       [1.  , 0.  , 0.  , ..., 0.  , 0.  , 0.  ],\n",
       "       ...,\n",
       "       [0.5 , 0.  , 0.25, ..., 0.  , 0.  , 0.  ],\n",
       "       [0.5 , 0.  , 0.25, ..., 0.  , 0.  , 0.  ],\n",
       "       [0.5 , 0.  , 0.25, ..., 0.  , 0.  , 0.  ]])"
      ]
     },
     "execution_count": 91,
     "metadata": {},
     "output_type": "execute_result"
    }
   ],
   "source": [
    "to_pred_c= dataset_post.loc[:,\"sio2\":\"h2o\"].values\n",
    "to_pred_c = to_pred_c/to_pred_c.sum(axis=1).reshape(-1,1)\n",
    "to_pred_c"
   ]
  },
  {
   "cell_type": "code",
   "execution_count": 92,
   "metadata": {
    "scrolled": false
   },
   "outputs": [
    {
     "name": "stdout",
     "output_type": "stream",
     "text": [
      "[[1.   0.   0.   ... 0.   0.   0.  ]\n",
      " [1.   0.   0.   ... 0.   0.   0.  ]\n",
      " [1.   0.   0.   ... 0.   0.   0.  ]\n",
      " ...\n",
      " [0.5  0.   0.25 ... 0.   0.   0.  ]\n",
      " [0.5  0.   0.25 ... 0.   0.   0.  ]\n",
      " [0.5  0.   0.25 ... 0.   0.   0.  ]]\n"
     ]
    }
   ],
   "source": [
    "print(to_pred_c)"
   ]
  },
  {
   "cell_type": "code",
   "execution_count": 93,
   "metadata": {},
   "outputs": [
    {
     "data": {
      "text/plain": [
       "0    2755.0\n",
       "1    2655.0\n",
       "2    2541.0\n",
       "3    2441.0\n",
       "4    2334.0\n",
       "Name: T, dtype: float64"
      ]
     },
     "execution_count": 93,
     "metadata": {},
     "output_type": "execute_result"
    }
   ],
   "source": [
    "to_pred_T= dataset_post.loc[:,\"T\"]\n",
    "to_pred_T.head()"
   ]
  },
  {
   "cell_type": "code",
   "execution_count": 94,
   "metadata": {},
   "outputs": [
    {
     "data": {
      "text/plain": [
       "0    2.53\n",
       "1    2.92\n",
       "2    3.36\n",
       "3    3.80\n",
       "4    4.25\n",
       "Name: viscosity, dtype: float64"
      ]
     },
     "execution_count": 94,
     "metadata": {},
     "output_type": "execute_result"
    }
   ],
   "source": [
    "to_pred_n= dataset_post.loc[:,\"viscosity\"]\n",
    "to_pred_n.head()"
   ]
  },
  {
   "cell_type": "code",
   "execution_count": 95,
   "metadata": {},
   "outputs": [],
   "source": [
    "visco_p, sctg_p, ap_p, b_p, tg_p  = sess.run([mod.visco_pred, mod.sctg, mod.ap, mod.b, mod.tg],\n",
    "                        feed_dict={mod.input_c: to_pred_c, \n",
    "                                   mod.input_T: to_pred_T.values.reshape(-1,1), \n",
    "                                   mod.input_y: to_pred_n.values.reshape(-1,1)})"
   ]
  },
  {
   "cell_type": "code",
   "execution_count": 96,
   "metadata": {},
   "outputs": [
    {
     "data": {
      "text/plain": [
       "Text(0.5,1,'Measured vs Predicted Viscosity')"
      ]
     },
     "execution_count": 96,
     "metadata": {},
     "output_type": "execute_result"
    },
    {
     "data": {
      "image/png": "[encoded data removed]",
      "text/plain": [
       "<Figure size 432x288 with 1 Axes>"
      ]
     },
     "metadata": {},
     "output_type": "display_data"
    }
   ],
   "source": [
    "plt.plot(to_pred_n,visco_p,\".\")\n",
    "plt.plot([0,15],[0,15],\"--\",color=\"grey\")\n",
    "plt.title(\"Measured vs Predicted Viscosity\")"
   ]
  },
  {
   "cell_type": "code",
   "execution_count": 97,
   "metadata": {},
   "outputs": [
    {
     "data": {
      "text/plain": [
       "Text(0.5,1,'Measured vs Predicted Entropy')"
      ]
     },
     "execution_count": 97,
     "metadata": {},
     "output_type": "execute_result"
    },
    {
     "data": {
      "image/png": "[encoded data removed]",
      "text/plain": [
       "<Figure size 432x288 with 1 Axes>"
      ]
     },
     "metadata": {},
     "output_type": "display_data"
    }
   ],
   "source": [
    "plt.plot(dataset_post.loc[:,\"ScTg\"],sctg_p,\".\")\n",
    "plt.plot([0,15],[0,15],\"--\",color=\"grey\")\n",
    "plt.title(\"Measured vs Predicted Entropy\")"
   ]
  },
  {
   "cell_type": "code",
   "execution_count": 98,
   "metadata": {},
   "outputs": [
    {
     "data": {
      "text/plain": [
       "Text(0.5,1,'Measured vs Predicted Glass Transition Temperature')"
      ]
     },
     "execution_count": 98,
     "metadata": {},
     "output_type": "execute_result"
    },
    {
     "data": {
      "image/png": "[encoded data removed]",
      "text/plain": [
       "<Figure size 432x288 with 1 Axes>"
      ]
     },
     "metadata": {},
     "output_type": "display_data"
    }
   ],
   "source": [
    "plt.plot(dataset_post.loc[:,\"Tg\"],tg_p,\".\")\n",
    "plt.plot([1000,1400],[1000,1400],\"--\",color=\"grey\")\n",
    "plt.title(\"Measured vs Predicted Glass Transition Temperature\")"
   ]
  },
  {
   "cell_type": "code",
   "execution_count": 66,
   "metadata": {},
   "outputs": [
    {
     "name": "stdout",
     "output_type": "stream",
     "text": [
      "True\n"
     ]
    }
   ],
   "source": []
  },
  {
   "cell_type": "code",
   "execution_count": 67,
   "metadata": {},
   "outputs": [],
   "source": []
  },
  {
   "cell_type": "code",
   "execution_count": 68,
   "metadata": {},
   "outputs": [
    {
     "data": {
      "text/plain": [
       "'./models/data-all'"
      ]
     },
     "execution_count": 68,
     "metadata": {},
     "output_type": "execute_result"
    }
   ],
   "source": []
  },
  {
   "cell_type": "code",
   "execution_count": null,
   "metadata": {},
   "outputs": [],
   "source": []
  },
  {
   "cell_type": "markdown",
   "metadata": {},
   "source": [
    "# OLD CODE: not used...\n",
    "\n",
    "\n",
    "# trying with a TVF implementation"
   ]
  },
  {
   "cell_type": "code",
   "execution_count": 133,
   "metadata": {},
   "outputs": [
    {
     "data": {
      "text/plain": [
       "[<matplotlib.lines.Line2D at 0x7f4c4e48af60>]"
      ]
     },
     "execution_count": 133,
     "metadata": {},
     "output_type": "execute_result"
    },
    {
     "data": {
      "image/png": "[encoded data removed]",
      "text/plain": [
       "<Figure size 432x288 with 1 Axes>"
      ]
     },
     "metadata": {},
     "output_type": "display_data"
    }
   ],
   "source": [
    "try:\n",
    "    sess.close()\n",
    "except:\n",
    "    print(\"no session yet\")\n",
    "\n",
    "init_bias = np.array([-4.5,np.log(10000.),np.log(500.)])\n",
    "\n",
    "NIN = chimie.shape[1]\n",
    "NHIDDEN = 100\n",
    "STDEV = 0.01\n",
    "NOUT = 3 # A, B, T1 in TVF\n",
    "\n",
    "c = tf.placeholder(dtype=tf.float32, shape=[None,NIN], name=\"chimie\")\n",
    "T = tf.placeholder(dtype=tf.float32, shape=[None,1], name=\"T\")\n",
    "y = tf.placeholder(dtype=tf.float32, shape=[None,1], name=\"viscosity\")\n",
    "\n",
    "Wh1 = tf.Variable(tf.random_normal([NIN,NHIDDEN], stddev=1e-12, dtype=tf.float32))\n",
    "bh1 = tf.Variable(tf.random_normal([1,NHIDDEN], stddev=1e-12, dtype=tf.float32))\n",
    "\n",
    "Wo = tf.Variable(tf.random_normal([NHIDDEN,NOUT], mean=0.,stddev=1e-10, dtype=tf.float32))\n",
    "bo = tf.Variable(tf.random_normal([1,NOUT], mean=init_bias, stddev=init_bias*0.0001, dtype=tf.float32))\n",
    "\n",
    "hidden_layer_1 = tf.nn.dropout(tf.nn.relu(tf.matmul(c, Wh1) + bh1),keep_prob=0.9)\n",
    "\n",
    "output = tf.matmul(hidden_layer_1,Wo) + bo\n",
    "\n",
    "def get_ag_params(output):\n",
    "    a = tf.placeholder(dtype=tf.float32, shape=[None,1], name=\"A\")\n",
    "    b = tf.placeholder(dtype=tf.float32, shape=[None,1], name=\"B\")\n",
    "    t1 = tf.placeholder(dtype=tf.float32, shape=[None,1], name=\"T1\")\n",
    "    \n",
    "    a, b, t1 = tf.split(output,3,axis=1)\n",
    "\n",
    "    # cannot be negative\n",
    "    b = tf.exp(b)\n",
    "    t1 = tf.exp(t1)\n",
    "\n",
    "    return a, b, t1\n",
    "\n",
    "a, b, t1 = get_ag_params(output)\n",
    "\n",
    "def visco_out(a, b, t1, T):\n",
    "    return a + b / (T - t1)\n",
    "\n",
    "visco_pred = visco_out(a, b, t1, T)\n",
    "\n",
    "lossfunc = tf.nn.l2_loss(visco_pred-y)\n",
    "#lossfunc = tf.losses.mean_squared_error(visco_pred,y)\n",
    "\n",
    "train_op = tf.train.AdamOptimizer().minimize(lossfunc)\n",
    "\n",
    "sess = tf.InteractiveSession()\n",
    "sess.run(tf.initialize_all_variables())\n",
    "\n",
    "pred_ini= sess.run(visco_pred,feed_dict={c: chimie, T: temperature, y: y_train.reshape(-1,1)})\n",
    "plt.figure()\n",
    "plt.plot(y_train, pred_ini)"
   ]
  },
  {
   "cell_type": "code",
   "execution_count": 134,
   "metadata": {},
   "outputs": [
    {
     "name": "stdout",
     "output_type": "stream",
     "text": [
      "Batch loss at step 0: 1441997.5\n",
      "Batch loss at step 500: 12102.640625\n",
      "Batch loss at step 1000: 8450.287109375\n",
      "Batch loss at step 1500: 6179.3984375\n",
      "Batch loss at step 2000: 5136.75732421875\n",
      "Batch loss at step 2500: 4887.81982421875\n",
      "Batch loss at step 3000: 4274.43603515625\n",
      "Batch loss at step 3500: 4489.38330078125\n",
      "Batch loss at step 4000: 3648.154296875\n",
      "Batch loss at step 4500: 3215.80224609375\n",
      "Batch loss at step 5000: 3205.978759765625\n",
      "Batch loss at step 5500: 2891.554443359375\n",
      "Batch loss at step 6000: 2700.7509765625\n",
      "Batch loss at step 6500: 2592.109375\n",
      "Batch loss at step 7000: 2505.94970703125\n",
      "Batch loss at step 7500: 2473.9736328125\n",
      "Batch loss at step 8000: 2442.663818359375\n",
      "Batch loss at step 8500: 2223.05322265625\n",
      "Batch loss at step 9000: 2227.984375\n",
      "Batch loss at step 9500: 2077.270751953125\n"
     ]
    }
   ],
   "source": [
    "NEPOCH = 10000\n",
    "loss = np.zeros(NEPOCH) # store the training progress here.\n",
    "\n",
    "for i in range(NEPOCH):\n",
    "    dct_train = {c: chimie, T: temperature, y: y_train.reshape(-1,1)}\n",
    "    sess.run(train_op,feed_dict=dct_train)\n",
    "    loss[i] = sess.run(lossfunc, feed_dict=dct_train)\n",
    "    \n",
    "    if (i % 500 == 0):\n",
    "            print(\"Batch loss at step {}: {}\".format(i, loss[i]))"
   ]
  },
  {
   "cell_type": "code",
   "execution_count": 135,
   "metadata": {},
   "outputs": [
    {
     "data": {
      "text/plain": [
       "(-3, 15)"
      ]
     },
     "execution_count": 135,
     "metadata": {},
     "output_type": "execute_result"
    },
    {
     "data": {
      "image/png": "[encoded data removed]",
      "text/plain": [
       "<Figure size 432x288 with 2 Axes>"
      ]
     },
     "metadata": {},
     "output_type": "display_data"
    }
   ],
   "source": [
    "train_pred_out= sess.run(visco_pred,feed_dict={c: chimie, T: temperature, y: y_train.reshape(-1,1)})\n",
    "plt.figure()\n",
    "plt.subplot(2,1,1)\n",
    "plt.plot(y_train, train_pred_out,\"k.\")\n",
    "\n",
    "plt.plot([-3,15],[-3,15],\"--\",color=\"grey\")\n",
    "\n",
    "plt.xlim(-3,15)\n",
    "plt.ylim(-3,15)\n",
    "\n",
    "test_pred_out= sess.run(visco_pred,feed_dict={c: (X_test.iloc[:,0:14]).values, \n",
    "                                              T: X_test.iloc[:,14].values.reshape(-1,1), y: y_test.reshape(-1,1)})\n",
    "plt.subplot(2,1,2)\n",
    "plt.plot(y_test, test_pred_out,\"r.\")\n",
    "\n",
    "plt.plot([-3,15],[-3,15],\"--\",color=\"grey\")\n",
    "\n",
    "plt.xlim(-3,15)\n",
    "plt.ylim(-3,15)"
   ]
  },
  {
   "cell_type": "code",
   "execution_count": 136,
   "metadata": {},
   "outputs": [
    {
     "name": "stdout",
     "output_type": "stream",
     "text": [
      "training and testing RMSE with neural nets\n",
      "0.9910742824828653\n",
      "1.2025934001324372\n"
     ]
    }
   ],
   "source": [
    "MSE_NN_train = np.sqrt(mean_squared_error(y_train, train_pred_out))\n",
    "MSE_NN_test = np.sqrt(mean_squared_error(y_test, test_pred_out))\n",
    "\n",
    "print(\"training and testing RMSE with neural nets\")\n",
    "print(MSE_NN_train)\n",
    "print(MSE_NN_test)"
   ]
  },
  {
   "cell_type": "code",
   "execution_count": null,
   "metadata": {},
   "outputs": [],
   "source": []
  }
 ],
 "metadata": {
  "kernelspec": {
   "display_name": "Python 3",
   "language": "python",
   "name": "python3"
  },
  "language_info": {
   "codemirror_mode": {
    "name": "ipython",
    "version": 3
   },
   "file_extension": ".py",
   "mimetype": "text/x-python",
   "name": "python",
   "nbconvert_exporter": "python",
   "pygments_lexer": "ipython3",
   "version": "3.6.6"
  }
 },
 "nbformat": 4,
 "nbformat_minor": 2
}
