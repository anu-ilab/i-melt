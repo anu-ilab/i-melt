{
 "cells": [
  {
   "cell_type": "markdown",
   "id": "5355fc42",
   "metadata": {},
   "source": [
    "# Prediction for one composition\n",
    "\n",
    "**This is a simple notebook to use: follow the instructions, and you will get predictions for a composition of interest.**"
   ]
  },
  {
   "cell_type": "code",
   "execution_count": 3,
   "id": "d4b12fec",
   "metadata": {},
   "outputs": [
    {
     "name": "stdout",
     "output_type": "stream",
     "text": [
      "cpu\n"
     ]
    }
   ],
   "source": [
    "# (c) Charles Le Losq 2021\n",
    "# see embedded licence file\n",
    "\n",
    "#\n",
    "# Library loading and additional function definition\n",
    "#\n",
    "%matplotlib inline\n",
    "\n",
    "# dataframes and arrays\n",
    "import pandas as pd \n",
    "import numpy as np\n",
    "import seaborn as sns\n",
    "\n",
    "# for plotting\n",
    "import matplotlib.pyplot as plt \n",
    "\n",
    "# imelt internals\n",
    "import imelt, torch, time, h5py\n",
    "\n",
    "# we will work on CPU there\n",
    "device = torch.device('cpu') #get_default_device()\n",
    "print(device)\n",
    "\n",
    "# loading models and the dataset\n",
    "path_data = \"./data/NKAS_viscosity_reference.hdf5\"\n",
    "path_raman = \"./data/NKAS_Raman.hdf5\"\n",
    "path_density = \"./data/NKAS_density.hdf5\"\n",
    "path_optical = \"./data/NKAS_optical.hdf5\"\n",
    "\n",
    "ds = imelt.data_loader(path_data,path_raman,path_density,path_optical,device)\n",
    "\n",
    "path = \"./model/best/\"\n",
    "name_list = pd.read_csv(\"./model/best/best_list.csv\").loc[:,\"name\"]\n",
    "neuralmodel = imelt.bagging_models(path, name_list, ds, device)"
   ]
  },
  {
   "cell_type": "markdown",
   "id": "5ec8e957",
   "metadata": {},
   "source": [
    "# What is the composition of interest ?\n",
    "\n",
    "Here we reproduce the prediction for Al2O3, change for your case."
   ]
  },
  {
   "cell_type": "code",
   "execution_count": 72,
   "id": "abc78aa0",
   "metadata": {},
   "outputs": [],
   "source": [
    "composition = [0.0, 1.0, 0.0, 0.0] # MODIFY THIS, fractions of SiO2 Al2O3 Na2O K2O"
   ]
  },
  {
   "cell_type": "markdown",
   "id": "a8c73ac2",
   "metadata": {},
   "source": [
    "# Viscosity prediction\n",
    "\n",
    "1/ Select the temperature range\n"
   ]
  },
  {
   "cell_type": "code",
   "execution_count": 73,
   "id": "549bdc39",
   "metadata": {},
   "outputs": [],
   "source": [
    "T_start = 600 # MODIFY THIS, lower T limit\n",
    "T_stop = 1500 # MODIFY THIS, upper T limit"
   ]
  },
  {
   "cell_type": "markdown",
   "id": "d4aabe46",
   "metadata": {},
   "source": [
    "2/ select the equation, among: \n",
    "    \n",
    "    - ag > Adam-Gibbs\n",
    "    - am > Avramov Milchev\n",
    "    - myega > MYEGA\n",
    "    - tvf > VFT equation\n",
    "    - cg > Free Volume"
   ]
  },
  {
   "cell_type": "code",
   "execution_count": 74,
   "id": "356de370",
   "metadata": {},
   "outputs": [],
   "source": [
    "equation = \"ag\" # MODIFY THIS"
   ]
  },
  {
   "cell_type": "markdown",
   "id": "a71abaf2",
   "metadata": {},
   "source": [
    "# Predictions\n",
    "\n",
    "Do not modify if you don't understand what you are doing."
   ]
  },
  {
   "cell_type": "code",
   "execution_count": 75,
   "id": "4e2eb8bd",
   "metadata": {},
   "outputs": [
    {
     "name": "stdout",
     "output_type": "stream",
     "text": [
      "\n",
      "Results for composition with mol fractions\n",
      "0.0 SiO2, 1.0 Al2O3, 0.0 Na2O, 0.0 K2O\n",
      "\n",
      "Tg is of 815 +/- 37\n",
      "Sconf at Tg is of 2.1 +/- 0.5\n",
      "\n",
      "Fragility is of 83.6 +/- 7.8\n",
      "Density is of 3.139 +/- 0.075\n",
      "Refractive Index at 598 nm is of 1.990 +/- 0.038\n",
      "\n",
      "Parameter A for VFT is of -4.99\n",
      "Parameter B for VFT is of 7319.8\n",
      "Parameter C for VFT is of 385.0\n"
     ]
    },
    {
     "data": {
      "image/png": "[encoded data removed]",
      "text/plain": [
       "<Figure size 432x288 with 1 Axes>"
      ]
     },
     "metadata": {
      "needs_background": "light"
     },
     "output_type": "display_data"
    }
   ],
   "source": [
    "T_range = np.arange(T_start, T_stop, 1.0)\n",
    "\n",
    "viscosity = neuralmodel.predict(equation,np.array(composition).reshape(1,-1)*np.ones((len(T_range),4)),T_range.reshape(-1,1))\n",
    "tg = neuralmodel.predict(\"tg\", np.array(composition).reshape(1,-1))\n",
    "sctg = neuralmodel.predict(\"sctg\", np.array(composition).reshape(1,-1))\n",
    "fragility = neuralmodel.predict(\"fragility\", np.array(composition).reshape(1,-1))\n",
    "density = neuralmodel.predict(\"density\", np.array(composition).reshape(1,-1))\n",
    "ri = neuralmodel.predict(\"sellmeier\", np.array(composition).reshape(1,-1), [589.0])\n",
    "\n",
    "A_TVF = neuralmodel.predict(\"a_tvf\", np.array(composition).reshape(1,-1))\n",
    "B_TVF = neuralmodel.predict(\"b_tvf\", np.array(composition).reshape(1,-1))\n",
    "C_TVF = neuralmodel.predict(\"c_tvf\", np.array(composition).reshape(1,-1))\n",
    "\n",
    "raman = neuralmodel.predict(\"raman_pred\", np.array(composition).reshape(1,-1))\n",
    "\n",
    "print('')\n",
    "print('Results for composition with mol fractions')\n",
    "print('{} SiO2, {} Al2O3, {} Na2O, {} K2O'.format(composition[0],composition[1],composition[2],composition[3]))\n",
    "print('')\n",
    "print('Tg is of {:.0f} +/- {:.0f}'.format(tg.mean(axis=1)[0], tg.std(axis=1)[0]))\n",
    "print('Sconf at Tg is of {:.1f} +/- {:.1f}'.format(sctg.mean(axis=1)[0], sctg.std(axis=1)[0]))\n",
    "print('')\n",
    "print('Fragility is of {:.1f} +/- {:.1f}'.format(fragility.mean(axis=1)[0], fragility.std(axis=1)[0]))\n",
    "print('Density is of {:.3f} +/- {:.3f}'.format(density.mean(axis=1)[0], density.std(axis=1)[0]))\n",
    "print('Refractive Index at 598 nm is of {:.3f} +/- {:.3f}'.format(ri.mean(axis=1)[0], ri.std(axis=1)[0]))\n",
    "print('')\n",
    "print('Parameter A for VFT is of {:.2f}'.format(A_TVF.mean(axis=1)[0]))\n",
    "print('Parameter B for VFT is of {:.1f}'.format(B_TVF.mean(axis=1)[0]))\n",
    "print('Parameter C for VFT is of {:.1f}'.format(C_TVF.mean(axis=1)[0]))\n",
    "\n",
    "# Plotting the Raman spectra\n",
    "x_raman_shift = np.arange(400.,1250.,1.0)\n",
    "plt.figure()\n",
    "plt.plot(x_raman_shift,raman.mean(axis=2).ravel())\n",
    "plt.xlabel(\"Raman shift, cm-1\")\n",
    "plt.ylabel(\"Intensity, a.u.\")\n",
    "plt.show()"
   ]
  },
  {
   "cell_type": "code",
   "execution_count": null,
   "id": "6e8598c3",
   "metadata": {},
   "outputs": [],
   "source": []
  }
 ],
 "metadata": {
  "kernelspec": {
   "display_name": "Python 3",
   "language": "python",
   "name": "python3"
  },
  "language_info": {
   "codemirror_mode": {
    "name": "ipython",
    "version": 3
   },
   "file_extension": ".py",
   "mimetype": "text/x-python",
   "name": "python",
   "nbconvert_exporter": "python",
   "pygments_lexer": "ipython3",
   "version": "3.8.8"
  }
 },
 "nbformat": 4,
 "nbformat_minor": 5
}
