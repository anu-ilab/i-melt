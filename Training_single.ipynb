{
 "cells": [
  {
   "cell_type": "code",
   "execution_count": 1,
   "metadata": {
    "colab": {
     "base_uri": "https://localhost:8080/",
     "height": 52
    },
    "colab_type": "code",
    "executionInfo": {
     "elapsed": 8238,
     "status": "ok",
     "timestamp": 1565502147863,
     "user": {
      "displayName": "Charles LL",
      "photoUrl": "",
      "userId": "05619559028255365437"
     },
     "user_tz": -600
    },
    "id": "e0SePNd0dLJc",
    "outputId": "03c95576-8b80-4218-bfab-11d7eed6740e"
   },
   "outputs": [
    {
     "name": "stdout",
     "output_type": "stream",
     "text": [
      "CUDA AVAILABLE?  False\n",
      "cpu\n"
     ]
    }
   ],
   "source": [
    "#\n",
    "# Library Loading\n",
    "#\n",
    "\n",
    "import pandas as pd # manipulate dataframes\n",
    "import matplotlib\n",
    "import matplotlib.pyplot as plt # plotting\n",
    "import numpy as np\n",
    "np.random.seed = 167 # fix random seed for reproducibility\n",
    "import time, h5py, imelt, torch\n",
    "\n",
    "from sklearn.metrics import mean_squared_error\n",
    "\n",
    "from tqdm import tqdm \n",
    "\n",
    "# importing shutil module  \n",
    "import shutil \n",
    "\n",
    "# First we check if CUDA is available\n",
    "print(\"CUDA AVAILABLE? \",torch.cuda.is_available())\n",
    "\n",
    "def get_default_device():\n",
    "    \"\"\"Pick GPU if available, else CPU\"\"\"\n",
    "    if torch.cuda.is_available():\n",
    "        return torch.device('cuda')\n",
    "    else:\n",
    "        return torch.device('cpu')\n",
    "      \n",
    "device = get_default_device()\n",
    "print(device)\n",
    "\n",
    "#\n",
    "# Data loading\n",
    "#\n",
    "# custom data loader, automatically sent to device\n",
    "ds = imelt.data_loader(\"./data/NKAS_viscosity_reference.hdf5\",\n",
    "                         \"./data/NKAS_Raman.hdf5\",\n",
    "                         \"./data/NKAS_density.hdf5\",\n",
    "                         \"./data/NKAS_optical.hdf5\",\n",
    "                         device)\n",
    "\n",
    "ds.print_data()\n",
    "\n",
    "#\n",
    "# Training 1 model \n",
    "#\n",
    " \n",
    "\n",
    "# reference architecture: 4 layers, 200 neurons per layer, very low dropout\n",
    "# Parameters were tuned after the random search, & learning rate by Bayesian Optimization & patience by hand.\n",
    "\n",
    "nb_layers = 4\n",
    "nb_neurons = 200\n",
    "p_drop = 0.01\n",
    "\n",
    "name = \"./model/candidates/l\"+str(nb_layers)+\"_n\"+str(nb_neurons)+\"_p\"+str(p_drop)+\"_test\"+\".pth\"\n",
    "\n",
    "# declaring model\n",
    "neuralmodel = imelt.model(4,nb_neurons,nb_layers,ds.nb_channels_raman,p_drop=p_drop) \n",
    "\n",
    "# criterion for match\n",
    "criterion = torch.nn.MSELoss(reduction='mean')\n",
    "criterion.to(device) # sending criterion on device\n",
    "\n",
    "# we initialize the output bias and send the neural net on device\n",
    "neuralmodel.output_bias_init()\n",
    "neuralmodel = neuralmodel.float()\n",
    "neuralmodel.to(device)\n",
    "\n",
    "#\n",
    "# TRAINING\n",
    "#\n",
    "optimizer = torch.optim.Adam(neuralmodel.parameters(), lr = 0.0006) # optimizer\n",
    "neuralmodel, record_train_loss, record_valid_loss = imelt.training(neuralmodel,ds,\n",
    "                                                                     criterion,optimizer,save_switch=True,save_name=name,\n",
    "                                                                     train_patience=400,min_delta=0.05,\n",
    "                                                                     verbose=True)\n",
    "\n",
    "print(name)\n",
    "plt.figure()\n",
    "plt.plot(record_train_loss,label=\"train\")\n",
    "plt.plot(record_valid_loss,label=\"valid\")\n",
    "plt.legend()\n",
    "plt.yscale(\"log\")\n",
    "plt.savefig(\"./figures/single/loss.pdf\")\n",
    "\n",
    "#\n",
    "# Print a metric to see performance\n",
    "#\n",
    "\n",
    "from sklearn.metrics import mean_squared_error\n",
    "\n",
    "print(\"Viscosity RMSE on training and validation subsets are:\")\n",
    "print(mean_squared_error(neuralmodel.ag(ds.x_visco_train,ds.T_visco_train).cpu().detach().numpy(), ds.y_visco_train.cpu().detach().numpy(),squared=False))\n",
    "print(mean_squared_error(neuralmodel.ag(ds.x_visco_valid,ds.T_visco_valid).cpu().detach().numpy(), ds.y_visco_valid.cpu().detach().numpy(),squared=False))\n",
    "\n",
    "print(\"\\n DONE\")"
   ]
  },
  {
   "cell_type": "code",
   "execution_count": null,
   "metadata": {},
   "outputs": [],
   "source": []
  }
 ],
 "metadata": {
  "accelerator": "GPU",
  "colab": {
   "collapsed_sections": [],
   "name": "Pytorch_model_dev2.ipynb",
   "provenance": [],
   "toc_visible": true,
   "version": "0.3.2"
  },
  "kernelspec": {
   "display_name": "Python 3",
   "language": "python",
   "name": "python3"
  },
  "language_info": {
   "codemirror_mode": {
    "name": "ipython",
    "version": 3
   },
   "file_extension": ".py",
   "mimetype": "text/x-python",
   "name": "python",
   "nbconvert_exporter": "python",
   "pygments_lexer": "ipython3",
   "version": "3.7.7"
  }
 },
 "nbformat": 4,
 "nbformat_minor": 4
}
