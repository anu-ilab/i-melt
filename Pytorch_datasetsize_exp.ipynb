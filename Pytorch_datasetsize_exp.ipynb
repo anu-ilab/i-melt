{
 "cells": [
  {
   "cell_type": "code",
   "execution_count": 1,
   "metadata": {
    "colab": {
     "base_uri": "https://localhost:8080/",
     "height": 52
    },
    "colab_type": "code",
    "executionInfo": {
     "elapsed": 38389,
     "status": "ok",
     "timestamp": 1565497687459,
     "user": {
      "displayName": "Charles LL",
      "photoUrl": "",
      "userId": "05619559028255365437"
     },
     "user_tz": -600
    },
    "id": "e8LyNSHTcGn4",
    "outputId": "3b66ab31-d8c2-4b2d-f392-9f2a18292a94"
   },
   "outputs": [],
   "source": [
    "#!pip install -U -q PyDrive\n",
    "\n",
    "#from pydrive.auth import GoogleAuth\n",
    "#from pydrive.drive import GoogleDrive\n",
    "#from google.colab import auth\n",
    "#from oauth2client.client import GoogleCredentials\n",
    "\n",
    "# 1. Authenticate and create the PyDrive client.\n",
    "#auth.authenticate_user()\n",
    "#gauth = GoogleAuth()\n",
    "#gauth.credentials = GoogleCredentials.get_application_default()\n",
    "#drive = GoogleDrive(gauth)\n",
    "\n",
    "### Download datasets\n",
    "#downloaded = drive.CreateFile({'id':\"1t5wi4xjrOD5OcxH3SMhTNH9wxRuU5dMb\"})   # replace the id with id of file you want to access\n",
    "#downloaded.GetContentFile('NKAS_Raman.hdf5')  \n",
    "\n",
    "#downloaded = drive.CreateFile({'id':\"1wq_e-gcfHjf3Wes6-Vsur-9zNKfhgo-9\"})   # replace the id with id of file you want to access\n",
    "#downloaded.GetContentFile('DataSets.zip') \n",
    "\n",
    "#!unzip DataSets.zip\n",
    "\n",
    "#downloaded = drive.CreateFile({'id':\"1FxLvyBgmfQ17xctfOjzEvWcNmGa9F4sR\"})   # replace the id with id of file you want to access\n",
    "#downloaded.GetContentFile('NKAS_density.hdf5')  \n",
    "\n",
    "#downloaded = drive.CreateFile({'id':\"1AyFwtkEzhH01clvoo9Y5_unGfeMM8Q1E\"})   # replace the id with id of file you want to access\n",
    "#downloaded.GetContentFile('neuravi.py') "
   ]
  },
  {
   "cell_type": "code",
   "execution_count": 2,
   "metadata": {
    "colab": {
     "base_uri": "https://localhost:8080/",
     "height": 52
    },
    "colab_type": "code",
    "executionInfo": {
     "elapsed": 3266,
     "status": "ok",
     "timestamp": 1565497694833,
     "user": {
      "displayName": "Charles LL",
      "photoUrl": "",
      "userId": "05619559028255365437"
     },
     "user_tz": -600
    },
    "id": "ZtpeeRQzcNby",
    "outputId": "8338f3c3-f8a1-4494-a183-ad5a3df2c65f"
   },
   "outputs": [
    {
     "name": "stdout",
     "output_type": "stream",
     "text": [
      "CUDA AVAILABLE?  True\n",
      "cuda\n"
     ]
    }
   ],
   "source": [
    "# Library loading\n",
    "%matplotlib inline\n",
    "\n",
    "import pandas as pd # manipulate dataframes\n",
    "import matplotlib.pyplot as plt # plotting\n",
    "import matplotlib\n",
    "import numpy as np\n",
    "import time\n",
    "\n",
    "from sklearn.metrics import mean_squared_error\n",
    "import h5py\n",
    "\n",
    "# Check torch install\n",
    "try:\n",
    "  import torch\n",
    "except:\n",
    "  print(\"Starting a session, torch not installed, installing...\")\n",
    "  !pip3 install torch # we install torch if not installed\n",
    "  import torch\n",
    "\n",
    "# First we check if CUDA is available\n",
    "print(\"CUDA AVAILABLE? \",torch.cuda.is_available())\n",
    "\n",
    "def get_default_device():\n",
    "    \"\"\"Pick GPU if available, else CPU\"\"\"\n",
    "    if torch.cuda.is_available():\n",
    "        return torch.device('cuda')\n",
    "    else:\n",
    "        return torch.device('cpu')\n",
    "      \n",
    "device = get_default_device()\n",
    "print(device)"
   ]
  },
  {
   "cell_type": "code",
   "execution_count": 7,
   "metadata": {
    "colab": {},
    "colab_type": "code",
    "id": "X1uV1wCAecHF"
   },
   "outputs": [],
   "source": [
    "import neuravi\n",
    "\n",
    "def train_model(path_data,nb_neurons,nb_layers,p_drop, name, device):\n",
    "\n",
    "    ds = neuravi.data_loader(path_data,\"./data/NKAS_Raman.hdf5\",\"./data/NKAS_density.hdf5\",device)\n",
    "    \n",
    "    # declaring model\n",
    "    neuralmodel = neuravi.model(4,nb_neurons,nb_layers,ds.nb_channels_raman,p_drop=p_drop) \n",
    "\n",
    "    # criterion for match\n",
    "    criterion = torch.nn.MSELoss()\n",
    "    criterion.to(device)\n",
    "    optimizer = torch.optim.Adam(neuralmodel.parameters(), lr = 0.001) # optimizer\n",
    "\n",
    "    # we initialize the output bias\n",
    "    neuralmodel.output_bias_init()\n",
    "\n",
    "    # we send the neural net on device\n",
    "    neuralmodel.to(device)\n",
    "    \n",
    "    #\n",
    "    # PRETRAINING\n",
    "    #\n",
    "    neuralmodel, record_pretrain_loss, record_prevalid_loss = neuravi.pretraining(neuralmodel,ds,criterion,optimizer,verbose=False)\n",
    "                \n",
    "    #\n",
    "    # TRAINING\n",
    "    #\n",
    "    neuralmodel, record_train_loss, record_valid_loss = neuravi.maintraining(neuralmodel,ds,criterion,optimizer,name,verbose=False)\n",
    "        \n",
    "    #\n",
    "    # SAVING MODEL\n",
    "    #\n",
    "    #try:\n",
    "    #    file_out = drive.CreateFile()\n",
    "    #    # Read file and set it as a content of this instance.\n",
    "    #    file_out.SetContentFile(name)\n",
    "    #    file_out.Upload() # Upload the file.\n",
    "    #    print('Model {} saved'.format(name))\n",
    "    #except:\n",
    "    #    print(\"Warning, training never converged for dataset {}, model not saved\".format(path_data))"
   ]
  },
  {
   "cell_type": "code",
   "execution_count": 8,
   "metadata": {
    "colab": {
     "base_uri": "https://localhost:8080/",
     "height": 1000
    },
    "colab_type": "code",
    "executionInfo": {
     "elapsed": 879674,
     "status": "ok",
     "timestamp": 1565498592905,
     "user": {
      "displayName": "Charles LL",
      "photoUrl": "",
      "userId": "05619559028255365437"
     },
     "user_tz": -600
    },
    "id": "a2pNE0yNe1CD",
    "outputId": "a85bb203-1d08-4879-84da-02ef81255c0f"
   },
   "outputs": [
    {
     "name": "stdout",
     "output_type": "stream",
     "text": [
      "Experiment on dataset 0 started...\n",
      "Experiment on dataset 1 started...\n",
      "Experiment on dataset 2 started...\n",
      "Experiment on dataset 3 started...\n",
      "Experiment on dataset 4 started...\n",
      "Experiment on dataset 5 started...\n",
      "Experiment on dataset 6 started...\n",
      "Experiment on dataset 7 started...\n"
     ]
    }
   ],
   "source": [
    "path_data = [\"./data/DataSet_0p10val.hdf5\",\n",
    "             \"./data/DataSet_0p20val.hdf5\",\n",
    "             \"./data/DataSet_0p30val.hdf5\",\n",
    "             \"./data/DataSet_0p40val.hdf5\",\n",
    "             \"./data/DataSet_0p50val.hdf5\",\n",
    "             \"./data/DataSet_0p60val.hdf5\",\n",
    "             \"./data/DataSet_0p70val.hdf5\",\n",
    "             \"./data/DataSet_0p80val.hdf5\"]\n",
    "save_names = [\"./model/exp_trainsize/model_l4_n200_p20_data0p10val\",\n",
    "              \"./model/exp_trainsize/model_l4_n200_p20_data0p20val\",\n",
    "              \"./model/exp_trainsize/model_l4_n200_p20_data0p30val\",\n",
    "              \"./model/exp_trainsize/model_l4_n200_p20_data0p40val\",\n",
    "              \"./model/exp_trainsize/model_l4_n200_p20_data0p50val\",\n",
    "              \"./model/exp_trainsize/model_l4_n200_p20_data0p60val\",\n",
    "              \"./model/exp_trainsize/model_l4_n200_p20_data0p70val\",\n",
    "              \"./model/exp_trainsize/model_l4_n200_p20_data0p80val\"]\n",
    "\n",
    "nb_neurons = 200\n",
    "nb_layers = 4\n",
    "p_drop = 0.1\n",
    "\n",
    "for i in range(len(path_data)):\n",
    "    print('Experiment on dataset {} started...'.format(i))\n",
    "    for j in range(10):\n",
    "        train_model(path_data[i], nb_neurons, nb_layers, p_drop, \n",
    "                    save_names[i]+\"_{}.pth\".format(j), device)"
   ]
  },
  {
   "cell_type": "code",
   "execution_count": 0,
   "metadata": {
    "colab": {},
    "colab_type": "code",
    "id": "T1FGNlKke3PC"
   },
   "outputs": [],
   "source": []
  }
 ],
 "metadata": {
  "accelerator": "GPU",
  "colab": {
   "collapsed_sections": [],
   "name": "Pytorch_datasetsize_exp.ipynb",
   "provenance": [],
   "version": "0.3.2"
  },
  "kernelspec": {
   "display_name": "Python 3",
   "language": "python",
   "name": "python3"
  },
  "language_info": {
   "codemirror_mode": {
    "name": "ipython",
    "version": 3
   },
   "file_extension": ".py",
   "mimetype": "text/x-python",
   "name": "python",
   "nbconvert_exporter": "python",
   "pygments_lexer": "ipython3",
   "version": "3.7.4"
  }
 },
 "nbformat": 4,
 "nbformat_minor": 1
}
