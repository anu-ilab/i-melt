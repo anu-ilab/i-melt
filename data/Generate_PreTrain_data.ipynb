{
 "cells": [
  {
   "cell_type": "code",
   "execution_count": 1,
   "metadata": {},
   "outputs": [],
   "source": [
    "########## Calling relevant libraries ##########\n",
    "%matplotlib inline\n",
    "import matplotlib.pyplot as plt\n",
    "import numpy as np\n",
    "from sklearn.metrics import mean_squared_error\n",
    "\n",
    "import scipy, sqlite3, h5py\n",
    "\n",
    "import pandas as pd\n",
    "\n",
    "import sklearn\n",
    "import sklearn.model_selection as model_selection\n",
    "from sklearn.neural_network import MLPRegressor\n",
    "from sklearn.preprocessing import StandardScaler\n",
    "from sklearn.ensemble import BaggingRegressor\n",
    "\n",
    "import rampy as rp\n",
    "\n",
    "import sys\n",
    "sys.path.append(\"/home/charles/GoogleDrive/viscopy/\")\n",
    "sys.path.append(\"/home/charles/GoogleDrive/structupy/\")\n",
    "import viscopy as vp\n",
    "import structupy as spy"
   ]
  },
  {
   "cell_type": "code",
   "execution_count": 174,
   "metadata": {},
   "outputs": [],
   "source": [
    "sio2 = np.random.rand(6000)*0.5+0.5\n",
    "\n",
    "Xk = np.random.rand(6000)\n",
    "AlM = np.random.rand(6000)\n",
    "\n",
    "remain = 1-sio2\n",
    "\n",
    "al2o3 = AlM * remain\n",
    "alkalis = 1.0 - sio2 - al2o3\n",
    "\n",
    "na2o = (1-Xk)*alkalis\n",
    "k2o = Xk*alkalis\n",
    "\n",
    "X = pd.DataFrame()\n",
    "X[\"sio2\"] = sio2\n",
    "X[\"al2o3\"] = al2o3\n",
    "X[\"k2o\"] = k2o\n",
    "X[\"na2o\"] = na2o\n",
    "\n",
    "X_ = vp.chimie_control(X)\n",
    "ap, b = vp.heatcp(X_,Cp_glass = \"3R\")\n",
    "n_b_o = spy.nbot(X_)\n",
    "atoms_ = spy.atoms(X_)"
   ]
  },
  {
   "cell_type": "code",
   "execution_count": 267,
   "metadata": {},
   "outputs": [],
   "source": [
    "def fentropy(x,at):\n",
    "    e_si = 5.1\n",
    "    e_al = 2.2\n",
    "    e_na = 15.0\n",
    "    e_k = 20.0\n",
    "    \n",
    "    linear = e_si * x.loc[:,\"sio2\"] + e_al*x.loc[:,\"al2o3\"] + e_na*x.loc[:,\"na2o\"] + e_k*x.loc[:,\"k2o\"]\n",
    "    \n",
    "    n = 3*x.loc[:,\"sio2\"] + 5*x.loc[:,\"al2o3\"] + 3*x.loc[:,\"na2o\"] + 3*x.loc[:,\"k2o\"]\n",
    "    \n",
    "    Xk = at.loc[:,\"k\"]/(at.loc[:,\"na\"] + at.loc[:,\"k\"])\n",
    "    AlM = at.loc[:,\"al\"]/(at.loc[:,\"na\"] + at.loc[:,\"k\"]+at.loc[:,\"al\"])\n",
    "    AlSi = at.loc[:,\"al\"]/(at.loc[:,\"si\"]+at.loc[:,\"al\"])\n",
    "    \n",
    "    \n",
    "    mixing1 = -(at.k+at.na)/at.o*2*8.314*(Xk*np.log(Xk))\n",
    "    mixing2 = -(at.al+at.k+at.na)/at.o*2*8.314*(at.k*np.log(at.k)+at.na*np.log(at.na)+at.al*np.log(at.al))\n",
    "    mixing3 = -(at.si+at.al)/at.o*2*8.314*(AlSi*np.log(AlSi))\n",
    "    \n",
    "    return linear + mixing1 + mixing2 + mixing3\n",
    "\n",
    "\n",
    "def fBe(x,at):\n",
    "    Be_si = 100000\n",
    "    Be_al = 30000\n",
    "    Be_na = 15000\n",
    "    Be_k = 12000\n",
    "    \n",
    "    linear = Be_si * x.loc[:,\"sio2\"] + Be_al*x.loc[:,\"al2o3\"] + Be_na*x.loc[:,\"na2o\"] + Be_k*x.loc[:,\"k2o\"]\n",
    "    \n",
    "    entropy_inf = 500 * fentropy(x,at)\n",
    "    \n",
    "    return linear + entropy_inf\n"
   ]
  },
  {
   "cell_type": "code",
   "execution_count": 268,
   "metadata": {},
   "outputs": [
    {
     "data": {
      "text/plain": [
       "[<matplotlib.lines.Line2D at 0x7f755ea9bc50>]"
      ]
     },
     "execution_count": 268,
     "metadata": {},
     "output_type": "execute_result"
    },
    {
     "data": {
      "image/png": "[encoded data removed]",
      "text/plain": [
       "<Figure size 432x288 with 2 Axes>"
      ]
     },
     "metadata": {},
     "output_type": "display_data"
    }
   ],
   "source": [
    "plt.subplot(3,1,1)\n",
    "plt.plot(n_b_o.loc[:,\"nbot\"],fBe(X_,atoms_).values,\".\")\n",
    "plt.subplot(3,1,2)\n",
    "plt.plot(n_b_o.loc[:,\"nbot\"],fentropy(X_,atoms_).values,\".\")\n"
   ]
  },
  {
   "cell_type": "code",
   "execution_count": 272,
   "metadata": {},
   "outputs": [],
   "source": [
    "X_[\"ap\"] = ap\n",
    "X_[\"b\"] = b\n",
    "X_[\"entropy\"] = fentropy(X_,atoms_)\n",
    "X_[\"Be\"] = fBe(X_,atoms_)\n",
    "X_.to_csv(\"./fake_X.csv\",index=False)"
   ]
  },
  {
   "cell_type": "code",
   "execution_count": 256,
   "metadata": {},
   "outputs": [],
   "source": [
    "train_X, test_X = model_selection.train_test_split(X_,test_size=0.995)\n",
    "y_train = np.vstack((fentropy(train_X,spy.atoms(train_X)).values,fBe(train_X,spy.atoms(train_X)).values)).T \n",
    "y_test = np.vstack((fentropy(test_X,spy.atoms(test_X)).values,fBe(test_X,spy.atoms(test_X)).values)).T "
   ]
  },
  {
   "cell_type": "code",
   "execution_count": 258,
   "metadata": {},
   "outputs": [
    {
     "data": {
      "text/plain": [
       "[<matplotlib.lines.Line2D at 0x7f755eeb6b00>]"
      ]
     },
     "execution_count": 258,
     "metadata": {},
     "output_type": "execute_result"
    },
    {
     "data": {
      "image/png": "[encoded data removed]",
      "text/plain": [
       "<Figure size 432x288 with 1 Axes>"
      ]
     },
     "metadata": {},
     "output_type": "display_data"
    }
   ],
   "source": [
    "model1 =rp.mlregressor(train_X,fentropy(train_X,spy.atoms(train_X)).values)\n",
    "model1.scaler = 'StandardScaler'\n",
    "model1.param_neurons['hidden_layer_sizes'] = (5) \n",
    "model1.param_neurons['activation'] = \"tanh\"\n",
    "model1.algorithm = \"NeuralNet\"\n",
    "model1.param_neurons['solver'] = \"lbfgs\"\n",
    "model1.param_neurons['max_iter'] = 1000\n",
    "model1.fit()\n",
    "model1.fit()\n",
    "y_pred_test = model1.predict(X_)\n",
    "plt.plot(y_pred_test,fentropy(X_,spy.atoms(X_)).values)\n",
    "plt.plot([0,20],[0,20])"
   ]
  },
  {
   "cell_type": "code",
   "execution_count": 248,
   "metadata": {},
   "outputs": [
    {
     "data": {
      "text/plain": [
       "(30, 16)"
      ]
     },
     "execution_count": 248,
     "metadata": {},
     "output_type": "execute_result"
    }
   ],
   "source": [
    "train_X.shape"
   ]
  },
  {
   "cell_type": "code",
   "execution_count": 203,
   "metadata": {},
   "outputs": [
    {
     "data": {
      "text/plain": [
       "[<matplotlib.lines.Line2D at 0x7f756c566400>]"
      ]
     },
     "execution_count": 203,
     "metadata": {},
     "output_type": "execute_result"
    },
    {
     "data": {
      "image/png": "[encoded data removed]",
      "text/plain": [
       "<Figure size 432x288 with 1 Axes>"
      ]
     },
     "metadata": {},
     "output_type": "display_data"
    }
   ],
   "source": []
  },
  {
   "cell_type": "code",
   "execution_count": null,
   "metadata": {},
   "outputs": [],
   "source": []
  }
 ],
 "metadata": {
  "kernelspec": {
   "display_name": "Python 3",
   "language": "python",
   "name": "python3"
  },
  "language_info": {
   "codemirror_mode": {
    "name": "ipython",
    "version": 3
   },
   "file_extension": ".py",
   "mimetype": "text/x-python",
   "name": "python",
   "nbconvert_exporter": "python",
   "pygments_lexer": "ipython3",
   "version": "3.6.7"
  }
 },
 "nbformat": 4,
 "nbformat_minor": 2
}
