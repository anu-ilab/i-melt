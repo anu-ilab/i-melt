{
 "cells": [
  {
   "cell_type": "code",
   "execution_count": 8,
   "metadata": {
    "colab": {
     "base_uri": "https://localhost:8080/",
     "height": 52
    },
    "colab_type": "code",
    "executionInfo": {
     "elapsed": 3266,
     "status": "ok",
     "timestamp": 1565497694833,
     "user": {
      "displayName": "Charles LL",
      "photoUrl": "",
      "userId": "05619559028255365437"
     },
     "user_tz": -600
    },
    "id": "ZtpeeRQzcNby",
    "outputId": "8338f3c3-f8a1-4494-a183-ad5a3df2c65f"
   },
   "outputs": [
    {
     "name": "stdout",
     "output_type": "stream",
     "text": [
      "Running on cuda \n"
     ]
    }
   ],
   "source": [
    "#\n",
    "# Load libraries\n",
    "#\n",
    "import pandas as pd # manipulate dataframes\n",
    "import matplotlib\n",
    "import matplotlib.pyplot as plt # plotting\n",
    "import numpy as np\n",
    "\n",
    "import time, h5py, imelt, torch\n",
    "\n",
    "from sklearn.metrics import mean_squared_error\n",
    "\n",
    "from tqdm import tqdm \n",
    "\n",
    "# First we check if CUDA is available\n",
    "device = torch.device('cuda' if torch.cuda.is_available() else 'cpu')\n",
    "print(\"Running on {} \".format(device))\n",
    "\n",
    "# Fixing random seeds for reproducibility\n",
    "# np.random.seed = 167 # fix random seed for reproducibility\n",
    "\n",
    "#\n",
    "# USEFUL FUNCTIONS\n",
    "#\n",
    "\n",
    "\n",
    "def train_model(ds, nb_neurons, nb_layers, p_drop, save_name, device, patience=200, min_delta=0.05):\n",
    "    \"\"\"function for practical training of several models\"\"\"\n",
    "    neuralmodel = imelt.model(4,nb_neurons,nb_layers,ds.nb_channels_raman,p_drop=p_drop) # declaring model\n",
    "\n",
    "    optimizer = torch.optim.Adam(neuralmodel.parameters(), lr = 0.0006) # optimizer\n",
    "\n",
    "    # the criterion : MSE\n",
    "    criterion = torch.nn.MSELoss(reduction='mean') # criterion for match, sent on device\n",
    "    criterion.to(device)\n",
    "\n",
    "    neuralmodel.output_bias_init() # we initialize the output bias\n",
    "    neuralmodel = neuralmodel.float() # the model also is in Float\n",
    "    neuralmodel.to(device) # we send the neural net on device\n",
    "    \n",
    "    # training\n",
    "    neuralmodel, record_train_loss, record_valid_loss = imelt.training(neuralmodel,ds,criterion,optimizer,\n",
    "                                                                         save_switch=True,save_name=save_name,\n",
    "                                                                         train_patience=patience,min_delta=min_delta,verbose=False)\n",
    "\n",
    "    # to avoid any problem with CUDA memory...\n",
    "    del neuralmodel, criterion\n",
    "    torch.cuda.empty_cache()\n",
    "\n",
    "#\n",
    "# Start calculations\n",
    "#\n",
    "nb_exp = 3000\n",
    "nb_neurons = np.random.randint(10,high=500,size=nb_exp)\n",
    "nb_layers = np.random.randint(1,high=7,size=nb_exp)\n",
    "p_drop = np.around(np.random.random_sample(nb_exp)*0.5,2)\n",
    "\n",
    "# custom data loader, automatically sent to device\n",
    "ds = imelt.data_loader(\"./data/NKAS_viscosity_reference.hdf5\",\n",
    "                         \"./data/NKAS_Raman.hdf5\",\n",
    "                         \"./data/NKAS_density.hdf5\",\n",
    "                         \"./data/NKAS_optical.hdf5\",\n",
    "                         device)\n",
    "    \n",
    "for i in tqdm(range(nb_exp)):\n",
    "        \n",
    "    # name for saving\n",
    "    name = \"./model/exp_arch/l\"+str(nb_layers[i])+\"_n\"+str(nb_neurons[i])+\"_p\"+str(p_drop[i])+\".pth\"\n",
    "    \n",
    "    train_model(ds,nb_neurons[i],nb_layers[i],p_drop[i], name, device)"
   ]
  }
 ],
 "metadata": {
  "accelerator": "GPU",
  "colab": {
   "collapsed_sections": [],
   "name": "Pytorch_datasetsize_exp.ipynb",
   "provenance": [],
   "version": "0.3.2"
  },
  "kernelspec": {
   "display_name": "Python 3",
   "language": "python",
   "name": "python3"
  },
  "language_info": {
   "codemirror_mode": {
    "name": "ipython",
    "version": 3
   },
   "file_extension": ".py",
   "mimetype": "text/x-python",
   "name": "python",
   "nbconvert_exporter": "python",
   "pygments_lexer": "ipython3",
   "version": "3.8.8"
  }
 },
 "nbformat": 4,
 "nbformat_minor": 1
}
