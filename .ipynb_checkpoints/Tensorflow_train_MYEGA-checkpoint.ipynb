{
 "cells": [
  {
   "cell_type": "code",
   "execution_count": 1,
   "metadata": {},
   "outputs": [
    {
     "name": "stderr",
     "output_type": "stream",
     "text": [
      "/home/charles/miniconda3/envs/py36/lib/python3.6/site-packages/sklearn/ensemble/weight_boosting.py:29: DeprecationWarning: numpy.core.umath_tests is an internal NumPy module and should not be imported. It will be removed in a future NumPy release.\n",
      "  from numpy.core.umath_tests import inner1d\n"
     ]
    }
   ],
   "source": [
    "########## Calling relevant libraries ##########\n",
    "%matplotlib inline\n",
    "import numpy as np\n",
    "from sklearn.metrics import mean_squared_error\n",
    "import scipy\n",
    "\n",
    "# Setting matplotlib options for this notebook\n",
    "import matplotlib\n",
    "from matplotlib import pyplot as plt\n",
    "\n",
    "import tensorflow as tf\n",
    "\n",
    "import sklearn\n",
    "from sklearn.externals import joblib\n",
    "\n",
    "import neuravi"
   ]
  },
  {
   "cell_type": "markdown",
   "metadata": {},
   "source": [
    "# Loading dataset\n",
    "\n",
    "Dataset has been prepared before`"
   ]
  },
  {
   "cell_type": "code",
   "execution_count": 2,
   "metadata": {
    "code_folding": []
   },
   "outputs": [],
   "source": [
    "d = neuravi.Data(\"./data/\")"
   ]
  },
  {
   "cell_type": "markdown",
   "metadata": {},
   "source": [
    "## model with TensorFlow and MYEGA equation (expressed as a function of Tg and fragility m)\n",
    "\n",
    "The MYEGA viscosity equation is:\n",
    "\n",
    "\n",
    "$$log(\\eta_{T}) = log(\\eta_{\\infty}) + (12-log(\\eta_{\\infty}))\\frac{T_g}{T} exp((\\frac{m}{12-log(\\eta_{\\infty})}-1)(\\frac{Tg}{T} - 1))$$"
   ]
  },
  {
   "cell_type": "code",
   "execution_count": 3,
   "metadata": {},
   "outputs": [],
   "source": [
    "# we have the chemical composition as X train/valid/test, but also the temperature\n",
    "\n",
    "chimie_train = d.X_train[:,0:14]\n",
    "temperature_train = d.X_train[:,14].reshape(-1,1)\n",
    "\n",
    "chimie_valid = d.X_valid[:,0:14]\n",
    "temperature_valid = d.X_valid[:,14].reshape(-1,1)\n",
    "\n",
    "chimie_test = d.X_test[:,0:14]\n",
    "temperature_test = d.X_test[:,14].reshape(-1,1)\n",
    "\n",
    "# rescale chimie between 0 and 1\n",
    "\n",
    "chimie_train = chimie_train/chimie_train.sum(axis=1).reshape(-1,1)\n",
    "chimie_valid = chimie_valid/chimie_valid.sum(axis=1).reshape(-1,1)\n",
    "chimie_test = chimie_test/chimie_test.sum(axis=1).reshape(-1,1)"
   ]
  },
  {
   "cell_type": "markdown",
   "metadata": {},
   "source": [
    "We then create an object to create a network with 1 to 5 layers (ReLu activation units + dropout),\n",
    "\n",
    "Following the reading of Kaufl, we will initiate the bias of the output neural net layer to values of parameters that are not far from reality.\n",
    "\n",
    "Then results of output layer are used to calculate the parameters of the A-G equation (see above), which, in turn, gives the viscosity.\n",
    "\n",
    "We use a L2 loss to determine distance from targets.\n",
    "\n",
    "Optimizer is RMSprop, it seems the most stable from my test.\n",
    "\n",
    "The code for the object is in the file neuravi.py"
   ]
  },
  {
   "cell_type": "code",
   "execution_count": 40,
   "metadata": {},
   "outputs": [],
   "source": [
    "NIN = chimie_train.shape[1]\n",
    "NHIDDEN = 100\n",
    "NLAYER = 1\n",
    "STDEV = 0.0001\n",
    "bias = np.array([-4.5,np.log(500.),np.log(10.)])\n",
    "\n",
    "mod = neuravi.Model_MYEGA(NIN, num_layers=NLAYER,hidden_size=NHIDDEN, init_bias = bias)"
   ]
  },
  {
   "cell_type": "markdown",
   "metadata": {},
   "source": [
    "We start a TF Interactive Session to initiate our model, and look at the initial predictions.\n",
    "\n",
    "The idea is to avoid starting the training with an initial model very far from reality...\n",
    "\n",
    "So we run this cell again and again until we see a relatively close correspondance.\n",
    "\n",
    "Initial predictions should be in a -5 - 20 range... If not, too much iterations are required for proper convergence...\n",
    "\n",
    "We just avoid values at 10^20...."
   ]
  },
  {
   "cell_type": "code",
   "execution_count": 41,
   "metadata": {},
   "outputs": [
    {
     "data": {
      "text/plain": [
       "[<matplotlib.lines.Line2D at 0x7f408c3ee6d8>]"
      ]
     },
     "execution_count": 41,
     "metadata": {},
     "output_type": "execute_result"
    },
    {
     "data": {
      "image/png": "[encoded data removed]",
      "text/plain": [
       "<Figure size 432x288 with 1 Axes>"
      ]
     },
     "metadata": {},
     "output_type": "display_data"
    }
   ],
   "source": [
    "try:\n",
    "    sess.close()\n",
    "except:\n",
    "    print(\"OK, no interactive session running\")\n",
    "\n",
    "sess = tf.InteractiveSession()\n",
    "sess.run(mod.init_op)\n",
    "\n",
    "pred_ini= sess.run(mod.visco_pred,feed_dict={mod.input_c: chimie_train, \n",
    "                                             mod.input_T: temperature_train, \n",
    "                                             mod.input_y: d.y_train.reshape(-1,1)})\n",
    "plt.figure()\n",
    "plt.plot(d.y_train, pred_ini)"
   ]
  },
  {
   "cell_type": "markdown",
   "metadata": {},
   "source": [
    "We then train the network for 50,000 iterations. We use the full batch. Should not be a problem as our dataset is relatively small.\n",
    "\n",
    "Convergence is slow.\n",
    "\n",
    "I do not perform early stopping (lines are commented) as it does not bring anything to the training. It stops the training too early.\n",
    "\n",
    "Furthermore, good validation and testing errors are in general obtained because we use dropout, which favour generalization."
   ]
  },
  {
   "cell_type": "code",
   "execution_count": 23,
   "metadata": {},
   "outputs": [
    {
     "name": "stdout",
     "output_type": "stream",
     "text": [
      "Batch train and valid loss at step 0: 284233.4375, 1151453952.0\n",
      "Batch train and valid loss at step 500: 266591.9375, 54718.390625\n",
      "Batch train and valid loss at step 1000: 226439.40625, 46611.9921875\n",
      "Batch train and valid loss at step 1500: 171273.96875, 35431.48828125\n",
      "Batch train and valid loss at step 2000: 112621.1796875, 23406.759765625\n",
      "Batch train and valid loss at step 2500: 65724.890625, 13528.5263671875\n",
      "Batch train and valid loss at step 3000: 47939.546875, 9278.69140625\n",
      "Batch train and valid loss at step 3500: 46647.3671875, 9068.5712890625\n",
      "Batch train and valid loss at step 4000: 45385.2265625, 8845.908203125\n",
      "Batch train and valid loss at step 4500: 44095.8671875, 8703.3369140625\n",
      "Batch train and valid loss at step 5000: 42906.4375, 8522.59375\n",
      "Batch train and valid loss at step 5500: 41984.65234375, 8378.212890625\n",
      "Batch train and valid loss at step 6000: 41371.42578125, 8194.78515625\n",
      "Batch train and valid loss at step 6500: 40914.734375, 8009.9013671875\n",
      "Batch train and valid loss at step 7000: 40562.875, 7832.52978515625\n",
      "Batch train and valid loss at step 7500: nan, nan\n",
      "Batch train and valid loss at step 8000: nan, nan\n",
      "Batch train and valid loss at step 8500: nan, nan\n",
      "Batch train and valid loss at step 9000: nan, nan\n",
      "Batch train and valid loss at step 9500: nan, nan\n"
     ]
    }
   ],
   "source": [
    "NEPOCH = 10000\n",
    "loss_train = np.zeros(NEPOCH) # store the training progress here.\n",
    "loss_valid = np.zeros(NEPOCH) # store the training progress here.\n",
    "\n",
    "early_stop = 1000 # not used below\n",
    "count_es = 0\n",
    "\n",
    "for i in range(NEPOCH):\n",
    "    dct_train = {mod.prob: 1.0, mod.input_c: chimie_train, mod.input_T: temperature_train, mod.input_y: d.y_train.reshape(-1,1)}\n",
    "    dct_valid = {mod.input_c: chimie_valid, mod.input_T: temperature_valid, mod.input_y: d.y_valid.reshape(-1,1)}\n",
    "    \n",
    "    sess.run(mod.optimizer,feed_dict=dct_train)\n",
    "    loss_train[i] = sess.run(mod.loss, feed_dict=dct_train)\n",
    "    loss_valid[i] = sess.run(mod.loss, feed_dict=dct_valid)\n",
    "    \n",
    "    if (i % 500 == 0):\n",
    "            print(\"Batch train and valid loss at step {}: {}, {}\".format(i, loss_train[i], loss_valid[i]))\n",
    "    \n",
    "    # implement early stopping\n",
    "    if loss_valid[i]>loss_valid[i-1]:\n",
    "        count_es += 1\n",
    "        \n",
    "    #if count_es > early_stop:\n",
    "    #    break\n",
    "        "
   ]
  },
  {
   "cell_type": "code",
   "execution_count": 24,
   "metadata": {},
   "outputs": [
    {
     "data": {
      "image/png": "[encoded data removed]",
      "text/plain": [
       "<Figure size 576x576 with 1 Axes>"
      ]
     },
     "metadata": {},
     "output_type": "display_data"
    },
    {
     "data": {
      "text/plain": [
       "<Figure size 432x288 with 0 Axes>"
      ]
     },
     "metadata": {},
     "output_type": "display_data"
    }
   ],
   "source": [
    "plt.figure(figsize=(8, 8))\n",
    "plt.plot(np.arange(0, NEPOCH,1), loss_train/d.X_train.shape[0], 'r-')\n",
    "plt.plot(np.arange(0, NEPOCH,1), loss_valid/d.X_valid.shape[0], 'b-')\n",
    "plt.ylim(0,5)\n",
    "plt.show()\n",
    "plt.savefig(\"epochs_cg.pdf\")"
   ]
  },
  {
   "cell_type": "markdown",
   "metadata": {},
   "source": [
    "Here this is supposed to save the model, which then can be re-used by tensorflow server..."
   ]
  },
  {
   "cell_type": "code",
   "execution_count": 8,
   "metadata": {},
   "outputs": [
    {
     "name": "stdout",
     "output_type": "stream",
     "text": [
      "INFO:tensorflow:Assets added to graph.\n",
      "INFO:tensorflow:No assets to write.\n",
      "INFO:tensorflow:SavedModel written to: ./model/layer1units100it200000/saved_model.pb\n"
     ]
    }
   ],
   "source": [
    "name_out = \"MYEGA_layer_\"+str(NLAYER)+\"units_\"+str(NHIDDEN)+\"it_\"+str(NEPOCH)\n",
    "\n",
    "tf.saved_model.simple_save(sess,\n",
    "            \"./model/\"+name_out,\n",
    "            inputs={\"chimie\": mod.input_c, \"T\": mod.input_T},\n",
    "            outputs={\"visco_pred\": mod.visco_pred})"
   ]
  },
  {
   "cell_type": "code",
   "execution_count": 30,
   "metadata": {},
   "outputs": [
    {
     "data": {
      "text/plain": [
       "(-3, 15)"
      ]
     },
     "execution_count": 30,
     "metadata": {},
     "output_type": "execute_result"
    },
    {
     "data": {
      "image/png": "[encoded data removed]",
      "text/plain": [
       "<Figure size 432x288 with 2 Axes>"
      ]
     },
     "metadata": {},
     "output_type": "display_data"
    }
   ],
   "source": [
    "plt.figure()\n",
    "plt.subplot(3,1,1)\n",
    "plt.plot(d.y_train, sess.run(mod.visco_pred,feed_dict=dct_train),\"k.\")\n",
    "\n",
    "plt.plot([-3,15],[-3,15],\"--\",color=\"grey\")\n",
    "\n",
    "plt.xlim(-3,15)\n",
    "plt.ylim(-3,15)\n",
    "\n",
    "plt.subplot(3,1,2)\n",
    "plt.plot(d.y_valid, sess.run(mod.visco_pred,feed_dict=dct_valid),\"k.\")\n",
    "\n",
    "plt.plot([-3,15],[-3,15],\"--\",color=\"grey\")\n",
    "\n",
    "plt.xlim(-3,15)\n",
    "plt.ylim(-3,15)"
   ]
  },
  {
   "cell_type": "code",
   "execution_count": null,
   "metadata": {},
   "outputs": [],
   "source": []
  },
  {
   "cell_type": "code",
   "execution_count": null,
   "metadata": {},
   "outputs": [],
   "source": []
  }
 ],
 "metadata": {
  "kernelspec": {
   "display_name": "Python 3",
   "language": "python",
   "name": "python3"
  },
  "language_info": {
   "codemirror_mode": {
    "name": "ipython",
    "version": 3
   },
   "file_extension": ".py",
   "mimetype": "text/x-python",
   "name": "python",
   "nbconvert_exporter": "python",
   "pygments_lexer": "ipython3",
   "version": "3.6.6"
  }
 },
 "nbformat": 4,
 "nbformat_minor": 2
}
