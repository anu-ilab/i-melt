{
 "cells": [
  {
   "cell_type": "code",
   "execution_count": 1,
   "metadata": {},
   "outputs": [],
   "source": [
    "########## Calling relevant libraries ##########\n",
    "%matplotlib inline\n",
    "import numpy as np\n",
    "from sklearn.metrics import mean_squared_error\n",
    "import scipy\n",
    "\n",
    "# Setting matplotlib options for this notebook\n",
    "import matplotlib\n",
    "from matplotlib import pyplot as plt\n",
    "\n",
    "import tensorflow as tf\n",
    "\n",
    "import sklearn\n",
    "from sklearn.externals import joblib\n",
    "\n",
    "import neuravi"
   ]
  },
  {
   "cell_type": "code",
   "execution_count": 2,
   "metadata": {},
   "outputs": [],
   "source": [
    "d = neuravi.Data(\"./data/\")"
   ]
  },
  {
   "cell_type": "code",
   "execution_count": 3,
   "metadata": {},
   "outputs": [
    {
     "data": {
      "text/plain": [
       "<neuravi.Data at 0x7f2b3ade9198>"
      ]
     },
     "execution_count": 3,
     "metadata": {},
     "output_type": "execute_result"
    }
   ],
   "source": [
    "d"
   ]
  },
  {
   "cell_type": "code",
   "execution_count": 4,
   "metadata": {},
   "outputs": [
    {
     "data": {
      "text/plain": [
       "array([[ 85.,   0.,  15.,   0., 915.],\n",
       "       [ 85.,   0.,  15.,   0., 895.],\n",
       "       [ 85.,   0.,  15.,   0., 875.],\n",
       "       ...,\n",
       "       [ 72.,   7.,   0.,  21., 891.],\n",
       "       [ 72.,   7.,   0.,  21., 872.],\n",
       "       [ 72.,   7.,   0.,  21., 852.]])"
      ]
     },
     "execution_count": 4,
     "metadata": {},
     "output_type": "execute_result"
    }
   ],
   "source": [
    "d.X_train"
   ]
  },
  {
   "cell_type": "code",
   "execution_count": 5,
   "metadata": {},
   "outputs": [],
   "source": [
    "def heatcp(chimie,Tg):\n",
    "    \"\"\" Return the parameters a and b for the melt configurational heat capacity\n",
    "    Parameters\n",
    "    ==========\n",
    "    datachem : ndarray\n",
    "        Mol% composition of the melts and Tg, [SiO2 Al2O3 Na2O K2O Tg] in columns\n",
    "\n",
    "    Returns\n",
    "    =======\n",
    "    ap : ndarray\n",
    "\n",
    "    b : ndarray\n",
    "\n",
    "    \"\"\"\n",
    "    #Chimie du verre étudié\n",
    "    SiO2 = chimie[:,0]\n",
    "    Al2O3 = chimie[:,1]\n",
    "    Na2O = chimie[:,2]\n",
    "    K2O = chimie[:,3]\n",
    "    Tg = chimie[:,4]\n",
    "    \n",
    "    # safety check for sum to 1\n",
    "    TOT = SiO2 + Al2O3 + Na2O + K2O\n",
    "    SiO2 = SiO2/TOT\n",
    "    Al2O3 = Al2O3/TOT\n",
    "    Na2O = Na2O/TOT\n",
    "    K2O = K2O/TOT\n",
    "    \n",
    "    #Calcul des coeffs du Cp; avec les valeurs de Richet, CG 62, 1987, 111-124 et Richet, GCA 49, 1985, 471\n",
    "    Cpg = SiO2*(127.2 - 0.010777*Tg + 431270.0/Tg**2 -1463.9/Tg**0.5) \\\n",
    "    + Al2O3* (175.491 -0.005839*Tg -1347000./Tg**2 -1370.0/Tg**0.5) \\\n",
    "    + K2O*(84.323 +0.000731*Tg -829800.0/Tg**2) \\\n",
    "    + Na2O*(70.884 +0.02611*Tg -358200.0/Tg**2) \n",
    "    #+CaO*(39.159 + 0.018650*Tg -152300.0/Tg**2) + MgO*(46.704 + 0.011220*Tg - 1328000.0/Tg**2);\n",
    "    \n",
    "    # melt \n",
    "    aCpl = 81.37*SiO2 + 27.21*Al2O3 + 100.6*Na2O + 50.13*K2O + SiO2*(K2O*K2O)*151.7;\n",
    "    bCpl = 0.0943*Al2O3 + 0.01578*K2O;\n",
    "    ap = aCpl - Cpg;\n",
    "    b = bCpl;\n",
    "\n",
    "    return ap, b"
   ]
  },
  {
   "cell_type": "code",
   "execution_count": null,
   "metadata": {},
   "outputs": [],
   "source": [
    "ap, b = heatcp(d.X_train"
   ]
  }
 ],
 "metadata": {
  "kernelspec": {
   "display_name": "Python 3",
   "language": "python",
   "name": "python3"
  },
  "language_info": {
   "codemirror_mode": {
    "name": "ipython",
    "version": 3
   },
   "file_extension": ".py",
   "mimetype": "text/x-python",
   "name": "python",
   "nbconvert_exporter": "python",
   "pygments_lexer": "ipython3",
   "version": "3.6.7"
  }
 },
 "nbformat": 4,
 "nbformat_minor": 2
}
