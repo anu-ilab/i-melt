{
 "cells": [
  {
   "cell_type": "code",
   "execution_count": 3,
   "metadata": {},
   "outputs": [],
   "source": [
    "########## Calling relevant libraries ##########\n",
    "%matplotlib inline\n",
    "import matplotlib.pyplot as plt\n",
    "import numpy as np\n",
    "from sklearn.metrics import mean_squared_error\n",
    "\n",
    "import scipy, sqlite3, h5py\n",
    "\n",
    "import pandas as pd\n",
    "\n",
    "import sklearn\n",
    "import sklearn.model_selection as model_selection\n",
    "from sklearn.neural_network import MLPRegressor\n",
    "from sklearn.preprocessing import StandardScaler\n",
    "from sklearn.ensemble import BaggingRegressor\n",
    "\n",
    "import rampy as rp\n",
    "\n",
    "import sys\n",
    "sys.path.append(\"/home/charles/GoogleDrive/viscopy/\")\n",
    "sys.path.append(\"/home/charles/GoogleDrive/structupy/\")\n",
    "import viscopy as vp\n",
    "import structupy as spy"
   ]
  },
  {
   "cell_type": "code",
   "execution_count": 4,
   "metadata": {},
   "outputs": [],
   "source": [
    "# # FULL DATASET\n",
    "# con = sqlite3.connect('./data/viscosity.sqlite')\n",
    "\n",
    "# dataset = pd.read_sql_query(\"SELECT * from viscosity\", con)\n",
    "# con.close() # closing the sql connection\n",
    "\n"
   ]
  },
  {
   "cell_type": "code",
   "execution_count": 5,
   "metadata": {},
   "outputs": [
    {
     "name": "stdout",
     "output_type": "stream",
     "text": [
      "Index(['Name', 'sio2', 'al2o3', 'fe2o3', 'h2o', 'na2o', 'k2o', 'mgo', 'cao',\n",
      "       'feo', 'tg', 'T', 'viscosity', 'ref', 'color', 'Sc'],\n",
      "      dtype='object')\n",
      "Index(['nbot', 't', 'o', 'm'], dtype='object')\n",
      "Index(['ifsm', 'ifst', 'difst', 'ifsmr', 'ifstr'], dtype='object')\n"
     ]
    },
    {
     "name": "stderr",
     "output_type": "stream",
     "text": [
      "/home/charles/GoogleDrive/structupy/structupy/structure.py:263: RuntimeWarning: invalid value encountered in sqrt\n",
      "  q3[n <= bk] = (-b - np.sqrt(b**2 - 4*a[n <= bk]*c[n <= bk]))/(2.0*a[n <= bk])\n",
      "/home/charles/GoogleDrive/structupy/structupy/structure.py:266: RuntimeWarning: invalid value encountered in sqrt\n",
      "  q4 = 1.0-(n - (-b - np.sqrt(b**2 - 4.0*a*c))/(2.0*a))/2.0 -(-b - np.sqrt(b**2 - 4.0*a*c))/(2.0*a)\n",
      "/home/charles/miniconda3/envs/py36/lib/python3.6/site-packages/ipykernel_launcher.py:29: RuntimeWarning: divide by zero encountered in log\n"
     ]
    }
   ],
   "source": [
    "# KNAS, comment to deactivate\n",
    "dataset = pd.read_excel(\"./data/Database_IPGP.xlsx\")\n",
    "print(dataset.columns)\n",
    "\n",
    "dataset = vp.chimie_control(dataset)\n",
    "ap, b = vp.heatcp(dataset,Cp_glass = \"3R\")\n",
    "n_b_o = spy.nbot(dataset)\n",
    "ionicfs = spy.ifs(dataset)\n",
    "atoms_ = spy.atoms(dataset)\n",
    "\n",
    "K32 = spy.kcalc(atoms_,ionicfs,Al_effect=True)\n",
    "\n",
    "q1, q2, q3, q4 = spy.qnbo(K32['Q3'],K32['Q2'],n_b_o[\"nbot\"])\n",
    "\n",
    "print(n_b_o.columns)\n",
    "print(ionicfs.columns)\n",
    "\n",
    "dataset['ap'] = ap\n",
    "dataset['b'] = b\n",
    "dataset['nbot'] = n_b_o['nbot']\n",
    "dataset['ifsm'] = ionicfs['ifsm']\n",
    "dataset['ifst'] = ionicfs['ifst']#.fillna(0.0)\n",
    "\n",
    "dataset['q1'] = q1\n",
    "dataset['q2'] = q2\n",
    "dataset['q3'] = q3\n",
    "dataset['q4'] = q4\n",
    "\n",
    "dataset['ScT'] = dataset['Sc'] + ap*(np.log(dataset['T'])-np.log(dataset['tg'])) + b*(dataset['T']-dataset['tg'])"
   ]
  },
  {
   "cell_type": "code",
   "execution_count": 6,
   "metadata": {},
   "outputs": [
    {
     "name": "stdout",
     "output_type": "stream",
     "text": [
      "X training and validation set shape, unscaled\n",
      "(1047, 13)\n",
      "X valid set shape, unscaled\n",
      "(98, 13)\n",
      "X test set shape, unscaled\n",
      "(203, 13)\n",
      "\n",
      "Entropy training shape, unscaled\n",
      "(528, 32)\n",
      "Entropy validation shape, unscaled\n",
      "(79, 32)\n",
      "Entropy testing shape, unscaled\n",
      "(89, 32)\n"
     ]
    }
   ],
   "source": [
    "# train-valid-test split\n",
    "tv_sub, test_sub, idxtv_sub, idxtest_sub = rp.chemical_splitting(dataset,'Name',0.15, rand_state=81)\n",
    "train_sub, valid_sub, idxtrain_sub, idxvalid_sub = rp.chemical_splitting(tv_sub,'Name',0.10, rand_state=81)\n",
    "\n",
    "# For entropy\n",
    "train_entropy = train_sub.dropna(subset=['Sc'])\n",
    "valid_entropy = valid_sub.dropna(subset=['Sc'])\n",
    "test_entropy = test_sub.dropna(subset=['Sc'])\n",
    "\n",
    "# Now we need to fillna in other datasets\n",
    "train_sub = train_sub.fillna(0.0)\n",
    "valid_sub = valid_sub.fillna(0.0)\n",
    "test_sub = test_sub.fillna(0.0)\n",
    "\n",
    "# Viscosity train-valid-test splits\n",
    "y_train = train_sub[\"viscosity\"].values.reshape(-1,1)\n",
    "y_valid = valid_sub[\"viscosity\"].values.reshape(-1,1)\n",
    "y_tv = tv_sub[\"viscosity\"].values.reshape(-1,1)\n",
    "y_test = test_sub[\"viscosity\"].values.reshape(-1,1)\n",
    "\n",
    "# FOR KNAS : CHOICE\n",
    "X_columns = [\"sio2\",\"al2o3\",\"na2o\",\"k2o\",\"nbot\",\"ifsm\",\"ifst\",\"ap\",\"b\",\"T\",\"Sc\",\"tg\",\"ScT\"]\n",
    "# For all data, select \"sio2\":\"T\"\n",
    "\n",
    "X_train = train_sub.loc[:,X_columns].values\n",
    "X_valid = valid_sub.loc[:,X_columns].values\n",
    "X_tv = tv_sub.loc[:,X_columns].values\n",
    "X_test = test_sub.loc[:,X_columns].values\n",
    "\n",
    "X_entropy_train = train_entropy.loc[:,X_columns].values\n",
    "X_entropy_valid = valid_entropy.loc[:,X_columns].values\n",
    "X_entropy_test = test_entropy.loc[:,X_columns].values\n",
    "\n",
    "print(\"X training and validation set shape, unscaled\")\n",
    "print(X_train.shape)\n",
    "#print(X_train_sc.shape)\n",
    "\n",
    "print(\"X valid set shape, unscaled\")\n",
    "print(X_valid.shape)\n",
    "#print(X_valid_sc.shape)\n",
    "\n",
    "print(\"X test set shape, unscaled\")\n",
    "print(X_test.shape)\n",
    "#print(X_test_sc.shape)\n",
    "\n",
    "print(\"\\nEntropy training shape, unscaled\")\n",
    "print(train_entropy.shape)\n",
    "\n",
    "print(\"Entropy validation shape, unscaled\")\n",
    "print(valid_entropy.shape)\n",
    "\n",
    "print(\"Entropy testing shape, unscaled\")\n",
    "print(test_entropy.shape)"
   ]
  },
  {
   "cell_type": "code",
   "execution_count": 7,
   "metadata": {},
   "outputs": [],
   "source": [
    "# parameters for neural net\n",
    "prm_nn = dict(hidden_layer_sizes=(100,),solver = 'lbfgs',activation='relu',early_stopping=True)\n",
    "param_b = dict(n_estimators=30, max_samples=1.0, max_features=1.0, bootstrap=True, bootstrap_features=False, oob_score=False, warm_start=False, n_jobs=1, verbose=0)\n",
    "\n",
    "model = rp.mlregressor(X_train,y_train,algorithm=\"BaggingNeuralNet\"\n",
    "                        , scaler = \"StandardScaler\",X_test = X_valid, y_test = y_valid,\n",
    "                       param_neurons=prm_nn,param_bagging=param_b,rand_state=100)\n",
    "\n",
    "model.fit()\n",
    "# we grab the scaling from rp.mlregressor"
   ]
  },
  {
   "cell_type": "code",
   "execution_count": 8,
   "metadata": {},
   "outputs": [],
   "source": [
    "X_entropy_train_sc = model.X_scaler.transform(X_entropy_train)\n",
    "X_entropy_valid_sc = model.X_scaler.transform(X_entropy_valid)\n",
    "X_entropy_test_sc = model.X_scaler.transform(X_entropy_test)\n",
    "\n",
    "X_tv_sc = model.X_scaler.transform(X_tv)\n",
    "\n",
    "X_train_sc = model.X_scaler.transform(X_train)\n",
    "y_train_sc = model.Y_scaler.transform(y_train.reshape(-1,1))\n",
    "\n",
    "X_valid_sc = model.X_scaler.transform(X_valid)\n",
    "y_valid_sc = model.Y_scaler.transform(y_valid.reshape(-1,1))\n",
    "\n",
    "X_test_sc = model.X_scaler.transform(X_test)\n",
    "y_test_sc = model.Y_scaler.transform(y_test.reshape(-1,1))\n",
    "\n",
    "# we ensure that only the chemistry was standardized\n",
    "X_train_sc[:,7:] = X_train[:,7:]\n",
    "X_valid_sc[:,7:] = X_valid[:,7:]\n",
    "X_test_sc[:,7:] = X_test[:,7:]\n",
    "X_tv_sc[:,7:] = X_tv[:,7:]\n",
    "\n",
    "X_entropy_train_sc[:,7:] = X_entropy_train[:,7:]\n",
    "X_entropy_valid_sc[:,7:] = X_entropy_valid[:,7:]\n",
    "X_entropy_test_sc[:,7:] = X_entropy_test[:,7:]"
   ]
  },
  {
   "cell_type": "code",
   "execution_count": 9,
   "metadata": {},
   "outputs": [
    {
     "name": "stdout",
     "output_type": "stream",
     "text": [
      "training and testing RMSE with neural nets\n",
      "0.09136713976330363\n",
      "0.47769075294013563\n",
      "0.39459777429483317\n"
     ]
    }
   ],
   "source": [
    "MSE_NN_train = np.sqrt(mean_squared_error(model.y_train, model.prediction_train))\n",
    "MSE_NN_valid = np.sqrt(mean_squared_error(model.y_test, model.prediction_test))\n",
    "MSE_NN_test = np.sqrt(mean_squared_error(y_test, model.predict(X_test)))\n",
    "\n",
    "print(\"training and testing RMSE with neural nets\")\n",
    "print(MSE_NN_train)\n",
    "print(MSE_NN_valid)\n",
    "print(MSE_NN_test)\n"
   ]
  },
  {
   "cell_type": "code",
   "execution_count": 10,
   "metadata": {},
   "outputs": [
    {
     "name": "stderr",
     "output_type": "stream",
     "text": [
      "/home/charles/miniconda3/envs/py36/lib/python3.6/site-packages/matplotlib/figure.py:98: MatplotlibDeprecationWarning: \n",
      "Adding an axes using the same arguments as a previous axes currently reuses the earlier instance.  In a future version, a new instance will always be created and returned.  Meanwhile, this warning can be suppressed, and the future behavior ensured, by passing a unique label to each axes instance.\n",
      "  \"Adding an axes using the same arguments as a previous axes \"\n"
     ]
    },
    {
     "data": {
      "text/plain": [
       "[<matplotlib.lines.Line2D at 0x7f09517d6ac8>]"
      ]
     },
     "execution_count": 10,
     "metadata": {},
     "output_type": "execute_result"
    },
    {
     "data": {
      "image/png": "[encoded data removed]",
      "text/plain": [
       "<Figure size 432x288 with 1 Axes>"
      ]
     },
     "metadata": {},
     "output_type": "display_data"
    }
   ],
   "source": [
    "plt.subplot(121)\n",
    "plt.plot(10000/X_train[:,9],y_train,\"k.\")\n",
    "\n",
    "plt.subplot(121)\n",
    "plt.plot(10000/X_valid[:,9],y_valid,\"b.\")\n",
    "\n",
    "plt.subplot(121)\n",
    "plt.plot(10000/X_test[:,9],y_test,\"r.\")"
   ]
  },
  {
   "cell_type": "code",
   "execution_count": 11,
   "metadata": {},
   "outputs": [],
   "source": [
    "with h5py.File('./data/DataSet.hdf5', 'w') as f:\n",
    "    f.create_dataset('X_columns', data=np.array(X_columns, dtype=\"S10\"))\n",
    "    \n",
    "    f.create_dataset('X_entropy_train', data=X_entropy_train)\n",
    "    f.create_dataset('X_entropy_train_sc', data=X_entropy_train_sc)\n",
    "    \n",
    "    f.create_dataset('X_entropy_valid', data=X_entropy_valid)\n",
    "    f.create_dataset('X_entropy_valid_sc', data=X_entropy_valid_sc)\n",
    "    \n",
    "    f.create_dataset('X_entropy_test', data=X_entropy_test)\n",
    "    f.create_dataset('X_entropy_test_sc', data=X_entropy_test_sc)\n",
    "    \n",
    "    f.create_dataset('X_tv', data=X_tv)\n",
    "    f.create_dataset('X_tv_sc', data=X_tv_sc)\n",
    "    f.create_dataset('y_tv', data=y_tv)\n",
    "    \n",
    "    f.create_dataset('X_train', data=X_train)\n",
    "    f.create_dataset('X_train_sc', data=X_train_sc)\n",
    "    \n",
    "    f.create_dataset('y_train', data=y_train)\n",
    "    f.create_dataset('y_train_sc', data=y_train_sc)\n",
    "    \n",
    "    f.create_dataset('X_valid', data=X_valid)\n",
    "    f.create_dataset('X_valid_sc', data=X_valid_sc)\n",
    "    \n",
    "    f.create_dataset('y_valid', data=y_valid)\n",
    "    f.create_dataset('y_valid_sc', data=y_valid_sc)\n",
    "    \n",
    "    f.create_dataset('X_test', data=X_test)\n",
    "    f.create_dataset('X_test_sc', data=X_test_sc)\n",
    "    \n",
    "    f.create_dataset('y_test', data=y_test)\n",
    "    f.create_dataset('y_test_sc', data=y_test_sc)\n",
    "    \n",
    "    f.create_dataset('X_scaler_mean', data=model.X_scaler.mean_)\n",
    "    f.create_dataset('X_scaler_var', data=model.X_scaler.var_)\n",
    "    \n",
    "    f.create_dataset('y_scaler_mean', data=model.Y_scaler.mean_)\n",
    "    f.create_dataset('y_scaler_var', data=model.Y_scaler.var_)\n",
    "\n",
    "    "
   ]
  },
  {
   "cell_type": "code",
   "execution_count": 15,
   "metadata": {},
   "outputs": [
    {
     "name": "stdout",
     "output_type": "stream",
     "text": [
      "(1047, 13)\n",
      "(98, 13)\n",
      "(203, 13)\n"
     ]
    }
   ],
   "source": [
    "print(X_train.shape)\n",
    "print(X_valid.shape)\n",
    "print(X_test.shape)"
   ]
  },
  {
   "cell_type": "markdown",
   "metadata": {},
   "source": [
    "# Artificial, for final plots"
   ]
  },
  {
   "cell_type": "markdown",
   "metadata": {},
   "source": [
    "# For Na-K in NKS3"
   ]
  },
  {
   "cell_type": "code",
   "execution_count": 10,
   "metadata": {},
   "outputs": [
    {
     "name": "stderr",
     "output_type": "stream",
     "text": [
      "/Users/charles/anaconda/lib/python3.6/site-packages/pandas/core/indexing.py:1472: FutureWarning: \n",
      "Passing list-likes to .loc or [] with any missing label will raise\n",
      "KeyError in the future, you can use .reindex() as an alternative.\n",
      "\n",
      "See the documentation here:\n",
      "https://pandas.pydata.org/pandas-docs/stable/indexing.html#deprecate-loc-reindex-listlike\n",
      "  return self._getitem_tuple(key)\n"
     ]
    }
   ],
   "source": [
    "dataset_arti = pd.DataFrame()\n",
    "\n",
    "k2o = np.arange(0,0.25,0.01)\n",
    "\n",
    "dataset_arti[\"sio2\"] = np.ones(len(k2o))*0.75\n",
    "dataset_arti[\"al2o3\"] = 0.0\n",
    "dataset_arti[\"na2o\"] = 0.25 - k2o\n",
    "dataset_arti[\"k2o\"] = k2o\n",
    "\n",
    "dataset_arti = vp.chimie_control(dataset_arti)\n",
    "ap_arti, b_arti = vp.heatcp(dataset_arti,Cp_glass=\"3R\")\n",
    "n_b_o_arti = spy.nbot(dataset_arti)\n",
    "ionicfs_arti = spy.ifs(dataset_arti)\n",
    "\n",
    "dataset_arti['nbot'] = n_b_o['nbot']\n",
    "dataset_arti['ifsm'] = ionicfs_arti['ifsm']\n",
    "dataset_arti['ifst'] = ionicfs_arti['ifst']#.fillna(0.0)\n",
    "\n",
    "dataset_arti['ap'] = ap_arti\n",
    "dataset_arti['b'] = b_arti\n",
    "dataset_arti['T'] = np.ones(len(k2o))*1000.0\n",
    "\n",
    "X_arti_NKS = dataset_arti.loc[:,X_columns].values\n",
    "\n",
    "X_arti_NKS[:,0:7] = model.X_scaler.transform(X_arti_NKS)[:,0:7]"
   ]
  },
  {
   "cell_type": "markdown",
   "metadata": {},
   "source": [
    "# For NS"
   ]
  },
  {
   "cell_type": "code",
   "execution_count": 11,
   "metadata": {},
   "outputs": [
    {
     "name": "stderr",
     "output_type": "stream",
     "text": [
      "/Users/charles/anaconda/lib/python3.6/site-packages/pandas/core/indexing.py:1472: FutureWarning: \n",
      "Passing list-likes to .loc or [] with any missing label will raise\n",
      "KeyError in the future, you can use .reindex() as an alternative.\n",
      "\n",
      "See the documentation here:\n",
      "https://pandas.pydata.org/pandas-docs/stable/indexing.html#deprecate-loc-reindex-listlike\n",
      "  return self._getitem_tuple(key)\n"
     ]
    }
   ],
   "source": [
    "dataset_arti = pd.DataFrame()\n",
    "\n",
    "sio2 = np.arange(0.6,1.,0.01)\n",
    "\n",
    "dataset_arti[\"sio2\"] = sio2\n",
    "dataset_arti[\"al2o3\"] = 0.0\n",
    "dataset_arti[\"na2o\"] = 0.25\n",
    "dataset_arti[\"k2o\"] = 0.\n",
    "\n",
    "dataset_arti = vp.chimie_control(dataset_arti)\n",
    "ap_arti, b_arti = vp.heatcp(dataset_arti,Cp_glass=\"3R\")\n",
    "n_b_o_arti = spy.nbot(dataset_arti)\n",
    "ionicfs_arti = spy.ifs(dataset_arti)\n",
    "\n",
    "dataset_arti['nbot'] = n_b_o['nbot']\n",
    "dataset_arti['ifsm'] = ionicfs_arti['ifsm']\n",
    "dataset_arti['ifst'] = ionicfs_arti['ifst']#.fillna(0.0)\n",
    "\n",
    "dataset_arti['ap'] = ap_arti\n",
    "dataset_arti['b'] = b_arti\n",
    "dataset_arti['T'] = np.ones(len(sio2))*1000.0\n",
    "\n",
    "X_arti_NS = dataset_arti.loc[:,X_columns].values\n",
    "\n",
    "X_arti_NS[:,0:7] = model.X_scaler.transform(X_arti_NS)[:,0:7]\n",
    "\n"
   ]
  },
  {
   "cell_type": "code",
   "execution_count": 15,
   "metadata": {},
   "outputs": [
    {
     "name": "stderr",
     "output_type": "stream",
     "text": [
      "/Users/charles/anaconda/lib/python3.6/site-packages/pandas/core/indexing.py:1472: FutureWarning: \n",
      "Passing list-likes to .loc or [] with any missing label will raise\n",
      "KeyError in the future, you can use .reindex() as an alternative.\n",
      "\n",
      "See the documentation here:\n",
      "https://pandas.pydata.org/pandas-docs/stable/indexing.html#deprecate-loc-reindex-listlike\n",
      "  return self._getitem_tuple(key)\n"
     ]
    }
   ],
   "source": [
    "dataset_arti = pd.DataFrame()\n",
    "\n",
    "vari = np.arange(0.,0.30,0.01)\n",
    "\n",
    "dataset_arti[\"sio2\"] = np.ones(len(vari))*0.66\n",
    "dataset_arti[\"al2o3\"] = vari\n",
    "dataset_arti[\"na2o\"] = 0.34-vari\n",
    "dataset_arti[\"k2o\"] = 0.\n",
    "\n",
    "dataset_arti = vp.chimie_control(dataset_arti)\n",
    "ap_arti, b_arti = vp.heatcp(dataset_arti,Cp_glass=\"3R\")\n",
    "n_b_o_arti = spy.nbot(dataset_arti)\n",
    "ionicfs_arti = spy.ifs(dataset_arti)\n",
    "\n",
    "dataset_arti['nbot'] = n_b_o['nbot']\n",
    "dataset_arti['ifsm'] = ionicfs_arti['ifsm']\n",
    "dataset_arti['ifst'] = ionicfs_arti['ifst']#.fillna(0.0)\n",
    "\n",
    "dataset_arti['ap'] = ap_arti\n",
    "dataset_arti['b'] = b_arti\n",
    "dataset_arti['T'] = np.ones(len(vari))*1000.0\n",
    "\n",
    "X_arti_NAS = dataset_arti.loc[:,X_columns].values\n",
    "\n",
    "X_arti_NAS[:,0:7] = model.X_scaler.transform(X_arti_NAS)[:,0:7]\n",
    "\n"
   ]
  },
  {
   "cell_type": "code",
   "execution_count": 16,
   "metadata": {},
   "outputs": [
    {
     "name": "stderr",
     "output_type": "stream",
     "text": [
      "/Users/charles/anaconda/lib/python3.6/site-packages/pandas/core/indexing.py:1472: FutureWarning: \n",
      "Passing list-likes to .loc or [] with any missing label will raise\n",
      "KeyError in the future, you can use .reindex() as an alternative.\n",
      "\n",
      "See the documentation here:\n",
      "https://pandas.pydata.org/pandas-docs/stable/indexing.html#deprecate-loc-reindex-listlike\n",
      "  return self._getitem_tuple(key)\n"
     ]
    }
   ],
   "source": [
    "dataset_arti = pd.DataFrame()\n",
    "\n",
    "vari = np.arange(0.,0.30,0.01)\n",
    "\n",
    "dataset_arti[\"sio2\"] = np.ones(len(vari))*0.66\n",
    "dataset_arti[\"al2o3\"] = vari\n",
    "dataset_arti[\"na2o\"] = 0.\n",
    "dataset_arti[\"k2o\"] = 0.34-vari\n",
    "\n",
    "dataset_arti = vp.chimie_control(dataset_arti)\n",
    "ap_arti, b_arti = vp.heatcp(dataset_arti,Cp_glass=\"3R\")\n",
    "n_b_o_arti = spy.nbot(dataset_arti)\n",
    "ionicfs_arti = spy.ifs(dataset_arti)\n",
    "\n",
    "dataset_arti['nbot'] = n_b_o['nbot']\n",
    "dataset_arti['ifsm'] = ionicfs_arti['ifsm']\n",
    "dataset_arti['ifst'] = ionicfs_arti['ifst']#.fillna(0.0)\n",
    "\n",
    "dataset_arti['ap'] = ap_arti\n",
    "dataset_arti['b'] = b_arti\n",
    "dataset_arti['T'] = np.ones(len(vari))*1000.0\n",
    "\n",
    "X_arti_KAS = dataset_arti.loc[:,X_columns].values\n",
    "\n",
    "X_arti_KAS[:,0:7] = model.X_scaler.transform(X_arti_KS)[:,0:7]\n",
    "\n"
   ]
  },
  {
   "cell_type": "code",
   "execution_count": 17,
   "metadata": {},
   "outputs": [],
   "source": [
    "with h5py.File('./data/DataSet_visu.hdf5', 'w') as f:\n",
    "    f.create_dataset('X_columns', data=np.array(X_columns, dtype=\"S10\"))\n",
    "    \n",
    "    f.create_dataset('X_arti_NS', data=X_arti_NS)\n",
    "    f.create_dataset('X_arti_NKS', data=X_arti_NKS)\n",
    "    f.create_dataset('X_arti_NAS', data=X_arti_NAS)\n",
    "    f.create_dataset('X_arti_KAS', data=X_arti_KAS)"
   ]
  },
  {
   "cell_type": "code",
   "execution_count": null,
   "metadata": {},
   "outputs": [],
   "source": []
  }
 ],
 "metadata": {
  "kernelspec": {
   "display_name": "Python 3",
   "language": "python",
   "name": "python3"
  },
  "language_info": {
   "codemirror_mode": {
    "name": "ipython",
    "version": 3
   },
   "file_extension": ".py",
   "mimetype": "text/x-python",
   "name": "python",
   "nbconvert_exporter": "python",
   "pygments_lexer": "ipython3",
   "version": "3.6.7"
  }
 },
 "nbformat": 4,
 "nbformat_minor": 2
}
