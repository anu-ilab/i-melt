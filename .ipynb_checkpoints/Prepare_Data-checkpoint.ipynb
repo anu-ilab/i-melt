{
 "cells": [
  {
   "cell_type": "code",
   "execution_count": 2,
   "metadata": {},
   "outputs": [
    {
     "name": "stderr",
     "output_type": "stream",
     "text": [
      "/Users/charles/anaconda/lib/python3.6/site-packages/h5py/__init__.py:36: FutureWarning: Conversion of the second argument of issubdtype from `float` to `np.floating` is deprecated. In future, it will be treated as `np.float64 == np.dtype(float).type`.\n",
      "  from ._conv import register_converters as _register_converters\n"
     ]
    }
   ],
   "source": [
    "########## Calling relevant libraries ##########\n",
    "%matplotlib inline\n",
    "import matplotlib.pyplot as plt\n",
    "import numpy as np\n",
    "from sklearn.metrics import mean_squared_error\n",
    "import scipy\n",
    "\n",
    "import pandas as pd\n",
    "\n",
    "import sklearn\n",
    "import sklearn.model_selection as model_selection\n",
    "from sklearn.neural_network import MLPRegressor\n",
    "from sklearn.preprocessing import StandardScaler\n",
    "from sklearn.ensemble import BaggingRegressor\n",
    "\n",
    "import sqlite3\n",
    "import rampy as rp\n",
    "\n",
    "import sys\n",
    "sys.path.append(\"/Users/charles/GoogleDrive/viscopy/\")\n",
    "import viscopy as vp\n",
    "\n",
    "import h5py"
   ]
  },
  {
   "cell_type": "code",
   "execution_count": 3,
   "metadata": {},
   "outputs": [
    {
     "data": {
      "text/html": [
       "<div>\n",
       "<style scoped>\n",
       "    .dataframe tbody tr th:only-of-type {\n",
       "        vertical-align: middle;\n",
       "    }\n",
       "\n",
       "    .dataframe tbody tr th {\n",
       "        vertical-align: top;\n",
       "    }\n",
       "\n",
       "    .dataframe thead th {\n",
       "        text-align: right;\n",
       "    }\n",
       "</style>\n",
       "<table border=\"1\" class=\"dataframe\">\n",
       "  <thead>\n",
       "    <tr style=\"text-align: right;\">\n",
       "      <th></th>\n",
       "      <th>sio2</th>\n",
       "      <th>al2o3</th>\n",
       "      <th>fe2o3</th>\n",
       "      <th>li2o</th>\n",
       "      <th>na2o</th>\n",
       "      <th>k2o</th>\n",
       "      <th>mgo</th>\n",
       "      <th>cao</th>\n",
       "      <th>feo</th>\n",
       "      <th>tg</th>\n",
       "      <th>...</th>\n",
       "      <th>Be</th>\n",
       "      <th>Sc</th>\n",
       "      <th>tio2</th>\n",
       "      <th>h2o</th>\n",
       "      <th>bao</th>\n",
       "      <th>nio</th>\n",
       "      <th>mno</th>\n",
       "      <th>p2o5</th>\n",
       "      <th>ap</th>\n",
       "      <th>b</th>\n",
       "    </tr>\n",
       "  </thead>\n",
       "  <tbody>\n",
       "    <tr>\n",
       "      <th>0</th>\n",
       "      <td>1.0</td>\n",
       "      <td>0.0</td>\n",
       "      <td>0.0</td>\n",
       "      <td>0.0</td>\n",
       "      <td>0.0</td>\n",
       "      <td>0.0</td>\n",
       "      <td>0.0</td>\n",
       "      <td>0.0</td>\n",
       "      <td>0.0</td>\n",
       "      <td>1480.0</td>\n",
       "      <td>...</td>\n",
       "      <td>143837.721911</td>\n",
       "      <td>6.812523</td>\n",
       "      <td>0.0</td>\n",
       "      <td>0.0</td>\n",
       "      <td>0.0</td>\n",
       "      <td>0.0</td>\n",
       "      <td>0.0</td>\n",
       "      <td>0.0</td>\n",
       "      <td>6.544</td>\n",
       "      <td>0.0</td>\n",
       "    </tr>\n",
       "    <tr>\n",
       "      <th>1</th>\n",
       "      <td>1.0</td>\n",
       "      <td>0.0</td>\n",
       "      <td>0.0</td>\n",
       "      <td>0.0</td>\n",
       "      <td>0.0</td>\n",
       "      <td>0.0</td>\n",
       "      <td>0.0</td>\n",
       "      <td>0.0</td>\n",
       "      <td>0.0</td>\n",
       "      <td>1480.0</td>\n",
       "      <td>...</td>\n",
       "      <td>143837.721911</td>\n",
       "      <td>6.812523</td>\n",
       "      <td>0.0</td>\n",
       "      <td>0.0</td>\n",
       "      <td>0.0</td>\n",
       "      <td>0.0</td>\n",
       "      <td>0.0</td>\n",
       "      <td>0.0</td>\n",
       "      <td>6.544</td>\n",
       "      <td>0.0</td>\n",
       "    </tr>\n",
       "    <tr>\n",
       "      <th>2</th>\n",
       "      <td>1.0</td>\n",
       "      <td>0.0</td>\n",
       "      <td>0.0</td>\n",
       "      <td>0.0</td>\n",
       "      <td>0.0</td>\n",
       "      <td>0.0</td>\n",
       "      <td>0.0</td>\n",
       "      <td>0.0</td>\n",
       "      <td>0.0</td>\n",
       "      <td>1480.0</td>\n",
       "      <td>...</td>\n",
       "      <td>143837.721911</td>\n",
       "      <td>6.812523</td>\n",
       "      <td>0.0</td>\n",
       "      <td>0.0</td>\n",
       "      <td>0.0</td>\n",
       "      <td>0.0</td>\n",
       "      <td>0.0</td>\n",
       "      <td>0.0</td>\n",
       "      <td>6.544</td>\n",
       "      <td>0.0</td>\n",
       "    </tr>\n",
       "    <tr>\n",
       "      <th>3</th>\n",
       "      <td>1.0</td>\n",
       "      <td>0.0</td>\n",
       "      <td>0.0</td>\n",
       "      <td>0.0</td>\n",
       "      <td>0.0</td>\n",
       "      <td>0.0</td>\n",
       "      <td>0.0</td>\n",
       "      <td>0.0</td>\n",
       "      <td>0.0</td>\n",
       "      <td>1480.0</td>\n",
       "      <td>...</td>\n",
       "      <td>143837.721911</td>\n",
       "      <td>6.812523</td>\n",
       "      <td>0.0</td>\n",
       "      <td>0.0</td>\n",
       "      <td>0.0</td>\n",
       "      <td>0.0</td>\n",
       "      <td>0.0</td>\n",
       "      <td>0.0</td>\n",
       "      <td>6.544</td>\n",
       "      <td>0.0</td>\n",
       "    </tr>\n",
       "    <tr>\n",
       "      <th>4</th>\n",
       "      <td>1.0</td>\n",
       "      <td>0.0</td>\n",
       "      <td>0.0</td>\n",
       "      <td>0.0</td>\n",
       "      <td>0.0</td>\n",
       "      <td>0.0</td>\n",
       "      <td>0.0</td>\n",
       "      <td>0.0</td>\n",
       "      <td>0.0</td>\n",
       "      <td>1480.0</td>\n",
       "      <td>...</td>\n",
       "      <td>143837.721911</td>\n",
       "      <td>6.812523</td>\n",
       "      <td>0.0</td>\n",
       "      <td>0.0</td>\n",
       "      <td>0.0</td>\n",
       "      <td>0.0</td>\n",
       "      <td>0.0</td>\n",
       "      <td>0.0</td>\n",
       "      <td>6.544</td>\n",
       "      <td>0.0</td>\n",
       "    </tr>\n",
       "  </tbody>\n",
       "</table>\n",
       "<p>5 rows × 24 columns</p>\n",
       "</div>"
      ],
      "text/plain": [
       "   sio2  al2o3  fe2o3  li2o  na2o  k2o  mgo  cao  feo      tg ...   \\\n",
       "0   1.0    0.0    0.0   0.0   0.0  0.0  0.0  0.0  0.0  1480.0 ...    \n",
       "1   1.0    0.0    0.0   0.0   0.0  0.0  0.0  0.0  0.0  1480.0 ...    \n",
       "2   1.0    0.0    0.0   0.0   0.0  0.0  0.0  0.0  0.0  1480.0 ...    \n",
       "3   1.0    0.0    0.0   0.0   0.0  0.0  0.0  0.0  0.0  1480.0 ...    \n",
       "4   1.0    0.0    0.0   0.0   0.0  0.0  0.0  0.0  0.0  1480.0 ...    \n",
       "\n",
       "              Be        Sc tio2  h2o  bao  nio  mno  p2o5     ap    b  \n",
       "0  143837.721911  6.812523  0.0  0.0  0.0  0.0  0.0   0.0  6.544  0.0  \n",
       "1  143837.721911  6.812523  0.0  0.0  0.0  0.0  0.0   0.0  6.544  0.0  \n",
       "2  143837.721911  6.812523  0.0  0.0  0.0  0.0  0.0   0.0  6.544  0.0  \n",
       "3  143837.721911  6.812523  0.0  0.0  0.0  0.0  0.0   0.0  6.544  0.0  \n",
       "4  143837.721911  6.812523  0.0  0.0  0.0  0.0  0.0   0.0  6.544  0.0  \n",
       "\n",
       "[5 rows x 24 columns]"
      ]
     },
     "execution_count": 3,
     "metadata": {},
     "output_type": "execute_result"
    }
   ],
   "source": [
    "# FULL DATASET\n",
    "#con = sqlite3.connect('./data/viscosity.sqlite')\n",
    "\n",
    "#dataset = pd.read_sql_query(\"SELECT * from viscosity\", con)\n",
    "#con.close() # closing the sql connection\n",
    "\n",
    "# KNAS, comment to deactivate\n",
    "dataset = pd.read_excel(\"./data/Database_IPGP.xlsx\")\n",
    "dataset.head()\n",
    "\n",
    "dataset = vp.chimie_control(dataset)\n",
    "ap, b = vp.heatcp(dataset,dataset.tg)\n",
    "\n",
    "dataset['ap'] = ap\n",
    "dataset['b'] = b\n",
    "dataset.head()"
   ]
  },
  {
   "cell_type": "code",
   "execution_count": 4,
   "metadata": {},
   "outputs": [],
   "source": [
    "tv_sub, test_sub, idxtv_sub, idxtest_sub = rp.chemical_splitting(dataset,'tg',0.15, rand_state=81)\n",
    "\n",
    "#train_sub, valid_sub = model_selection.train_test_split(dataset,test_size=0.3,shuffle=True)\n",
    "\n",
    "valid_sub, train_sub, idxvalid_sub, idxtrain_sub = rp.chemical_splitting(tv_sub,'tg',0.85, rand_state=100)\n",
    "\n",
    "y_train = train_sub[\"viscosity\"].values.reshape(-1,1)\n",
    "y_valid = valid_sub[\"viscosity\"].values.reshape(-1,1)\n",
    "y_tv = tv_sub[\"viscosity\"].values.reshape(-1,1)\n",
    "y_test = test_sub[\"viscosity\"].values.reshape(-1,1)\n",
    "\n",
    "# FOR KNAS : CHOICE\n",
    "X_columns = [\"sio2\",\"al2o3\",\"na2o\",\"k2o\",\"ap\",\"b\",\"T\",\"Be\",\"Sc\",\"tg\"]\n",
    "# For all data, select \"sio2\":\"T\"\n",
    "\n",
    "X_train = train_sub.loc[:,X_columns].values\n",
    "X_valid = valid_sub.loc[:,X_columns].values\n",
    "X_tv = tv_sub.loc[:,X_columns].values\n",
    "X_test = test_sub.loc[:,X_columns].values"
   ]
  },
  {
   "cell_type": "code",
   "execution_count": 5,
   "metadata": {},
   "outputs": [],
   "source": [
    "# parameters for neural net\n",
    "prm_nn = dict(hidden_layer_sizes=(100,),solver = 'lbfgs',activation='relu',early_stopping=True)\n",
    "param_b = dict(n_estimators=10, max_samples=1.0, max_features=1.0, bootstrap=True, bootstrap_features=False, oob_score=False, warm_start=False, n_jobs=1, verbose=0)\n",
    "\n",
    "model = rp.mlregressor(X_tv,y_tv,algorithm=\"BaggingNeuralNet\"\n",
    "                        , scaler = \"StandardScaler\",X_test = X_valid, y_test = y_valid,\n",
    "                       param_neurons=prm_nn,param_bagging=param_b,rand_state=100)\n",
    "\n",
    "model.fit()\n",
    "# we grab the scaling from rp.mlregressor"
   ]
  },
  {
   "cell_type": "code",
   "execution_count": 6,
   "metadata": {},
   "outputs": [],
   "source": [
    "X_train_sc = model.X_scaler.transform(X_train)\n",
    "y_train_sc = model.Y_scaler.transform(y_train.reshape(-1,1))\n",
    "\n",
    "X_valid_sc = model.X_scaler.transform(X_valid)\n",
    "y_valid_sc = model.Y_scaler.transform(y_valid.reshape(-1,1))\n",
    "\n",
    "X_test_sc = model.X_scaler.transform(X_test)\n",
    "y_test_sc = model.Y_scaler.transform(y_test.reshape(-1,1))\n",
    "\n",
    "# we ensure that only the chemistry was standardized\n",
    "X_train_sc[:,4:] = X_train[:,4:]\n",
    "X_valid_sc[:,4:] = X_valid[:,4:]\n",
    "X_test_sc[:,4:] = X_test[:,4:]"
   ]
  },
  {
   "cell_type": "code",
   "execution_count": 7,
   "metadata": {},
   "outputs": [
    {
     "name": "stdout",
     "output_type": "stream",
     "text": [
      "training and testing RMSE with neural nets\n",
      "0.08105024954437424\n",
      "0.09148745446600301\n"
     ]
    }
   ],
   "source": [
    "MSE_NN_train = np.sqrt(mean_squared_error(model.y_train, model.prediction_train))\n",
    "MSE_NN_valid = np.sqrt(mean_squared_error(model.y_test, model.prediction_test))\n",
    "\n",
    "print(\"training and testing RMSE with neural nets\")\n",
    "print(MSE_NN_train)\n",
    "print(MSE_NN_valid)\n"
   ]
  },
  {
   "cell_type": "code",
   "execution_count": 8,
   "metadata": {},
   "outputs": [
    {
     "name": "stdout",
     "output_type": "stream",
     "text": [
      "X training and validation set shape, unscaled and scaled\n",
      "(598, 10)\n",
      "(598, 10)\n",
      "(91, 10)\n",
      "(91, 10)\n",
      "X test set shape, unscaled and scaled\n",
      "(128, 10)\n",
      "(128, 10)\n"
     ]
    }
   ],
   "source": [
    "print(\"X training and validation set shape, unscaled and scaled\")\n",
    "print(X_train.shape)\n",
    "print(X_train_sc.shape)\n",
    "\n",
    "print(X_valid.shape)\n",
    "print(X_valid_sc.shape)\n",
    "\n",
    "print(\"X test set shape, unscaled and scaled\")\n",
    "print(X_test.shape)\n",
    "print(X_test_sc.shape)"
   ]
  },
  {
   "cell_type": "code",
   "execution_count": 9,
   "metadata": {},
   "outputs": [
    {
     "name": "stderr",
     "output_type": "stream",
     "text": [
      "/Users/charles/anaconda/lib/python3.6/site-packages/matplotlib/cbook/deprecation.py:106: MatplotlibDeprecationWarning: Adding an axes using the same arguments as a previous axes currently reuses the earlier instance.  In a future version, a new instance will always be created and returned.  Meanwhile, this warning can be suppressed, and the future behavior ensured, by passing a unique label to each axes instance.\n",
      "  warnings.warn(message, mplDeprecation, stacklevel=1)\n"
     ]
    },
    {
     "data": {
      "text/plain": [
       "[<matplotlib.lines.Line2D at 0x1c1f2d2ef0>]"
      ]
     },
     "execution_count": 9,
     "metadata": {},
     "output_type": "execute_result"
    },
    {
     "data": {
      "image/png": "[encoded data removed]",
      "text/plain": [
       "<matplotlib.figure.Figure at 0x1c118dcf98>"
      ]
     },
     "metadata": {},
     "output_type": "display_data"
    }
   ],
   "source": [
    "plt.subplot(121)\n",
    "plt.plot(10000/X_train[:,6],y_train,\"k.\")\n",
    "\n",
    "plt.subplot(121)\n",
    "plt.plot(10000/X_valid[:,6],y_valid,\"b.\")\n",
    "\n",
    "plt.subplot(121)\n",
    "plt.plot(10000/X_test[:,6],y_test,\"r.\")"
   ]
  },
  {
   "cell_type": "code",
   "execution_count": 11,
   "metadata": {},
   "outputs": [],
   "source": [
    "with h5py.File('./data/DataSet.hdf5', 'w') as f:\n",
    "    f.create_dataset('X_columns', data=np.array(X_columns, dtype=\"S10\"))\n",
    "    \n",
    "    f.create_dataset('X_tv', data=X_tv)\n",
    "    f.create_dataset('y_tv', data=y_tv)\n",
    "    \n",
    "    f.create_dataset('X_train', data=X_train)\n",
    "    f.create_dataset('X_train_sc', data=X_train_sc)\n",
    "    \n",
    "    f.create_dataset('y_train', data=y_train)\n",
    "    f.create_dataset('y_train_sc', data=y_train_sc)\n",
    "    \n",
    "    f.create_dataset('X_valid', data=X_valid)\n",
    "    f.create_dataset('X_valid_sc', data=X_valid_sc)\n",
    "    \n",
    "    f.create_dataset('y_valid', data=y_valid)\n",
    "    f.create_dataset('y_valid_sc', data=y_valid_sc)\n",
    "    \n",
    "    f.create_dataset('X_test', data=X_test)\n",
    "    f.create_dataset('X_test_sc', data=X_test_sc)\n",
    "    \n",
    "    f.create_dataset('y_test', data=y_test)\n",
    "    f.create_dataset('y_test_sc', data=y_test_sc)\n",
    "    \n",
    "    f.create_dataset('X_scaler_mean', data=model.X_scaler.mean_)\n",
    "    f.create_dataset('X_scaler_var', data=model.X_scaler.var_)\n",
    "    \n",
    "    f.create_dataset('y_scaler_mean', data=model.Y_scaler.mean_)\n",
    "    f.create_dataset('y_scaler_var', data=model.Y_scaler.var_)\n",
    "\n",
    "    "
   ]
  },
  {
   "cell_type": "code",
   "execution_count": 50,
   "metadata": {},
   "outputs": [
    {
     "data": {
      "text/plain": [
       "True"
      ]
     },
     "execution_count": 50,
     "metadata": {},
     "output_type": "execute_result"
    }
   ],
   "source": [
    "np.array_equal((X_tv-model.X_scaler.mean_)/np.sqrt(model.X_scaler.var_),X_tv_sc)"
   ]
  }
 ],
 "metadata": {
  "kernelspec": {
   "display_name": "Python 3",
   "language": "python",
   "name": "python3"
  },
  "language_info": {
   "codemirror_mode": {
    "name": "ipython",
    "version": 3
   },
   "file_extension": ".py",
   "mimetype": "text/x-python",
   "name": "python",
   "nbconvert_exporter": "python",
   "pygments_lexer": "ipython3",
   "version": "3.6.7"
  }
 },
 "nbformat": 4,
 "nbformat_minor": 2
}
