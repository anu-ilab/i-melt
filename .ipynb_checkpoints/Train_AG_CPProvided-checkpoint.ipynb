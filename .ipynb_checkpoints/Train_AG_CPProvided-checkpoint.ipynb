{
 "cells": [
  {
   "cell_type": "code",
   "execution_count": 28,
   "metadata": {},
   "outputs": [],
   "source": [
    "########## Calling relevant libraries ##########\n",
    "%matplotlib inline\n",
    "import numpy as np\n",
    "from sklearn.metrics import mean_squared_error\n",
    "import sklearn.model_selection as model_selection\n",
    "import scipy\n",
    "\n",
    "# Setting matplotlib options for this notebook\n",
    "import matplotlib\n",
    "from matplotlib import pyplot as plt\n",
    "\n",
    "import tensorflow as tf\n",
    "\n",
    "import sklearn, h5py\n",
    "from sklearn.externals import joblib\n",
    "\n",
    "import neuravi\n",
    "\n",
    "import pandas as pd"
   ]
  },
  {
   "cell_type": "markdown",
   "metadata": {},
   "source": [
    "# model with TensorFlow and A-G\n",
    "\n",
    "The past example with scikit-learn directly relates the melt composition and temperature to it's viscosity.\n",
    "\n",
    "We saw that the problem with this approach is that it underuses our knowledge of how viscosity and temperature vary. This creates too much noise when predicting viscosity over T for one composition.\n",
    "\n",
    "A way to solve that is to use the neiural net to map the chemical dependence of the parameters that enter into the equation(s) that link viscosity to temperature. As we can use any equation, best if we can actually use the Adam and Gibbs one as it bring thermodynamic information on the melt.\n",
    "\n",
    "If neural nets work, it should return an internally consistent model that should predict well the entropy and heat capacity of the melt.\n",
    "\n",
    "Good thing is we know those values for some melts, such that we can trully quantify the success of the neural net.\n",
    "\n",
    "$a^b$\n",
    "\n",
    "The viscosity equation is:\n",
    "\n",
    "\n",
    "$$log(\\eta) = A_{e} + \\frac{B_{e}}{T \\times (S^{conf}(T_{g}) + \\int_{T_{g}}^{T} \\frac{\\Delta C_p}{T} dT)}$$ \n",
    "\n",
    "where \n",
    "\n",
    "$$ \\int_{T_{g}}^{T} \\frac{\\Delta C_p}{T} dT = ap \\times (log(T) - log(T_{g})) + b \\times(T-T_{g}) $$\n",
    "\n",
    "\n",
    "$A_{e}$ is a constant proportional to the viscosity at infinite temperature. It barely depends on melt composition.\n",
    "\n",
    "$B_{e}$ is a constant proportional to energy barriers opposed to viscous flow. It strongly depends on melt composition.\n",
    "\n",
    "S^{conf}(T_{g}) is the configurational entropy of the melt at the glass transition temperature $T_g$ (temperature at which you consider that the melt becomes a glass.\n",
    "\n",
    "$ap$ and $b$ are parameters that depend on melt composition. We have data and models for those; they nearly linearly depend on melt composition. (this can be discussed for b)\n",
    "\n",
    "## Approach with neural net\n",
    "\n",
    "The idea is to link the melt composition (14 variables) to the parameters $A_{e}$, $B_{e}$, $S^{conf}(T_{g})$, $ap$ and $b$ with a neural network.\n",
    "\n",
    "We can calculate $T_{g}$ as \n",
    "\n",
    "$$ T_{g} = \\frac{B_{e}}{((12.0-A_{e}) \\times S^{conf}(T_{g}))} $$\n",
    "\n",
    "with the empirical definition that $T_{g}$ occurs when the viscosity reaches around 12 log Pa $\\cdot$ s.\n",
    "\n",
    "This helps removing one parameter and should help to have a self-consistent model.\n",
    "\n",
    "At this stage, we could use existing models for $ap$ and $b$, but there we assume that those models, which are 30 years old, are good-enough.\n",
    "\n",
    "Another approach, which I adopt in the following, is to let the neural net determines $ap$ and $b$, such that we can compore those in the future with existing models.\n",
    "\n",
    "If the neural net is good, we should find consistent results.\n",
    "\n",
    "## Let's start\n",
    "\n",
    "First I define the arrays that store the chemical composition and temperature.\n",
    "\n",
    "viscosity (y values) are already saved in y_train/y_valid/y_test."
   ]
  },
  {
   "cell_type": "markdown",
   "metadata": {},
   "source": [
    "# Loading dataset\n",
    "\n",
    "Dataset has been prepared before`"
   ]
  },
  {
   "cell_type": "code",
   "execution_count": 20,
   "metadata": {},
   "outputs": [
    {
     "name": "stdout",
     "output_type": "stream",
     "text": [
      "loaded\n",
      "\n",
      "Features in X_ arrays are\n",
      "[b'sio2' b'al2o3' b'na2o' b'k2o' b'ap' b'b' b'T' b'Be' b'Sc' b'tg']\n",
      "\n",
      "Shape of X train and valid is\n",
      "(689, 10)\n"
     ]
    }
   ],
   "source": [
    "f = h5py.File(\"./data/DataSet.hdf5\", 'r')\n",
    "# List all groups\n",
    "X_columns = f['X_columns'].value\n",
    "\n",
    "X_tv = f[\"X_tv\"].value\n",
    "X_tv_sc = f[\"X_tv_sc\"].value\n",
    "y_tv = f[\"y_tv\"].value\n",
    "\n",
    "X_test = f[\"X_test\"].value\n",
    "X_test_sc = f[\"X_test_sc\"].value\n",
    "y_test = f[\"y_test\"].value\n",
    "\n",
    "X_scaler_mean = f[\"X_scaler_mean\"].value\n",
    "X_scaler_var = f[\"X_scaler_var\"].value\n",
    "\n",
    "f.close()\n",
    "\n",
    "print(\"loaded\")\n",
    "print(\"\\nFeatures in X_ arrays are\")\n",
    "print(X_columns)\n",
    "print(\"\\nShape of X train and valid is\")\n",
    "print(X_tv.shape)\n",
    "\n",
    "# Put unscaled values for ap, b, T, Be and Sc in X_tv_sc and X_test_sc\n",
    "X_tv_sc[:,4:] = X_tv[:,4:]\n",
    "X_test_sc[:,4:] = X_test[:,4:]"
   ]
  },
  {
   "cell_type": "code",
   "execution_count": 33,
   "metadata": {},
   "outputs": [],
   "source": [
    "X_train_sc, X_valid_sc, y_train, y_valid =  model_selection.train_test_split(X_tv,y_tv,test_size=0.33,shuffle=True)\n",
    "\n",
    "# we have the chemical composition as X train/valid/test, but also the temperature\n",
    "\n",
    "chimie_train = X_train_sc[:,0:4] # 14 for all dataset, 4 for KNAS\n",
    "cp_train = X_train_sc[:,(4,5)]\n",
    "temperature_train = X_train_sc[:,6].reshape(-1,1)\n",
    "\n",
    "Be_train = X_train_sc[:,7].reshape(-1,1)\n",
    "Sc_train = X_train_sc[:,8].reshape(-1,1)\n",
    "\n",
    "chimie_valid = X_valid_sc[:,0:4]\n",
    "cp_valid = X_valid_sc[:,(4,5)]\n",
    "temperature_valid = X_valid_sc[:,6].reshape(-1,1)\n",
    "\n",
    "Be_valid = X_valid_sc[:,7].reshape(-1,1)\n",
    "Sc_valid = X_valid_sc[:,8].reshape(-1,1)\n",
    "\n",
    "chimie_test = X_test_sc[:,0:4]\n",
    "cp_test = X_test_sc[:,(4,5)]\n",
    "temperature_test = X_test_sc[:,6].reshape(-1,1)"
   ]
  },
  {
   "cell_type": "markdown",
   "metadata": {},
   "source": [
    "We then create an object to create a network with 1 to 5 layers (ReLu activation units + dropout),\n",
    "\n",
    "Following the reading of Kaufl, we will initiate the bias of the output neural net layer to values of parameters that are not far from reality.\n",
    "\n",
    "Then results of output layer are used to calculate the parameters of the A-G equation (see above), which, in turn, gives the viscosity.\n",
    "\n",
    "We use a L2 loss to determine distance from targets.\n",
    "\n",
    "Optimizer is RMSprop, it seems the most stable from my test.\n",
    "\n",
    "The code for the object is in the file neuravi.py"
   ]
  },
  {
   "cell_type": "code",
   "execution_count": 34,
   "metadata": {},
   "outputs": [],
   "source": [
    "class Model_AG_withCp2(object):\n",
    "    \"\"\"\n",
    "    derived from  https://github.com/adventuresinML/adventures-in-ml-code/blob/master/weight_init_tensorflow.py\n",
    "    \"\"\"\n",
    "    def __init__(self, input_size, \n",
    "                num_layers=3,\n",
    "                hidden_size=100,\n",
    "                stdev = 0.01,\n",
    "                init_be = np.array([np.log(40000.)]),\n",
    "                init_sc = np.array([np.log(5.1)]),\n",
    "                learning_rate = 1e-4):\n",
    "        \n",
    "        self._input_size = input_size\n",
    "        self._num_layers = num_layers # num layers does not include the input layer\n",
    "        self._hidden_size = hidden_size # all layers have the same number of hidden units\n",
    "        self._out_size = 1 # fixed regarding the problem shape: 3 parameters to determine\n",
    "        self._init_bias_be = init_be\n",
    "        self._init_bias_sc = init_sc\n",
    "        self._stdev = stdev\n",
    "        self._learning_rate = learning_rate\n",
    "        self._model_def()\n",
    "        \n",
    "    def _model_def(self):\n",
    "        # create placeholder variables\n",
    "        self.input_c = tf.placeholder(dtype=tf.float32, shape=[None,self._input_size], name=\"chimie\")\n",
    "        self.input_cp_a = tf.placeholder(dtype=tf.float32, shape=[None,1], name=\"cp_a\")\n",
    "        self.input_cp_b = tf.placeholder(dtype=tf.float32, shape=[None,1], name=\"cp_b\")\n",
    "        self.input_T = tf.placeholder(dtype=tf.float32, shape=[None,1], name=\"T\")\n",
    "        self.input_y = tf.placeholder(dtype=tf.float32, shape=[None,1], name=\"viscosity\")\n",
    "        self.prob = tf.placeholder_with_default(1.0, shape=())\n",
    "\n",
    "       \n",
    "            \n",
    "        self.Wh1 = tf.Variable(tf.random_normal([self._input_size,self._hidden_size], stddev=self._stdev, dtype=tf.float32))\n",
    "        self.bh1 = tf.Variable(tf.random_normal([1,self._hidden_size], stddev=self._stdev, dtype=tf.float32))\n",
    "            \n",
    "        self.hidden_layer_1 = tf.nn.dropout(tf.nn.relu(tf.matmul(self.input_c, self.Wh1) + self.bh1),\n",
    "                                                keep_prob=self.prob,\n",
    "                                                name=\"layerA\")\n",
    "            \n",
    "       \n",
    "            \n",
    "        self.Wh2 = tf.Variable(tf.random_normal([self._hidden_size,self._hidden_size], stddev=self._stdev, dtype=tf.float32))\n",
    "        self.bh2 = tf.Variable(tf.random_normal([1,self._hidden_size], stddev=self._stdev, dtype=tf.float32))\n",
    "\n",
    "        self.hidden_layer_2 = tf.nn.dropout(tf.nn.relu(tf.matmul(self.hidden_layer_1, self.Wh2) + self.bh2),\n",
    "                                                keep_prob=self.prob,\n",
    "                                                name=\"layerB\")\n",
    "        \n",
    "        \n",
    "        self.W1 = tf.Variable(tf.random_normal([self._hidden_size,self._out_size], mean=0.,stddev=self._stdev, dtype=tf.float32))\n",
    "        self.b1 = tf.Variable(tf.random_normal([1,self._out_size], mean=self._init_bias_be, stddev=self._init_bias_be*self._stdev, dtype=tf.float32))\n",
    "\n",
    "        self.W2 = tf.Variable(tf.random_normal([self._hidden_size,self._out_size], mean=0.,stddev=self._stdev, dtype=tf.float32))\n",
    "        self.b2 = tf.Variable(tf.random_normal([1,self._out_size], mean=self._init_bias_sc,stddev=self._init_bias_sc*self._stdev, dtype=tf.float32))\n",
    "\n",
    "        self.be_ = tf.add(tf.matmul(self.hidden_layer_1,self.W1),self.b1,name=\"Be_ph\")\n",
    "        self.sctg_ = tf.add(tf.matmul(self.hidden_layer_2,self.W2),self.b2,name=\"ScTg_ph\")\n",
    "        \n",
    "        #\n",
    "        # Adam and Gibbs with network outputs\n",
    "        #\n",
    "        self.ae = tf.get_variable(\"Ae\", initializer=-2.11)\n",
    "\n",
    "        #self.ae = tf.Variable(tf.tensor([-2.11]),name=\"Ae\")\n",
    "        \n",
    "        # cannot be negative\n",
    "        self.be = tf.exp(self.be_,name=\"Be\")\n",
    "        self.sctg = tf.exp(self.sctg_,name=\"entropy_Tg\")\n",
    "        \n",
    "        self.tg = tf.divide(self.be,np.multiply((12.0-self.ae),self.sctg),name=\"Tg\")\n",
    "        \n",
    "        self.dCp = tf.add(tf.multiply(self.input_cp_a,(tf.log(self.input_T)-tf.log(self.tg))),\n",
    "                          tf.multiply(self.input_cp_b,(self.input_T-self.tg)),name=\"dCp\")\n",
    "\n",
    "        self.entropy = tf.add(self.sctg,self.dCp,name=\"entropy_T\")\n",
    "\n",
    "        self.denom_n =tf.multiply(self.input_T,self.entropy,name=\"denominator_AG\")\n",
    "        \n",
    "        self.visco_pred = tf.add(self.ae,np.divide(self.be,self.denom_n),name=\"visco_pred\")\n",
    "        \n",
    "        #\n",
    "        #self.loss = tf.sum(tf.square(tf.subtract(self.visco_pred,self.input_y)),name=\"loss_fct\")\n",
    "        self.loss_n = tf.nn.l2_loss(self.visco_pred-self.input_y,name=\"loss_n\")\n",
    "        self.loss_be = tf.nn.l2_loss(self.be-self.input_y,name=\"loss_be\")\n",
    "        self.loss_sc = tf.nn.l2_loss(self.sctg-self.input_y,name=\"loss_sc\")\n",
    "                                                                            \n",
    "        # add the loss to the summary\n",
    "        tf.summary.scalar('loss_n', self.loss_n)\n",
    "        tf.summary.scalar('loss_Be', self.loss_be)\n",
    "        tf.summary.scalar('loss_Sc', self.loss_sc)\n",
    "        self.optimizer_n = tf.train.AdamOptimizer(self._learning_rate).minimize(self.loss_n)\n",
    "        self.optimizer_be = tf.train.AdamOptimizer(self._learning_rate).minimize(self.loss_be)\n",
    "        self.optimizer_sc = tf.train.AdamOptimizer(self._learning_rate).minimize(self.loss_sc)\n",
    "        \n",
    "        self.merged = tf.summary.merge_all()\n",
    "        self.init_op = tf.global_variables_initializer()  \n",
    "\n",
    "class Model_AG_withCp(object):\n",
    "    \"\"\"\n",
    "    derived from  https://github.com/adventuresinML/adventures-in-ml-code/blob/master/weight_init_tensorflow.py\n",
    "    \"\"\"\n",
    "    def __init__(self, input_size, \n",
    "                num_layers=3,\n",
    "                hidden_size=100,\n",
    "                stdev = 0.01,\n",
    "                init_bias = np.array([np.log(40000.),np.log(5.1)]),\n",
    "                learning_rate = 1e-4):\n",
    "        \n",
    "        self._input_size = input_size\n",
    "        self._num_layers = num_layers # num layers does not include the input layer\n",
    "        self._hidden_size = hidden_size # all layers have the same number of hidden units\n",
    "        self._out_size = 2 # fixed regarding the problem shape: 3 parameters to determine\n",
    "        self._init_bias = init_bias\n",
    "        self._stdev = stdev\n",
    "        self._learning_rate = learning_rate\n",
    "        self._model_def()\n",
    "        \n",
    "    def _model_def(self):\n",
    "        # create placeholder variables\n",
    "        self.input_c = tf.placeholder(dtype=tf.float32, shape=[None,self._input_size], name=\"chimie\")\n",
    "        self.input_cp_a = tf.placeholder(dtype=tf.float32, shape=[None,1], name=\"cp_a\")\n",
    "        self.input_cp_b = tf.placeholder(dtype=tf.float32, shape=[None,1], name=\"cp_b\")\n",
    "        self.input_T = tf.placeholder(dtype=tf.float32, shape=[None,1], name=\"T\")\n",
    "        self.input_y = tf.placeholder(dtype=tf.float32, shape=[None,1], name=\"viscosity\")\n",
    "        self.prob = tf.placeholder_with_default(1.0, shape=())\n",
    "\n",
    "        if self._num_layers >= 1:\n",
    "            \n",
    "            self.Wh1 = tf.Variable(tf.random_normal([self._input_size,self._hidden_size], stddev=self._stdev, dtype=tf.float32))\n",
    "            self.bh1 = tf.Variable(tf.random_normal([1,self._hidden_size], stddev=self._stdev, dtype=tf.float32))\n",
    "            \n",
    "            self.hidden_layer_1 = tf.nn.dropout(tf.nn.relu(tf.matmul(self.input_c, self.Wh1) + self.bh1),\n",
    "                                                keep_prob=self.prob,\n",
    "                                                name=\"layer1\")\n",
    "            \n",
    "        if self._num_layers >= 2:\n",
    "            \n",
    "            self.Wh2 = tf.Variable(tf.random_normal([self._hidden_size,self._hidden_size], stddev=self._stdev, dtype=tf.float32))\n",
    "            self.bh2 = tf.Variable(tf.random_normal([1,self._hidden_size], stddev=self._stdev, dtype=tf.float32))\n",
    "\n",
    "            self.hidden_layer_2 = tf.nn.dropout(tf.nn.relu(tf.matmul(self.hidden_layer_1, self.Wh2) + self.bh2),\n",
    "                                                keep_prob=self.prob,\n",
    "                                                name=\"layer2\")\n",
    "        \n",
    "        if self._num_layers >= 3:\n",
    "        \n",
    "            self.Wh3 = tf.Variable(tf.random_normal([self._hidden_size,self._hidden_size], stddev=self._stdev, dtype=tf.float32))\n",
    "            self.bh3 = tf.Variable(tf.random_normal([1,self._hidden_size], stddev=self._stdev, dtype=tf.float32))\n",
    "            \n",
    "            self.hidden_layer_3 = tf.nn.dropout(tf.nn.relu(tf.matmul(self.hidden_layer_2, self.Wh3) + self.bh3),\n",
    "                                                keep_prob=self.prob,\n",
    "                                                name=\"layer3\")    \n",
    "        if self._num_layers >= 4:\n",
    "        \n",
    "            self.Wh4 = tf.Variable(tf.random_normal([self._hidden_size,self._hidden_size], stddev=self._stdev, dtype=tf.float32))\n",
    "            self.bh4 = tf.Variable(tf.random_normal([1,self._hidden_size], stddev=self._stdev, dtype=tf.float32))\n",
    "            \n",
    "            self.hidden_layer_4 = tf.nn.dropout(tf.nn.relu(tf.matmul(self.hidden_layer_3, self.Wh4) + self.bh4),\n",
    "                                                keep_prob=self.prob,\n",
    "                                                name=\"layer4\")\n",
    "            \n",
    "        if self._num_layers == 5:\n",
    "        \n",
    "            self.Wh5 = tf.Variable(tf.random_normal([self._hidden_size,self._hidden_size], stddev=self._stdev, dtype=tf.float32))\n",
    "            self.bh5 = tf.Variable(tf.random_normal([1,self._hidden_size], stddev=self._stdev, dtype=tf.float32))\n",
    "            \n",
    "            self.hidden_layer_5 = tf.nn.dropout(tf.nn.relu(tf.matmul(self.hidden_layer_4, self.Wh5) + self.bh5),\n",
    "                                                keep_prob=self.prob,\n",
    "                                                name=\"layer5\")\n",
    "\n",
    "        self.Wo = tf.Variable(tf.random_normal([self._hidden_size,self._out_size], mean=0.,stddev=self._stdev, dtype=tf.float32))\n",
    "        self.bo = tf.Variable(tf.random_normal([1,self._out_size], mean=self._init_bias, stddev=self._init_bias*self._stdev, dtype=tf.float32))\n",
    "\n",
    "        if self._num_layers == 1:\n",
    "            self.output = tf.add(tf.matmul(self.hidden_layer_1,self.Wo),self.bo,name=\"out_neurons\")\n",
    "        elif self._num_layers == 2:\n",
    "            self.output = tf.add(tf.matmul(self.hidden_layer_2,self.Wo),self.bo,name=\"out_neurons\")\n",
    "        elif self._num_layers == 3:\n",
    "            self.output = tf.add(tf.matmul(self.hidden_layer_3,self.Wo),self.bo,name=\"out_neurons\")\n",
    "        elif self._num_layers == 4:\n",
    "            self.output = tf.add(tf.matmul(self.hidden_layer_4,self.Wo),self.bo,name=\"out_neurons\")\n",
    "        elif self._num_layers == 5:\n",
    "            self.output = tf.add(tf.matmul(self.hidden_layer_5,self.Wo),self.bo,name=\"out_neurons\")\n",
    "        else:\n",
    "            print(\"Error: choose between 1 to 5 layers\")\n",
    "        \n",
    "        #\n",
    "        # Adam and Gibbs with network outputs\n",
    "        #\n",
    "        #self.ae = tf.placeholder(dtype=tf.float32, shape=[None,1], name=\"Ae_ph\")\n",
    "        self.be_ = tf.placeholder(dtype=tf.float32, shape=[None,1], name=\"Be_ph\")\n",
    "        self.sctg_ = tf.placeholder(dtype=tf.float32, shape=[None,1], name=\"ScTg_ph\")\n",
    "        \n",
    "        self.ae = tf.Variable(tf.tensor([-2.11]),name=\"Ae\")\n",
    "        \n",
    "        self.be_, self.sctg_ = tf.split(self.output,2,axis=1)\n",
    "\n",
    "        # cannot be negative\n",
    "        self.be = tf.exp(self.be_,name=\"Be\")\n",
    "        self.sctg = tf.exp(self.sctg_,name=\"entropy_Tg\")\n",
    "        \n",
    "        self.tg = tf.divide(self.be,np.multiply((12.0-self.ae),self.sctg),name=\"Tg\")\n",
    "        \n",
    "        self.dCp = tf.add(tf.multiply(self.input_cp_a,(tf.log(self.input_T)-tf.log(self.tg))),\n",
    "                          tf.multiply(self.input_cp_b,(self.input_T-self.tg)),name=\"dCp\")\n",
    "\n",
    "        self.entropy = tf.add(self.sctg,self.dCp,name=\"entropy_T\")\n",
    "\n",
    "        self.denom_n =tf.multiply(self.input_T,self.entropy,name=\"denominator_AG\")\n",
    "        \n",
    "        self.visco_pred = tf.add(self.ae,np.divide(self.be,self.denom_n),name=\"visco_pred\")\n",
    "        \n",
    "        #\n",
    "        #self.loss = tf.sum(tf.square(tf.subtract(self.visco_pred,self.input_y)),name=\"loss_fct\")\n",
    "        self.loss_n = tf.nn.l2_loss(self.visco_pred-self.input_y,name=\"loss_n\")\n",
    "        self.loss_be = tf.nn.l2_loss(self.be-self.input_y,name=\"loss_be\")\n",
    "        self.loss_sc = tf.nn.l2_loss(self.sctg-self.input_y,name=\"loss_sc\")\n",
    "                                                                            \n",
    "        # add the loss to the summary\n",
    "        tf.summary.scalar('loss_n', self.loss_n)\n",
    "        tf.summary.scalar('loss_Be', self.loss_be)\n",
    "        tf.summary.scalar('loss_Sc', self.loss_sc)\n",
    "        self.optimizer_n = tf.train.RMSPropOptimizer(self._learning_rate).minimize(self.loss_n)\n",
    "        self.optimizer_be = tf.train.RMSPropOptimizer(self._learning_rate).minimize(self.loss_be)\n",
    "        self.optimizer_sc = tf.train.RMSPropOptimizer(self._learning_rate).minimize(self.loss_sc)\n",
    "        \n",
    "        self.merged = tf.summary.merge_all()\n",
    "        self.init_op = tf.global_variables_initializer()  "
   ]
  },
  {
   "cell_type": "code",
   "execution_count": 35,
   "metadata": {},
   "outputs": [
    {
     "data": {
      "text/plain": [
       "(461, 1)"
      ]
     },
     "execution_count": 35,
     "metadata": {},
     "output_type": "execute_result"
    }
   ],
   "source": [
    "Be_train.shape"
   ]
  },
  {
   "cell_type": "code",
   "execution_count": 36,
   "metadata": {},
   "outputs": [],
   "source": [
    "NIN = chimie_train.shape[1]\n",
    "NHIDDEN = 200\n",
    "NLAYER = 1\n",
    "STDEV = 0.001\n",
    "\n",
    "mod = Model_AG_withCp2(NIN, num_layers=NLAYER, hidden_size=NHIDDEN)"
   ]
  },
  {
   "cell_type": "markdown",
   "metadata": {},
   "source": [
    "We start a TF Interactive Session to initiate our model, and look at the initial predictions.\n",
    "\n",
    "The idea is to avoid starting the training with an initial model very far from reality...\n",
    "\n",
    "So we run this cell again and again until we see a relatively close correspondance.\n",
    "\n",
    "Initial predictions should be in a -5 - 20 range... If not, too much iterations are required for proper convergence...\n",
    "\n",
    "We just avoid values at 10^20...."
   ]
  },
  {
   "cell_type": "code",
   "execution_count": 39,
   "metadata": {},
   "outputs": [
    {
     "data": {
      "text/plain": [
       "[<matplotlib.lines.Line2D at 0x1c1ed98e10>]"
      ]
     },
     "execution_count": 39,
     "metadata": {},
     "output_type": "execute_result"
    },
    {
     "data": {
      "image/png": "[encoded data removed]",
      "text/plain": [
       "<matplotlib.figure.Figure at 0x1c1eb85f98>"
      ]
     },
     "metadata": {},
     "output_type": "display_data"
    }
   ],
   "source": [
    "try:\n",
    "    sess.close()\n",
    "except:\n",
    "    print(\"OK, no interactive session running\")\n",
    "\n",
    "sess = tf.InteractiveSession()\n",
    "sess.run(mod.init_op)\n",
    "\n",
    "\n",
    "\n",
    "pred_ini= sess.run(mod.visco_pred,feed_dict={mod.input_c: chimie_train,\n",
    "                                             mod.input_cp_a: cp_train[:,0].reshape(-1,1),\n",
    "                                             mod.input_cp_b: cp_train[:,1].reshape(-1,1),\n",
    "                                             mod.input_T: temperature_train, \n",
    "                                             mod.input_y: y_train.reshape(-1,1)})\n",
    "plt.figure()\n",
    "plt.plot(y_train, pred_ini)"
   ]
  },
  {
   "cell_type": "markdown",
   "metadata": {},
   "source": [
    "We then train the network for 50,000 iterations. We use the full batch. Should not be a problem as our dataset is relatively small.\n",
    "\n",
    "Convergence is slow.\n",
    "\n",
    "I do not perform early stopping (lines are commented) as it does not bring anything to the training. It stops the training too early.\n",
    "\n",
    "Furthermore, good validation and testing errors are in general obtained because we use dropout, which favour generalization."
   ]
  },
  {
   "cell_type": "code",
   "execution_count": 40,
   "metadata": {},
   "outputs": [
    {
     "data": {
      "text/plain": [
       "(228, 4)"
      ]
     },
     "execution_count": 40,
     "metadata": {},
     "output_type": "execute_result"
    }
   ],
   "source": [
    "chimie_valid.shape"
   ]
  },
  {
   "cell_type": "code",
   "execution_count": 41,
   "metadata": {},
   "outputs": [
    {
     "name": "stdout",
     "output_type": "stream",
     "text": [
      "Batch train and valid loss at step 0: 8972.7890625, 4486.58447265625\n",
      "Batch train and valid loss at step 500: 499.7765808105469, 270.6285705566406\n",
      "Batch train and valid loss at step 1000: 455.2569274902344, 243.34197998046875\n",
      "Batch train and valid loss at step 1500: 444.23638916015625, 237.07049560546875\n"
     ]
    }
   ],
   "source": [
    "NEPOCH = 5000\n",
    "loss_train = np.zeros(NEPOCH) # store the training progress here.\n",
    "loss_valid = np.zeros(NEPOCH) # store the training progress here.\n",
    "\n",
    "early_stop = 1000 # not used below\n",
    "count_es = 0\n",
    "\n",
    "for i in range(NEPOCH):\n",
    "    dct_train = {mod.prob: 1.0, mod.input_c: chimie_train, \n",
    "                 mod.input_cp_a: cp_train[:,0].reshape(-1,1),\n",
    "                 mod.input_cp_b: cp_train[:,1].reshape(-1,1),\n",
    "                 mod.input_T: temperature_train, mod.input_y: Sc_train.reshape(-1,1)}\n",
    "    \n",
    "    dct_valid = {mod.input_c: chimie_valid, \n",
    "                 mod.input_cp_a: cp_valid[:,0].reshape(-1,1),\n",
    "                 mod.input_cp_b: cp_valid[:,1].reshape(-1,1),\n",
    "                 mod.input_T: temperature_valid, mod.input_y: Sc_valid.reshape(-1,1)}\n",
    "    \n",
    "    sess.run(mod.optimizer_sc,feed_dict=dct_train)\n",
    "    loss_train[i] = sess.run(mod.loss_sc, feed_dict=dct_train)\n",
    "    loss_valid[i] = sess.run(mod.loss_sc, feed_dict=dct_valid)\n",
    "    \n",
    "    if (i % 500 == 0):\n",
    "            print(\"Batch train and valid loss at step {}: {}, {}\".format(i, loss_train[i], loss_valid[i]))\n",
    "    \n",
    "    # implement early stopping\n",
    "    if loss_valid[i]>loss_valid[i-1]: # this is increasing if the new iteration valid RMSE is higher than the old\n",
    "        count_es += 1\n",
    "    else: # if it starts decreasing again, we put things back to 0\n",
    "        count_es = 0\n",
    "        \n",
    "    #if count_es > early_stop:\n",
    "    #    break\n",
    "        "
   ]
  },
  {
   "cell_type": "code",
   "execution_count": 42,
   "metadata": {},
   "outputs": [
    {
     "data": {
      "text/plain": [
       "[<matplotlib.lines.Line2D at 0x1c1ed17470>]"
      ]
     },
     "execution_count": 42,
     "metadata": {},
     "output_type": "execute_result"
    },
    {
     "data": {
      "image/png": "[encoded data removed]",
      "text/plain": [
       "<matplotlib.figure.Figure at 0x1c1ed172e8>"
      ]
     },
     "metadata": {},
     "output_type": "display_data"
    }
   ],
   "source": [
    "plt.plot(Sc_train,sess.run(mod.sctg, feed_dict=dct_train),\"k.\")\n",
    "plt.plot([5,15],[5,15],\"k--\")"
   ]
  },
  {
   "cell_type": "code",
   "execution_count": 43,
   "metadata": {},
   "outputs": [
    {
     "name": "stdout",
     "output_type": "stream",
     "text": [
      "Batch train and valid loss at step 0: 2626888663040.0, 1323512627200.0\n",
      "Batch train and valid loss at step 500: 152942116864.0, 78985854976.0\n",
      "Batch train and valid loss at step 1000: 109239296000.0, 56909045760.0\n",
      "Batch train and valid loss at step 1500: 75932229632.0, 39811162112.0\n"
     ]
    }
   ],
   "source": [
    "NEPOCH = 5000\n",
    "loss_train = np.zeros(NEPOCH) # store the training progress here.\n",
    "loss_valid = np.zeros(NEPOCH) # store the training progress here.\n",
    "\n",
    "early_stop = 1000 # not used below\n",
    "count_es = 0\n",
    "\n",
    "for i in range(NEPOCH):\n",
    "    dct_train = {mod.prob: 1.0, mod.input_c: chimie_train, \n",
    "                 mod.input_cp_a: cp_train[:,0].reshape(-1,1),\n",
    "                 mod.input_cp_b: cp_train[:,1].reshape(-1,1),\n",
    "                 mod.input_T: temperature_train, mod.input_y: Be_train.reshape(-1,1)}\n",
    "    \n",
    "    dct_valid = {mod.input_c: chimie_valid, \n",
    "                 mod.input_cp_a: cp_valid[:,0].reshape(-1,1),\n",
    "                 mod.input_cp_b: cp_valid[:,1].reshape(-1,1),\n",
    "                 mod.input_T: temperature_valid, mod.input_y: Be_valid.reshape(-1,1)}\n",
    "    \n",
    "    sess.run(mod.optimizer_be,feed_dict=dct_train)\n",
    "    loss_train[i] = sess.run(mod.loss_be, feed_dict=dct_train)\n",
    "    loss_valid[i] = sess.run(mod.loss_be, feed_dict=dct_valid)\n",
    "    \n",
    "    if (i % 500 == 0):\n",
    "            print(\"Batch train and valid loss at step {}: {}, {}\".format(i, loss_train[i], loss_valid[i]))\n",
    "    \n",
    "    # implement early stopping\n",
    "    if loss_valid[i]>loss_valid[i-1]: # this is increasing if the new iteration valid RMSE is higher than the old\n",
    "        count_es += 1\n",
    "    else: # if it starts decreasing again, we put things back to 0\n",
    "        count_es = 0\n",
    "        \n",
    "    #if count_es > early_stop:\n",
    "    #    break\n",
    "        "
   ]
  },
  {
   "cell_type": "code",
   "execution_count": 44,
   "metadata": {},
   "outputs": [
    {
     "data": {
      "text/plain": [
       "[<matplotlib.lines.Line2D at 0x1c20f7d208>]"
      ]
     },
     "execution_count": 44,
     "metadata": {},
     "output_type": "execute_result"
    },
    {
     "data": {
      "image/png": "[encoded data removed]",
      "text/plain": [
       "<matplotlib.figure.Figure at 0x1c20f65b38>"
      ]
     },
     "metadata": {},
     "output_type": "display_data"
    }
   ],
   "source": [
    "plt.plot(Be_train,sess.run(mod.be, feed_dict=dct_train))\n",
    "plt.plot([0,200000],[0,200000],\"k--\")"
   ]
  },
  {
   "cell_type": "code",
   "execution_count": 45,
   "metadata": {},
   "outputs": [
    {
     "ename": "NameError",
     "evalue": "name 'd' is not defined",
     "output_type": "error",
     "traceback": [
      "\u001b[0;31m---------------------------------------------------------------------------\u001b[0m",
      "\u001b[0;31mNameError\u001b[0m                                 Traceback (most recent call last)",
      "\u001b[0;32m<ipython-input-45-96fe00870766>\u001b[0m in \u001b[0;36m<module>\u001b[0;34m()\u001b[0m\n\u001b[1;32m     10\u001b[0m                  \u001b[0mmod\u001b[0m\u001b[0;34m.\u001b[0m\u001b[0minput_cp_a\u001b[0m\u001b[0;34m:\u001b[0m \u001b[0mcp_train\u001b[0m\u001b[0;34m[\u001b[0m\u001b[0;34m:\u001b[0m\u001b[0;34m,\u001b[0m\u001b[0;36m0\u001b[0m\u001b[0;34m]\u001b[0m\u001b[0;34m.\u001b[0m\u001b[0mreshape\u001b[0m\u001b[0;34m(\u001b[0m\u001b[0;34m-\u001b[0m\u001b[0;36m1\u001b[0m\u001b[0;34m,\u001b[0m\u001b[0;36m1\u001b[0m\u001b[0;34m)\u001b[0m\u001b[0;34m,\u001b[0m\u001b[0;34m\u001b[0m\u001b[0;34m\u001b[0m\u001b[0m\n\u001b[1;32m     11\u001b[0m                  \u001b[0mmod\u001b[0m\u001b[0;34m.\u001b[0m\u001b[0minput_cp_b\u001b[0m\u001b[0;34m:\u001b[0m \u001b[0mcp_train\u001b[0m\u001b[0;34m[\u001b[0m\u001b[0;34m:\u001b[0m\u001b[0;34m,\u001b[0m\u001b[0;36m1\u001b[0m\u001b[0;34m]\u001b[0m\u001b[0;34m.\u001b[0m\u001b[0mreshape\u001b[0m\u001b[0;34m(\u001b[0m\u001b[0;34m-\u001b[0m\u001b[0;36m1\u001b[0m\u001b[0;34m,\u001b[0m\u001b[0;36m1\u001b[0m\u001b[0;34m)\u001b[0m\u001b[0;34m,\u001b[0m\u001b[0;34m\u001b[0m\u001b[0;34m\u001b[0m\u001b[0m\n\u001b[0;32m---> 12\u001b[0;31m                  mod.input_T: temperature_train, mod.input_y: d.y_train.reshape(-1,1)}\n\u001b[0m\u001b[1;32m     13\u001b[0m \u001b[0;34m\u001b[0m\u001b[0m\n\u001b[1;32m     14\u001b[0m     dct_valid = {mod.input_c: chimie_valid, \n",
      "\u001b[0;31mNameError\u001b[0m: name 'd' is not defined"
     ]
    }
   ],
   "source": [
    "NEPOCH = 13000\n",
    "loss_train = np.zeros(NEPOCH) # store the training progress here.\n",
    "loss_valid = np.zeros(NEPOCH) # store the training progress here.\n",
    "\n",
    "early_stop = 1000 # not used below\n",
    "count_es = 0\n",
    "\n",
    "for i in range(NEPOCH):\n",
    "    dct_train = {mod.prob: 1.0, mod.input_c: chimie_train, \n",
    "                 mod.input_cp_a: cp_train[:,0].reshape(-1,1),\n",
    "                 mod.input_cp_b: cp_train[:,1].reshape(-1,1),\n",
    "                 mod.input_T: temperature_train, mod.input_y: y_train.reshape(-1,1)}\n",
    "    \n",
    "    dct_valid = {mod.input_c: chimie_valid, \n",
    "                 mod.input_cp_a: cp_valid[:,0].reshape(-1,1),\n",
    "                 mod.input_cp_b: cp_valid[:,1].reshape(-1,1),\n",
    "                 mod.input_T: temperature_valid, mod.input_y: y_valid.reshape(-1,1)}\n",
    "    \n",
    "    sess.run(mod.optimizer_n,feed_dict=dct_train)\n",
    "    loss_train[i] = sess.run(mod.loss_n, feed_dict=dct_train)\n",
    "    loss_valid[i] = sess.run(mod.loss_n, feed_dict=dct_valid)\n",
    "    \n",
    "    if (i % 500 == 0):\n",
    "            print(\"Batch train and valid loss at step {}: {}, {}\".format(i, loss_train[i], loss_valid[i]))\n",
    "    \n",
    "    # implement early stopping\n",
    "    if loss_valid[i]>loss_valid[i-1]: # this is increasing if the new iteration valid RMSE is higher than the old\n",
    "        count_es += 1\n",
    "    else: # if it starts decreasing again, we put things back to 0\n",
    "        count_es = 0\n",
    "        \n",
    "    #if count_es > early_stop:\n",
    "    #    break\n",
    "        "
   ]
  },
  {
   "cell_type": "code",
   "execution_count": null,
   "metadata": {},
   "outputs": [],
   "source": [
    "plt.figure(figsize=(8, 8))\n",
    "plt.plot(np.arange(0, NEPOCH,1), loss_train/d.X_train.shape[0], 'r-')\n",
    "plt.plot(np.arange(0, NEPOCH,1), loss_valid/d.X_valid.shape[0], 'b-')\n",
    "plt.ylim(0,5)\n",
    "plt.show()\n",
    "plt.savefig(\"epochs_ag.pdf\")"
   ]
  },
  {
   "cell_type": "markdown",
   "metadata": {},
   "source": [
    "Here this is supposed to save the model, which then can be re-used by tensorflow server..."
   ]
  },
  {
   "cell_type": "code",
   "execution_count": null,
   "metadata": {},
   "outputs": [],
   "source": [
    "name_out = \"KNAS_AG_layer_\"+str(NLAYER)+\"units_\"+str(NHIDDEN)+\"it_\"+str(NEPOCH)\n",
    "\n",
    "tf.saved_model.simple_save(sess,\n",
    "            \"./model/\"+name_out,\n",
    "            inputs={\"chimie\": mod.input_c, \"T\": mod.input_T},\n",
    "            outputs={\"visco_pred\": mod.visco_pred})"
   ]
  },
  {
   "cell_type": "code",
   "execution_count": 17,
   "metadata": {},
   "outputs": [
    {
     "data": {
      "image/png": "[encoded data removed]",
      "text/plain": [
       "<Figure size 288x576 with 3 Axes>"
      ]
     },
     "metadata": {},
     "output_type": "display_data"
    }
   ],
   "source": [
    "train_pred_out = sess.run(mod.visco_pred,feed_dict=dct_train)\n",
    "valid_pred_out = sess.run(mod.visco_pred,feed_dict=dct_valid)\n",
    "test_pred_out = sess.run(mod.visco_pred,feed_dict={mod.input_c: chimie_test, \n",
    "                 mod.input_cp_a: cp_test[:,0].reshape(-1,1),\n",
    "                 mod.input_cp_b: cp_test[:,1].reshape(-1,1),\n",
    "                 mod.input_T: temperature_test, mod.input_y: d.y_test.reshape(-1,1)})\n",
    "\n",
    "plt.figure(figsize=(4,8))\n",
    "plt.subplot(3,1,1)\n",
    "plt.title(\"A) Train\")\n",
    "plt.plot(d.y_train, train_pred_out,\"k.\")\n",
    "\n",
    "plt.plot([-3,15],[-3,15],\"--\",color=\"grey\")\n",
    "\n",
    "plt.xlim(-3,15)\n",
    "plt.ylim(-3,15)\n",
    "\n",
    "plt.annotate(\"RMSE %.2f\" % np.sqrt(mean_squared_error(d.y_train, train_pred_out)),xy=(0.05,0.9),xycoords=\"axes fraction\")\n",
    "\n",
    "plt.subplot(3,1,2)\n",
    "plt.title(\"B) Valid\")\n",
    "plt.plot(d.y_valid, valid_pred_out,\"k.\")\n",
    "\n",
    "plt.plot([-3,15],[-3,15],\"--\",color=\"grey\")\n",
    "\n",
    "plt.xlim(-3,15)\n",
    "plt.ylim(-3,15)\n",
    "\n",
    "plt.annotate(\"RMSE %.2f\" % np.sqrt(mean_squared_error(d.y_valid, valid_pred_out)),xy=(0.05,0.9),xycoords=\"axes fraction\")\n",
    "\n",
    "plt.ylabel(\"Predicted $\\eta$, log Pa$\\cdot$s\")\n",
    "\n",
    "plt.subplot(3,1,3)\n",
    "plt.title(\"C) Test\")\n",
    "plt.plot(d.y_test, test_pred_out,\"r.\")\n",
    "\n",
    "plt.plot([-3,15],[-3,15],\"--\",color=\"grey\")\n",
    "\n",
    "plt.xlim(-3,15)\n",
    "plt.ylim(-3,15)\n",
    "\n",
    "plt.annotate(\"RMSE %.2f\" % np.sqrt(mean_squared_error(d.y_test, test_pred_out)),xy=(0.05,0.9),xycoords=\"axes fraction\")\n",
    "\n",
    "plt.xlabel(\"Measured $\\eta$, log Pa$\\cdot$s\")\n",
    "\n",
    "plt.tight_layout()"
   ]
  },
  {
   "cell_type": "code",
   "execution_count": null,
   "metadata": {},
   "outputs": [],
   "source": []
  }
 ],
 "metadata": {
  "kernelspec": {
   "display_name": "Python 3",
   "language": "python",
   "name": "python3"
  },
  "language_info": {
   "codemirror_mode": {
    "name": "ipython",
    "version": 3
   },
   "file_extension": ".py",
   "mimetype": "text/x-python",
   "name": "python",
   "nbconvert_exporter": "python",
   "pygments_lexer": "ipython3",
   "version": "3.6.7"
  }
 },
 "nbformat": 4,
 "nbformat_minor": 2
}
