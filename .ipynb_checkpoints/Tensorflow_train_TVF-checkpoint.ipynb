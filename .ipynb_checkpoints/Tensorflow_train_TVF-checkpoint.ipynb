{
 "cells": [
  {
   "cell_type": "code",
   "execution_count": 1,
   "metadata": {},
   "outputs": [
    {
     "name": "stderr",
     "output_type": "stream",
     "text": [
      "/Users/charles/anaconda/lib/python3.6/importlib/_bootstrap.py:205: RuntimeWarning: compiletime version 3.5 of module 'tensorflow.python.framework.fast_tensor_util' does not match runtime version 3.6\n",
      "  return f(*args, **kwds)\n",
      "/Users/charles/anaconda/lib/python3.6/site-packages/h5py/__init__.py:36: FutureWarning: Conversion of the second argument of issubdtype from `float` to `np.floating` is deprecated. In future, it will be treated as `np.float64 == np.dtype(float).type`.\n",
      "  from ._conv import register_converters as _register_converters\n",
      "/Users/charles/anaconda/lib/python3.6/site-packages/sklearn/ensemble/weight_boosting.py:29: DeprecationWarning: numpy.core.umath_tests is an internal NumPy module and should not be imported. It will be removed in a future NumPy release.\n",
      "  from numpy.core.umath_tests import inner1d\n"
     ]
    }
   ],
   "source": [
    "########## Calling relevant libraries ##########\n",
    "%matplotlib inline\n",
    "import numpy as np\n",
    "from sklearn.metrics import mean_squared_error\n",
    "import scipy\n",
    "\n",
    "# Setting matplotlib options for this notebook\n",
    "import matplotlib\n",
    "from matplotlib import pyplot as plt\n",
    "\n",
    "import tensorflow as tf\n",
    "\n",
    "import sklearn\n",
    "from sklearn.externals import joblib\n",
    "\n",
    "import neuravi"
   ]
  },
  {
   "cell_type": "markdown",
   "metadata": {},
   "source": [
    "# Loading dataset\n",
    "\n",
    "Dataset has been prepared before`"
   ]
  },
  {
   "cell_type": "code",
   "execution_count": 2,
   "metadata": {
    "code_folding": []
   },
   "outputs": [],
   "source": [
    "d = neuravi.Data(\"./data/\")"
   ]
  },
  {
   "cell_type": "markdown",
   "metadata": {},
   "source": [
    "# model with TensorFlow and A-G\n",
    "\n",
    "The past example with scikit-learn directly relates the melt composition and temperature to it's viscosity.\n",
    "\n",
    "We saw that the problem with this approach is that it underuses our knowledge of how viscosity and temperature vary. This creates too much noise when predicting viscosity over T for one composition.\n",
    "\n",
    "A way to solve that is to use the neiural net to map the chemical dependence of the parameters that enter into the equation(s) that link viscosity to temperature. As we can use any equation, best if we can actually use the Adam and Gibbs one as it bring thermodynamic information on the melt.\n",
    "\n",
    "If neural nets work, it should return an internally consistent model that should predict well the entropy and heat capacity of the melt.\n",
    "\n",
    "Good thing is we know those values for some melts, such that we can trully quantify the success of the neural net.\n",
    "\n",
    "$a^b$\n",
    "\n",
    "The viscosity equation is:\n",
    "\n",
    "\n",
    "$$log(\\eta) = A_{e} + \\frac{B_{e}}{T \\times (S^{conf}(T_{g}) + \\int_{T_{g}}^{T} \\frac{\\Delta C_p}{T} dT)}$$ \n",
    "\n",
    "where \n",
    "\n",
    "$$ \\int_{T_{g}}^{T} \\frac{\\Delta C_p}{T} dT = ap \\times (log(T) - log(T_{g})) + b \\times(T-T_{g}) $$\n",
    "\n",
    "\n",
    "$A_{e}$ is a constant proportional to the viscosity at infinite temperature. It barely depends on melt composition.\n",
    "\n",
    "$B_{e}$ is a constant proportional to energy barriers opposed to viscous flow. It strongly depends on melt composition.\n",
    "\n",
    "S^{conf}(T_{g}) is the configurational entropy of the melt at the glass transition temperature $T_g$ (temperature at which you consider that the melt becomes a glass.\n",
    "\n",
    "$ap$ and $b$ are parameters that depend on melt composition. We have data and models for those; they nearly linearly depend on melt composition. (this can be discussed for b)\n",
    "\n",
    "## Approach with neural net\n",
    "\n",
    "The idea is to link the melt composition (14 variables) to the parameters $A_{e}$, $B_{e}$, $S^{conf}(T_{g})$, $ap$ and $b$ with a neural network.\n",
    "\n",
    "We can calculate $T_{g}$ as \n",
    "\n",
    "$$ T_{g} = \\frac{B_{e}}{((12.0-A_{e}) \\times S^{conf}(T_{g}))} $$\n",
    "\n",
    "with the empirical definition that $T_{g}$ occurs when the viscosity reaches around 12 log Pa $\\cdot$ s.\n",
    "\n",
    "This helps removing one parameter and should help to have a self-consistent model.\n",
    "\n",
    "At this stage, we could use existing models for $ap$ and $b$, but there we assume that those models, which are 30 years old, are good-enough.\n",
    "\n",
    "Another approach, which I adopt in the following, is to let the neural net determines $ap$ and $b$, such that we can compore those in the future with existing models.\n",
    "\n",
    "If the neural net is good, we should find consistent results.\n",
    "\n",
    "## Let's start\n",
    "\n",
    "First I define the arrays that store the chemical composition and temperature.\n",
    "\n",
    "viscosity (y values) are already saved in y_train/y_valid/y_test."
   ]
  },
  {
   "cell_type": "code",
   "execution_count": 3,
   "metadata": {},
   "outputs": [],
   "source": [
    "# we have the chemical composition as X train/valid/test, but also the temperature\n",
    "\n",
    "chimie_train = d.X_train[:,0:14]\n",
    "temperature_train = d.X_train[:,14].reshape(-1,1)\n",
    "\n",
    "chimie_valid = d.X_valid[:,0:14]\n",
    "temperature_valid = d.X_valid[:,14].reshape(-1,1)\n",
    "\n",
    "chimie_test = d.X_test[:,0:14]\n",
    "temperature_test = d.X_test[:,14].reshape(-1,1)\n",
    "\n",
    "# rescale chimie between 0 and 1\n",
    "\n",
    "chimie_train = chimie_train/chimie_train.sum(axis=1).reshape(-1,1)\n",
    "chimie_valid = chimie_valid/chimie_valid.sum(axis=1).reshape(-1,1)\n",
    "chimie_test = chimie_test/chimie_test.sum(axis=1).reshape(-1,1)"
   ]
  },
  {
   "cell_type": "markdown",
   "metadata": {},
   "source": [
    "We then create an object to create a network with 1 to 5 layers (ReLu activation units + dropout),\n",
    "\n",
    "Following the reading of Kaufl, we will initiate the bias of the output neural net layer to values of parameters that are not far from reality.\n",
    "\n",
    "Then results of output layer are used to calculate the parameters of the A-G equation (see above), which, in turn, gives the viscosity.\n",
    "\n",
    "We use a L2 loss to determine distance from targets.\n",
    "\n",
    "Optimizer is RMSprop, it seems the most stable from my test.\n",
    "\n",
    "The code for the object is in the file neuravi.py"
   ]
  },
  {
   "cell_type": "code",
   "execution_count": 4,
   "metadata": {},
   "outputs": [],
   "source": [
    "NIN = chimie_train.shape[1]\n",
    "NHIDDEN = 100\n",
    "NLAYER = 1\n",
    "STDEV = 0.001\n",
    "\n",
    "mod = neuravi.Model_TVF(NIN, num_layers=NLAYER,hidden_size=NHIDDEN)"
   ]
  },
  {
   "cell_type": "markdown",
   "metadata": {},
   "source": [
    "We start a TF Interactive Session to initiate our model, and look at the initial predictions.\n",
    "\n",
    "The idea is to avoid starting the training with an initial model very far from reality...\n",
    "\n",
    "So we run this cell again and again until we see a relatively close correspondance.\n",
    "\n",
    "Initial predictions should be in a -5 - 20 range... If not, too much iterations are required for proper convergence...\n",
    "\n",
    "We just avoid values at 10^20...."
   ]
  },
  {
   "cell_type": "code",
   "execution_count": 5,
   "metadata": {},
   "outputs": [
    {
     "name": "stdout",
     "output_type": "stream",
     "text": [
      "OK, no interactive session running\n"
     ]
    },
    {
     "data": {
      "text/plain": [
       "[<matplotlib.lines.Line2D at 0x1c31a155c0>]"
      ]
     },
     "execution_count": 5,
     "metadata": {},
     "output_type": "execute_result"
    },
    {
     "data": {
      "image/png": "[encoded data removed]",
      "text/plain": [
       "<matplotlib.figure.Figure at 0x1c31182780>"
      ]
     },
     "metadata": {},
     "output_type": "display_data"
    }
   ],
   "source": [
    "try:\n",
    "    sess.close()\n",
    "except:\n",
    "    print(\"OK, no interactive session running\")\n",
    "\n",
    "sess = tf.InteractiveSession()\n",
    "sess.run(mod.init_op)\n",
    "\n",
    "pred_ini= sess.run(mod.visco_pred,feed_dict={mod.input_c: chimie_train, \n",
    "                                             mod.input_T: temperature_train, \n",
    "                                             mod.input_y: d.y_train.reshape(-1,1)})\n",
    "plt.figure()\n",
    "plt.plot(d.y_train, pred_ini)"
   ]
  },
  {
   "cell_type": "markdown",
   "metadata": {},
   "source": [
    "We then train the network for 50,000 iterations. We use the full batch. Should not be a problem as our dataset is relatively small.\n",
    "\n",
    "Convergence is slow.\n",
    "\n",
    "I do not perform early stopping (lines are commented) as it does not bring anything to the training. It stops the training too early.\n",
    "\n",
    "Furthermore, good validation and testing errors are in general obtained because we use dropout, which favour generalization."
   ]
  },
  {
   "cell_type": "code",
   "execution_count": 6,
   "metadata": {},
   "outputs": [
    {
     "name": "stdout",
     "output_type": "stream",
     "text": [
      "Batch train and valid loss at step 0: 8190995.0, 7684980.5\n",
      "Batch train and valid loss at step 500: 538832.0625, 124479.6015625\n",
      "Batch train and valid loss at step 1000: 13523.8603515625, 3102.542236328125\n",
      "Batch train and valid loss at step 1500: 8392.439453125, 1826.9901123046875\n",
      "Batch train and valid loss at step 2000: 6044.53271484375, 1267.6700439453125\n",
      "Batch train and valid loss at step 2500: 5326.18310546875, 1074.3465576171875\n",
      "Batch train and valid loss at step 3000: 5016.08935546875, 1011.809326171875\n",
      "Batch train and valid loss at step 3500: 4612.0986328125, 951.6336669921875\n",
      "Batch train and valid loss at step 4000: 4023.24365234375, 880.3304443359375\n",
      "Batch train and valid loss at step 4500: 3233.868896484375, 818.9840698242188\n",
      "Batch train and valid loss at step 5000: 2661.380126953125, 808.9025268554688\n",
      "Batch train and valid loss at step 5500: 2424.12109375, 805.8865966796875\n",
      "Batch train and valid loss at step 6000: 2256.91650390625, 801.0682373046875\n",
      "Batch train and valid loss at step 6500: 2103.927978515625, 796.72509765625\n",
      "Batch train and valid loss at step 7000: 2002.8331298828125, 786.8826293945312\n",
      "Batch train and valid loss at step 7500: 1920.39990234375, 775.73291015625\n",
      "Batch train and valid loss at step 8000: 1848.01708984375, 764.385498046875\n",
      "Batch train and valid loss at step 8500: 1789.2017822265625, 752.2568359375\n",
      "Batch train and valid loss at step 9000: 1737.486083984375, 740.8082885742188\n",
      "Batch train and valid loss at step 9500: 1691.901611328125, 725.290283203125\n",
      "Batch train and valid loss at step 10000: 1638.9730224609375, 708.8741455078125\n",
      "Batch train and valid loss at step 10500: 1591.2698974609375, 690.1259155273438\n",
      "Batch train and valid loss at step 11000: 1549.21142578125, 677.3358764648438\n",
      "Batch train and valid loss at step 11500: 1510.956298828125, 669.864013671875\n",
      "Batch train and valid loss at step 12000: 1475.11865234375, 665.9387817382812\n",
      "Batch train and valid loss at step 12500: 1441.4139404296875, 664.2575073242188\n",
      "Batch train and valid loss at step 13000: 1408.34521484375, 663.534912109375\n",
      "Batch train and valid loss at step 13500: 1377.225341796875, 666.9111938476562\n",
      "Batch train and valid loss at step 14000: 1346.089111328125, 669.3953247070312\n",
      "Batch train and valid loss at step 14500: 1317.2646484375, 673.1306762695312\n",
      "Batch train and valid loss at step 15000: 1287.19287109375, 677.2094116210938\n",
      "Batch train and valid loss at step 15500: 1260.36669921875, 679.749755859375\n",
      "Batch train and valid loss at step 16000: 1236.525390625, 687.2832641601562\n",
      "Batch train and valid loss at step 16500: 1216.42041015625, 693.9823608398438\n",
      "Batch train and valid loss at step 17000: 1198.417236328125, 701.6151733398438\n",
      "Batch train and valid loss at step 17500: 1178.830078125, 710.544921875\n",
      "Batch train and valid loss at step 18000: 1158.406005859375, 726.85107421875\n",
      "Batch train and valid loss at step 18500: 1139.0701904296875, 728.6339111328125\n",
      "Batch train and valid loss at step 19000: 1122.404541015625, 727.431396484375\n",
      "Batch train and valid loss at step 19500: 1106.338623046875, 731.3919067382812\n",
      "Batch train and valid loss at step 20000: 1091.233642578125, 734.1724853515625\n",
      "Batch train and valid loss at step 20500: 1075.18994140625, 738.4248657226562\n",
      "Batch train and valid loss at step 21000: 1059.9404296875, 737.58203125\n",
      "Batch train and valid loss at step 21500: 1042.849365234375, 736.2619018554688\n",
      "Batch train and valid loss at step 22000: 1026.5433349609375, 734.1566162109375\n",
      "Batch train and valid loss at step 22500: 1014.7424926757812, 727.0988159179688\n",
      "Batch train and valid loss at step 23000: 997.711181640625, 721.0128173828125\n",
      "Batch train and valid loss at step 23500: 983.9363403320312, 714.2705078125\n",
      "Batch train and valid loss at step 24000: 972.6871948242188, 708.3143920898438\n",
      "Batch train and valid loss at step 24500: 960.6903076171875, 703.7805786132812\n",
      "Batch train and valid loss at step 25000: 948.78759765625, 702.82666015625\n",
      "Batch train and valid loss at step 25500: 937.0079345703125, 697.4191284179688\n",
      "Batch train and valid loss at step 26000: 925.6922607421875, 692.3948974609375\n",
      "Batch train and valid loss at step 26500: 915.140625, 685.1367797851562\n",
      "Batch train and valid loss at step 27000: 901.0450439453125, 680.0501708984375\n",
      "Batch train and valid loss at step 27500: 883.9249877929688, 674.9003295898438\n",
      "Batch train and valid loss at step 28000: 867.31103515625, 665.3658447265625\n",
      "Batch train and valid loss at step 28500: 851.1341552734375, 657.1967163085938\n",
      "Batch train and valid loss at step 29000: 834.885986328125, 651.8816528320312\n",
      "Batch train and valid loss at step 29500: 816.867919921875, 647.03955078125\n",
      "Batch train and valid loss at step 30000: 799.498291015625, 642.6361694335938\n",
      "Batch train and valid loss at step 30500: 782.7775268554688, 638.8323974609375\n",
      "Batch train and valid loss at step 31000: 765.6991577148438, 635.4170532226562\n",
      "Batch train and valid loss at step 31500: 749.122802734375, 631.32568359375\n",
      "Batch train and valid loss at step 32000: 734.6024780273438, 626.8271484375\n",
      "Batch train and valid loss at step 32500: 722.3397216796875, 624.8309936523438\n",
      "Batch train and valid loss at step 33000: 706.047119140625, 620.3721923828125\n",
      "Batch train and valid loss at step 33500: 689.3837890625, 613.2649536132812\n",
      "Batch train and valid loss at step 34000: 675.239990234375, 607.1671752929688\n",
      "Batch train and valid loss at step 34500: 662.6942138671875, 603.5391845703125\n",
      "Batch train and valid loss at step 35000: 650.6773681640625, 602.1372680664062\n",
      "Batch train and valid loss at step 35500: 641.668701171875, 597.2880249023438\n",
      "Batch train and valid loss at step 36000: 634.3896484375, 592.2232055664062\n",
      "Batch train and valid loss at step 36500: 626.37158203125, 588.9724731445312\n",
      "Batch train and valid loss at step 37000: 620.6611328125, 585.373291015625\n",
      "Batch train and valid loss at step 37500: 613.10986328125, 581.8722534179688\n",
      "Batch train and valid loss at step 38000: 607.1868286132812, 576.3345947265625\n",
      "Batch train and valid loss at step 38500: 601.846435546875, 573.7421875\n",
      "Batch train and valid loss at step 39000: 594.5706176757812, 585.893310546875\n",
      "Batch train and valid loss at step 39500: 589.6668701171875, 571.0802001953125\n",
      "Batch train and valid loss at step 40000: 583.4426879882812, 570.6021118164062\n",
      "Batch train and valid loss at step 40500: 580.2421264648438, 564.8184814453125\n",
      "Batch train and valid loss at step 41000: 574.5653076171875, 562.7877807617188\n",
      "Batch train and valid loss at step 41500: 570.9370727539062, 560.6312255859375\n",
      "Batch train and valid loss at step 42000: 566.2575073242188, 557.4080200195312\n",
      "Batch train and valid loss at step 42500: 564.46142578125, 551.9633178710938\n",
      "Batch train and valid loss at step 43000: 558.210205078125, 549.8353881835938\n",
      "Batch train and valid loss at step 43500: 553.94580078125, 546.1807861328125\n",
      "Batch train and valid loss at step 44000: 553.7785034179688, 538.568115234375\n",
      "Batch train and valid loss at step 44500: 548.294189453125, 534.7467041015625\n",
      "Batch train and valid loss at step 45000: 544.2466430664062, 531.0436401367188\n",
      "Batch train and valid loss at step 45500: 539.1708984375, 529.4959716796875\n",
      "Batch train and valid loss at step 46000: 535.0039672851562, 527.0909423828125\n",
      "Batch train and valid loss at step 46500: 531.9798583984375, 524.2012939453125\n",
      "Batch train and valid loss at step 47000: 528.8345947265625, 521.6831665039062\n",
      "Batch train and valid loss at step 47500: 524.367919921875, 527.3919067382812\n",
      "Batch train and valid loss at step 48000: 522.7439575195312, 524.389892578125\n",
      "Batch train and valid loss at step 48500: 520.1494750976562, 523.2567749023438\n",
      "Batch train and valid loss at step 49000: 518.1403198242188, 521.0413818359375\n",
      "Batch train and valid loss at step 49500: 516.0047607421875, 519.030029296875\n",
      "Batch train and valid loss at step 50000: 513.977294921875, 516.6961059570312\n",
      "Batch train and valid loss at step 50500: 509.549560546875, 518.1495361328125\n",
      "Batch train and valid loss at step 51000: 509.95648193359375, 514.2777099609375\n",
      "Batch train and valid loss at step 51500: 505.6873779296875, 515.7459716796875\n",
      "Batch train and valid loss at step 52000: 506.943359375, 511.2500915527344\n",
      "Batch train and valid loss at step 52500: 503.17572021484375, 513.1133422851562\n"
     ]
    },
    {
     "name": "stdout",
     "output_type": "stream",
     "text": [
      "Batch train and valid loss at step 53000: 500.3332824707031, 513.8544921875\n",
      "Batch train and valid loss at step 53500: 498.9967956542969, 512.8131103515625\n",
      "Batch train and valid loss at step 54000: 496.1246337890625, 513.4520263671875\n",
      "Batch train and valid loss at step 54500: 495.69781494140625, 511.49273681640625\n",
      "Batch train and valid loss at step 55000: 493.62890625, 511.26629638671875\n",
      "Batch train and valid loss at step 55500: 491.56610107421875, 510.79315185546875\n",
      "Batch train and valid loss at step 56000: 491.74114990234375, 508.75885009765625\n",
      "Batch train and valid loss at step 56500: 489.0714111328125, 510.231201171875\n",
      "Batch train and valid loss at step 57000: 486.9197998046875, 510.49713134765625\n",
      "Batch train and valid loss at step 57500: 485.33819580078125, 510.6197814941406\n",
      "Batch train and valid loss at step 58000: 484.1125183105469, 510.34698486328125\n",
      "Batch train and valid loss at step 58500: 482.771240234375, 509.8326416015625\n",
      "Batch train and valid loss at step 59000: 481.3641052246094, 509.7500915527344\n",
      "Batch train and valid loss at step 59500: 479.939453125, 509.9127197265625\n",
      "Batch train and valid loss at step 60000: 479.0101318359375, 509.31951904296875\n",
      "Batch train and valid loss at step 60500: 477.92620849609375, 509.1775207519531\n",
      "Batch train and valid loss at step 61000: 476.0787353515625, 508.6411437988281\n",
      "Batch train and valid loss at step 61500: 473.859375, 508.9515686035156\n",
      "Batch train and valid loss at step 62000: 471.44622802734375, 508.86285400390625\n",
      "Batch train and valid loss at step 62500: 470.09356689453125, 507.8740539550781\n",
      "Batch train and valid loss at step 63000: 467.87811279296875, 507.4349365234375\n",
      "Batch train and valid loss at step 63500: 466.79461669921875, 505.95086669921875\n",
      "Batch train and valid loss at step 64000: 464.265869140625, 506.498046875\n",
      "Batch train and valid loss at step 64500: 461.7733154296875, 506.96466064453125\n",
      "Batch train and valid loss at step 65000: 460.3424072265625, 506.3737487792969\n",
      "Batch train and valid loss at step 65500: 458.2884521484375, 507.0365905761719\n",
      "Batch train and valid loss at step 66000: 455.960205078125, 509.1494445800781\n",
      "Batch train and valid loss at step 66500: 453.44171142578125, 509.1653747558594\n",
      "Batch train and valid loss at step 67000: 451.1037292480469, 509.5653381347656\n",
      "Batch train and valid loss at step 67500: 449.6998291015625, 510.0789794921875\n",
      "Batch train and valid loss at step 68000: 446.6551818847656, 511.81982421875\n",
      "Batch train and valid loss at step 68500: 444.63623046875, 512.5599975585938\n",
      "Batch train and valid loss at step 69000: 442.8567199707031, 513.3216552734375\n",
      "Batch train and valid loss at step 69500: 441.01531982421875, 514.0643920898438\n",
      "Batch train and valid loss at step 70000: 438.8692626953125, 515.741943359375\n",
      "Batch train and valid loss at step 70500: 437.1412353515625, 519.7980346679688\n",
      "Batch train and valid loss at step 71000: 434.698486328125, 523.6032104492188\n",
      "Batch train and valid loss at step 71500: 432.858154296875, 526.4002685546875\n",
      "Batch train and valid loss at step 72000: 430.65692138671875, 527.9431762695312\n",
      "Batch train and valid loss at step 72500: 427.45770263671875, 530.3406982421875\n",
      "Batch train and valid loss at step 73000: 425.3169250488281, 531.5103149414062\n",
      "Batch train and valid loss at step 73500: 424.35198974609375, 531.6713256835938\n",
      "Batch train and valid loss at step 74000: 423.12493896484375, 531.8834228515625\n",
      "Batch train and valid loss at step 74500: 420.4277648925781, 533.5427856445312\n",
      "Batch train and valid loss at step 75000: 419.52490234375, 533.345703125\n",
      "Batch train and valid loss at step 75500: 418.5162658691406, 534.1819458007812\n",
      "Batch train and valid loss at step 76000: 416.3903503417969, 535.8817749023438\n",
      "Batch train and valid loss at step 76500: 415.5057067871094, 535.479736328125\n",
      "Batch train and valid loss at step 77000: 413.23681640625, 537.12841796875\n",
      "Batch train and valid loss at step 77500: 413.0728759765625, 537.2857666015625\n",
      "Batch train and valid loss at step 78000: 410.8449401855469, 538.2644653320312\n",
      "Batch train and valid loss at step 78500: 409.7812805175781, 538.5601196289062\n",
      "Batch train and valid loss at step 79000: 408.4399719238281, 539.190673828125\n",
      "Batch train and valid loss at step 79500: 407.51092529296875, 540.0668334960938\n",
      "Batch train and valid loss at step 80000: 406.0176086425781, 540.7274169921875\n",
      "Batch train and valid loss at step 80500: 404.765869140625, 542.1140747070312\n",
      "Batch train and valid loss at step 81000: 404.8520202636719, 541.0311279296875\n",
      "Batch train and valid loss at step 81500: 403.1070556640625, 543.3543090820312\n",
      "Batch train and valid loss at step 82000: 402.93890380859375, 544.0006713867188\n",
      "Batch train and valid loss at step 82500: 400.72430419921875, 547.8233032226562\n",
      "Batch train and valid loss at step 83000: 399.60211181640625, 548.1318969726562\n",
      "Batch train and valid loss at step 83500: 398.9368896484375, 550.868408203125\n",
      "Batch train and valid loss at step 84000: 397.7486267089844, 553.0506591796875\n",
      "Batch train and valid loss at step 84500: 396.61376953125, 555.051025390625\n",
      "Batch train and valid loss at step 85000: 396.0602722167969, 556.8271484375\n",
      "Batch train and valid loss at step 85500: 395.3668212890625, 558.3292236328125\n",
      "Batch train and valid loss at step 86000: 393.64068603515625, 560.8815307617188\n",
      "Batch train and valid loss at step 86500: 393.3308410644531, 561.2442626953125\n",
      "Batch train and valid loss at step 87000: 391.27423095703125, 562.9638671875\n",
      "Batch train and valid loss at step 87500: 391.22821044921875, 562.427734375\n",
      "Batch train and valid loss at step 88000: 390.14361572265625, 563.8846435546875\n",
      "Batch train and valid loss at step 88500: 389.00714111328125, 567.0143432617188\n",
      "Batch train and valid loss at step 89000: 388.4920959472656, 569.6641235351562\n",
      "Batch train and valid loss at step 89500: 386.73095703125, 573.5588989257812\n",
      "Batch train and valid loss at step 90000: 386.27154541015625, 575.7050170898438\n",
      "Batch train and valid loss at step 90500: 384.4178466796875, 579.302490234375\n",
      "Batch train and valid loss at step 91000: 383.9850769042969, 580.82373046875\n",
      "Batch train and valid loss at step 91500: 382.66949462890625, 583.1881713867188\n",
      "Batch train and valid loss at step 92000: 381.28558349609375, 584.0890502929688\n",
      "Batch train and valid loss at step 92500: 380.80615234375, 583.0302734375\n",
      "Batch train and valid loss at step 93000: 379.6824951171875, 582.95068359375\n",
      "Batch train and valid loss at step 93500: 378.69061279296875, 582.3329467773438\n",
      "Batch train and valid loss at step 94000: 377.4344482421875, 582.3655395507812\n",
      "Batch train and valid loss at step 94500: 376.1234436035156, 581.6721801757812\n",
      "Batch train and valid loss at step 95000: 374.2529296875, 582.0861206054688\n",
      "Batch train and valid loss at step 95500: 372.4519348144531, 582.1887817382812\n",
      "Batch train and valid loss at step 96000: 370.6891174316406, 582.0712280273438\n",
      "Batch train and valid loss at step 96500: 369.1630554199219, 580.3180541992188\n",
      "Batch train and valid loss at step 97000: 367.4966735839844, 580.1282348632812\n",
      "Batch train and valid loss at step 97500: 365.87701416015625, 580.1295166015625\n",
      "Batch train and valid loss at step 98000: 364.2861022949219, 581.95556640625\n",
      "Batch train and valid loss at step 98500: 363.52996826171875, 581.8662719726562\n",
      "Batch train and valid loss at step 99000: 361.3717041015625, 587.9625244140625\n",
      "Batch train and valid loss at step 99500: 360.0985107421875, 600.3787231445312\n"
     ]
    }
   ],
   "source": [
    "NEPOCH = 100000\n",
    "loss_train = np.zeros(NEPOCH) # store the training progress here.\n",
    "loss_valid = np.zeros(NEPOCH) # store the training progress here.\n",
    "\n",
    "early_stop = 1000 # not used below\n",
    "count_es = 0\n",
    "\n",
    "for i in range(NEPOCH):\n",
    "    dct_train = {mod.prob: 1.0, mod.input_c: chimie_train, mod.input_T: temperature_train, mod.input_y: d.y_train.reshape(-1,1)}\n",
    "    dct_valid = {mod.input_c: chimie_valid, mod.input_T: temperature_valid, mod.input_y: d.y_valid.reshape(-1,1)}\n",
    "    \n",
    "    sess.run(mod.optimizer,feed_dict=dct_train)\n",
    "    loss_train[i] = sess.run(mod.loss, feed_dict=dct_train)\n",
    "    loss_valid[i] = sess.run(mod.loss, feed_dict=dct_valid)\n",
    "    \n",
    "    if (i % 500 == 0):\n",
    "            print(\"Batch train and valid loss at step {}: {}, {}\".format(i, loss_train[i], loss_valid[i]))\n",
    "    \n",
    "    # implement early stopping\n",
    "    if loss_valid[i]>loss_valid[i-1]:\n",
    "        count_es += 1\n",
    "        \n",
    "    #if count_es > early_stop:\n",
    "    #    break\n",
    "        "
   ]
  },
  {
   "cell_type": "code",
   "execution_count": 7,
   "metadata": {},
   "outputs": [
    {
     "data": {
      "image/png": "[encoded data removed]",
      "text/plain": [
       "<matplotlib.figure.Figure at 0x1c31a15710>"
      ]
     },
     "metadata": {},
     "output_type": "display_data"
    },
    {
     "data": {
      "text/plain": [
       "<matplotlib.figure.Figure at 0x1c31a8f080>"
      ]
     },
     "metadata": {},
     "output_type": "display_data"
    }
   ],
   "source": [
    "plt.figure(figsize=(8, 8))\n",
    "plt.plot(np.arange(0, NEPOCH,1), loss_train/d.X_train.shape[0], 'r-')\n",
    "plt.plot(np.arange(0, NEPOCH,1), loss_valid/d.X_valid.shape[0], 'b-')\n",
    "plt.ylim(0,5)\n",
    "plt.show()\n",
    "plt.savefig(\"epochs_tvf.pdf\")"
   ]
  },
  {
   "cell_type": "markdown",
   "metadata": {},
   "source": [
    "Here this is supposed to save the model, which then can be re-used by tensorflow server..."
   ]
  },
  {
   "cell_type": "code",
   "execution_count": 8,
   "metadata": {},
   "outputs": [
    {
     "name": "stdout",
     "output_type": "stream",
     "text": [
      "INFO:tensorflow:Assets added to graph.\n",
      "INFO:tensorflow:No assets to write.\n",
      "INFO:tensorflow:SavedModel written to: ./model/TVF_layer_1units_100it_100000/saved_model.pb\n"
     ]
    }
   ],
   "source": [
    "name_out = \"TVF_layer_\"+str(NLAYER)+\"units_\"+str(NHIDDEN)+\"it_\"+str(NEPOCH)\n",
    "\n",
    "tf.saved_model.simple_save(sess,\n",
    "            \"./model/\"+name_out,\n",
    "            inputs={\"chimie\": mod.input_c, \"T\": mod.input_T},\n",
    "            outputs={\"visco_pred\": mod.visco_pred})"
   ]
  },
  {
   "cell_type": "code",
   "execution_count": 9,
   "metadata": {},
   "outputs": [
    {
     "data": {
      "text/plain": [
       "(-3, 15)"
      ]
     },
     "execution_count": 9,
     "metadata": {},
     "output_type": "execute_result"
    },
    {
     "data": {
      "image/png": "[encoded data removed]",
      "text/plain": [
       "<matplotlib.figure.Figure at 0x1c3236d128>"
      ]
     },
     "metadata": {},
     "output_type": "display_data"
    }
   ],
   "source": [
    "plt.figure()\n",
    "plt.subplot(3,1,1)\n",
    "plt.plot(d.y_train, sess.run(mod.visco_pred,feed_dict=dct_train),\"k.\")\n",
    "\n",
    "plt.plot([-3,15],[-3,15],\"--\",color=\"grey\")\n",
    "\n",
    "plt.xlim(-3,15)\n",
    "plt.ylim(-3,15)\n",
    "\n",
    "plt.subplot(3,1,2)\n",
    "plt.plot(d.y_valid, sess.run(mod.visco_pred,feed_dict=dct_valid),\"k.\")\n",
    "\n",
    "plt.plot([-3,15],[-3,15],\"--\",color=\"grey\")\n",
    "\n",
    "plt.xlim(-3,15)\n",
    "plt.ylim(-3,15)"
   ]
  },
  {
   "cell_type": "code",
   "execution_count": null,
   "metadata": {},
   "outputs": [],
   "source": []
  },
  {
   "cell_type": "code",
   "execution_count": null,
   "metadata": {},
   "outputs": [],
   "source": []
  }
 ],
 "metadata": {
  "kernelspec": {
   "display_name": "Python 3",
   "language": "python",
   "name": "python3"
  },
  "language_info": {
   "codemirror_mode": {
    "name": "ipython",
    "version": 3
   },
   "file_extension": ".py",
   "mimetype": "text/x-python",
   "name": "python",
   "nbconvert_exporter": "python",
   "pygments_lexer": "ipython3",
   "version": "3.6.6"
  }
 },
 "nbformat": 4,
 "nbformat_minor": 2
}
