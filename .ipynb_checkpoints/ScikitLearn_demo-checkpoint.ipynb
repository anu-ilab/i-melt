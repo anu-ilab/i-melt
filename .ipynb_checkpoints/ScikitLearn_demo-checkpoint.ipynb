{
 "cells": [
  {
   "cell_type": "code",
   "execution_count": 1,
   "metadata": {},
   "outputs": [
    {
     "name": "stderr",
     "output_type": "stream",
     "text": [
      "/Users/charles/anaconda/lib/python3.6/importlib/_bootstrap.py:205: RuntimeWarning: compiletime version 3.5 of module 'tensorflow.python.framework.fast_tensor_util' does not match runtime version 3.6\n",
      "  return f(*args, **kwds)\n",
      "/Users/charles/anaconda/lib/python3.6/site-packages/h5py/__init__.py:34: FutureWarning: Conversion of the second argument of issubdtype from `float` to `np.floating` is deprecated. In future, it will be treated as `np.float64 == np.dtype(float).type`.\n",
      "  from ._conv import register_converters as _register_converters\n"
     ]
    }
   ],
   "source": [
    "########## Calling relevant libraries ##########\n",
    "%matplotlib inline\n",
    "import numpy as np\n",
    "from sklearn.metrics import mean_squared_error\n",
    "import scipy\n",
    "\n",
    "# Setting matplotlib options for this notebook\n",
    "import matplotlib\n",
    "from matplotlib import pyplot as plt\n",
    "\n",
    "import tensorflow as tf\n",
    "\n",
    "import sklearn\n",
    "from sklearn.externals import joblib\n",
    "\n",
    "import neuravi"
   ]
  },
  {
   "cell_type": "code",
   "execution_count": 2,
   "metadata": {},
   "outputs": [
    {
     "name": "stderr",
     "output_type": "stream",
     "text": [
      "/Users/charles/anaconda/lib/python3.6/site-packages/sklearn/base.py:311: UserWarning: Trying to unpickle estimator StandardScaler from version 0.19.1 when using version 0.19.2. This might lead to breaking code or invalid results. Use at your own risk.\n",
      "  UserWarning)\n"
     ]
    }
   ],
   "source": [
    "d = neuravi.Data(\"./data/\")"
   ]
  },
  {
   "cell_type": "code",
   "execution_count": 3,
   "metadata": {},
   "outputs": [],
   "source": [
    "import rampy as rp\n",
    "\n",
    "# parameters for neural net\n",
    "prm_nn = dict(hidden_layer_sizes=(10,5,),solver = 'lbfgs',activation='relu',\n",
    "              early_stopping=True,\n",
    "              random_state = 42)\n",
    "param_b = dict(n_estimators=10, max_samples=1.0, max_features=1.0, \n",
    "               bootstrap=True, bootstrap_features=False, oob_score=False, warm_start=False, n_jobs=1, verbose=0)\n",
    "\n",
    "\n",
    "# REQUIRES RAMPY v0.4\n",
    "mod = rp.mlregressor(d.X_train, d.y_train, \n",
    "                     X_test=d.X_test, y_test=d.y_test, \n",
    "                     algorithm=\"BaggingNeuralNet\",\n",
    "                     scaler = \"StandardScaler\",\n",
    "                     param_neurons=prm_nn,\n",
    "                     param_bagging=param_b,rand_state=100)\n",
    "\n",
    "mod.fit()"
   ]
  },
  {
   "cell_type": "code",
   "execution_count": 4,
   "metadata": {},
   "outputs": [
    {
     "name": "stdout",
     "output_type": "stream",
     "text": [
      "training and testing RMSE with neural nets\n",
      "0.4324375747178814\n",
      "0.4774036988369504\n"
     ]
    }
   ],
   "source": [
    "MSE_NN_train = np.sqrt(mean_squared_error(mod.y_train, mod.prediction_train))\n",
    "MSE_NN_test = np.sqrt(mean_squared_error(mod.y_test, mod.prediction_test))\n",
    "\n",
    "print(\"training and testing RMSE with neural nets\")\n",
    "print(MSE_NN_train)\n",
    "print(MSE_NN_test)\n"
   ]
  },
  {
   "cell_type": "code",
   "execution_count": 5,
   "metadata": {},
   "outputs": [
    {
     "data": {
      "text/plain": [
       "(-3, 15)"
      ]
     },
     "execution_count": 5,
     "metadata": {},
     "output_type": "execute_result"
    },
    {
     "data": {
      "image/png": "[encoded data removed]",
      "text/plain": [
       "<matplotlib.figure.Figure at 0x126d8def0>"
      ]
     },
     "metadata": {},
     "output_type": "display_data"
    }
   ],
   "source": [
    "plt.figure()\n",
    "plt.subplot(2,1,1)\n",
    "plt.plot(mod.y_train, mod.prediction_train,\"k.\")\n",
    "\n",
    "plt.plot([-3,15],[-3,15],\"--\",color=\"grey\")\n",
    "\n",
    "plt.xlim(-3,15)\n",
    "plt.ylim(-3,15)\n",
    "\n",
    "plt.subplot(2,1,2)\n",
    "plt.plot(mod.y_test, mod.prediction_test,\"r.\")\n",
    "\n",
    "plt.plot([-3,15],[-3,15],\"--\",color=\"grey\")\n",
    "\n",
    "plt.xlim(-3,15)\n",
    "plt.ylim(-3,15)"
   ]
  },
  {
   "cell_type": "markdown",
   "metadata": {},
   "source": [
    "This example with scikit-learn directly relates the melt composition and temperature to it's viscosity.\n",
    "\n",
    "The problem with this approach is that it underuses our knowledge of how viscosity and temperature vary.\n",
    "\n",
    "This creates too much noise when predicting viscosity over T for one composition.\n",
    "\n",
    "Illustration with the silica glass:"
   ]
  },
  {
   "cell_type": "code",
   "execution_count": 7,
   "metadata": {},
   "outputs": [
    {
     "data": {
      "text/plain": [
       "[<matplotlib.lines.Line2D at 0x126d6dd30>]"
      ]
     },
     "execution_count": 7,
     "metadata": {},
     "output_type": "execute_result"
    },
    {
     "data": {
      "image/png": "[encoded data removed]",
      "text/plain": [
       "<matplotlib.figure.Figure at 0x126d6dbe0>"
      ]
     },
     "metadata": {},
     "output_type": "display_data"
    }
   ],
   "source": [
    "ex_input = d.X_train[d.X_train[:,0]==100.,:]\n",
    "ex_y = d.y_train[d.X_train[:,0]==100.]\n",
    "ex_pred = mod.predict(ex_input)\n",
    "\n",
    "plt.plot(ex_input[:,14],ex_y,\"ks\")\n",
    "plt.plot(ex_input[:,14],ex_pred,\"r.\")"
   ]
  },
  {
   "cell_type": "markdown",
   "metadata": {},
   "source": [
    "The predictions in red take a sort of sigmoidal shape which does not fit with the expected curvature observed in the data.\n",
    "\n",
    "The solution to this problem is to fit not the viscosity directly, but the parameters of a viscosity equation with a neural net.\n",
    "\n",
    "See the notebook Tensorflow_train for the example."
   ]
  },
  {
   "cell_type": "code",
   "execution_count": null,
   "metadata": {},
   "outputs": [],
   "source": []
  }
 ],
 "metadata": {
  "kernelspec": {
   "display_name": "Python 3",
   "language": "python",
   "name": "python3"
  },
  "language_info": {
   "codemirror_mode": {
    "name": "ipython",
    "version": 3
   },
   "file_extension": ".py",
   "mimetype": "text/x-python",
   "name": "python",
   "nbconvert_exporter": "python",
   "pygments_lexer": "ipython3",
   "version": "3.6.2"
  }
 },
 "nbformat": 4,
 "nbformat_minor": 2
}
